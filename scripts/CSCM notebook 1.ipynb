{
 "cells": [
  {
   "cell_type": "markdown",
   "id": "12bc2f58",
   "metadata": {},
   "source": [
    "# CICERO SCM notebook 1"
   ]
  },
  {
   "cell_type": "markdown",
   "id": "72ab0c8d",
   "metadata": {},
   "source": [
    "Import some stuff"
   ]
  },
  {
   "cell_type": "code",
   "execution_count": 1,
   "id": "c722d7d9",
   "metadata": {},
   "outputs": [],
   "source": [
    "import sys\n",
    "import os\n",
    "import shutil\n",
    "import matplotlib.pyplot as plt\n",
    "import pandas as pd\n",
    "import pandas.testing as pdt"
   ]
  },
  {
   "cell_type": "markdown",
   "id": "4f7116d4",
   "metadata": {},
   "source": [
    "Install the model, if needed"
   ]
  },
  {
   "cell_type": "code",
   "execution_count": 2,
   "id": "33beeeaa",
   "metadata": {},
   "outputs": [
    {
     "name": "stdout",
     "output_type": "stream",
     "text": [
      "Obtaining file:///home/sanderson/ciceroscm\n",
      "Requirement already satisfied: click in /home/sanderson/.local/lib/python3.8/site-packages (from openscm-runner==0+untagged.54.gd3a7862) (8.0.4)\n",
      "Requirement already satisfied: openscm-units>=0.5.0 in /usr/local/lib/python3.8/dist-packages/openscm_units-0.5.0-py3.8.egg (from openscm-runner==0+untagged.54.gd3a7862) (0.5.0)\n",
      "Requirement already satisfied: pyam-iamc in /usr/local/lib/python3.8/dist-packages/pyam_iamc-1.3.0-py3.8.egg (from openscm-runner==0+untagged.54.gd3a7862) (1.3.0)\n",
      "Requirement already satisfied: python-dotenv in /usr/local/lib/python3.8/dist-packages/python_dotenv-0.19.2-py3.8.egg (from openscm-runner==0+untagged.54.gd3a7862) (0.19.2)\n",
      "Requirement already satisfied: scmdata>=0.7.4 in /usr/local/lib/python3.8/dist-packages/scmdata-0.13.1-py3.8.egg (from openscm-runner==0+untagged.54.gd3a7862) (0.13.1)\n",
      "Requirement already satisfied: tqdm in /usr/local/lib/python3.8/dist-packages/tqdm-4.62.3-py3.8.egg (from openscm-runner==0+untagged.54.gd3a7862) (4.62.3)\n",
      "Requirement already satisfied: globalwarmingpotentials in /home/sanderson/.local/lib/python3.8/site-packages (from openscm-units>=0.5.0->openscm-runner==0+untagged.54.gd3a7862) (0.9.1)\n",
      "Requirement already satisfied: pandas in /home/sanderson/.local/lib/python3.8/site-packages (from openscm-units>=0.5.0->openscm-runner==0+untagged.54.gd3a7862) (1.2.0)\n",
      "Requirement already satisfied: pint in /home/sanderson/.local/lib/python3.8/site-packages (from openscm-units>=0.5.0->openscm-runner==0+untagged.54.gd3a7862) (0.17)\n",
      "Requirement already satisfied: PyYAML in /home/sanderson/.local/lib/python3.8/site-packages (from pyam-iamc->openscm-runner==0+untagged.54.gd3a7862) (6.0)\n",
      "Requirement already satisfied: iam-units>=2020.4.21 in /home/sanderson/.local/lib/python3.8/site-packages (from pyam-iamc->openscm-runner==0+untagged.54.gd3a7862) (2021.11.12)\n",
      "Requirement already satisfied: importlib-metadata in /home/sanderson/.local/lib/python3.8/site-packages (from pyam-iamc->openscm-runner==0+untagged.54.gd3a7862) (4.11.1)\n",
      "Requirement already satisfied: matplotlib>=3.2.0 in /home/sanderson/.local/lib/python3.8/site-packages (from pyam-iamc->openscm-runner==0+untagged.54.gd3a7862) (3.5.1)\n",
      "Requirement already satisfied: numpy>=1.19.0 in /usr/local/lib/python3.8/dist-packages/numpy-1.22.1-py3.8-linux-x86_64.egg (from pyam-iamc->openscm-runner==0+untagged.54.gd3a7862) (1.22.1)\n",
      "Requirement already satisfied: openpyxl in /home/sanderson/.local/lib/python3.8/site-packages (from pyam-iamc->openscm-runner==0+untagged.54.gd3a7862) (3.0.9)\n",
      "Requirement already satisfied: requests in /home/sanderson/.local/lib/python3.8/site-packages (from pyam-iamc->openscm-runner==0+untagged.54.gd3a7862) (2.27.1)\n",
      "Requirement already satisfied: seaborn in /usr/local/lib/python3.8/dist-packages/seaborn-0.11.2-py3.8.egg (from pyam-iamc->openscm-runner==0+untagged.54.gd3a7862) (0.11.2)\n",
      "Requirement already satisfied: setuptools-scm in /usr/local/lib/python3.8/dist-packages/setuptools_scm-6.4.2-py3.8.egg (from pyam-iamc->openscm-runner==0+untagged.54.gd3a7862) (6.4.2)\n",
      "Requirement already satisfied: setuptools>=41 in /usr/lib/python3/dist-packages (from pyam-iamc->openscm-runner==0+untagged.54.gd3a7862) (45.2.0)\n",
      "Requirement already satisfied: six in /usr/lib/python3/dist-packages (from pyam-iamc->openscm-runner==0+untagged.54.gd3a7862) (1.14.0)\n",
      "Requirement already satisfied: xlrd>=2.0 in /usr/local/lib/python3.8/dist-packages/xlrd-2.0.1-py3.8.egg (from pyam-iamc->openscm-runner==0+untagged.54.gd3a7862) (2.0.1)\n",
      "Requirement already satisfied: cftime in /usr/local/lib/python3.8/dist-packages/cftime-1.5.2-py3.8-linux-x86_64.egg (from scmdata>=0.7.4->openscm-runner==0+untagged.54.gd3a7862) (1.5.2)\n",
      "Requirement already satisfied: packaging in /home/sanderson/.local/lib/python3.8/site-packages (from scmdata>=0.7.4->openscm-runner==0+untagged.54.gd3a7862) (21.2)\n",
      "Requirement already satisfied: pint-pandas in /usr/local/lib/python3.8/dist-packages/Pint_Pandas-0.2-py3.8.egg (from scmdata>=0.7.4->openscm-runner==0+untagged.54.gd3a7862) (0.2)\n",
      "Requirement already satisfied: python-dateutil in /home/sanderson/.local/lib/python3.8/site-packages (from scmdata>=0.7.4->openscm-runner==0+untagged.54.gd3a7862) (2.8.2)\n",
      "Requirement already satisfied: xarray in /usr/local/lib/python3.8/dist-packages/xarray-0.21.1-py3.8.egg (from scmdata>=0.7.4->openscm-runner==0+untagged.54.gd3a7862) (0.21.1)\n",
      "Requirement already satisfied: pytz>=2017.3 in /home/sanderson/.local/lib/python3.8/site-packages (from pandas->openscm-units>=0.5.0->openscm-runner==0+untagged.54.gd3a7862) (2021.3)\n",
      "Requirement already satisfied: zipp>=0.5 in /home/sanderson/.local/lib/python3.8/site-packages (from importlib-metadata->pyam-iamc->openscm-runner==0+untagged.54.gd3a7862) (3.7.0)\n",
      "Requirement already satisfied: kiwisolver>=1.0.1 in /home/sanderson/.local/lib/python3.8/site-packages (from matplotlib>=3.2.0->pyam-iamc->openscm-runner==0+untagged.54.gd3a7862) (1.3.2)\n",
      "Requirement already satisfied: cycler>=0.10 in /home/sanderson/.local/lib/python3.8/site-packages (from matplotlib>=3.2.0->pyam-iamc->openscm-runner==0+untagged.54.gd3a7862) (0.11.0)\n",
      "Requirement already satisfied: pillow>=6.2.0 in /home/sanderson/.local/lib/python3.8/site-packages (from matplotlib>=3.2.0->pyam-iamc->openscm-runner==0+untagged.54.gd3a7862) (9.0.1)\n",
      "Requirement already satisfied: pyparsing>=2.2.1 in /home/sanderson/.local/lib/python3.8/site-packages (from matplotlib>=3.2.0->pyam-iamc->openscm-runner==0+untagged.54.gd3a7862) (2.4.7)\n",
      "Requirement already satisfied: fonttools>=4.22.0 in /home/sanderson/.local/lib/python3.8/site-packages (from matplotlib>=3.2.0->pyam-iamc->openscm-runner==0+untagged.54.gd3a7862) (4.29.1)\n",
      "Requirement already satisfied: et-xmlfile in /home/sanderson/.local/lib/python3.8/site-packages (from openpyxl->pyam-iamc->openscm-runner==0+untagged.54.gd3a7862) (1.1.0)\n",
      "Requirement already satisfied: charset-normalizer~=2.0.0; python_version >= \"3\" in /home/sanderson/.local/lib/python3.8/site-packages (from requests->pyam-iamc->openscm-runner==0+untagged.54.gd3a7862) (2.0.12)\n",
      "Requirement already satisfied: idna<4,>=2.5; python_version >= \"3\" in /home/sanderson/.local/lib/python3.8/site-packages (from requests->pyam-iamc->openscm-runner==0+untagged.54.gd3a7862) (3.3)\n",
      "Requirement already satisfied: urllib3<1.27,>=1.21.1 in /home/sanderson/.local/lib/python3.8/site-packages (from requests->pyam-iamc->openscm-runner==0+untagged.54.gd3a7862) (1.26.8)\n",
      "Requirement already satisfied: certifi>=2017.4.17 in /home/sanderson/.local/lib/python3.8/site-packages (from requests->pyam-iamc->openscm-runner==0+untagged.54.gd3a7862) (2021.10.8)\n",
      "Requirement already satisfied: scipy>=1.0 in /home/sanderson/.local/lib/python3.8/site-packages (from seaborn->pyam-iamc->openscm-runner==0+untagged.54.gd3a7862) (1.8.0)\n",
      "Requirement already satisfied: tomli>=1.0.0 in /home/sanderson/.local/lib/python3.8/site-packages (from setuptools-scm->pyam-iamc->openscm-runner==0+untagged.54.gd3a7862) (1.0.0)\n",
      "Installing collected packages: openscm-runner\n",
      "  Attempting uninstall: openscm-runner\n",
      "    Found existing installation: openscm-runner 0+untagged.54.gd3a7862\n",
      "    Uninstalling openscm-runner-0+untagged.54.gd3a7862:\n",
      "      Successfully uninstalled openscm-runner-0+untagged.54.gd3a7862\n",
      "  Running setup.py develop for openscm-runner\n",
      "Successfully installed openscm-runner\n"
     ]
    }
   ],
   "source": [
    "!pip install -e ..\n"
   ]
  },
  {
   "cell_type": "markdown",
   "id": "90503e7a",
   "metadata": {},
   "source": [
    "Import the model wrapper function"
   ]
  },
  {
   "cell_type": "code",
   "execution_count": 3,
   "id": "3476370e",
   "metadata": {},
   "outputs": [],
   "source": [
    "sys.path.append('../src')\n",
    "from ciceroscm import CICEROSCM"
   ]
  },
  {
   "cell_type": "markdown",
   "id": "742035a6",
   "metadata": {},
   "source": [
    "set up input/output directories"
   ]
  },
  {
   "cell_type": "code",
   "execution_count": 4,
   "id": "741ed638",
   "metadata": {},
   "outputs": [
    {
     "data": {
      "text/plain": [
       "'/home/sanderson/ciceroscm/scripts/../tests/test-data'"
      ]
     },
     "execution_count": 4,
     "metadata": {},
     "output_type": "execute_result"
    }
   ],
   "source": [
    "cscm = CICEROSCM()\n",
    "# outdir_save = os.path.join(os.getcwd(), \"output\")\n",
    "outdir = os.getcwd()+'/output/'\n",
    "if not os.path.exists(outdir):\n",
    "    os.makedirs(outdir)\n",
    "test_data_dir = os.getcwd()+'/../tests/test-data'\n",
    "test_data_dir "
   ]
  },
  {
   "cell_type": "markdown",
   "id": "3722e0cc",
   "metadata": {},
   "source": [
    "Run the model"
   ]
  },
  {
   "cell_type": "code",
   "execution_count": 5,
   "id": "64dad752",
   "metadata": {},
   "outputs": [
    {
     "name": "stderr",
     "output_type": "stream",
     "text": [
      "Parameter rlamdo not in pamset. Using default value 16.0\n",
      "Parameter akapa not in pamset. Using default value 0.634\n",
      "Parameter cpi not in pamset. Using default value 0.4\n",
      "Parameter W not in pamset. Using default value 4.0\n",
      "Parameter beto not in pamset. Using default value 3.5\n",
      "Parameter threstemp not in pamset. Using default value 7.0\n",
      "Parameter lambda not in pamset. Using default value 0.54\n",
      "Parameter mixed not in pamset. Using default value 60.0\n",
      "Parameter foan not in pamset. Using default value 0.61\n",
      "Parameter foas not in pamset. Using default value 0.81\n",
      "Parameter ebbeta not in pamset. Using default value 0.0\n",
      "Parameter fnso not in pamset. Using default value 0.7531\n",
      "Parameter lm not in pamset. Using default value 40\n",
      "Parameter ldtime not in pamset. Using default value 12\n",
      "Parameter lamb not in pamset. Using default value 0.8\n",
      "Parameter qbmb not in pamset. Using default value 0.03\n",
      "Parameter qo3 not in pamset. Using default value 0.4\n",
      "Parameter qdirso2 not in pamset. Using default value -0.457\n",
      "Parameter qindso2 not in pamset. Using default value -0.514\n",
      "Parameter qbc not in pamset. Using default value 0.2\n",
      "Parameter qoc not in pamset. Using default value -0.103\n",
      "Parameter ref_yr not in pamset. Using default value 2010\n",
      "Parameter idtm not in pamset. Using default value 24\n",
      "/home/sanderson/ciceroscm/src/ciceroscm/concentrations_emissions_handler.py:436: SettingWithCopyWarning: \n",
      "A value is trying to be set on a copy of a slice from a DataFrame\n",
      "\n",
      "See the caveats in the documentation: https://pandas.pydata.org/pandas-docs/stable/user_guide/indexing.html#returning-a-view-versus-a-copy\n",
      "  self.df_gas[\"NAT_EM\"][tracer] = self.nat_emis_ch4[\"CH4\"][yr]\n",
      "/home/sanderson/ciceroscm/src/ciceroscm/concentrations_emissions_handler.py:439: SettingWithCopyWarning: \n",
      "A value is trying to be set on a copy of a slice from a DataFrame\n",
      "\n",
      "See the caveats in the documentation: https://pandas.pydata.org/pandas-docs/stable/user_guide/indexing.html#returning-a-view-versus-a-copy\n",
      "  self.df_gas[\"NAT_EM\"][tracer] = self.nat_emis_n2o[\"N2O\"][yr]\n"
     ]
    }
   ],
   "source": [
    "    cscm._run(\n",
    "        {\n",
    "            \"gaspamfile\": os.path.join(test_data_dir, \"gases_v1RCMIP.txt\"),\n",
    "            \"output_prefix\": outdir,\n",
    "            \"nyend\": 2100,\n",
    "            \"concentrations_file\": os.path.join(test_data_dir, \"ssp245_conc_RCMIP.txt\"),\n",
    "            \"emissions_file\": os.path.join(test_data_dir, \"ssp245_em_RCMIP.txt\"),\n",
    "            \"nat_ch4_file\": os.path.join(test_data_dir, \"natemis_ch4.txt\"),\n",
    "            \"nat_n2o_file\": os.path.join(test_data_dir, \"natemis_n2o.txt\"),\n",
    "        },\n",
    "    )"
   ]
  },
  {
   "cell_type": "markdown",
   "id": "a6ed7684",
   "metadata": {},
   "source": [
    "Read model output into Pandas dataframes"
   ]
  },
  {
   "cell_type": "code",
   "execution_count": 6,
   "id": "7c6a8c11",
   "metadata": {},
   "outputs": [
    {
     "data": {
      "text/html": [
       "<div>\n",
       "<style scoped>\n",
       "    .dataframe tbody tr th:only-of-type {\n",
       "        vertical-align: middle;\n",
       "    }\n",
       "\n",
       "    .dataframe tbody tr th {\n",
       "        vertical-align: top;\n",
       "    }\n",
       "\n",
       "    .dataframe thead th {\n",
       "        text-align: right;\n",
       "    }\n",
       "</style>\n",
       "<table border=\"1\" class=\"dataframe\">\n",
       "  <thead>\n",
       "    <tr style=\"text-align: right;\">\n",
       "      <th></th>\n",
       "      <th>dT_glob</th>\n",
       "      <th>dT_NH</th>\n",
       "      <th>dT_SH</th>\n",
       "      <th>dT_glob_air</th>\n",
       "      <th>dT_NH_air</th>\n",
       "      <th>dT_SH_air</th>\n",
       "      <th>dT_glob_sea</th>\n",
       "      <th>dT_NH_sea</th>\n",
       "      <th>dT_SHsea</th>\n",
       "      <th>dSL(m)</th>\n",
       "      <th>dSL_thermal(m)</th>\n",
       "      <th>dSL_ice(m)</th>\n",
       "    </tr>\n",
       "    <tr>\n",
       "      <th>Year</th>\n",
       "      <th></th>\n",
       "      <th></th>\n",
       "      <th></th>\n",
       "      <th></th>\n",
       "      <th></th>\n",
       "      <th></th>\n",
       "      <th></th>\n",
       "      <th></th>\n",
       "      <th></th>\n",
       "      <th></th>\n",
       "      <th></th>\n",
       "      <th></th>\n",
       "    </tr>\n",
       "  </thead>\n",
       "  <tbody>\n",
       "    <tr>\n",
       "      <th>1750</th>\n",
       "      <td>-0.000733</td>\n",
       "      <td>-0.001276</td>\n",
       "      <td>-0.000189</td>\n",
       "      <td>-0.001179</td>\n",
       "      <td>-0.002037</td>\n",
       "      <td>-0.000321</td>\n",
       "      <td>-0.000474</td>\n",
       "      <td>-0.000789</td>\n",
       "      <td>-0.000158</td>\n",
       "      <td>-0.000013</td>\n",
       "      <td>-0.000008</td>\n",
       "      <td>-0.000004</td>\n",
       "    </tr>\n",
       "    <tr>\n",
       "      <th>1751</th>\n",
       "      <td>-0.002298</td>\n",
       "      <td>-0.003737</td>\n",
       "      <td>-0.000859</td>\n",
       "      <td>-0.002992</td>\n",
       "      <td>-0.004962</td>\n",
       "      <td>-0.001023</td>\n",
       "      <td>-0.001887</td>\n",
       "      <td>-0.002953</td>\n",
       "      <td>-0.000820</td>\n",
       "      <td>-0.000056</td>\n",
       "      <td>-0.000037</td>\n",
       "      <td>-0.000018</td>\n",
       "    </tr>\n",
       "    <tr>\n",
       "      <th>1752</th>\n",
       "      <td>-0.003038</td>\n",
       "      <td>-0.004673</td>\n",
       "      <td>-0.001403</td>\n",
       "      <td>-0.003587</td>\n",
       "      <td>-0.005726</td>\n",
       "      <td>-0.001448</td>\n",
       "      <td>-0.002696</td>\n",
       "      <td>-0.003999</td>\n",
       "      <td>-0.001393</td>\n",
       "      <td>-0.000098</td>\n",
       "      <td>-0.000062</td>\n",
       "      <td>-0.000036</td>\n",
       "    </tr>\n",
       "    <tr>\n",
       "      <th>1753</th>\n",
       "      <td>-0.003383</td>\n",
       "      <td>-0.005050</td>\n",
       "      <td>-0.001716</td>\n",
       "      <td>-0.003831</td>\n",
       "      <td>-0.006000</td>\n",
       "      <td>-0.001662</td>\n",
       "      <td>-0.003086</td>\n",
       "      <td>-0.004443</td>\n",
       "      <td>-0.001729</td>\n",
       "      <td>-0.000136</td>\n",
       "      <td>-0.000080</td>\n",
       "      <td>-0.000055</td>\n",
       "    </tr>\n",
       "    <tr>\n",
       "      <th>1754</th>\n",
       "      <td>-0.003581</td>\n",
       "      <td>-0.005260</td>\n",
       "      <td>-0.001902</td>\n",
       "      <td>-0.003966</td>\n",
       "      <td>-0.006155</td>\n",
       "      <td>-0.001777</td>\n",
       "      <td>-0.003310</td>\n",
       "      <td>-0.004688</td>\n",
       "      <td>-0.001931</td>\n",
       "      <td>-0.000170</td>\n",
       "      <td>-0.000095</td>\n",
       "      <td>-0.000075</td>\n",
       "    </tr>\n",
       "    <tr>\n",
       "      <th>...</th>\n",
       "      <td>...</td>\n",
       "      <td>...</td>\n",
       "      <td>...</td>\n",
       "      <td>...</td>\n",
       "      <td>...</td>\n",
       "      <td>...</td>\n",
       "      <td>...</td>\n",
       "      <td>...</td>\n",
       "      <td>...</td>\n",
       "      <td>...</td>\n",
       "      <td>...</td>\n",
       "      <td>...</td>\n",
       "    </tr>\n",
       "    <tr>\n",
       "      <th>2096</th>\n",
       "      <td>2.087420</td>\n",
       "      <td>2.093280</td>\n",
       "      <td>2.081560</td>\n",
       "      <td>2.129310</td>\n",
       "      <td>2.129250</td>\n",
       "      <td>2.129380</td>\n",
       "      <td>2.070320</td>\n",
       "      <td>2.070290</td>\n",
       "      <td>2.070350</td>\n",
       "      <td>0.404158</td>\n",
       "      <td>0.193702</td>\n",
       "      <td>0.210456</td>\n",
       "    </tr>\n",
       "    <tr>\n",
       "      <th>2097</th>\n",
       "      <td>2.089160</td>\n",
       "      <td>2.094910</td>\n",
       "      <td>2.083410</td>\n",
       "      <td>2.130560</td>\n",
       "      <td>2.130440</td>\n",
       "      <td>2.130680</td>\n",
       "      <td>2.072260</td>\n",
       "      <td>2.072200</td>\n",
       "      <td>2.072320</td>\n",
       "      <td>0.406220</td>\n",
       "      <td>0.194898</td>\n",
       "      <td>0.211322</td>\n",
       "    </tr>\n",
       "    <tr>\n",
       "      <th>2098</th>\n",
       "      <td>2.090640</td>\n",
       "      <td>2.096280</td>\n",
       "      <td>2.085000</td>\n",
       "      <td>2.131550</td>\n",
       "      <td>2.131380</td>\n",
       "      <td>2.131730</td>\n",
       "      <td>2.073950</td>\n",
       "      <td>2.073850</td>\n",
       "      <td>2.074040</td>\n",
       "      <td>0.408247</td>\n",
       "      <td>0.196077</td>\n",
       "      <td>0.212171</td>\n",
       "    </tr>\n",
       "    <tr>\n",
       "      <th>2099</th>\n",
       "      <td>2.091870</td>\n",
       "      <td>2.097400</td>\n",
       "      <td>2.086340</td>\n",
       "      <td>2.132290</td>\n",
       "      <td>2.132060</td>\n",
       "      <td>2.132520</td>\n",
       "      <td>2.075380</td>\n",
       "      <td>2.075240</td>\n",
       "      <td>2.075510</td>\n",
       "      <td>0.410239</td>\n",
       "      <td>0.197238</td>\n",
       "      <td>0.213001</td>\n",
       "    </tr>\n",
       "    <tr>\n",
       "      <th>2100</th>\n",
       "      <td>2.092850</td>\n",
       "      <td>2.098270</td>\n",
       "      <td>2.087430</td>\n",
       "      <td>2.132780</td>\n",
       "      <td>2.132500</td>\n",
       "      <td>2.133070</td>\n",
       "      <td>2.076560</td>\n",
       "      <td>2.076390</td>\n",
       "      <td>2.076720</td>\n",
       "      <td>0.412195</td>\n",
       "      <td>0.198382</td>\n",
       "      <td>0.213814</td>\n",
       "    </tr>\n",
       "  </tbody>\n",
       "</table>\n",
       "<p>351 rows × 12 columns</p>\n",
       "</div>"
      ],
      "text/plain": [
       "       dT_glob     dT_NH     dT_SH  dT_glob_air  dT_NH_air  dT_SH_air  \\\n",
       "Year                                                                    \n",
       "1750 -0.000733 -0.001276 -0.000189    -0.001179  -0.002037  -0.000321   \n",
       "1751 -0.002298 -0.003737 -0.000859    -0.002992  -0.004962  -0.001023   \n",
       "1752 -0.003038 -0.004673 -0.001403    -0.003587  -0.005726  -0.001448   \n",
       "1753 -0.003383 -0.005050 -0.001716    -0.003831  -0.006000  -0.001662   \n",
       "1754 -0.003581 -0.005260 -0.001902    -0.003966  -0.006155  -0.001777   \n",
       "...        ...       ...       ...          ...        ...        ...   \n",
       "2096  2.087420  2.093280  2.081560     2.129310   2.129250   2.129380   \n",
       "2097  2.089160  2.094910  2.083410     2.130560   2.130440   2.130680   \n",
       "2098  2.090640  2.096280  2.085000     2.131550   2.131380   2.131730   \n",
       "2099  2.091870  2.097400  2.086340     2.132290   2.132060   2.132520   \n",
       "2100  2.092850  2.098270  2.087430     2.132780   2.132500   2.133070   \n",
       "\n",
       "      dT_glob_sea  dT_NH_sea  dT_SHsea    dSL(m)  dSL_thermal(m)  dSL_ice(m)  \n",
       "Year                                                                          \n",
       "1750    -0.000474  -0.000789 -0.000158 -0.000013       -0.000008   -0.000004  \n",
       "1751    -0.001887  -0.002953 -0.000820 -0.000056       -0.000037   -0.000018  \n",
       "1752    -0.002696  -0.003999 -0.001393 -0.000098       -0.000062   -0.000036  \n",
       "1753    -0.003086  -0.004443 -0.001729 -0.000136       -0.000080   -0.000055  \n",
       "1754    -0.003310  -0.004688 -0.001931 -0.000170       -0.000095   -0.000075  \n",
       "...           ...        ...       ...       ...             ...         ...  \n",
       "2096     2.070320   2.070290  2.070350  0.404158        0.193702    0.210456  \n",
       "2097     2.072260   2.072200  2.072320  0.406220        0.194898    0.211322  \n",
       "2098     2.073950   2.073850  2.074040  0.408247        0.196077    0.212171  \n",
       "2099     2.075380   2.075240  2.075510  0.410239        0.197238    0.213001  \n",
       "2100     2.076560   2.076390  2.076720  0.412195        0.198382    0.213814  \n",
       "\n",
       "[351 rows x 12 columns]"
      ]
     },
     "execution_count": 6,
     "metadata": {},
     "output_type": "execute_result"
    }
   ],
   "source": [
    "df_temp=pd.read_csv(outdir+'/output_temp.txt', sep='\\t', index_col=0)\n",
    "df_conc=pd.read_csv(outdir+'/output_conc.txt', sep='\\t', index_col=0)\n",
    "df_em=pd.read_csv(outdir+'/output_em.txt', sep='\\t', index_col=0)\n",
    "df_forc=pd.read_csv(outdir+'/output_forc.txt', sep='\\t', index_col=0)\n",
    "df_temp"
   ]
  },
  {
   "cell_type": "markdown",
   "id": "300fdb81",
   "metadata": {},
   "source": [
    "Plot some output"
   ]
  },
  {
   "cell_type": "code",
   "execution_count": 7,
   "id": "f6cd7869",
   "metadata": {},
   "outputs": [
    {
     "data": {
      "text/plain": [
       "<matplotlib.legend.Legend at 0x7f59908eb4f0>"
      ]
     },
     "execution_count": 7,
     "metadata": {},
     "output_type": "execute_result"
    },
    {
     "data": {
      "image/png": "[encoded data removed]",
      "text/plain": [
       "<Figure size 1080x720 with 4 Axes>"
      ]
     },
     "metadata": {
      "needs_background": "light"
     },
     "output_type": "display_data"
    }
   ],
   "source": [
    "\n",
    "\n",
    "fig, axs = plt.subplots(nrows=2, ncols=2,figsize=(15,10))\n",
    "axs=axs.flatten()\n",
    "fig.suptitle('CICERO SCM simulation')\n",
    "\n",
    "df_temp['dT_glob'].plot(ylabel='(K)',ax=axs[0])\n",
    "df_temp['dT_NH'].plot(ylabel='(K)',ax=axs[0],linestyle=':')\n",
    "df_temp['dT_SH'].plot(ylabel='(K)',ax=axs[0],linestyle=':')\n",
    "axs[0].legend(['Global mean temperature','NH temperature','SH temperature'])\n",
    "\n",
    "df_conc['CO2'].plot(ylabel='(ppm)',ax=axs[1])\n",
    "axs[1].legend([r'CO$_2$ concentration'])\n",
    "\n",
    "df_em['CO2'].plot(ylabel='(GtC)',ax=axs[2])\n",
    "axs[2].legend([r'CO$_2$ emission'])\n",
    "\n",
    "df_forc['Total_forcing'].plot(ylabel='(Wm$^{-2}$)',ax=axs[3])\n",
    "df_forc['CO2'].plot(ylabel='(Wm$^{-2}$)',ax=axs[3],linestyle=':')\n",
    "df_forc['CH4'].plot(ylabel='(Wm$^{-2}$)',ax=axs[3],linestyle=':')\n",
    "df_forc['LANDUSE'].plot(ylabel='(Wm$^{-2}$)',ax=axs[3],linestyle=':')\n",
    "\n",
    "axs[3].legend([r'Total','CO$_2$','CH$_4$','Land Use'])"
   ]
  },
  {
   "cell_type": "code",
   "execution_count": null,
   "id": "8754df6d",
   "metadata": {},
   "outputs": [],
   "source": []
  }
 ],
 "metadata": {
  "kernelspec": {
   "display_name": "Python 3 (ipykernel)",
   "language": "python",
   "name": "python3"
  },
  "language_info": {
   "codemirror_mode": {
    "name": "ipython",
    "version": 3
   },
   "file_extension": ".py",
   "mimetype": "text/x-python",
   "name": "python",
   "nbconvert_exporter": "python",
   "pygments_lexer": "ipython3",
   "version": "3.8.10"
  }
 },
 "nbformat": 4,
 "nbformat_minor": 5
}
