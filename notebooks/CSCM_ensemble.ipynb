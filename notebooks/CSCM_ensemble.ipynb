{
 "cells": [
  {
   "cell_type": "markdown",
   "id": "8e2328f2",
   "metadata": {},
   "source": [
    "# CICERO SCM notebook - parallel application"
   ]
  },
  {
   "cell_type": "markdown",
   "id": "c7d6c91a",
   "metadata": {},
   "source": [
    "Import some stuff"
   ]
  },
  {
   "cell_type": "code",
   "execution_count": 1,
   "id": "51cdf382",
   "metadata": {},
   "outputs": [],
   "source": [
    "import sys\n",
    "import re\n",
    "import os\n",
    "import numpy as np\n",
    "import shutil\n",
    "import matplotlib.pyplot as plt\n",
    "import pandas as pd\n",
    "import pandas.testing as pdt\n",
    "import warnings\n",
    "import logging\n",
    "\n",
    "try:\n",
    "    from pandas.core.common import SettingWithCopyWarning\n",
    "except:\n",
    "    from pandas.errors import SettingWithCopyWarning\n",
    "warnings.simplefilter(action=\"ignore\", category=SettingWithCopyWarning)\n",
    "warnings.filterwarnings(\"ignore\", message=\".*Parameter.*\")"
   ]
  },
  {
   "cell_type": "code",
   "execution_count": 2,
   "id": "fe0e550e",
   "metadata": {},
   "outputs": [],
   "source": [
    "from concurrent.futures import ProcessPoolExecutor\n",
    "from tqdm import tqdm"
   ]
  },
  {
   "cell_type": "code",
   "execution_count": 3,
   "id": "f5aa3ac5",
   "metadata": {},
   "outputs": [],
   "source": [
    "import concurrent"
   ]
  },
  {
   "cell_type": "code",
   "execution_count": 4,
   "id": "30c5df12",
   "metadata": {},
   "outputs": [
    {
     "name": "stderr",
     "output_type": "stream",
     "text": [
      "/uio/kant/div-cicero-u1/bensan/ciceroscm-1/venv/lib/python3.8/site-packages/scmdata/database/_database.py:9: TqdmExperimentalWarning: Using `tqdm.autonotebook.tqdm` in notebook mode. Use `tqdm.tqdm` instead to force console mode (e.g. in jupyter console)\n",
      "  import tqdm.autonotebook as tqdman\n",
      "/uio/kant/div-cicero-u1/bensan/ciceroscm-1/venv/lib/python3.8/site-packages/setuptools_scm/_integration/setuptools.py:31: RuntimeWarning: \n",
      "ERROR: setuptools==47.1.0 is used in combination with setuptools_scm>=8.x\n",
      "\n",
      "Your build configuration is incomplete and previously worked by accident!\n",
      "setuptools_scm requires setuptools>=61\n",
      "\n",
      "Suggested workaround if applicable:\n",
      " - migrating from the deprecated setup_requires mechanism to pep517/518\n",
      "   and using a pyproject.toml to declare build dependencies\n",
      "   which are reliably pre-installed before running the build tools\n",
      "\n",
      "  warnings.warn(\n"
     ]
    },
    {
     "data": {
      "application/javascript": "if (typeof IPython !== 'undefined') { IPython.OutputArea.prototype._should_scroll = function(lines){ return false; }}",
      "text/plain": [
       "<IPython.core.display.Javascript object>"
      ]
     },
     "metadata": {},
     "output_type": "display_data"
    }
   ],
   "source": [
    "from ciceroscm.parallel._configdistro import _ConfigDistro\n",
    "from ciceroscm.parallel.calibrator import Calibrator\n",
    "from ciceroscm.parallel.distributionrun import DistributionRun\n"
   ]
  },
  {
   "cell_type": "markdown",
   "id": "c4c273f7",
   "metadata": {},
   "source": [
    "Import the model"
   ]
  },
  {
   "cell_type": "code",
   "execution_count": 5,
   "id": "f3f7d2ef",
   "metadata": {},
   "outputs": [],
   "source": [
    "sys.path.insert(0,os.path.join(os.getcwd(), '../', 'src'))\n",
    "from ciceroscm import CICEROSCM"
   ]
  },
  {
   "cell_type": "markdown",
   "id": "1c38f49a",
   "metadata": {},
   "source": [
    "Define some input handling functions to give us example inputs"
   ]
  },
  {
   "cell_type": "code",
   "execution_count": 6,
   "id": "95d7c548",
   "metadata": {},
   "outputs": [],
   "source": [
    "from ciceroscm.input_handler import read_inputfile,read_components,read_natural_emissions"
   ]
  },
  {
   "cell_type": "markdown",
   "id": "08c20d53",
   "metadata": {},
   "source": [
    "Define a function to convert model output to a dataframe"
   ]
  },
  {
   "cell_type": "markdown",
   "id": "61fafe5a",
   "metadata": {},
   "source": [
    "set up input directories"
   ]
  },
  {
   "cell_type": "code",
   "execution_count": 7,
   "id": "1ea50bee",
   "metadata": {},
   "outputs": [],
   "source": [
    "test_data_dir = os.path.join(os.getcwd(), '../', 'tests', 'test-data')"
   ]
  },
  {
   "cell_type": "markdown",
   "id": "c2d00f05",
   "metadata": {},
   "source": [
    "# Read in datafiles into dataframes"
   ]
  },
  {
   "cell_type": "code",
   "execution_count": 8,
   "id": "22c1d304",
   "metadata": {},
   "outputs": [
    {
     "data": {
      "text/html": [
       "<div>\n",
       "<style scoped>\n",
       "    .dataframe tbody tr th:only-of-type {\n",
       "        vertical-align: middle;\n",
       "    }\n",
       "\n",
       "    .dataframe tbody tr th {\n",
       "        vertical-align: top;\n",
       "    }\n",
       "\n",
       "    .dataframe thead th {\n",
       "        text-align: right;\n",
       "    }\n",
       "</style>\n",
       "<table border=\"1\" class=\"dataframe\">\n",
       "  <thead>\n",
       "    <tr style=\"text-align: right;\">\n",
       "      <th></th>\n",
       "      <th>EM_UNIT</th>\n",
       "      <th>CONC_UNIT</th>\n",
       "      <th>BETA</th>\n",
       "      <th>ALPHA</th>\n",
       "      <th>TAU1</th>\n",
       "      <th>TAU2</th>\n",
       "      <th>TAU3</th>\n",
       "      <th>NAT_EM</th>\n",
       "      <th>SARF_TO_ERF</th>\n",
       "    </tr>\n",
       "    <tr>\n",
       "      <th>GAS</th>\n",
       "      <th></th>\n",
       "      <th></th>\n",
       "      <th></th>\n",
       "      <th></th>\n",
       "      <th></th>\n",
       "      <th></th>\n",
       "      <th></th>\n",
       "      <th></th>\n",
       "      <th></th>\n",
       "    </tr>\n",
       "  </thead>\n",
       "  <tbody>\n",
       "    <tr>\n",
       "      <th>CO2</th>\n",
       "      <td>Pg_C</td>\n",
       "      <td>ppm</td>\n",
       "      <td>2.123</td>\n",
       "      <td>0.00000</td>\n",
       "      <td>150.00</td>\n",
       "      <td>0</td>\n",
       "      <td>0</td>\n",
       "      <td>0.0</td>\n",
       "      <td>1.000000</td>\n",
       "    </tr>\n",
       "    <tr>\n",
       "      <th>CH4</th>\n",
       "      <td>Tg</td>\n",
       "      <td>ppb</td>\n",
       "      <td>2.780</td>\n",
       "      <td>0.00000</td>\n",
       "      <td>9.60</td>\n",
       "      <td>120</td>\n",
       "      <td>160</td>\n",
       "      <td>275.0</td>\n",
       "      <td>0.877193</td>\n",
       "    </tr>\n",
       "    <tr>\n",
       "      <th>N2O</th>\n",
       "      <td>Tg_N</td>\n",
       "      <td>ppb</td>\n",
       "      <td>4.810</td>\n",
       "      <td>0.00000</td>\n",
       "      <td>121.00</td>\n",
       "      <td>0</td>\n",
       "      <td>0</td>\n",
       "      <td>9.5</td>\n",
       "      <td>1.000000</td>\n",
       "    </tr>\n",
       "    <tr>\n",
       "      <th>SO2</th>\n",
       "      <td>Tg_S</td>\n",
       "      <td>-</td>\n",
       "      <td>11.000</td>\n",
       "      <td>0.00000</td>\n",
       "      <td>0.02</td>\n",
       "      <td>0</td>\n",
       "      <td>0</td>\n",
       "      <td>0.0</td>\n",
       "      <td>1.000000</td>\n",
       "    </tr>\n",
       "    <tr>\n",
       "      <th>CFC-11</th>\n",
       "      <td>Gg</td>\n",
       "      <td>ppt</td>\n",
       "      <td>22.600</td>\n",
       "      <td>0.00026</td>\n",
       "      <td>45.00</td>\n",
       "      <td>0</td>\n",
       "      <td>0</td>\n",
       "      <td>0.0</td>\n",
       "      <td>1.000000</td>\n",
       "    </tr>\n",
       "  </tbody>\n",
       "</table>\n",
       "</div>"
      ],
      "text/plain": [
       "       EM_UNIT CONC_UNIT    BETA    ALPHA    TAU1  TAU2  TAU3  NAT_EM  \\\n",
       "GAS                                                                     \n",
       "CO2       Pg_C       ppm   2.123  0.00000  150.00     0     0     0.0   \n",
       "CH4         Tg       ppb   2.780  0.00000    9.60   120   160   275.0   \n",
       "N2O       Tg_N       ppb   4.810  0.00000  121.00     0     0     9.5   \n",
       "SO2       Tg_S         -  11.000  0.00000    0.02     0     0     0.0   \n",
       "CFC-11      Gg       ppt  22.600  0.00026   45.00     0     0     0.0   \n",
       "\n",
       "        SARF_TO_ERF  \n",
       "GAS                  \n",
       "CO2        1.000000  \n",
       "CH4        0.877193  \n",
       "N2O        1.000000  \n",
       "SO2        1.000000  \n",
       "CFC-11     1.000000  "
      ]
     },
     "execution_count": 8,
     "metadata": {},
     "output_type": "execute_result"
    }
   ],
   "source": [
    "# NBVAL_IGNORE_OUTPUT\n",
    "#Read gas parameters\n",
    "gaspam =read_components(test_data_dir + '/gases_v1RCMIP.txt')\n",
    "gaspam.head()"
   ]
  },
  {
   "cell_type": "markdown",
   "id": "db6e7dad",
   "metadata": {},
   "source": [
    "Read natural emissions"
   ]
  },
  {
   "cell_type": "code",
   "execution_count": 9,
   "id": "4d2ec612",
   "metadata": {},
   "outputs": [
    {
     "data": {
      "text/html": [
       "<div>\n",
       "<style scoped>\n",
       "    .dataframe tbody tr th:only-of-type {\n",
       "        vertical-align: middle;\n",
       "    }\n",
       "\n",
       "    .dataframe tbody tr th {\n",
       "        vertical-align: top;\n",
       "    }\n",
       "\n",
       "    .dataframe thead th {\n",
       "        text-align: right;\n",
       "    }\n",
       "</style>\n",
       "<table border=\"1\" class=\"dataframe\">\n",
       "  <thead>\n",
       "    <tr style=\"text-align: right;\">\n",
       "      <th></th>\n",
       "      <th>CH4</th>\n",
       "    </tr>\n",
       "    <tr>\n",
       "      <th>year</th>\n",
       "      <th></th>\n",
       "    </tr>\n",
       "  </thead>\n",
       "  <tbody>\n",
       "    <tr>\n",
       "      <th>1750</th>\n",
       "      <td>269.4273</td>\n",
       "    </tr>\n",
       "    <tr>\n",
       "      <th>1751</th>\n",
       "      <td>270.9068</td>\n",
       "    </tr>\n",
       "    <tr>\n",
       "      <th>1752</th>\n",
       "      <td>273.0183</td>\n",
       "    </tr>\n",
       "    <tr>\n",
       "      <th>1753</th>\n",
       "      <td>272.0470</td>\n",
       "    </tr>\n",
       "    <tr>\n",
       "      <th>1754</th>\n",
       "      <td>271.1915</td>\n",
       "    </tr>\n",
       "  </tbody>\n",
       "</table>\n",
       "</div>"
      ],
      "text/plain": [
       "           CH4\n",
       "year          \n",
       "1750  269.4273\n",
       "1751  270.9068\n",
       "1752  273.0183\n",
       "1753  272.0470\n",
       "1754  271.1915"
      ]
     },
     "execution_count": 9,
     "metadata": {},
     "output_type": "execute_result"
    }
   ],
   "source": [
    "# NBVAL_IGNORE_OUTPUT\n",
    "df_nat_ch4 =read_natural_emissions(test_data_dir + '/natemis_ch4.txt','CH4')\n",
    "df_nat_n2o =read_natural_emissions(test_data_dir + '/natemis_n2o.txt','N2O')\n",
    "df_nat_ch4.head()\n"
   ]
  },
  {
   "cell_type": "markdown",
   "id": "43e19f0b",
   "metadata": {},
   "source": [
    "Read forcing"
   ]
  },
  {
   "cell_type": "code",
   "execution_count": 10,
   "id": "b8f04aae",
   "metadata": {},
   "outputs": [
    {
     "data": {
      "text/html": [
       "<div>\n",
       "<style scoped>\n",
       "    .dataframe tbody tr th:only-of-type {\n",
       "        vertical-align: middle;\n",
       "    }\n",
       "\n",
       "    .dataframe tbody tr th {\n",
       "        vertical-align: top;\n",
       "    }\n",
       "\n",
       "    .dataframe thead th {\n",
       "        text-align: right;\n",
       "    }\n",
       "</style>\n",
       "<table border=\"1\" class=\"dataframe\">\n",
       "  <thead>\n",
       "    <tr style=\"text-align: right;\">\n",
       "      <th></th>\n",
       "      <th>CO2</th>\n",
       "      <th>CH4</th>\n",
       "      <th>N2O</th>\n",
       "      <th>CFC-11</th>\n",
       "      <th>CFC-12</th>\n",
       "      <th>CFC-113</th>\n",
       "      <th>CFC-114</th>\n",
       "      <th>CFC-115</th>\n",
       "      <th>CH3Br</th>\n",
       "      <th>CCl4</th>\n",
       "      <th>...</th>\n",
       "      <th>HFC143a</th>\n",
       "      <th>HFC227ea</th>\n",
       "      <th>HFC23</th>\n",
       "      <th>HFC245fa</th>\n",
       "      <th>HFC32</th>\n",
       "      <th>HFC4310mee</th>\n",
       "      <th>C2F6</th>\n",
       "      <th>C6F14</th>\n",
       "      <th>CF4</th>\n",
       "      <th>SF6</th>\n",
       "    </tr>\n",
       "    <tr>\n",
       "      <th>Component</th>\n",
       "      <th></th>\n",
       "      <th></th>\n",
       "      <th></th>\n",
       "      <th></th>\n",
       "      <th></th>\n",
       "      <th></th>\n",
       "      <th></th>\n",
       "      <th></th>\n",
       "      <th></th>\n",
       "      <th></th>\n",
       "      <th></th>\n",
       "      <th></th>\n",
       "      <th></th>\n",
       "      <th></th>\n",
       "      <th></th>\n",
       "      <th></th>\n",
       "      <th></th>\n",
       "      <th></th>\n",
       "      <th></th>\n",
       "      <th></th>\n",
       "      <th></th>\n",
       "    </tr>\n",
       "  </thead>\n",
       "  <tbody>\n",
       "    <tr>\n",
       "      <th>1700</th>\n",
       "      <td>276.746000</td>\n",
       "      <td>706.054021</td>\n",
       "      <td>272.212049</td>\n",
       "      <td>0.0</td>\n",
       "      <td>0.0</td>\n",
       "      <td>0.0</td>\n",
       "      <td>0.0</td>\n",
       "      <td>0.0</td>\n",
       "      <td>5.299998</td>\n",
       "      <td>0.025</td>\n",
       "      <td>...</td>\n",
       "      <td>0.0</td>\n",
       "      <td>0.0</td>\n",
       "      <td>0.0</td>\n",
       "      <td>0.0</td>\n",
       "      <td>0.0</td>\n",
       "      <td>0.0</td>\n",
       "      <td>0.0</td>\n",
       "      <td>0.0</td>\n",
       "      <td>34.049999</td>\n",
       "      <td>0.0</td>\n",
       "    </tr>\n",
       "    <tr>\n",
       "      <th>1701</th>\n",
       "      <td>276.749995</td>\n",
       "      <td>706.247004</td>\n",
       "      <td>272.243047</td>\n",
       "      <td>0.0</td>\n",
       "      <td>0.0</td>\n",
       "      <td>0.0</td>\n",
       "      <td>0.0</td>\n",
       "      <td>0.0</td>\n",
       "      <td>5.299998</td>\n",
       "      <td>0.025</td>\n",
       "      <td>...</td>\n",
       "      <td>0.0</td>\n",
       "      <td>0.0</td>\n",
       "      <td>0.0</td>\n",
       "      <td>0.0</td>\n",
       "      <td>0.0</td>\n",
       "      <td>0.0</td>\n",
       "      <td>0.0</td>\n",
       "      <td>0.0</td>\n",
       "      <td>34.049999</td>\n",
       "      <td>0.0</td>\n",
       "    </tr>\n",
       "    <tr>\n",
       "      <th>1702</th>\n",
       "      <td>276.757998</td>\n",
       "      <td>706.375031</td>\n",
       "      <td>272.266047</td>\n",
       "      <td>0.0</td>\n",
       "      <td>0.0</td>\n",
       "      <td>0.0</td>\n",
       "      <td>0.0</td>\n",
       "      <td>0.0</td>\n",
       "      <td>5.299998</td>\n",
       "      <td>0.025</td>\n",
       "      <td>...</td>\n",
       "      <td>0.0</td>\n",
       "      <td>0.0</td>\n",
       "      <td>0.0</td>\n",
       "      <td>0.0</td>\n",
       "      <td>0.0</td>\n",
       "      <td>0.0</td>\n",
       "      <td>0.0</td>\n",
       "      <td>0.0</td>\n",
       "      <td>34.049999</td>\n",
       "      <td>0.0</td>\n",
       "    </tr>\n",
       "    <tr>\n",
       "      <th>1703</th>\n",
       "      <td>276.757001</td>\n",
       "      <td>706.491002</td>\n",
       "      <td>272.298047</td>\n",
       "      <td>0.0</td>\n",
       "      <td>0.0</td>\n",
       "      <td>0.0</td>\n",
       "      <td>0.0</td>\n",
       "      <td>0.0</td>\n",
       "      <td>5.299998</td>\n",
       "      <td>0.025</td>\n",
       "      <td>...</td>\n",
       "      <td>0.0</td>\n",
       "      <td>0.0</td>\n",
       "      <td>0.0</td>\n",
       "      <td>0.0</td>\n",
       "      <td>0.0</td>\n",
       "      <td>0.0</td>\n",
       "      <td>0.0</td>\n",
       "      <td>0.0</td>\n",
       "      <td>34.049999</td>\n",
       "      <td>0.0</td>\n",
       "    </tr>\n",
       "    <tr>\n",
       "      <th>1704</th>\n",
       "      <td>276.755000</td>\n",
       "      <td>706.602046</td>\n",
       "      <td>272.331052</td>\n",
       "      <td>0.0</td>\n",
       "      <td>0.0</td>\n",
       "      <td>0.0</td>\n",
       "      <td>0.0</td>\n",
       "      <td>0.0</td>\n",
       "      <td>5.299998</td>\n",
       "      <td>0.025</td>\n",
       "      <td>...</td>\n",
       "      <td>0.0</td>\n",
       "      <td>0.0</td>\n",
       "      <td>0.0</td>\n",
       "      <td>0.0</td>\n",
       "      <td>0.0</td>\n",
       "      <td>0.0</td>\n",
       "      <td>0.0</td>\n",
       "      <td>0.0</td>\n",
       "      <td>34.049999</td>\n",
       "      <td>0.0</td>\n",
       "    </tr>\n",
       "  </tbody>\n",
       "</table>\n",
       "<p>5 rows × 30 columns</p>\n",
       "</div>"
      ],
      "text/plain": [
       "                  CO2         CH4         N2O  CFC-11  CFC-12  CFC-113  \\\n",
       "Component                                                                \n",
       "1700       276.746000  706.054021  272.212049     0.0     0.0      0.0   \n",
       "1701       276.749995  706.247004  272.243047     0.0     0.0      0.0   \n",
       "1702       276.757998  706.375031  272.266047     0.0     0.0      0.0   \n",
       "1703       276.757001  706.491002  272.298047     0.0     0.0      0.0   \n",
       "1704       276.755000  706.602046  272.331052     0.0     0.0      0.0   \n",
       "\n",
       "           CFC-114  CFC-115     CH3Br   CCl4  ...  HFC143a  HFC227ea  HFC23  \\\n",
       "Component                                     ...                             \n",
       "1700           0.0      0.0  5.299998  0.025  ...      0.0       0.0    0.0   \n",
       "1701           0.0      0.0  5.299998  0.025  ...      0.0       0.0    0.0   \n",
       "1702           0.0      0.0  5.299998  0.025  ...      0.0       0.0    0.0   \n",
       "1703           0.0      0.0  5.299998  0.025  ...      0.0       0.0    0.0   \n",
       "1704           0.0      0.0  5.299998  0.025  ...      0.0       0.0    0.0   \n",
       "\n",
       "           HFC245fa  HFC32  HFC4310mee  C2F6  C6F14        CF4  SF6  \n",
       "Component                                                            \n",
       "1700            0.0    0.0         0.0   0.0    0.0  34.049999  0.0  \n",
       "1701            0.0    0.0         0.0   0.0    0.0  34.049999  0.0  \n",
       "1702            0.0    0.0         0.0   0.0    0.0  34.049999  0.0  \n",
       "1703            0.0    0.0         0.0   0.0    0.0  34.049999  0.0  \n",
       "1704            0.0    0.0         0.0   0.0    0.0  34.049999  0.0  \n",
       "\n",
       "[5 rows x 30 columns]"
      ]
     },
     "execution_count": 10,
     "metadata": {},
     "output_type": "execute_result"
    }
   ],
   "source": [
    "df_ssp2_conc =read_inputfile(test_data_dir + '/ssp245_conc_RCMIP.txt')\n",
    "df_ssp2_conc.head()"
   ]
  },
  {
   "cell_type": "code",
   "execution_count": 11,
   "id": "6706e9df",
   "metadata": {},
   "outputs": [
    {
     "data": {
      "text/html": [
       "<div>\n",
       "<style scoped>\n",
       "    .dataframe tbody tr th:only-of-type {\n",
       "        vertical-align: middle;\n",
       "    }\n",
       "\n",
       "    .dataframe tbody tr th {\n",
       "        vertical-align: top;\n",
       "    }\n",
       "\n",
       "    .dataframe thead th {\n",
       "        text-align: right;\n",
       "    }\n",
       "</style>\n",
       "<table border=\"1\" class=\"dataframe\">\n",
       "  <thead>\n",
       "    <tr style=\"text-align: right;\">\n",
       "      <th></th>\n",
       "      <th>CO2_FF</th>\n",
       "      <th>CO2_AFOLU</th>\n",
       "      <th>CH4</th>\n",
       "      <th>N2O</th>\n",
       "      <th>SO2</th>\n",
       "      <th>CFC-11</th>\n",
       "      <th>CFC-12</th>\n",
       "      <th>CFC-113</th>\n",
       "      <th>CFC-114</th>\n",
       "      <th>CFC-115</th>\n",
       "      <th>...</th>\n",
       "      <th>CF4</th>\n",
       "      <th>SF6</th>\n",
       "      <th>NOx</th>\n",
       "      <th>CO</th>\n",
       "      <th>NMVOC</th>\n",
       "      <th>NH3</th>\n",
       "      <th>BMB_AEROS_BC</th>\n",
       "      <th>BMB_AEROS_OC</th>\n",
       "      <th>BC</th>\n",
       "      <th>OC</th>\n",
       "    </tr>\n",
       "    <tr>\n",
       "      <th>Component</th>\n",
       "      <th></th>\n",
       "      <th></th>\n",
       "      <th></th>\n",
       "      <th></th>\n",
       "      <th></th>\n",
       "      <th></th>\n",
       "      <th></th>\n",
       "      <th></th>\n",
       "      <th></th>\n",
       "      <th></th>\n",
       "      <th></th>\n",
       "      <th></th>\n",
       "      <th></th>\n",
       "      <th></th>\n",
       "      <th></th>\n",
       "      <th></th>\n",
       "      <th></th>\n",
       "      <th></th>\n",
       "      <th></th>\n",
       "      <th></th>\n",
       "      <th></th>\n",
       "    </tr>\n",
       "  </thead>\n",
       "  <tbody>\n",
       "    <tr>\n",
       "      <th>1750</th>\n",
       "      <td>0.002592</td>\n",
       "      <td>0.081127</td>\n",
       "      <td>19.019783</td>\n",
       "      <td>0.054710</td>\n",
       "      <td>1.222464</td>\n",
       "      <td>0.0</td>\n",
       "      <td>0.0</td>\n",
       "      <td>0.0</td>\n",
       "      <td>0.0</td>\n",
       "      <td>0.0</td>\n",
       "      <td>...</td>\n",
       "      <td>0.010071</td>\n",
       "      <td>0.0</td>\n",
       "      <td>3.871504</td>\n",
       "      <td>348.527359</td>\n",
       "      <td>60.021826</td>\n",
       "      <td>6.927690</td>\n",
       "      <td>1.353250</td>\n",
       "      <td>12.520269</td>\n",
       "      <td>0.744520</td>\n",
       "      <td>2.927399</td>\n",
       "    </tr>\n",
       "    <tr>\n",
       "      <th>1751</th>\n",
       "      <td>0.002593</td>\n",
       "      <td>0.082619</td>\n",
       "      <td>18.915109</td>\n",
       "      <td>0.055744</td>\n",
       "      <td>1.206598</td>\n",
       "      <td>0.0</td>\n",
       "      <td>0.0</td>\n",
       "      <td>0.0</td>\n",
       "      <td>0.0</td>\n",
       "      <td>0.0</td>\n",
       "      <td>...</td>\n",
       "      <td>0.010071</td>\n",
       "      <td>0.0</td>\n",
       "      <td>3.828060</td>\n",
       "      <td>343.926367</td>\n",
       "      <td>59.088126</td>\n",
       "      <td>6.860142</td>\n",
       "      <td>1.335274</td>\n",
       "      <td>12.279280</td>\n",
       "      <td>0.737652</td>\n",
       "      <td>2.909437</td>\n",
       "    </tr>\n",
       "    <tr>\n",
       "      <th>1752</th>\n",
       "      <td>0.002594</td>\n",
       "      <td>0.084139</td>\n",
       "      <td>18.889712</td>\n",
       "      <td>0.056797</td>\n",
       "      <td>1.200955</td>\n",
       "      <td>0.0</td>\n",
       "      <td>0.0</td>\n",
       "      <td>0.0</td>\n",
       "      <td>0.0</td>\n",
       "      <td>0.0</td>\n",
       "      <td>...</td>\n",
       "      <td>0.010071</td>\n",
       "      <td>0.0</td>\n",
       "      <td>3.828658</td>\n",
       "      <td>341.809034</td>\n",
       "      <td>58.631997</td>\n",
       "      <td>6.819482</td>\n",
       "      <td>1.326617</td>\n",
       "      <td>12.121816</td>\n",
       "      <td>0.737695</td>\n",
       "      <td>2.912659</td>\n",
       "    </tr>\n",
       "    <tr>\n",
       "      <th>1753</th>\n",
       "      <td>0.002594</td>\n",
       "      <td>0.085687</td>\n",
       "      <td>19.121377</td>\n",
       "      <td>0.057870</td>\n",
       "      <td>1.207757</td>\n",
       "      <td>0.0</td>\n",
       "      <td>0.0</td>\n",
       "      <td>0.0</td>\n",
       "      <td>0.0</td>\n",
       "      <td>0.0</td>\n",
       "      <td>...</td>\n",
       "      <td>0.010071</td>\n",
       "      <td>0.0</td>\n",
       "      <td>3.812105</td>\n",
       "      <td>343.675456</td>\n",
       "      <td>59.026349</td>\n",
       "      <td>6.881439</td>\n",
       "      <td>1.328560</td>\n",
       "      <td>12.249330</td>\n",
       "      <td>0.743391</td>\n",
       "      <td>2.933215</td>\n",
       "    </tr>\n",
       "    <tr>\n",
       "      <th>1754</th>\n",
       "      <td>0.002595</td>\n",
       "      <td>0.087263</td>\n",
       "      <td>19.509061</td>\n",
       "      <td>0.058963</td>\n",
       "      <td>1.233495</td>\n",
       "      <td>0.0</td>\n",
       "      <td>0.0</td>\n",
       "      <td>0.0</td>\n",
       "      <td>0.0</td>\n",
       "      <td>0.0</td>\n",
       "      <td>...</td>\n",
       "      <td>0.010071</td>\n",
       "      <td>0.0</td>\n",
       "      <td>3.841598</td>\n",
       "      <td>349.815625</td>\n",
       "      <td>60.269945</td>\n",
       "      <td>7.015189</td>\n",
       "      <td>1.346553</td>\n",
       "      <td>12.593635</td>\n",
       "      <td>0.752796</td>\n",
       "      <td>2.965138</td>\n",
       "    </tr>\n",
       "  </tbody>\n",
       "</table>\n",
       "<p>5 rows × 40 columns</p>\n",
       "</div>"
      ],
      "text/plain": [
       "             CO2_FF  CO2_AFOLU        CH4       N2O       SO2  CFC-11  CFC-12  \\\n",
       "Component                                                                       \n",
       "1750       0.002592   0.081127  19.019783  0.054710  1.222464     0.0     0.0   \n",
       "1751       0.002593   0.082619  18.915109  0.055744  1.206598     0.0     0.0   \n",
       "1752       0.002594   0.084139  18.889712  0.056797  1.200955     0.0     0.0   \n",
       "1753       0.002594   0.085687  19.121377  0.057870  1.207757     0.0     0.0   \n",
       "1754       0.002595   0.087263  19.509061  0.058963  1.233495     0.0     0.0   \n",
       "\n",
       "           CFC-113  CFC-114  CFC-115  ...       CF4  SF6       NOx  \\\n",
       "Component                             ...                            \n",
       "1750           0.0      0.0      0.0  ...  0.010071  0.0  3.871504   \n",
       "1751           0.0      0.0      0.0  ...  0.010071  0.0  3.828060   \n",
       "1752           0.0      0.0      0.0  ...  0.010071  0.0  3.828658   \n",
       "1753           0.0      0.0      0.0  ...  0.010071  0.0  3.812105   \n",
       "1754           0.0      0.0      0.0  ...  0.010071  0.0  3.841598   \n",
       "\n",
       "                   CO      NMVOC       NH3  BMB_AEROS_BC  BMB_AEROS_OC  \\\n",
       "Component                                                                \n",
       "1750       348.527359  60.021826  6.927690      1.353250     12.520269   \n",
       "1751       343.926367  59.088126  6.860142      1.335274     12.279280   \n",
       "1752       341.809034  58.631997  6.819482      1.326617     12.121816   \n",
       "1753       343.675456  59.026349  6.881439      1.328560     12.249330   \n",
       "1754       349.815625  60.269945  7.015189      1.346553     12.593635   \n",
       "\n",
       "                 BC        OC  \n",
       "Component                      \n",
       "1750       0.744520  2.927399  \n",
       "1751       0.737652  2.909437  \n",
       "1752       0.737695  2.912659  \n",
       "1753       0.743391  2.933215  \n",
       "1754       0.752796  2.965138  \n",
       "\n",
       "[5 rows x 40 columns]"
      ]
     },
     "execution_count": 11,
     "metadata": {},
     "output_type": "execute_result"
    }
   ],
   "source": [
    "emi_input =read_inputfile(test_data_dir + '/ssp245_em_RCMIP.txt')\n",
    "emi_input.rename(columns={\"CO2\": \"CO2_FF\", \"CO2.1\": \"CO2_AFOLU\"}, inplace=True)\n",
    "emi_input.head()"
   ]
  },
  {
   "cell_type": "markdown",
   "id": "790d6bc5",
   "metadata": {},
   "source": [
    "# Set up model run with defined input variables"
   ]
  },
  {
   "cell_type": "code",
   "execution_count": 12,
   "id": "3b34e365",
   "metadata": {},
   "outputs": [],
   "source": [
    "scendata={\n",
    "            \"gaspam_data\": gaspam,\n",
    "            \"emstart\": 1750,  \n",
    "            \"conc_run\":False,\n",
    "            \"nystart\": 1750,\n",
    "            \"nyend\": 2100,\n",
    "            \"concentrations_data\": df_ssp2_conc,\n",
    "            \"emissions_data\": emi_input,\n",
    "            \"nat_ch4_data\": df_nat_ch4,\n",
    "            \"nat_n2o_data\": df_nat_n2o,\n",
    "            \"idtm\":24,\n",
    "            \"udir\": test_data_dir,\n",
    "            \"scenname\": \"ssp245\",\n",
    "        }"
   ]
  },
  {
   "cell_type": "code",
   "execution_count": 13,
   "id": "6ab13543",
   "metadata": {},
   "outputs": [],
   "source": [
    "    calibdata = pd.DataFrame(\n",
    "        data={\n",
    "            \"Variable Name\": [\n",
    "                \"Heat Content|Ocean\",\n",
    "                \"Surface Air Ocean Blended Temperature Change\",\n",
    "            ],\n",
    "            \"Yearstart_norm\": [1971, 1961],\n",
    "            \"Yearend_norm\": [1971, 1990],\n",
    "            \"Yearstart_change\": [2018, 2000],\n",
    "            \"Yearend_change\": [2018, 2019],\n",
    "            \"Central Value\": [320.69251537323, 0.5372],\n",
    "            \"sigma\": [17.020342912051203, 0.039028311931729676],\n",
    "        })"
   ]
  },
  {
   "cell_type": "code",
   "execution_count": 14,
   "id": "ed07a98e",
   "metadata": {},
   "outputs": [],
   "source": [
    "    testconfig = _ConfigDistro(\n",
    "        distro_array=np.array([        [5, 25],\n",
    "        [0.04, 1],\n",
    "        [0.161, 0.569],\n",
    "        [0.55, 2.55],\n",
    "        [0, 7],\n",
    "        [2 / 3.71, 8 / 3.71]]),\n",
    "        setvalues={\n",
    "            \"qbmb\": 0,\n",
    "            \"qo3\": 0.5,\n",
    "            \"threstemp\": 7.0,\n",
    "            \"lm\": 40,\n",
    "            \"ldtime\": 12,\n",
    "        },\n",
    "    )"
   ]
  },
  {
   "cell_type": "code",
   "execution_count": 15,
   "id": "9bbbacc3",
   "metadata": {},
   "outputs": [
    {
     "data": {
      "text/plain": [
       "['rlamdo',\n",
       " 'akapa',\n",
       " 'cpi',\n",
       " 'W',\n",
       " 'beto',\n",
       " 'lambda',\n",
       " 'mixed',\n",
       " 'qdirso2',\n",
       " 'qindso2',\n",
       " 'qbc',\n",
       " 'qoc',\n",
       " 'beta_f',\n",
       " 'mixed_carbon',\n",
       " 'qh2o_ch4']"
      ]
     },
     "execution_count": 15,
     "metadata": {},
     "output_type": "execute_result"
    }
   ],
   "source": [
    "testconfig.ordering"
   ]
  },
  {
   "cell_type": "code",
   "execution_count": null,
   "id": "f2c0bf35",
   "metadata": {},
   "outputs": [],
   "source": []
  },
  {
   "cell_type": "code",
   "execution_count": 16,
   "id": "ba31cfc8",
   "metadata": {},
   "outputs": [],
   "source": [
    "# NBVAL_IGNORE_OUTPUT\n",
    "scen = 'test'\n",
    "cscm_dir=CICEROSCM({\n",
    "            \"gaspam_data\": gaspam,\n",
    "            \"emstart\": 1750,  \n",
    "            \"conc_run\":False,\n",
    "            \"nystart\": 1750,\n",
    "            \"nyend\": 2100,\n",
    "            \"concentrations_data\": df_ssp2_conc,\n",
    "            \"emissions_data\": emi_input,\n",
    "            \"nat_ch4_data\": df_nat_ch4,\n",
    "            \"nat_n2o_data\": df_nat_n2o,\n",
    "            \"idtm\":24,\n",
    "        })"
   ]
  },
  {
   "cell_type": "code",
   "execution_count": 17,
   "id": "2758a129",
   "metadata": {},
   "outputs": [
    {
     "name": "stdout",
     "output_type": "stream",
     "text": [
      "[ 5.          0.04        0.161       0.55        0.          0.53908356\n",
      " 25.         -0.55       -1.5         0.1        -0.1         0.11\n",
      " 25.          0.08      ]\n",
      "[ 2.50000000e+01  1.00000000e+00  5.69000000e-01  2.55000000e+00\n",
      "  7.00000000e+00  2.15633423e+00  1.25000000e+02 -2.00000000e-01\n",
      " -5.00000000e-01  2.00000000e-01 -6.00000000e-02  4.65000000e-01\n",
      "  1.25000000e+02  1.00000000e-01]\n"
     ]
    }
   ],
   "source": [
    "distrorun1 = DistributionRun(testconfig, numvalues=50000)\n",
    "output_vars = [\"Heat Uptake\", \"Surface Air Temperature Change\"]\n"
   ]
  },
  {
   "cell_type": "code",
   "execution_count": 18,
   "id": "ada9dfa1",
   "metadata": {},
   "outputs": [],
   "source": [
    "def get_results(cfg):\n",
    "    try:\n",
    "        cscm_dir._run({\"results_as_dict\": True},pamset_udm=cfg['pamset_udm'],pamset_emiconc=cfg['pamset_emiconc'])\n",
    "        res=cscm_dir.results\n",
    "\n",
    "    except:\n",
    "        res=None\n",
    "    return [cfg,res]"
   ]
  },
  {
   "cell_type": "code",
   "execution_count": 19,
   "id": "f4d62712",
   "metadata": {},
   "outputs": [],
   "source": [
    "def run_parallel(cfgs,nworkers=4):\n",
    "    results=len(cfgs)*[None]\n",
    "    with ProcessPoolExecutor(nworkers) as exe:\n",
    "            # execute tasks concurrently and process results in order\n",
    "            pres=list(tqdm(exe.map(get_results, cfgs)))\n",
    "            for result in pres:\n",
    "                # get the corresponding index of the config\n",
    "                ind=int(result[0]['Index'])\n",
    "                # put it in the right element of the results vector\n",
    "                results[ind]=result[1]\n",
    "    return results"
   ]
  },
  {
   "cell_type": "code",
   "execution_count": 20,
   "id": "96c33f09",
   "metadata": {},
   "outputs": [
    {
     "name": "stderr",
     "output_type": "stream",
     "text": [
      "50000it [20:34, 40.50it/s]\n"
     ]
    }
   ],
   "source": [
    "results=run_parallel(distrorun1.cfgs,nworkers=200)"
   ]
  },
  {
   "cell_type": "code",
   "execution_count": 21,
   "id": "4622cad5",
   "metadata": {},
   "outputs": [],
   "source": [
    "flds=['dT_glob','OHCTOT','concentrations-CO2','RIB_glob']"
   ]
  },
  {
   "cell_type": "code",
   "execution_count": 22,
   "id": "19e219c6",
   "metadata": {},
   "outputs": [],
   "source": [
    "isgd=np.where([r!=None for r in results])[0].astype(int)"
   ]
  },
  {
   "cell_type": "code",
   "execution_count": 23,
   "id": "1dc1cc6d",
   "metadata": {},
   "outputs": [],
   "source": [
    "fresults = [results[i] for i in isgd]\n",
    "fcfgs=[distrorun1.cfgs[i] for i in isgd]"
   ]
  },
  {
   "cell_type": "code",
   "execution_count": 24,
   "id": "60e34216",
   "metadata": {},
   "outputs": [],
   "source": [
    "def to_df(rs):\n",
    "\n",
    "    out=pd.concat([pd.DataFrame(v).reset_index(drop=True) for k, v in rs.items()], keys = rs.keys(),axis=1) \n",
    "    out.index=rs['forcing'].index\n",
    "    return out"
   ]
  },
  {
   "cell_type": "code",
   "execution_count": 25,
   "id": "84c1b1f2",
   "metadata": {},
   "outputs": [],
   "source": [
    "def make_ensdf(results,flds):\n",
    "    resdf=[]\n",
    "    for i,res in enumerate(results):\n",
    "        df=to_df(res)\n",
    "        test_list=df.columns.map('{0[0]}-{0[1]}'.format).tolist()\n",
    "        df.columns=[sub.replace('-0', '') for sub in test_list]\n",
    "        resdf.append(df[flds].unstack())\n",
    "    ensdf=pd.concat(resdf,axis=1)\n",
    "    return ensdf"
   ]
  },
  {
   "cell_type": "code",
   "execution_count": 26,
   "id": "95f715b9",
   "metadata": {},
   "outputs": [],
   "source": [
    "df=make_ensdf(fresults,flds)"
   ]
  },
  {
   "cell_type": "code",
   "execution_count": 27,
   "id": "265973f9",
   "metadata": {},
   "outputs": [],
   "source": [
    "issane=np.where(df.max()<1e8)[0]"
   ]
  },
  {
   "cell_type": "code",
   "execution_count": 28,
   "id": "43f9d675",
   "metadata": {},
   "outputs": [
    {
     "data": {
      "text/html": [
       "<div>\n",
       "<style scoped>\n",
       "    .dataframe tbody tr th:only-of-type {\n",
       "        vertical-align: middle;\n",
       "    }\n",
       "\n",
       "    .dataframe tbody tr th {\n",
       "        vertical-align: top;\n",
       "    }\n",
       "\n",
       "    .dataframe thead th {\n",
       "        text-align: right;\n",
       "    }\n",
       "</style>\n",
       "<table border=\"1\" class=\"dataframe\">\n",
       "  <thead>\n",
       "    <tr style=\"text-align: right;\">\n",
       "      <th></th>\n",
       "      <th></th>\n",
       "      <th>0</th>\n",
       "      <th>1</th>\n",
       "      <th>2</th>\n",
       "      <th>3</th>\n",
       "      <th>4</th>\n",
       "      <th>5</th>\n",
       "      <th>6</th>\n",
       "      <th>7</th>\n",
       "      <th>8</th>\n",
       "      <th>9</th>\n",
       "      <th>...</th>\n",
       "      <th>49990</th>\n",
       "      <th>49991</th>\n",
       "      <th>49992</th>\n",
       "      <th>49993</th>\n",
       "      <th>49994</th>\n",
       "      <th>49995</th>\n",
       "      <th>49996</th>\n",
       "      <th>49997</th>\n",
       "      <th>49998</th>\n",
       "      <th>49999</th>\n",
       "    </tr>\n",
       "  </thead>\n",
       "  <tbody>\n",
       "    <tr>\n",
       "      <th rowspan=\"5\" valign=\"top\">dT_glob</th>\n",
       "      <th>1750</th>\n",
       "      <td>0.000000</td>\n",
       "      <td>0.000000</td>\n",
       "      <td>0.000000</td>\n",
       "      <td>0.000000</td>\n",
       "      <td>0.000000</td>\n",
       "      <td>0.000000</td>\n",
       "      <td>0.000000</td>\n",
       "      <td>0.000000</td>\n",
       "      <td>0.000000</td>\n",
       "      <td>0.000000</td>\n",
       "      <td>...</td>\n",
       "      <td>0.000000</td>\n",
       "      <td>0.000000</td>\n",
       "      <td>0.000000</td>\n",
       "      <td>0.000000</td>\n",
       "      <td>0.000000</td>\n",
       "      <td>0.000000</td>\n",
       "      <td>0.000000</td>\n",
       "      <td>0.000000</td>\n",
       "      <td>0.000000</td>\n",
       "      <td>0.000000</td>\n",
       "    </tr>\n",
       "    <tr>\n",
       "      <th>1751</th>\n",
       "      <td>0.000051</td>\n",
       "      <td>0.000050</td>\n",
       "      <td>0.000057</td>\n",
       "      <td>0.000063</td>\n",
       "      <td>0.000083</td>\n",
       "      <td>0.000105</td>\n",
       "      <td>0.000048</td>\n",
       "      <td>0.000050</td>\n",
       "      <td>0.000045</td>\n",
       "      <td>0.000050</td>\n",
       "      <td>...</td>\n",
       "      <td>0.000069</td>\n",
       "      <td>0.000078</td>\n",
       "      <td>0.000037</td>\n",
       "      <td>0.000063</td>\n",
       "      <td>0.000065</td>\n",
       "      <td>0.000080</td>\n",
       "      <td>0.000098</td>\n",
       "      <td>0.000062</td>\n",
       "      <td>0.000070</td>\n",
       "      <td>0.000096</td>\n",
       "    </tr>\n",
       "    <tr>\n",
       "      <th>1752</th>\n",
       "      <td>0.000268</td>\n",
       "      <td>0.000231</td>\n",
       "      <td>0.000288</td>\n",
       "      <td>0.000321</td>\n",
       "      <td>0.000360</td>\n",
       "      <td>0.000594</td>\n",
       "      <td>0.000231</td>\n",
       "      <td>0.000258</td>\n",
       "      <td>0.000240</td>\n",
       "      <td>0.000252</td>\n",
       "      <td>...</td>\n",
       "      <td>0.000380</td>\n",
       "      <td>0.000444</td>\n",
       "      <td>0.000204</td>\n",
       "      <td>0.000309</td>\n",
       "      <td>0.000359</td>\n",
       "      <td>0.000399</td>\n",
       "      <td>0.000510</td>\n",
       "      <td>0.000312</td>\n",
       "      <td>0.000361</td>\n",
       "      <td>0.000444</td>\n",
       "    </tr>\n",
       "    <tr>\n",
       "      <th>1753</th>\n",
       "      <td>0.000668</td>\n",
       "      <td>0.000526</td>\n",
       "      <td>0.000681</td>\n",
       "      <td>0.000751</td>\n",
       "      <td>0.000775</td>\n",
       "      <td>0.001481</td>\n",
       "      <td>0.000536</td>\n",
       "      <td>0.000618</td>\n",
       "      <td>0.000583</td>\n",
       "      <td>0.000617</td>\n",
       "      <td>...</td>\n",
       "      <td>0.000945</td>\n",
       "      <td>0.001163</td>\n",
       "      <td>0.000523</td>\n",
       "      <td>0.000714</td>\n",
       "      <td>0.000902</td>\n",
       "      <td>0.000926</td>\n",
       "      <td>0.001226</td>\n",
       "      <td>0.000739</td>\n",
       "      <td>0.000850</td>\n",
       "      <td>0.000974</td>\n",
       "    </tr>\n",
       "    <tr>\n",
       "      <th>1754</th>\n",
       "      <td>0.001201</td>\n",
       "      <td>0.000896</td>\n",
       "      <td>0.001164</td>\n",
       "      <td>0.001268</td>\n",
       "      <td>0.001249</td>\n",
       "      <td>0.002584</td>\n",
       "      <td>0.000917</td>\n",
       "      <td>0.001071</td>\n",
       "      <td>0.001017</td>\n",
       "      <td>0.001106</td>\n",
       "      <td>...</td>\n",
       "      <td>0.001665</td>\n",
       "      <td>0.002157</td>\n",
       "      <td>0.000961</td>\n",
       "      <td>0.001191</td>\n",
       "      <td>0.001600</td>\n",
       "      <td>0.001554</td>\n",
       "      <td>0.002110</td>\n",
       "      <td>0.001264</td>\n",
       "      <td>0.001431</td>\n",
       "      <td>0.001579</td>\n",
       "    </tr>\n",
       "    <tr>\n",
       "      <th>...</th>\n",
       "      <th>...</th>\n",
       "      <td>...</td>\n",
       "      <td>...</td>\n",
       "      <td>...</td>\n",
       "      <td>...</td>\n",
       "      <td>...</td>\n",
       "      <td>...</td>\n",
       "      <td>...</td>\n",
       "      <td>...</td>\n",
       "      <td>...</td>\n",
       "      <td>...</td>\n",
       "      <td>...</td>\n",
       "      <td>...</td>\n",
       "      <td>...</td>\n",
       "      <td>...</td>\n",
       "      <td>...</td>\n",
       "      <td>...</td>\n",
       "      <td>...</td>\n",
       "      <td>...</td>\n",
       "      <td>...</td>\n",
       "      <td>...</td>\n",
       "      <td>...</td>\n",
       "    </tr>\n",
       "    <tr>\n",
       "      <th rowspan=\"5\" valign=\"top\">RIB_glob</th>\n",
       "      <th>2096</th>\n",
       "      <td>1.981722</td>\n",
       "      <td>1.898009</td>\n",
       "      <td>2.169427</td>\n",
       "      <td>1.196767</td>\n",
       "      <td>1.772930</td>\n",
       "      <td>1.169771</td>\n",
       "      <td>0.655346</td>\n",
       "      <td>1.587193</td>\n",
       "      <td>1.538765</td>\n",
       "      <td>2.291016</td>\n",
       "      <td>...</td>\n",
       "      <td>1.177114</td>\n",
       "      <td>1.083910</td>\n",
       "      <td>1.890879</td>\n",
       "      <td>1.485716</td>\n",
       "      <td>0.941938</td>\n",
       "      <td>2.174211</td>\n",
       "      <td>1.981827</td>\n",
       "      <td>1.423548</td>\n",
       "      <td>1.444947</td>\n",
       "      <td>1.658100</td>\n",
       "    </tr>\n",
       "    <tr>\n",
       "      <th>2097</th>\n",
       "      <td>1.965579</td>\n",
       "      <td>1.883604</td>\n",
       "      <td>2.155132</td>\n",
       "      <td>1.184724</td>\n",
       "      <td>1.758349</td>\n",
       "      <td>1.158912</td>\n",
       "      <td>0.645283</td>\n",
       "      <td>1.572763</td>\n",
       "      <td>1.523818</td>\n",
       "      <td>2.275704</td>\n",
       "      <td>...</td>\n",
       "      <td>1.162736</td>\n",
       "      <td>1.072369</td>\n",
       "      <td>1.874699</td>\n",
       "      <td>1.471454</td>\n",
       "      <td>0.930484</td>\n",
       "      <td>2.160438</td>\n",
       "      <td>1.968843</td>\n",
       "      <td>1.408600</td>\n",
       "      <td>1.432444</td>\n",
       "      <td>1.644405</td>\n",
       "    </tr>\n",
       "    <tr>\n",
       "      <th>2098</th>\n",
       "      <td>1.949346</td>\n",
       "      <td>1.869114</td>\n",
       "      <td>2.140736</td>\n",
       "      <td>1.172670</td>\n",
       "      <td>1.743729</td>\n",
       "      <td>1.148079</td>\n",
       "      <td>0.635304</td>\n",
       "      <td>1.558291</td>\n",
       "      <td>1.508855</td>\n",
       "      <td>2.260243</td>\n",
       "      <td>...</td>\n",
       "      <td>1.148447</td>\n",
       "      <td>1.060863</td>\n",
       "      <td>1.858431</td>\n",
       "      <td>1.457198</td>\n",
       "      <td>0.919117</td>\n",
       "      <td>2.146532</td>\n",
       "      <td>1.955776</td>\n",
       "      <td>1.393673</td>\n",
       "      <td>1.419933</td>\n",
       "      <td>1.630657</td>\n",
       "    </tr>\n",
       "    <tr>\n",
       "      <th>2099</th>\n",
       "      <td>1.933004</td>\n",
       "      <td>1.854519</td>\n",
       "      <td>2.126221</td>\n",
       "      <td>1.160584</td>\n",
       "      <td>1.729048</td>\n",
       "      <td>1.137244</td>\n",
       "      <td>0.625382</td>\n",
       "      <td>1.543755</td>\n",
       "      <td>1.493852</td>\n",
       "      <td>2.244615</td>\n",
       "      <td>...</td>\n",
       "      <td>1.134214</td>\n",
       "      <td>1.049365</td>\n",
       "      <td>1.842056</td>\n",
       "      <td>1.442923</td>\n",
       "      <td>0.907807</td>\n",
       "      <td>2.132475</td>\n",
       "      <td>1.942606</td>\n",
       "      <td>1.378743</td>\n",
       "      <td>1.407390</td>\n",
       "      <td>1.616836</td>\n",
       "    </tr>\n",
       "    <tr>\n",
       "      <th>2100</th>\n",
       "      <td>1.916543</td>\n",
       "      <td>1.839812</td>\n",
       "      <td>2.111575</td>\n",
       "      <td>1.148455</td>\n",
       "      <td>1.714294</td>\n",
       "      <td>1.126393</td>\n",
       "      <td>0.615504</td>\n",
       "      <td>1.529143</td>\n",
       "      <td>1.478797</td>\n",
       "      <td>2.228814</td>\n",
       "      <td>...</td>\n",
       "      <td>1.120018</td>\n",
       "      <td>1.037857</td>\n",
       "      <td>1.825564</td>\n",
       "      <td>1.428616</td>\n",
       "      <td>0.896533</td>\n",
       "      <td>2.118257</td>\n",
       "      <td>1.929325</td>\n",
       "      <td>1.363797</td>\n",
       "      <td>1.394803</td>\n",
       "      <td>1.602932</td>\n",
       "    </tr>\n",
       "  </tbody>\n",
       "</table>\n",
       "<p>1404 rows × 50000 columns</p>\n",
       "</div>"
      ],
      "text/plain": [
       "                  0         1         2         3         4         5      \\\n",
       "dT_glob  1750  0.000000  0.000000  0.000000  0.000000  0.000000  0.000000   \n",
       "         1751  0.000051  0.000050  0.000057  0.000063  0.000083  0.000105   \n",
       "         1752  0.000268  0.000231  0.000288  0.000321  0.000360  0.000594   \n",
       "         1753  0.000668  0.000526  0.000681  0.000751  0.000775  0.001481   \n",
       "         1754  0.001201  0.000896  0.001164  0.001268  0.001249  0.002584   \n",
       "...                 ...       ...       ...       ...       ...       ...   \n",
       "RIB_glob 2096  1.981722  1.898009  2.169427  1.196767  1.772930  1.169771   \n",
       "         2097  1.965579  1.883604  2.155132  1.184724  1.758349  1.158912   \n",
       "         2098  1.949346  1.869114  2.140736  1.172670  1.743729  1.148079   \n",
       "         2099  1.933004  1.854519  2.126221  1.160584  1.729048  1.137244   \n",
       "         2100  1.916543  1.839812  2.111575  1.148455  1.714294  1.126393   \n",
       "\n",
       "                  6         7         8         9      ...     49990  \\\n",
       "dT_glob  1750  0.000000  0.000000  0.000000  0.000000  ...  0.000000   \n",
       "         1751  0.000048  0.000050  0.000045  0.000050  ...  0.000069   \n",
       "         1752  0.000231  0.000258  0.000240  0.000252  ...  0.000380   \n",
       "         1753  0.000536  0.000618  0.000583  0.000617  ...  0.000945   \n",
       "         1754  0.000917  0.001071  0.001017  0.001106  ...  0.001665   \n",
       "...                 ...       ...       ...       ...  ...       ...   \n",
       "RIB_glob 2096  0.655346  1.587193  1.538765  2.291016  ...  1.177114   \n",
       "         2097  0.645283  1.572763  1.523818  2.275704  ...  1.162736   \n",
       "         2098  0.635304  1.558291  1.508855  2.260243  ...  1.148447   \n",
       "         2099  0.625382  1.543755  1.493852  2.244615  ...  1.134214   \n",
       "         2100  0.615504  1.529143  1.478797  2.228814  ...  1.120018   \n",
       "\n",
       "                  49991     49992     49993     49994     49995     49996  \\\n",
       "dT_glob  1750  0.000000  0.000000  0.000000  0.000000  0.000000  0.000000   \n",
       "         1751  0.000078  0.000037  0.000063  0.000065  0.000080  0.000098   \n",
       "         1752  0.000444  0.000204  0.000309  0.000359  0.000399  0.000510   \n",
       "         1753  0.001163  0.000523  0.000714  0.000902  0.000926  0.001226   \n",
       "         1754  0.002157  0.000961  0.001191  0.001600  0.001554  0.002110   \n",
       "...                 ...       ...       ...       ...       ...       ...   \n",
       "RIB_glob 2096  1.083910  1.890879  1.485716  0.941938  2.174211  1.981827   \n",
       "         2097  1.072369  1.874699  1.471454  0.930484  2.160438  1.968843   \n",
       "         2098  1.060863  1.858431  1.457198  0.919117  2.146532  1.955776   \n",
       "         2099  1.049365  1.842056  1.442923  0.907807  2.132475  1.942606   \n",
       "         2100  1.037857  1.825564  1.428616  0.896533  2.118257  1.929325   \n",
       "\n",
       "                  49997     49998     49999  \n",
       "dT_glob  1750  0.000000  0.000000  0.000000  \n",
       "         1751  0.000062  0.000070  0.000096  \n",
       "         1752  0.000312  0.000361  0.000444  \n",
       "         1753  0.000739  0.000850  0.000974  \n",
       "         1754  0.001264  0.001431  0.001579  \n",
       "...                 ...       ...       ...  \n",
       "RIB_glob 2096  1.423548  1.444947  1.658100  \n",
       "         2097  1.408600  1.432444  1.644405  \n",
       "         2098  1.393673  1.419933  1.630657  \n",
       "         2099  1.378743  1.407390  1.616836  \n",
       "         2100  1.363797  1.394803  1.602932  \n",
       "\n",
       "[1404 rows x 50000 columns]"
      ]
     },
     "execution_count": 28,
     "metadata": {},
     "output_type": "execute_result"
    }
   ],
   "source": [
    "df"
   ]
  },
  {
   "cell_type": "code",
   "execution_count": 29,
   "id": "c2f3fc5e",
   "metadata": {},
   "outputs": [],
   "source": [
    "df1 = df.iloc[:,issane]\n",
    "fcfgs1=[fcfgs[i] for i in issane]"
   ]
  },
  {
   "cell_type": "code",
   "execution_count": 30,
   "id": "8d315cc5",
   "metadata": {},
   "outputs": [],
   "source": [
    "df1.index.names = ['variable', 'year']\n",
    "df1.columns.names=['run_id']"
   ]
  },
  {
   "cell_type": "code",
   "execution_count": 31,
   "id": "a3377f34",
   "metadata": {},
   "outputs": [],
   "source": [
    "def plot_range(df, var, ax,col='k'):\n",
    "    Tdf=df.xs(var).T\n",
    "    lower = Tdf.quantile(0.10)\n",
    "    upper = Tdf.quantile(0.90)\n",
    "    ax.fill_between(Tdf.columns, lower, upper, color=col, alpha=0.2,edgecolor=None)\n",
    "    ax.plot(Tdf.columns, Tdf.mean(), color=col)\n",
    "\n"
   ]
  },
  {
   "cell_type": "code",
   "execution_count": 32,
   "id": "c94b4300",
   "metadata": {},
   "outputs": [
    {
     "data": {
      "text/plain": [
       "(0.0, 5.0)"
      ]
     },
     "execution_count": 32,
     "metadata": {},
     "output_type": "execute_result"
    },
    {
     "data": {
      "image/png": "[encoded data removed]",
      "text/plain": [
       "<Figure size 1500x400 with 4 Axes>"
      ]
     },
     "metadata": {},
     "output_type": "display_data"
    }
   ],
   "source": [
    "fig, ax = plt.subplots( 1,len(flds) ,figsize=(15, 4))\n",
    "\n",
    "ax=ax.flatten()\n",
    "for i,f in enumerate(flds):\n",
    "    plot_range(df1, f, ax[i])\n",
    "    ax[i].set_title(f)\n",
    "ax[0].set_ylim([0,5])\n",
    "ax[1].set_ylim([0,200])\n",
    "ax[2].set_ylim([200,700])\n",
    "ax[3].set_ylim([0,5])\n",
    "\n"
   ]
  },
  {
   "cell_type": "code",
   "execution_count": null,
   "id": "fea0ee38",
   "metadata": {},
   "outputs": [],
   "source": []
  },
  {
   "cell_type": "code",
   "execution_count": 33,
   "id": "b9489acd",
   "metadata": {},
   "outputs": [],
   "source": [
    "dates=[1950,1970,1990,2005,2018]\n",
    "targ=df1.loc[(slice(None), dates), :].T\n",
    "nflds=targ.shape[1]\n"
   ]
  },
  {
   "cell_type": "code",
   "execution_count": 34,
   "id": "d44f52e9",
   "metadata": {
    "vscode": {
     "languageId": "javascript"
    }
   },
   "outputs": [],
   "source": [
    "def merge_dicts(dc):\n",
    "    \"\"\"Given two dictionaries, merge them into a new dict as a shallow copy.\"\"\"\n",
    "    x=dc['pamset_udm']\n",
    "    y=dc['pamset_emiconc']\n",
    "    z = x.copy()\n",
    "    z.update(y)\n",
    "    return z"
   ]
  },
  {
   "cell_type": "code",
   "execution_count": 35,
   "id": "733fcfe8",
   "metadata": {},
   "outputs": [],
   "source": [
    "pdict=fcfgs1\n",
    "mdict=[ merge_dicts(d) for d in pdict ]\n",
    "pmat=pd.DataFrame(mdict)"
   ]
  },
  {
   "cell_type": "code",
   "execution_count": 36,
   "id": "4e737ba4",
   "metadata": {
    "vscode": {
     "languageId": "javascript"
    }
   },
   "outputs": [
    {
     "data": {
      "text/html": [
       "<div>\n",
       "<style scoped>\n",
       "    .dataframe tbody tr th:only-of-type {\n",
       "        vertical-align: middle;\n",
       "    }\n",
       "\n",
       "    .dataframe tbody tr th {\n",
       "        vertical-align: top;\n",
       "    }\n",
       "\n",
       "    .dataframe thead th {\n",
       "        text-align: right;\n",
       "    }\n",
       "</style>\n",
       "<table border=\"1\" class=\"dataframe\">\n",
       "  <thead>\n",
       "    <tr style=\"text-align: right;\">\n",
       "      <th></th>\n",
       "      <th>rlamdo</th>\n",
       "      <th>akapa</th>\n",
       "      <th>cpi</th>\n",
       "      <th>W</th>\n",
       "      <th>beto</th>\n",
       "      <th>lambda</th>\n",
       "      <th>mixed</th>\n",
       "      <th>qdirso2</th>\n",
       "      <th>qindso2</th>\n",
       "      <th>qbc</th>\n",
       "      <th>qoc</th>\n",
       "      <th>beta_f</th>\n",
       "      <th>mixed_carbon</th>\n",
       "      <th>qh2o_ch4</th>\n",
       "    </tr>\n",
       "  </thead>\n",
       "  <tbody>\n",
       "    <tr>\n",
       "      <th>0</th>\n",
       "      <td>17.102638</td>\n",
       "      <td>0.318953</td>\n",
       "      <td>0.173334</td>\n",
       "      <td>2.109913</td>\n",
       "      <td>0.347588</td>\n",
       "      <td>2.142630</td>\n",
       "      <td>97.264950</td>\n",
       "      <td>-0.268183</td>\n",
       "      <td>-0.895292</td>\n",
       "      <td>0.133731</td>\n",
       "      <td>-0.090153</td>\n",
       "      <td>0.204017</td>\n",
       "      <td>55.103114</td>\n",
       "      <td>0.092851</td>\n",
       "    </tr>\n",
       "    <tr>\n",
       "      <th>1</th>\n",
       "      <td>9.205305</td>\n",
       "      <td>0.903707</td>\n",
       "      <td>0.296647</td>\n",
       "      <td>2.232022</td>\n",
       "      <td>0.329700</td>\n",
       "      <td>1.072668</td>\n",
       "      <td>122.205899</td>\n",
       "      <td>-0.376084</td>\n",
       "      <td>-0.583475</td>\n",
       "      <td>0.115380</td>\n",
       "      <td>-0.065101</td>\n",
       "      <td>0.166451</td>\n",
       "      <td>50.289103</td>\n",
       "      <td>0.080444</td>\n",
       "    </tr>\n",
       "    <tr>\n",
       "      <th>2</th>\n",
       "      <td>15.684419</td>\n",
       "      <td>0.773555</td>\n",
       "      <td>0.534248</td>\n",
       "      <td>2.071681</td>\n",
       "      <td>5.258496</td>\n",
       "      <td>1.905828</td>\n",
       "      <td>75.511710</td>\n",
       "      <td>-0.393353</td>\n",
       "      <td>-1.153233</td>\n",
       "      <td>0.175149</td>\n",
       "      <td>-0.071023</td>\n",
       "      <td>0.458676</td>\n",
       "      <td>51.963764</td>\n",
       "      <td>0.084043</td>\n",
       "    </tr>\n",
       "    <tr>\n",
       "      <th>3</th>\n",
       "      <td>19.937643</td>\n",
       "      <td>0.737417</td>\n",
       "      <td>0.194282</td>\n",
       "      <td>1.887922</td>\n",
       "      <td>3.886078</td>\n",
       "      <td>0.873452</td>\n",
       "      <td>45.220555</td>\n",
       "      <td>-0.391597</td>\n",
       "      <td>-0.506656</td>\n",
       "      <td>0.121048</td>\n",
       "      <td>-0.090012</td>\n",
       "      <td>0.161120</td>\n",
       "      <td>70.260724</td>\n",
       "      <td>0.098772</td>\n",
       "    </tr>\n",
       "    <tr>\n",
       "      <th>4</th>\n",
       "      <td>6.017592</td>\n",
       "      <td>0.728766</td>\n",
       "      <td>0.335478</td>\n",
       "      <td>0.688193</td>\n",
       "      <td>0.275984</td>\n",
       "      <td>1.485767</td>\n",
       "      <td>83.501246</td>\n",
       "      <td>-0.471701</td>\n",
       "      <td>-1.198583</td>\n",
       "      <td>0.155924</td>\n",
       "      <td>-0.089415</td>\n",
       "      <td>0.397934</td>\n",
       "      <td>73.729956</td>\n",
       "      <td>0.094666</td>\n",
       "    </tr>\n",
       "    <tr>\n",
       "      <th>...</th>\n",
       "      <td>...</td>\n",
       "      <td>...</td>\n",
       "      <td>...</td>\n",
       "      <td>...</td>\n",
       "      <td>...</td>\n",
       "      <td>...</td>\n",
       "      <td>...</td>\n",
       "      <td>...</td>\n",
       "      <td>...</td>\n",
       "      <td>...</td>\n",
       "      <td>...</td>\n",
       "      <td>...</td>\n",
       "      <td>...</td>\n",
       "      <td>...</td>\n",
       "    </tr>\n",
       "    <tr>\n",
       "      <th>49995</th>\n",
       "      <td>16.545560</td>\n",
       "      <td>0.807546</td>\n",
       "      <td>0.375894</td>\n",
       "      <td>1.926768</td>\n",
       "      <td>0.627275</td>\n",
       "      <td>1.892402</td>\n",
       "      <td>35.515569</td>\n",
       "      <td>-0.219040</td>\n",
       "      <td>-0.967695</td>\n",
       "      <td>0.152787</td>\n",
       "      <td>-0.063858</td>\n",
       "      <td>0.244444</td>\n",
       "      <td>68.030427</td>\n",
       "      <td>0.094306</td>\n",
       "    </tr>\n",
       "    <tr>\n",
       "      <th>49996</th>\n",
       "      <td>11.083827</td>\n",
       "      <td>0.282200</td>\n",
       "      <td>0.256142</td>\n",
       "      <td>0.618788</td>\n",
       "      <td>2.549894</td>\n",
       "      <td>1.993429</td>\n",
       "      <td>40.582554</td>\n",
       "      <td>-0.241696</td>\n",
       "      <td>-1.057440</td>\n",
       "      <td>0.169535</td>\n",
       "      <td>-0.099551</td>\n",
       "      <td>0.138390</td>\n",
       "      <td>39.907788</td>\n",
       "      <td>0.084304</td>\n",
       "    </tr>\n",
       "    <tr>\n",
       "      <th>49997</th>\n",
       "      <td>14.696894</td>\n",
       "      <td>0.465963</td>\n",
       "      <td>0.318133</td>\n",
       "      <td>1.189124</td>\n",
       "      <td>6.920953</td>\n",
       "      <td>1.699594</td>\n",
       "      <td>76.978444</td>\n",
       "      <td>-0.437581</td>\n",
       "      <td>-1.153789</td>\n",
       "      <td>0.159344</td>\n",
       "      <td>-0.098551</td>\n",
       "      <td>0.354158</td>\n",
       "      <td>115.670030</td>\n",
       "      <td>0.081422</td>\n",
       "    </tr>\n",
       "    <tr>\n",
       "      <th>49998</th>\n",
       "      <td>21.942853</td>\n",
       "      <td>0.533488</td>\n",
       "      <td>0.423306</td>\n",
       "      <td>0.661126</td>\n",
       "      <td>3.017043</td>\n",
       "      <td>1.118111</td>\n",
       "      <td>49.050337</td>\n",
       "      <td>-0.458216</td>\n",
       "      <td>-0.923480</td>\n",
       "      <td>0.104745</td>\n",
       "      <td>-0.071257</td>\n",
       "      <td>0.153207</td>\n",
       "      <td>64.846969</td>\n",
       "      <td>0.083759</td>\n",
       "    </tr>\n",
       "    <tr>\n",
       "      <th>49999</th>\n",
       "      <td>8.062569</td>\n",
       "      <td>0.818552</td>\n",
       "      <td>0.432115</td>\n",
       "      <td>1.106169</td>\n",
       "      <td>6.491677</td>\n",
       "      <td>1.676417</td>\n",
       "      <td>32.908814</td>\n",
       "      <td>-0.363621</td>\n",
       "      <td>-0.696746</td>\n",
       "      <td>0.115120</td>\n",
       "      <td>-0.095024</td>\n",
       "      <td>0.395053</td>\n",
       "      <td>107.037731</td>\n",
       "      <td>0.080290</td>\n",
       "    </tr>\n",
       "  </tbody>\n",
       "</table>\n",
       "<p>50000 rows × 14 columns</p>\n",
       "</div>"
      ],
      "text/plain": [
       "          rlamdo     akapa       cpi         W      beto    lambda  \\\n",
       "0      17.102638  0.318953  0.173334  2.109913  0.347588  2.142630   \n",
       "1       9.205305  0.903707  0.296647  2.232022  0.329700  1.072668   \n",
       "2      15.684419  0.773555  0.534248  2.071681  5.258496  1.905828   \n",
       "3      19.937643  0.737417  0.194282  1.887922  3.886078  0.873452   \n",
       "4       6.017592  0.728766  0.335478  0.688193  0.275984  1.485767   \n",
       "...          ...       ...       ...       ...       ...       ...   \n",
       "49995  16.545560  0.807546  0.375894  1.926768  0.627275  1.892402   \n",
       "49996  11.083827  0.282200  0.256142  0.618788  2.549894  1.993429   \n",
       "49997  14.696894  0.465963  0.318133  1.189124  6.920953  1.699594   \n",
       "49998  21.942853  0.533488  0.423306  0.661126  3.017043  1.118111   \n",
       "49999   8.062569  0.818552  0.432115  1.106169  6.491677  1.676417   \n",
       "\n",
       "            mixed   qdirso2   qindso2       qbc       qoc    beta_f  \\\n",
       "0       97.264950 -0.268183 -0.895292  0.133731 -0.090153  0.204017   \n",
       "1      122.205899 -0.376084 -0.583475  0.115380 -0.065101  0.166451   \n",
       "2       75.511710 -0.393353 -1.153233  0.175149 -0.071023  0.458676   \n",
       "3       45.220555 -0.391597 -0.506656  0.121048 -0.090012  0.161120   \n",
       "4       83.501246 -0.471701 -1.198583  0.155924 -0.089415  0.397934   \n",
       "...           ...       ...       ...       ...       ...       ...   \n",
       "49995   35.515569 -0.219040 -0.967695  0.152787 -0.063858  0.244444   \n",
       "49996   40.582554 -0.241696 -1.057440  0.169535 -0.099551  0.138390   \n",
       "49997   76.978444 -0.437581 -1.153789  0.159344 -0.098551  0.354158   \n",
       "49998   49.050337 -0.458216 -0.923480  0.104745 -0.071257  0.153207   \n",
       "49999   32.908814 -0.363621 -0.696746  0.115120 -0.095024  0.395053   \n",
       "\n",
       "       mixed_carbon  qh2o_ch4  \n",
       "0         55.103114  0.092851  \n",
       "1         50.289103  0.080444  \n",
       "2         51.963764  0.084043  \n",
       "3         70.260724  0.098772  \n",
       "4         73.729956  0.094666  \n",
       "...             ...       ...  \n",
       "49995     68.030427  0.094306  \n",
       "49996     39.907788  0.084304  \n",
       "49997    115.670030  0.081422  \n",
       "49998     64.846969  0.083759  \n",
       "49999    107.037731  0.080290  \n",
       "\n",
       "[50000 rows x 14 columns]"
      ]
     },
     "execution_count": 36,
     "metadata": {},
     "output_type": "execute_result"
    }
   ],
   "source": [
    "parammat=pmat.loc[:, (pmat != pmat.iloc[0]).any()]\n",
    "parammat"
   ]
  },
  {
   "cell_type": "code",
   "execution_count": 37,
   "id": "62f4c888",
   "metadata": {
    "vscode": {
     "languageId": "javascript"
    }
   },
   "outputs": [],
   "source": [
    "store = pd.HDFStore('data.h5')\n",
    "store['targ'] = targ\n",
    "store['parammat'] = parammat\n",
    "store.close()"
   ]
  },
  {
   "cell_type": "code",
   "execution_count": null,
   "id": "e3145a37",
   "metadata": {
    "vscode": {
     "languageId": "javascript"
    }
   },
   "outputs": [],
   "source": []
  },
  {
   "cell_type": "code",
   "execution_count": 38,
   "id": "a695aac4",
   "metadata": {},
   "outputs": [
    {
     "data": {
      "text/plain": [
       "(0.0, 10.0)"
      ]
     },
     "execution_count": 38,
     "metadata": {},
     "output_type": "execute_result"
    },
    {
     "data": {
      "image/png": "[encoded data removed]",
      "text/plain": [
       "<Figure size 640x480 with 1 Axes>"
      ]
     },
     "metadata": {},
     "output_type": "display_data"
    }
   ],
   "source": [
    "plt.plot(targ['dT_glob'][2018],parammat['lambda'],'.')\n",
    "plt.xlim([0,10])"
   ]
  },
  {
   "cell_type": "code",
   "execution_count": 39,
   "id": "052ca846",
   "metadata": {
    "vscode": {
     "languageId": "javascript"
    }
   },
   "outputs": [],
   "source": [
    "from sklearn.model_selection import train_test_split\n",
    "XTraining, XValidation, YTraining, YValidation = train_test_split(parammat,targ,test_size=0.1, shuffle=False) # before model building\n"
   ]
  },
  {
   "cell_type": "code",
   "execution_count": 40,
   "id": "91161371",
   "metadata": {
    "vscode": {
     "languageId": "javascript"
    }
   },
   "outputs": [
    {
     "name": "stderr",
     "output_type": "stream",
     "text": [
      "2024-05-11 12:04:07.503737: I tensorflow/tsl/cuda/cudart_stub.cc:28] Could not find cuda drivers on your machine, GPU will not be used.\n",
      "2024-05-11 12:04:09.027237: I tensorflow/tsl/cuda/cudart_stub.cc:28] Could not find cuda drivers on your machine, GPU will not be used.\n",
      "2024-05-11 12:04:09.033209: I tensorflow/core/platform/cpu_feature_guard.cc:182] This TensorFlow binary is optimized to use available CPU instructions in performance-critical operations.\n",
      "To enable the following instructions: AVX2 FMA, in other operations, rebuild TensorFlow with the appropriate compiler flags.\n",
      "2024-05-11 12:04:15.220320: W tensorflow/compiler/tf2tensorrt/utils/py_utils.cc:38] TF-TRT Warning: Could not find TensorRT\n"
     ]
    },
    {
     "name": "stdout",
     "output_type": "stream",
     "text": [
      "2.13.1\n",
      "[PhysicalDevice(name='/physical_device:CPU:0', device_type='CPU')]\n"
     ]
    }
   ],
   "source": [
    "import tensorflow as tf\n",
    "\n",
    "from tensorflow import keras\n",
    "from tensorflow.keras import layers\n",
    "\n",
    "print(tf.__version__)\n",
    "print(tf.config.list_physical_devices())"
   ]
  },
  {
   "cell_type": "code",
   "execution_count": 41,
   "id": "69e2ec34",
   "metadata": {
    "vscode": {
     "languageId": "javascript"
    }
   },
   "outputs": [],
   "source": [
    "def build_and_compile_model(norm):\n",
    "  model = keras.Sequential([\n",
    "      norm,\n",
    "      layers.Dense(30, activation='tanh'),\n",
    "      layers.Dense(10, activation='tanh'),\n",
    "\n",
    "      layers.Dense(nflds)\n",
    "  ])\n",
    "\n",
    "  model.compile(loss='mae',\n",
    "                optimizer=tf.keras.optimizers.AdamW(0.001))\n",
    "  return model"
   ]
  },
  {
   "cell_type": "code",
   "execution_count": 42,
   "id": "09f2f181",
   "metadata": {
    "vscode": {
     "languageId": "javascript"
    }
   },
   "outputs": [],
   "source": [
    "normalizer = tf.keras.layers.Normalization(input_shape=[parammat.shape[1],], axis=-1)"
   ]
  },
  {
   "cell_type": "code",
   "execution_count": 43,
   "id": "14fd6aca",
   "metadata": {
    "vscode": {
     "languageId": "javascript"
    }
   },
   "outputs": [],
   "source": [
    "normalizer.adapt(parammat)"
   ]
  },
  {
   "cell_type": "code",
   "execution_count": 44,
   "id": "87fbe5e2",
   "metadata": {
    "vscode": {
     "languageId": "javascript"
    }
   },
   "outputs": [],
   "source": [
    "dnn_model = build_and_compile_model(normalizer)\n"
   ]
  },
  {
   "cell_type": "code",
   "execution_count": 45,
   "id": "47d2aa4b",
   "metadata": {
    "vscode": {
     "languageId": "javascript"
    }
   },
   "outputs": [],
   "source": [
    "X_train = tf.convert_to_tensor(XTraining, dtype=tf.float32)\n",
    "Y_train = tf.convert_to_tensor(YTraining, dtype=tf.float32)\n",
    "X_dev = tf.convert_to_tensor(XValidation, dtype=tf.float32)\n",
    "Y_dev = tf.convert_to_tensor(YValidation, dtype=tf.float32)"
   ]
  },
  {
   "cell_type": "code",
   "execution_count": 46,
   "id": "b05304a5",
   "metadata": {
    "vscode": {
     "languageId": "javascript"
    }
   },
   "outputs": [],
   "source": [
    "from tqdm.keras import TqdmCallback"
   ]
  },
  {
   "cell_type": "code",
   "execution_count": 47,
   "id": "510f84bd",
   "metadata": {
    "vscode": {
     "languageId": "javascript"
    }
   },
   "outputs": [
    {
     "name": "stdout",
     "output_type": "stream",
     "text": [
      "INFO:tensorflow:Using MirroredStrategy with devices ('/job:localhost/replica:0/task:0/device:CPU:0',)\n",
      "Number of devices: 1\n"
     ]
    }
   ],
   "source": [
    "strategy = tf.distribute.MirroredStrategy()\n",
    "print('Number of devices: {}'.format(strategy.num_replicas_in_sync))"
   ]
  },
  {
   "cell_type": "code",
   "execution_count": 48,
   "id": "66668947",
   "metadata": {
    "vscode": {
     "languageId": "javascript"
    }
   },
   "outputs": [
    {
     "data": {
      "application/vnd.jupyter.widget-view+json": {
       "model_id": "15a6190677e04b9cadaf2ab93bc51d64",
       "version_major": 2,
       "version_minor": 0
      },
      "text/plain": [
       "0epoch [00:00, ?epoch/s]"
      ]
     },
     "metadata": {},
     "output_type": "display_data"
    }
   ],
   "source": [
    "history=dnn_model.fit(X_train, Y_train, epochs=10000, batch_size=100, validation_data=(X_dev, Y_dev),verbose=0,callbacks=[TqdmCallback(verbose=0)])\n"
   ]
  },
  {
   "cell_type": "code",
   "execution_count": null,
   "id": "c033d69b",
   "metadata": {
    "vscode": {
     "languageId": "javascript"
    }
   },
   "outputs": [
    {
     "name": "stdout",
     "output_type": "stream",
     "text": [
      "32/32 [==============================] - 0s 2ms/step\n",
      "282/282 [==============================] - 0s 905us/step\n"
     ]
    }
   ],
   "source": [
    "pred = dnn_model.predict(X_dev)\n",
    "pred_t = dnn_model.predict(X_train)"
   ]
  },
  {
   "cell_type": "code",
   "execution_count": null,
   "id": "ed845847",
   "metadata": {
    "vscode": {
     "languageId": "javascript"
    }
   },
   "outputs": [
    {
     "data": {
      "text/plain": [
       "[<matplotlib.lines.Line2D at 0x7f17407adeb0>]"
      ]
     },
     "execution_count": 79,
     "metadata": {},
     "output_type": "execute_result"
    },
    {
     "data": {
      "image/png": "[encoded data removed]",
      "text/plain": [
       "<Figure size 640x480 with 1 Axes>"
      ]
     },
     "metadata": {},
     "output_type": "display_data"
    }
   ],
   "source": [
    "plt.plot(pred_t[:,0],Y_train[:,0],'k.')\n",
    "plt.plot(pred[:,0],Y_dev[:,0],'r.')"
   ]
  },
  {
   "cell_type": "code",
   "execution_count": null,
   "id": "e2d5be3c",
   "metadata": {
    "vscode": {
     "languageId": "javascript"
    }
   },
   "outputs": [
    {
     "data": {
      "image/png": "[encoded data removed]",
      "text/plain": [
       "<Figure size 1500x1000 with 20 Axes>"
      ]
     },
     "metadata": {},
     "output_type": "display_data"
    }
   ],
   "source": [
    "fig, ax = plt.subplots( len(flds), len(dates),figsize=(15, 10))\n",
    "\n",
    "ax=ax.flatten()\n",
    "for i in np.arange(nflds):\n",
    "  ax[i].plot(pred_t[:,i],Y_train[:,i],'k.')\n",
    "  ax[i].plot(pred[:,i],Y_dev[:,i],'r.')\n",
    "\n"
   ]
  },
  {
   "cell_type": "code",
   "execution_count": null,
   "id": "c082b129",
   "metadata": {
    "vscode": {
     "languageId": "javascript"
    }
   },
   "outputs": [],
   "source": []
  }
 ],
 "metadata": {
  "kernelspec": {
   "display_name": "Python 3 (ipykernel)",
   "language": "python",
   "name": "python3"
  },
  "language_info": {
   "codemirror_mode": {
    "name": "ipython",
    "version": 3
   },
   "file_extension": ".py",
   "mimetype": "text/x-python",
   "name": "python",
   "nbconvert_exporter": "python",
   "pygments_lexer": "ipython3",
   "version": "3.8.5"
  }
 },
 "nbformat": 4,
 "nbformat_minor": 5
}
