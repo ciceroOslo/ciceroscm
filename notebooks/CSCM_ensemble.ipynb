{
 "cells": [
  {
   "cell_type": "markdown",
   "id": "8e2328f2",
   "metadata": {},
   "source": [
    "# CICERO SCM notebook - parallel application"
   ]
  },
  {
   "cell_type": "markdown",
   "id": "c7d6c91a",
   "metadata": {},
   "source": [
    "Import some stuff"
   ]
  },
  {
   "cell_type": "code",
   "execution_count": 1,
   "id": "51cdf382",
   "metadata": {},
   "outputs": [],
   "source": [
    "import sys\n",
    "import re\n",
    "import os\n",
    "import numpy as np\n",
    "import shutil\n",
    "import matplotlib.pyplot as plt\n",
    "import pandas as pd\n",
    "import pandas.testing as pdt\n",
    "import warnings\n",
    "import logging\n",
    "\n",
    "try:\n",
    "    from pandas.core.common import SettingWithCopyWarning\n",
    "except:\n",
    "    from pandas.errors import SettingWithCopyWarning\n",
    "warnings.simplefilter(action=\"ignore\", category=SettingWithCopyWarning)\n",
    "warnings.filterwarnings(\"ignore\", message=\".*Parameter.*\")"
   ]
  },
  {
   "cell_type": "code",
   "execution_count": 2,
   "id": "fe0e550e",
   "metadata": {},
   "outputs": [],
   "source": [
    "from concurrent.futures import ProcessPoolExecutor\n",
    "from tqdm import tqdm"
   ]
  },
  {
   "cell_type": "code",
   "execution_count": 3,
   "id": "f5aa3ac5",
   "metadata": {},
   "outputs": [],
   "source": [
    "import concurrent"
   ]
  },
  {
   "cell_type": "code",
   "execution_count": 4,
   "id": "30c5df12",
   "metadata": {},
   "outputs": [
    {
     "name": "stderr",
     "output_type": "stream",
     "text": [
      "/uio/kant/div-cicero-u1/bensan/ciceroscm-1/venv/lib/python3.8/site-packages/scmdata/database/_database.py:9: TqdmExperimentalWarning: Using `tqdm.autonotebook.tqdm` in notebook mode. Use `tqdm.tqdm` instead to force console mode (e.g. in jupyter console)\n",
      "  import tqdm.autonotebook as tqdman\n",
      "/uio/kant/div-cicero-u1/bensan/ciceroscm-1/venv/lib/python3.8/site-packages/setuptools_scm/_integration/setuptools.py:31: RuntimeWarning: \n",
      "ERROR: setuptools==47.1.0 is used in combination with setuptools_scm>=8.x\n",
      "\n",
      "Your build configuration is incomplete and previously worked by accident!\n",
      "setuptools_scm requires setuptools>=61\n",
      "\n",
      "Suggested workaround if applicable:\n",
      " - migrating from the deprecated setup_requires mechanism to pep517/518\n",
      "   and using a pyproject.toml to declare build dependencies\n",
      "   which are reliably pre-installed before running the build tools\n",
      "\n",
      "  warnings.warn(\n"
     ]
    },
    {
     "data": {
      "application/javascript": "if (typeof IPython !== 'undefined') { IPython.OutputArea.prototype._should_scroll = function(lines){ return false; }}",
      "text/plain": [
       "<IPython.core.display.Javascript object>"
      ]
     },
     "metadata": {},
     "output_type": "display_data"
    }
   ],
   "source": [
    "from ciceroscm.parallel._configdistro import _ConfigDistro\n",
    "from ciceroscm.parallel.calibrator import Calibrator\n",
    "from ciceroscm.parallel.distributionrun import DistributionRun\n"
   ]
  },
  {
   "cell_type": "markdown",
   "id": "c4c273f7",
   "metadata": {},
   "source": [
    "Import the model"
   ]
  },
  {
   "cell_type": "code",
   "execution_count": 5,
   "id": "f3f7d2ef",
   "metadata": {},
   "outputs": [],
   "source": [
    "sys.path.insert(0,os.path.join(os.getcwd(), '../', 'src'))\n",
    "from ciceroscm import CICEROSCM"
   ]
  },
  {
   "cell_type": "markdown",
   "id": "1c38f49a",
   "metadata": {},
   "source": [
    "Define some input handling functions to give us example inputs"
   ]
  },
  {
   "cell_type": "code",
   "execution_count": 6,
   "id": "95d7c548",
   "metadata": {},
   "outputs": [],
   "source": [
    "from ciceroscm.input_handler import read_inputfile,read_components,read_natural_emissions"
   ]
  },
  {
   "cell_type": "markdown",
   "id": "08c20d53",
   "metadata": {},
   "source": [
    "Define a function to convert model output to a dataframe"
   ]
  },
  {
   "cell_type": "markdown",
   "id": "61fafe5a",
   "metadata": {},
   "source": [
    "set up input directories"
   ]
  },
  {
   "cell_type": "code",
   "execution_count": 7,
   "id": "1ea50bee",
   "metadata": {},
   "outputs": [],
   "source": [
    "test_data_dir = os.path.join(os.getcwd(), '../', 'tests', 'test-data')"
   ]
  },
  {
   "cell_type": "markdown",
   "id": "c2d00f05",
   "metadata": {},
   "source": [
    "# Read in datafiles into dataframes"
   ]
  },
  {
   "cell_type": "code",
   "execution_count": 8,
   "id": "22c1d304",
   "metadata": {},
   "outputs": [
    {
     "data": {
      "text/html": [
       "<div>\n",
       "<style scoped>\n",
       "    .dataframe tbody tr th:only-of-type {\n",
       "        vertical-align: middle;\n",
       "    }\n",
       "\n",
       "    .dataframe tbody tr th {\n",
       "        vertical-align: top;\n",
       "    }\n",
       "\n",
       "    .dataframe thead th {\n",
       "        text-align: right;\n",
       "    }\n",
       "</style>\n",
       "<table border=\"1\" class=\"dataframe\">\n",
       "  <thead>\n",
       "    <tr style=\"text-align: right;\">\n",
       "      <th></th>\n",
       "      <th>EM_UNIT</th>\n",
       "      <th>CONC_UNIT</th>\n",
       "      <th>BETA</th>\n",
       "      <th>ALPHA</th>\n",
       "      <th>TAU1</th>\n",
       "      <th>TAU2</th>\n",
       "      <th>TAU3</th>\n",
       "      <th>NAT_EM</th>\n",
       "      <th>SARF_TO_ERF</th>\n",
       "    </tr>\n",
       "    <tr>\n",
       "      <th>GAS</th>\n",
       "      <th></th>\n",
       "      <th></th>\n",
       "      <th></th>\n",
       "      <th></th>\n",
       "      <th></th>\n",
       "      <th></th>\n",
       "      <th></th>\n",
       "      <th></th>\n",
       "      <th></th>\n",
       "    </tr>\n",
       "  </thead>\n",
       "  <tbody>\n",
       "    <tr>\n",
       "      <th>CO2</th>\n",
       "      <td>Pg_C</td>\n",
       "      <td>ppm</td>\n",
       "      <td>2.123</td>\n",
       "      <td>0.00000</td>\n",
       "      <td>150.00</td>\n",
       "      <td>0</td>\n",
       "      <td>0</td>\n",
       "      <td>0.0</td>\n",
       "      <td>1.000000</td>\n",
       "    </tr>\n",
       "    <tr>\n",
       "      <th>CH4</th>\n",
       "      <td>Tg</td>\n",
       "      <td>ppb</td>\n",
       "      <td>2.780</td>\n",
       "      <td>0.00000</td>\n",
       "      <td>9.60</td>\n",
       "      <td>120</td>\n",
       "      <td>160</td>\n",
       "      <td>275.0</td>\n",
       "      <td>0.877193</td>\n",
       "    </tr>\n",
       "    <tr>\n",
       "      <th>N2O</th>\n",
       "      <td>Tg_N</td>\n",
       "      <td>ppb</td>\n",
       "      <td>4.810</td>\n",
       "      <td>0.00000</td>\n",
       "      <td>121.00</td>\n",
       "      <td>0</td>\n",
       "      <td>0</td>\n",
       "      <td>9.5</td>\n",
       "      <td>1.000000</td>\n",
       "    </tr>\n",
       "    <tr>\n",
       "      <th>SO2</th>\n",
       "      <td>Tg_S</td>\n",
       "      <td>-</td>\n",
       "      <td>11.000</td>\n",
       "      <td>0.00000</td>\n",
       "      <td>0.02</td>\n",
       "      <td>0</td>\n",
       "      <td>0</td>\n",
       "      <td>0.0</td>\n",
       "      <td>1.000000</td>\n",
       "    </tr>\n",
       "    <tr>\n",
       "      <th>CFC-11</th>\n",
       "      <td>Gg</td>\n",
       "      <td>ppt</td>\n",
       "      <td>22.600</td>\n",
       "      <td>0.00026</td>\n",
       "      <td>45.00</td>\n",
       "      <td>0</td>\n",
       "      <td>0</td>\n",
       "      <td>0.0</td>\n",
       "      <td>1.000000</td>\n",
       "    </tr>\n",
       "  </tbody>\n",
       "</table>\n",
       "</div>"
      ],
      "text/plain": [
       "       EM_UNIT CONC_UNIT    BETA    ALPHA    TAU1  TAU2  TAU3  NAT_EM  \\\n",
       "GAS                                                                     \n",
       "CO2       Pg_C       ppm   2.123  0.00000  150.00     0     0     0.0   \n",
       "CH4         Tg       ppb   2.780  0.00000    9.60   120   160   275.0   \n",
       "N2O       Tg_N       ppb   4.810  0.00000  121.00     0     0     9.5   \n",
       "SO2       Tg_S         -  11.000  0.00000    0.02     0     0     0.0   \n",
       "CFC-11      Gg       ppt  22.600  0.00026   45.00     0     0     0.0   \n",
       "\n",
       "        SARF_TO_ERF  \n",
       "GAS                  \n",
       "CO2        1.000000  \n",
       "CH4        0.877193  \n",
       "N2O        1.000000  \n",
       "SO2        1.000000  \n",
       "CFC-11     1.000000  "
      ]
     },
     "execution_count": 8,
     "metadata": {},
     "output_type": "execute_result"
    }
   ],
   "source": [
    "# NBVAL_IGNORE_OUTPUT\n",
    "#Read gas parameters\n",
    "gaspam =read_components(test_data_dir + '/gases_v1RCMIP.txt')\n",
    "gaspam.head()"
   ]
  },
  {
   "cell_type": "markdown",
   "id": "db6e7dad",
   "metadata": {},
   "source": [
    "Read natural emissions"
   ]
  },
  {
   "cell_type": "code",
   "execution_count": 9,
   "id": "4d2ec612",
   "metadata": {},
   "outputs": [
    {
     "data": {
      "text/html": [
       "<div>\n",
       "<style scoped>\n",
       "    .dataframe tbody tr th:only-of-type {\n",
       "        vertical-align: middle;\n",
       "    }\n",
       "\n",
       "    .dataframe tbody tr th {\n",
       "        vertical-align: top;\n",
       "    }\n",
       "\n",
       "    .dataframe thead th {\n",
       "        text-align: right;\n",
       "    }\n",
       "</style>\n",
       "<table border=\"1\" class=\"dataframe\">\n",
       "  <thead>\n",
       "    <tr style=\"text-align: right;\">\n",
       "      <th></th>\n",
       "      <th>CH4</th>\n",
       "    </tr>\n",
       "    <tr>\n",
       "      <th>year</th>\n",
       "      <th></th>\n",
       "    </tr>\n",
       "  </thead>\n",
       "  <tbody>\n",
       "    <tr>\n",
       "      <th>1750</th>\n",
       "      <td>269.4273</td>\n",
       "    </tr>\n",
       "    <tr>\n",
       "      <th>1751</th>\n",
       "      <td>270.9068</td>\n",
       "    </tr>\n",
       "    <tr>\n",
       "      <th>1752</th>\n",
       "      <td>273.0183</td>\n",
       "    </tr>\n",
       "    <tr>\n",
       "      <th>1753</th>\n",
       "      <td>272.0470</td>\n",
       "    </tr>\n",
       "    <tr>\n",
       "      <th>1754</th>\n",
       "      <td>271.1915</td>\n",
       "    </tr>\n",
       "  </tbody>\n",
       "</table>\n",
       "</div>"
      ],
      "text/plain": [
       "           CH4\n",
       "year          \n",
       "1750  269.4273\n",
       "1751  270.9068\n",
       "1752  273.0183\n",
       "1753  272.0470\n",
       "1754  271.1915"
      ]
     },
     "execution_count": 9,
     "metadata": {},
     "output_type": "execute_result"
    }
   ],
   "source": [
    "# NBVAL_IGNORE_OUTPUT\n",
    "df_nat_ch4 =read_natural_emissions(test_data_dir + '/natemis_ch4.txt','CH4')\n",
    "df_nat_n2o =read_natural_emissions(test_data_dir + '/natemis_n2o.txt','N2O')\n",
    "df_nat_ch4.head()\n"
   ]
  },
  {
   "cell_type": "markdown",
   "id": "43e19f0b",
   "metadata": {},
   "source": [
    "Read forcing"
   ]
  },
  {
   "cell_type": "code",
   "execution_count": 10,
   "id": "b8f04aae",
   "metadata": {},
   "outputs": [
    {
     "data": {
      "text/html": [
       "<div>\n",
       "<style scoped>\n",
       "    .dataframe tbody tr th:only-of-type {\n",
       "        vertical-align: middle;\n",
       "    }\n",
       "\n",
       "    .dataframe tbody tr th {\n",
       "        vertical-align: top;\n",
       "    }\n",
       "\n",
       "    .dataframe thead th {\n",
       "        text-align: right;\n",
       "    }\n",
       "</style>\n",
       "<table border=\"1\" class=\"dataframe\">\n",
       "  <thead>\n",
       "    <tr style=\"text-align: right;\">\n",
       "      <th></th>\n",
       "      <th>CO2</th>\n",
       "      <th>CH4</th>\n",
       "      <th>N2O</th>\n",
       "      <th>CFC-11</th>\n",
       "      <th>CFC-12</th>\n",
       "      <th>CFC-113</th>\n",
       "      <th>CFC-114</th>\n",
       "      <th>CFC-115</th>\n",
       "      <th>CH3Br</th>\n",
       "      <th>CCl4</th>\n",
       "      <th>...</th>\n",
       "      <th>HFC143a</th>\n",
       "      <th>HFC227ea</th>\n",
       "      <th>HFC23</th>\n",
       "      <th>HFC245fa</th>\n",
       "      <th>HFC32</th>\n",
       "      <th>HFC4310mee</th>\n",
       "      <th>C2F6</th>\n",
       "      <th>C6F14</th>\n",
       "      <th>CF4</th>\n",
       "      <th>SF6</th>\n",
       "    </tr>\n",
       "    <tr>\n",
       "      <th>Component</th>\n",
       "      <th></th>\n",
       "      <th></th>\n",
       "      <th></th>\n",
       "      <th></th>\n",
       "      <th></th>\n",
       "      <th></th>\n",
       "      <th></th>\n",
       "      <th></th>\n",
       "      <th></th>\n",
       "      <th></th>\n",
       "      <th></th>\n",
       "      <th></th>\n",
       "      <th></th>\n",
       "      <th></th>\n",
       "      <th></th>\n",
       "      <th></th>\n",
       "      <th></th>\n",
       "      <th></th>\n",
       "      <th></th>\n",
       "      <th></th>\n",
       "      <th></th>\n",
       "    </tr>\n",
       "  </thead>\n",
       "  <tbody>\n",
       "    <tr>\n",
       "      <th>1700</th>\n",
       "      <td>276.746000</td>\n",
       "      <td>706.054021</td>\n",
       "      <td>272.212049</td>\n",
       "      <td>0.0</td>\n",
       "      <td>0.0</td>\n",
       "      <td>0.0</td>\n",
       "      <td>0.0</td>\n",
       "      <td>0.0</td>\n",
       "      <td>5.299998</td>\n",
       "      <td>0.025</td>\n",
       "      <td>...</td>\n",
       "      <td>0.0</td>\n",
       "      <td>0.0</td>\n",
       "      <td>0.0</td>\n",
       "      <td>0.0</td>\n",
       "      <td>0.0</td>\n",
       "      <td>0.0</td>\n",
       "      <td>0.0</td>\n",
       "      <td>0.0</td>\n",
       "      <td>34.049999</td>\n",
       "      <td>0.0</td>\n",
       "    </tr>\n",
       "    <tr>\n",
       "      <th>1701</th>\n",
       "      <td>276.749995</td>\n",
       "      <td>706.247004</td>\n",
       "      <td>272.243047</td>\n",
       "      <td>0.0</td>\n",
       "      <td>0.0</td>\n",
       "      <td>0.0</td>\n",
       "      <td>0.0</td>\n",
       "      <td>0.0</td>\n",
       "      <td>5.299998</td>\n",
       "      <td>0.025</td>\n",
       "      <td>...</td>\n",
       "      <td>0.0</td>\n",
       "      <td>0.0</td>\n",
       "      <td>0.0</td>\n",
       "      <td>0.0</td>\n",
       "      <td>0.0</td>\n",
       "      <td>0.0</td>\n",
       "      <td>0.0</td>\n",
       "      <td>0.0</td>\n",
       "      <td>34.049999</td>\n",
       "      <td>0.0</td>\n",
       "    </tr>\n",
       "    <tr>\n",
       "      <th>1702</th>\n",
       "      <td>276.757998</td>\n",
       "      <td>706.375031</td>\n",
       "      <td>272.266047</td>\n",
       "      <td>0.0</td>\n",
       "      <td>0.0</td>\n",
       "      <td>0.0</td>\n",
       "      <td>0.0</td>\n",
       "      <td>0.0</td>\n",
       "      <td>5.299998</td>\n",
       "      <td>0.025</td>\n",
       "      <td>...</td>\n",
       "      <td>0.0</td>\n",
       "      <td>0.0</td>\n",
       "      <td>0.0</td>\n",
       "      <td>0.0</td>\n",
       "      <td>0.0</td>\n",
       "      <td>0.0</td>\n",
       "      <td>0.0</td>\n",
       "      <td>0.0</td>\n",
       "      <td>34.049999</td>\n",
       "      <td>0.0</td>\n",
       "    </tr>\n",
       "    <tr>\n",
       "      <th>1703</th>\n",
       "      <td>276.757001</td>\n",
       "      <td>706.491002</td>\n",
       "      <td>272.298047</td>\n",
       "      <td>0.0</td>\n",
       "      <td>0.0</td>\n",
       "      <td>0.0</td>\n",
       "      <td>0.0</td>\n",
       "      <td>0.0</td>\n",
       "      <td>5.299998</td>\n",
       "      <td>0.025</td>\n",
       "      <td>...</td>\n",
       "      <td>0.0</td>\n",
       "      <td>0.0</td>\n",
       "      <td>0.0</td>\n",
       "      <td>0.0</td>\n",
       "      <td>0.0</td>\n",
       "      <td>0.0</td>\n",
       "      <td>0.0</td>\n",
       "      <td>0.0</td>\n",
       "      <td>34.049999</td>\n",
       "      <td>0.0</td>\n",
       "    </tr>\n",
       "    <tr>\n",
       "      <th>1704</th>\n",
       "      <td>276.755000</td>\n",
       "      <td>706.602046</td>\n",
       "      <td>272.331052</td>\n",
       "      <td>0.0</td>\n",
       "      <td>0.0</td>\n",
       "      <td>0.0</td>\n",
       "      <td>0.0</td>\n",
       "      <td>0.0</td>\n",
       "      <td>5.299998</td>\n",
       "      <td>0.025</td>\n",
       "      <td>...</td>\n",
       "      <td>0.0</td>\n",
       "      <td>0.0</td>\n",
       "      <td>0.0</td>\n",
       "      <td>0.0</td>\n",
       "      <td>0.0</td>\n",
       "      <td>0.0</td>\n",
       "      <td>0.0</td>\n",
       "      <td>0.0</td>\n",
       "      <td>34.049999</td>\n",
       "      <td>0.0</td>\n",
       "    </tr>\n",
       "  </tbody>\n",
       "</table>\n",
       "<p>5 rows × 30 columns</p>\n",
       "</div>"
      ],
      "text/plain": [
       "                  CO2         CH4         N2O  CFC-11  CFC-12  CFC-113  \\\n",
       "Component                                                                \n",
       "1700       276.746000  706.054021  272.212049     0.0     0.0      0.0   \n",
       "1701       276.749995  706.247004  272.243047     0.0     0.0      0.0   \n",
       "1702       276.757998  706.375031  272.266047     0.0     0.0      0.0   \n",
       "1703       276.757001  706.491002  272.298047     0.0     0.0      0.0   \n",
       "1704       276.755000  706.602046  272.331052     0.0     0.0      0.0   \n",
       "\n",
       "           CFC-114  CFC-115     CH3Br   CCl4  ...  HFC143a  HFC227ea  HFC23  \\\n",
       "Component                                     ...                             \n",
       "1700           0.0      0.0  5.299998  0.025  ...      0.0       0.0    0.0   \n",
       "1701           0.0      0.0  5.299998  0.025  ...      0.0       0.0    0.0   \n",
       "1702           0.0      0.0  5.299998  0.025  ...      0.0       0.0    0.0   \n",
       "1703           0.0      0.0  5.299998  0.025  ...      0.0       0.0    0.0   \n",
       "1704           0.0      0.0  5.299998  0.025  ...      0.0       0.0    0.0   \n",
       "\n",
       "           HFC245fa  HFC32  HFC4310mee  C2F6  C6F14        CF4  SF6  \n",
       "Component                                                            \n",
       "1700            0.0    0.0         0.0   0.0    0.0  34.049999  0.0  \n",
       "1701            0.0    0.0         0.0   0.0    0.0  34.049999  0.0  \n",
       "1702            0.0    0.0         0.0   0.0    0.0  34.049999  0.0  \n",
       "1703            0.0    0.0         0.0   0.0    0.0  34.049999  0.0  \n",
       "1704            0.0    0.0         0.0   0.0    0.0  34.049999  0.0  \n",
       "\n",
       "[5 rows x 30 columns]"
      ]
     },
     "execution_count": 10,
     "metadata": {},
     "output_type": "execute_result"
    }
   ],
   "source": [
    "df_ssp2_conc =read_inputfile(test_data_dir + '/ssp245_conc_RCMIP.txt')\n",
    "df_ssp2_conc.head()"
   ]
  },
  {
   "cell_type": "code",
   "execution_count": 11,
   "id": "6706e9df",
   "metadata": {},
   "outputs": [
    {
     "data": {
      "text/html": [
       "<div>\n",
       "<style scoped>\n",
       "    .dataframe tbody tr th:only-of-type {\n",
       "        vertical-align: middle;\n",
       "    }\n",
       "\n",
       "    .dataframe tbody tr th {\n",
       "        vertical-align: top;\n",
       "    }\n",
       "\n",
       "    .dataframe thead th {\n",
       "        text-align: right;\n",
       "    }\n",
       "</style>\n",
       "<table border=\"1\" class=\"dataframe\">\n",
       "  <thead>\n",
       "    <tr style=\"text-align: right;\">\n",
       "      <th></th>\n",
       "      <th>CO2_FF</th>\n",
       "      <th>CO2_AFOLU</th>\n",
       "      <th>CH4</th>\n",
       "      <th>N2O</th>\n",
       "      <th>SO2</th>\n",
       "      <th>CFC-11</th>\n",
       "      <th>CFC-12</th>\n",
       "      <th>CFC-113</th>\n",
       "      <th>CFC-114</th>\n",
       "      <th>CFC-115</th>\n",
       "      <th>...</th>\n",
       "      <th>CF4</th>\n",
       "      <th>SF6</th>\n",
       "      <th>NOx</th>\n",
       "      <th>CO</th>\n",
       "      <th>NMVOC</th>\n",
       "      <th>NH3</th>\n",
       "      <th>BMB_AEROS_BC</th>\n",
       "      <th>BMB_AEROS_OC</th>\n",
       "      <th>BC</th>\n",
       "      <th>OC</th>\n",
       "    </tr>\n",
       "    <tr>\n",
       "      <th>Component</th>\n",
       "      <th></th>\n",
       "      <th></th>\n",
       "      <th></th>\n",
       "      <th></th>\n",
       "      <th></th>\n",
       "      <th></th>\n",
       "      <th></th>\n",
       "      <th></th>\n",
       "      <th></th>\n",
       "      <th></th>\n",
       "      <th></th>\n",
       "      <th></th>\n",
       "      <th></th>\n",
       "      <th></th>\n",
       "      <th></th>\n",
       "      <th></th>\n",
       "      <th></th>\n",
       "      <th></th>\n",
       "      <th></th>\n",
       "      <th></th>\n",
       "      <th></th>\n",
       "    </tr>\n",
       "  </thead>\n",
       "  <tbody>\n",
       "    <tr>\n",
       "      <th>1750</th>\n",
       "      <td>0.002592</td>\n",
       "      <td>0.081127</td>\n",
       "      <td>19.019783</td>\n",
       "      <td>0.054710</td>\n",
       "      <td>1.222464</td>\n",
       "      <td>0.0</td>\n",
       "      <td>0.0</td>\n",
       "      <td>0.0</td>\n",
       "      <td>0.0</td>\n",
       "      <td>0.0</td>\n",
       "      <td>...</td>\n",
       "      <td>0.010071</td>\n",
       "      <td>0.0</td>\n",
       "      <td>3.871504</td>\n",
       "      <td>348.527359</td>\n",
       "      <td>60.021826</td>\n",
       "      <td>6.927690</td>\n",
       "      <td>1.353250</td>\n",
       "      <td>12.520269</td>\n",
       "      <td>0.744520</td>\n",
       "      <td>2.927399</td>\n",
       "    </tr>\n",
       "    <tr>\n",
       "      <th>1751</th>\n",
       "      <td>0.002593</td>\n",
       "      <td>0.082619</td>\n",
       "      <td>18.915109</td>\n",
       "      <td>0.055744</td>\n",
       "      <td>1.206598</td>\n",
       "      <td>0.0</td>\n",
       "      <td>0.0</td>\n",
       "      <td>0.0</td>\n",
       "      <td>0.0</td>\n",
       "      <td>0.0</td>\n",
       "      <td>...</td>\n",
       "      <td>0.010071</td>\n",
       "      <td>0.0</td>\n",
       "      <td>3.828060</td>\n",
       "      <td>343.926367</td>\n",
       "      <td>59.088126</td>\n",
       "      <td>6.860142</td>\n",
       "      <td>1.335274</td>\n",
       "      <td>12.279280</td>\n",
       "      <td>0.737652</td>\n",
       "      <td>2.909437</td>\n",
       "    </tr>\n",
       "    <tr>\n",
       "      <th>1752</th>\n",
       "      <td>0.002594</td>\n",
       "      <td>0.084139</td>\n",
       "      <td>18.889712</td>\n",
       "      <td>0.056797</td>\n",
       "      <td>1.200955</td>\n",
       "      <td>0.0</td>\n",
       "      <td>0.0</td>\n",
       "      <td>0.0</td>\n",
       "      <td>0.0</td>\n",
       "      <td>0.0</td>\n",
       "      <td>...</td>\n",
       "      <td>0.010071</td>\n",
       "      <td>0.0</td>\n",
       "      <td>3.828658</td>\n",
       "      <td>341.809034</td>\n",
       "      <td>58.631997</td>\n",
       "      <td>6.819482</td>\n",
       "      <td>1.326617</td>\n",
       "      <td>12.121816</td>\n",
       "      <td>0.737695</td>\n",
       "      <td>2.912659</td>\n",
       "    </tr>\n",
       "    <tr>\n",
       "      <th>1753</th>\n",
       "      <td>0.002594</td>\n",
       "      <td>0.085687</td>\n",
       "      <td>19.121377</td>\n",
       "      <td>0.057870</td>\n",
       "      <td>1.207757</td>\n",
       "      <td>0.0</td>\n",
       "      <td>0.0</td>\n",
       "      <td>0.0</td>\n",
       "      <td>0.0</td>\n",
       "      <td>0.0</td>\n",
       "      <td>...</td>\n",
       "      <td>0.010071</td>\n",
       "      <td>0.0</td>\n",
       "      <td>3.812105</td>\n",
       "      <td>343.675456</td>\n",
       "      <td>59.026349</td>\n",
       "      <td>6.881439</td>\n",
       "      <td>1.328560</td>\n",
       "      <td>12.249330</td>\n",
       "      <td>0.743391</td>\n",
       "      <td>2.933215</td>\n",
       "    </tr>\n",
       "    <tr>\n",
       "      <th>1754</th>\n",
       "      <td>0.002595</td>\n",
       "      <td>0.087263</td>\n",
       "      <td>19.509061</td>\n",
       "      <td>0.058963</td>\n",
       "      <td>1.233495</td>\n",
       "      <td>0.0</td>\n",
       "      <td>0.0</td>\n",
       "      <td>0.0</td>\n",
       "      <td>0.0</td>\n",
       "      <td>0.0</td>\n",
       "      <td>...</td>\n",
       "      <td>0.010071</td>\n",
       "      <td>0.0</td>\n",
       "      <td>3.841598</td>\n",
       "      <td>349.815625</td>\n",
       "      <td>60.269945</td>\n",
       "      <td>7.015189</td>\n",
       "      <td>1.346553</td>\n",
       "      <td>12.593635</td>\n",
       "      <td>0.752796</td>\n",
       "      <td>2.965138</td>\n",
       "    </tr>\n",
       "  </tbody>\n",
       "</table>\n",
       "<p>5 rows × 40 columns</p>\n",
       "</div>"
      ],
      "text/plain": [
       "             CO2_FF  CO2_AFOLU        CH4       N2O       SO2  CFC-11  CFC-12  \\\n",
       "Component                                                                       \n",
       "1750       0.002592   0.081127  19.019783  0.054710  1.222464     0.0     0.0   \n",
       "1751       0.002593   0.082619  18.915109  0.055744  1.206598     0.0     0.0   \n",
       "1752       0.002594   0.084139  18.889712  0.056797  1.200955     0.0     0.0   \n",
       "1753       0.002594   0.085687  19.121377  0.057870  1.207757     0.0     0.0   \n",
       "1754       0.002595   0.087263  19.509061  0.058963  1.233495     0.0     0.0   \n",
       "\n",
       "           CFC-113  CFC-114  CFC-115  ...       CF4  SF6       NOx  \\\n",
       "Component                             ...                            \n",
       "1750           0.0      0.0      0.0  ...  0.010071  0.0  3.871504   \n",
       "1751           0.0      0.0      0.0  ...  0.010071  0.0  3.828060   \n",
       "1752           0.0      0.0      0.0  ...  0.010071  0.0  3.828658   \n",
       "1753           0.0      0.0      0.0  ...  0.010071  0.0  3.812105   \n",
       "1754           0.0      0.0      0.0  ...  0.010071  0.0  3.841598   \n",
       "\n",
       "                   CO      NMVOC       NH3  BMB_AEROS_BC  BMB_AEROS_OC  \\\n",
       "Component                                                                \n",
       "1750       348.527359  60.021826  6.927690      1.353250     12.520269   \n",
       "1751       343.926367  59.088126  6.860142      1.335274     12.279280   \n",
       "1752       341.809034  58.631997  6.819482      1.326617     12.121816   \n",
       "1753       343.675456  59.026349  6.881439      1.328560     12.249330   \n",
       "1754       349.815625  60.269945  7.015189      1.346553     12.593635   \n",
       "\n",
       "                 BC        OC  \n",
       "Component                      \n",
       "1750       0.744520  2.927399  \n",
       "1751       0.737652  2.909437  \n",
       "1752       0.737695  2.912659  \n",
       "1753       0.743391  2.933215  \n",
       "1754       0.752796  2.965138  \n",
       "\n",
       "[5 rows x 40 columns]"
      ]
     },
     "execution_count": 11,
     "metadata": {},
     "output_type": "execute_result"
    }
   ],
   "source": [
    "emi_input =read_inputfile(test_data_dir + '/ssp245_em_RCMIP.txt')\n",
    "emi_input.rename(columns={\"CO2\": \"CO2_FF\", \"CO2.1\": \"CO2_AFOLU\"}, inplace=True)\n",
    "emi_input.head()"
   ]
  },
  {
   "cell_type": "markdown",
   "id": "790d6bc5",
   "metadata": {},
   "source": [
    "# Set up model run with defined input variables"
   ]
  },
  {
   "cell_type": "code",
   "execution_count": 12,
   "id": "3b34e365",
   "metadata": {},
   "outputs": [],
   "source": [
    "scendata={\n",
    "            \"gaspam_data\": gaspam,\n",
    "            \"emstart\": 1750,  \n",
    "            \"conc_run\":False,\n",
    "            \"nystart\": 1750,\n",
    "            \"nyend\": 2100,\n",
    "            \"concentrations_data\": df_ssp2_conc,\n",
    "            \"emissions_data\": emi_input,\n",
    "            \"nat_ch4_data\": df_nat_ch4,\n",
    "            \"nat_n2o_data\": df_nat_n2o,\n",
    "            \"idtm\":24,\n",
    "            \"udir\": test_data_dir,\n",
    "            \"scenname\": \"ssp245\",\n",
    "        }"
   ]
  },
  {
   "cell_type": "code",
   "execution_count": 13,
   "id": "6ab13543",
   "metadata": {},
   "outputs": [],
   "source": [
    "    calibdata = pd.DataFrame(\n",
    "        data={\n",
    "            \"Variable Name\": [\n",
    "                \"Heat Content|Ocean\",\n",
    "                \"Surface Air Ocean Blended Temperature Change\",\n",
    "            ],\n",
    "            \"Yearstart_norm\": [1971, 1961],\n",
    "            \"Yearend_norm\": [1971, 1990],\n",
    "            \"Yearstart_change\": [2018, 2000],\n",
    "            \"Yearend_change\": [2018, 2019],\n",
    "            \"Central Value\": [320.69251537323, 0.5372],\n",
    "            \"sigma\": [17.020342912051203, 0.039028311931729676],\n",
    "        })"
   ]
  },
  {
   "cell_type": "code",
   "execution_count": 14,
   "id": "ed07a98e",
   "metadata": {},
   "outputs": [],
   "source": [
    "    testconfig = _ConfigDistro(\n",
    "        distro_array=np.array([[0, 1], [0, 1], [0, 1], [4, 6]]),\n",
    "        setvalues={\n",
    "            \"qbmb\": 0,\n",
    "            \"qo3\": 0.5,\n",
    "            \"threstemp\": 7.0,\n",
    "            \"lm\": 40,\n",
    "            \"ldtime\": 12,\n",
    "        },\n",
    "    )"
   ]
  },
  {
   "cell_type": "code",
   "execution_count": 15,
   "id": "9bbbacc3",
   "metadata": {},
   "outputs": [
    {
     "data": {
      "text/plain": [
       "['rlamdo',\n",
       " 'akapa',\n",
       " 'cpi',\n",
       " 'W',\n",
       " 'beto',\n",
       " 'lambda',\n",
       " 'mixed',\n",
       " 'qdirso2',\n",
       " 'qindso2',\n",
       " 'qbc',\n",
       " 'qoc',\n",
       " 'beta_f',\n",
       " 'mixed_carbon',\n",
       " 'qh2o_ch4']"
      ]
     },
     "execution_count": 15,
     "metadata": {},
     "output_type": "execute_result"
    }
   ],
   "source": [
    "testconfig.ordering"
   ]
  },
  {
   "cell_type": "code",
   "execution_count": null,
   "id": "f2c0bf35",
   "metadata": {},
   "outputs": [],
   "source": []
  },
  {
   "cell_type": "code",
   "execution_count": 16,
   "id": "ba31cfc8",
   "metadata": {},
   "outputs": [],
   "source": [
    "# NBVAL_IGNORE_OUTPUT\n",
    "scen = 'test'\n",
    "cscm_dir=CICEROSCM({\n",
    "            \"gaspam_data\": gaspam,\n",
    "            \"emstart\": 1750,  \n",
    "            \"conc_run\":False,\n",
    "            \"nystart\": 1750,\n",
    "            \"nyend\": 2100,\n",
    "            \"concentrations_data\": df_ssp2_conc,\n",
    "            \"emissions_data\": emi_input,\n",
    "            \"nat_ch4_data\": df_nat_ch4,\n",
    "            \"nat_n2o_data\": df_nat_n2o,\n",
    "            \"idtm\":24,\n",
    "        })"
   ]
  },
  {
   "cell_type": "code",
   "execution_count": 20,
   "id": "2758a129",
   "metadata": {},
   "outputs": [
    {
     "name": "stdout",
     "output_type": "stream",
     "text": [
      "[ 0.          0.          0.          4.          0.          0.53908356\n",
      " 25.         -0.55       -1.5         0.1        -0.1         0.11\n",
      " 25.          0.08      ]\n",
      "[ 1.00000000e+00  1.00000000e+00  1.00000000e+00  6.00000000e+00\n",
      "  7.00000000e+00  1.34770889e+00  1.25000000e+02 -2.00000000e-01\n",
      " -5.00000000e-01  2.00000000e-01 -6.00000000e-02  4.65000000e-01\n",
      "  1.25000000e+02  1.00000000e-01]\n"
     ]
    }
   ],
   "source": [
    "distrorun1 = DistributionRun(testconfig, numvalues=50000)\n",
    "output_vars = [\"Heat Uptake\", \"Surface Air Temperature Change\"]\n"
   ]
  },
  {
   "cell_type": "code",
   "execution_count": 21,
   "id": "ada9dfa1",
   "metadata": {},
   "outputs": [],
   "source": [
    "def get_results(cfg):\n",
    "    try:\n",
    "        cscm_dir._run({\"results_as_dict\": True},pamset_udm=cfg['pamset_udm'],pamset_emiconc=cfg['pamset_emiconc'])\n",
    "        res=cscm_dir.results\n",
    "\n",
    "    except:\n",
    "        res=None\n",
    "    return [cfg,res]"
   ]
  },
  {
   "cell_type": "code",
   "execution_count": 22,
   "id": "f4d62712",
   "metadata": {},
   "outputs": [],
   "source": [
    "def run_parallel(cfgs,nworkers=4):\n",
    "    results=len(cfgs)*[None]\n",
    "    with ProcessPoolExecutor(nworkers) as exe:\n",
    "            # execute tasks concurrently and process results in order\n",
    "            pres=list(tqdm(exe.map(get_results, cfgs)))\n",
    "            for result in pres:\n",
    "                # get the corresponding index of the config\n",
    "                ind=int(result[0]['Index'])\n",
    "                # put it in the right element of the results vector\n",
    "                results[ind]=result[1]\n",
    "    return results"
   ]
  },
  {
   "cell_type": "code",
   "execution_count": 23,
   "id": "96c33f09",
   "metadata": {},
   "outputs": [
    {
     "name": "stderr",
     "output_type": "stream",
     "text": [
      "612it [00:16, 21.67it/s] /uio/kant/div-cicero-u1/bensan/ciceroscm-1/src/ciceroscm/upwelling_diffusion_model.py:427: RuntimeWarning: overflow encountered in double_scalars\n",
      "  self.varrying[\"dtrm1n\"] * self.tn[0]\n",
      "/uio/kant/div-cicero-u1/bensan/ciceroscm-1/src/ciceroscm/upwelling_diffusion_model.py:433: RuntimeWarning: overflow encountered in double_scalars\n",
      "  self.varrying[\"dtrm1s\"] * self.ts[0]\n",
      "/uio/kant/div-cicero-u1/bensan/ciceroscm-1/src/ciceroscm/upwelling_diffusion_model.py:451: RuntimeWarning: overflow encountered in double_scalars\n",
      "  + self.varrying[\"dtmnl2\"] * self.tn[0]\n",
      "/uio/kant/div-cicero-u1/bensan/ciceroscm-1/src/ciceroscm/upwelling_diffusion_model.py:456: RuntimeWarning: overflow encountered in double_scalars\n",
      "  + self.varrying[\"dtmsl2\"] * self.ts[0]\n",
      "9341it [04:02, 39.02it/s]/uio/kant/div-cicero-u1/bensan/ciceroscm-1/src/ciceroscm/upwelling_diffusion_model.py:427: RuntimeWarning: overflow encountered in double_scalars\n",
      "  self.varrying[\"dtrm1n\"] * self.tn[0]\n",
      "/uio/kant/div-cicero-u1/bensan/ciceroscm-1/src/ciceroscm/upwelling_diffusion_model.py:433: RuntimeWarning: overflow encountered in double_scalars\n",
      "  self.varrying[\"dtrm1s\"] * self.ts[0]\n",
      "/uio/kant/div-cicero-u1/bensan/ciceroscm-1/src/ciceroscm/upwelling_diffusion_model.py:451: RuntimeWarning: overflow encountered in double_scalars\n",
      "  + self.varrying[\"dtmnl2\"] * self.tn[0]\n",
      "/uio/kant/div-cicero-u1/bensan/ciceroscm-1/src/ciceroscm/upwelling_diffusion_model.py:456: RuntimeWarning: overflow encountered in double_scalars\n",
      "  + self.varrying[\"dtmsl2\"] * self.ts[0]\n",
      "10417it [04:29, 25.25it/s]/uio/kant/div-cicero-u1/bensan/ciceroscm-1/src/ciceroscm/upwelling_diffusion_model.py:486: RuntimeWarning: invalid value encountered in double_scalars\n",
      "  + self.pamset[\"ebbeta\"]\n",
      "/uio/kant/div-cicero-u1/bensan/ciceroscm-1/src/ciceroscm/upwelling_diffusion_model.py:496: RuntimeWarning: invalid value encountered in double_scalars\n",
      "  + self.pamset[\"ebbeta\"]\n",
      "/uio/kant/div-cicero-u1/bensan/ciceroscm-1/src/ciceroscm/upwelling_diffusion_model.py:232: RuntimeWarning: invalid value encountered in subtract\n",
      "  b[1 : lm - 1] = 1.0 - a[: lm - 2] - c[2:]\n",
      "/uio/kant/div-cicero-u1/bensan/ciceroscm-1/src/ciceroscm/upwelling_diffusion_model.py:441: RuntimeWarning: invalid value encountered in subtract\n",
      "  self.ts[1 : lm - 1] - self.tn[1 : lm - 1]\n",
      "/uio/kant/div-cicero-u1/bensan/ciceroscm-1/src/ciceroscm/upwelling_diffusion_model.py:446: RuntimeWarning: invalid value encountered in subtract\n",
      "  self.tn[1 : lm - 1] - self.ts[1 : lm - 1]\n",
      "40286it [17:19, 37.52it/s]/uio/kant/div-cicero-u1/bensan/ciceroscm-1/src/ciceroscm/upwelling_diffusion_model.py:427: RuntimeWarning: overflow encountered in double_scalars\n",
      "  self.varrying[\"dtrm1n\"] * self.tn[0]\n",
      "/uio/kant/div-cicero-u1/bensan/ciceroscm-1/src/ciceroscm/upwelling_diffusion_model.py:451: RuntimeWarning: overflow encountered in double_scalars\n",
      "  + self.varrying[\"dtmnl2\"] * self.tn[0]\n",
      "/uio/kant/div-cicero-u1/bensan/ciceroscm-1/src/ciceroscm/upwelling_diffusion_model.py:433: RuntimeWarning: overflow encountered in double_scalars\n",
      "  self.varrying[\"dtrm1s\"] * self.ts[0]\n",
      "40298it [17:19, 45.52it/s]/uio/kant/div-cicero-u1/bensan/ciceroscm-1/src/ciceroscm/upwelling_diffusion_model.py:456: RuntimeWarning: overflow encountered in double_scalars\n",
      "  + self.varrying[\"dtmsl2\"] * self.ts[0]\n",
      "42029it [18:04, 23.14it/s]/uio/kant/div-cicero-u1/bensan/ciceroscm-1/src/ciceroscm/upwelling_diffusion_model.py:427: RuntimeWarning: overflow encountered in double_scalars\n",
      "  self.varrying[\"dtrm1n\"] * self.tn[0]\n",
      "/uio/kant/div-cicero-u1/bensan/ciceroscm-1/src/ciceroscm/upwelling_diffusion_model.py:433: RuntimeWarning: overflow encountered in double_scalars\n",
      "  self.varrying[\"dtrm1s\"] * self.ts[0]\n",
      "/uio/kant/div-cicero-u1/bensan/ciceroscm-1/src/ciceroscm/upwelling_diffusion_model.py:451: RuntimeWarning: overflow encountered in double_scalars\n",
      "  + self.varrying[\"dtmnl2\"] * self.tn[0]\n",
      "/uio/kant/div-cicero-u1/bensan/ciceroscm-1/src/ciceroscm/upwelling_diffusion_model.py:456: RuntimeWarning: overflow encountered in double_scalars\n",
      "  + self.varrying[\"dtmsl2\"] * self.ts[0]\n",
      "43090it [18:31, 35.30it/s]/uio/kant/div-cicero-u1/bensan/ciceroscm-1/src/ciceroscm/upwelling_diffusion_model.py:427: RuntimeWarning: overflow encountered in double_scalars\n",
      "  self.varrying[\"dtrm1n\"] * self.tn[0]\n",
      "/uio/kant/div-cicero-u1/bensan/ciceroscm-1/src/ciceroscm/upwelling_diffusion_model.py:433: RuntimeWarning: overflow encountered in double_scalars\n",
      "  self.varrying[\"dtrm1s\"] * self.ts[0]\n",
      "/uio/kant/div-cicero-u1/bensan/ciceroscm-1/src/ciceroscm/upwelling_diffusion_model.py:451: RuntimeWarning: overflow encountered in double_scalars\n",
      "  + self.varrying[\"dtmnl2\"] * self.tn[0]\n",
      "/uio/kant/div-cicero-u1/bensan/ciceroscm-1/src/ciceroscm/upwelling_diffusion_model.py:456: RuntimeWarning: overflow encountered in double_scalars\n",
      "  + self.varrying[\"dtmsl2\"] * self.ts[0]\n",
      "47957it [20:39, 52.38it/s]/uio/kant/div-cicero-u1/bensan/ciceroscm-1/src/ciceroscm/upwelling_diffusion_model.py:427: RuntimeWarning: overflow encountered in double_scalars\n",
      "  self.varrying[\"dtrm1n\"] * self.tn[0]\n",
      "/uio/kant/div-cicero-u1/bensan/ciceroscm-1/src/ciceroscm/upwelling_diffusion_model.py:433: RuntimeWarning: overflow encountered in double_scalars\n",
      "  self.varrying[\"dtrm1s\"] * self.ts[0]\n",
      "/uio/kant/div-cicero-u1/bensan/ciceroscm-1/src/ciceroscm/upwelling_diffusion_model.py:451: RuntimeWarning: overflow encountered in double_scalars\n",
      "  + self.varrying[\"dtmnl2\"] * self.tn[0]\n",
      "/uio/kant/div-cicero-u1/bensan/ciceroscm-1/src/ciceroscm/upwelling_diffusion_model.py:456: RuntimeWarning: overflow encountered in double_scalars\n",
      "  + self.varrying[\"dtmsl2\"] * self.ts[0]\n",
      "50000it [21:29, 38.77it/s]\n"
     ]
    }
   ],
   "source": [
    "results=run_parallel(distrorun1.cfgs,nworkers=200)"
   ]
  },
  {
   "cell_type": "code",
   "execution_count": 24,
   "id": "4622cad5",
   "metadata": {},
   "outputs": [],
   "source": [
    "flds=['dT_glob','OHCTOT','concentrations-CO2','RIB_glob']"
   ]
  },
  {
   "cell_type": "code",
   "execution_count": 26,
   "id": "19e219c6",
   "metadata": {},
   "outputs": [],
   "source": [
    "isgd=np.where([r!=None for r in results])[0].astype(int)"
   ]
  },
  {
   "cell_type": "code",
   "execution_count": 27,
   "id": "1dc1cc6d",
   "metadata": {},
   "outputs": [],
   "source": [
    "fresults = [results[i] for i in isgd]\n",
    "fcfgs=[distrorun1.cfgs[i] for i in isgd]"
   ]
  },
  {
   "cell_type": "code",
   "execution_count": 28,
   "id": "60e34216",
   "metadata": {},
   "outputs": [],
   "source": [
    "def to_df(rs):\n",
    "\n",
    "    out=pd.concat([pd.DataFrame(v).reset_index(drop=True) for k, v in rs.items()], keys = rs.keys(),axis=1) \n",
    "    out.index=rs['forcing'].index\n",
    "    return out"
   ]
  },
  {
   "cell_type": "code",
   "execution_count": 29,
   "id": "84c1b1f2",
   "metadata": {},
   "outputs": [],
   "source": [
    "def make_ensdf(results,flds):\n",
    "    resdf=[]\n",
    "    for i,res in enumerate(results):\n",
    "        df=to_df(res)\n",
    "        test_list=df.columns.map('{0[0]}-{0[1]}'.format).tolist()\n",
    "        df.columns=[sub.replace('-0', '') for sub in test_list]\n",
    "        resdf.append(df[flds].unstack())\n",
    "    ensdf=pd.concat(resdf,axis=1)\n",
    "    return ensdf"
   ]
  },
  {
   "cell_type": "code",
   "execution_count": 30,
   "id": "95f715b9",
   "metadata": {},
   "outputs": [],
   "source": [
    "df=make_ensdf(fresults,flds)"
   ]
  },
  {
   "cell_type": "code",
   "execution_count": 32,
   "id": "265973f9",
   "metadata": {},
   "outputs": [],
   "source": [
    "issane=np.where(df.max()<1e8)[0]"
   ]
  },
  {
   "cell_type": "code",
   "execution_count": 34,
   "id": "43f9d675",
   "metadata": {},
   "outputs": [
    {
     "data": {
      "text/html": [
       "<div>\n",
       "<style scoped>\n",
       "    .dataframe tbody tr th:only-of-type {\n",
       "        vertical-align: middle;\n",
       "    }\n",
       "\n",
       "    .dataframe tbody tr th {\n",
       "        vertical-align: top;\n",
       "    }\n",
       "\n",
       "    .dataframe thead th {\n",
       "        text-align: right;\n",
       "    }\n",
       "</style>\n",
       "<table border=\"1\" class=\"dataframe\">\n",
       "  <thead>\n",
       "    <tr style=\"text-align: right;\">\n",
       "      <th></th>\n",
       "      <th></th>\n",
       "      <th>0</th>\n",
       "      <th>1</th>\n",
       "      <th>2</th>\n",
       "      <th>3</th>\n",
       "      <th>4</th>\n",
       "      <th>5</th>\n",
       "      <th>6</th>\n",
       "      <th>7</th>\n",
       "      <th>8</th>\n",
       "      <th>9</th>\n",
       "      <th>...</th>\n",
       "      <th>49983</th>\n",
       "      <th>49984</th>\n",
       "      <th>49985</th>\n",
       "      <th>49986</th>\n",
       "      <th>49987</th>\n",
       "      <th>49988</th>\n",
       "      <th>49989</th>\n",
       "      <th>49990</th>\n",
       "      <th>49991</th>\n",
       "      <th>49992</th>\n",
       "    </tr>\n",
       "  </thead>\n",
       "  <tbody>\n",
       "    <tr>\n",
       "      <th rowspan=\"5\" valign=\"top\">dT_glob</th>\n",
       "      <th>1750</th>\n",
       "      <td>0.000000</td>\n",
       "      <td>0.000000</td>\n",
       "      <td>0.000000</td>\n",
       "      <td>0.000000</td>\n",
       "      <td>0.000000</td>\n",
       "      <td>0.000000</td>\n",
       "      <td>0.000000</td>\n",
       "      <td>0.000000</td>\n",
       "      <td>0.000000</td>\n",
       "      <td>0.000000</td>\n",
       "      <td>...</td>\n",
       "      <td>0.000000</td>\n",
       "      <td>0.000000</td>\n",
       "      <td>0.000000</td>\n",
       "      <td>0.000000</td>\n",
       "      <td>0.000000</td>\n",
       "      <td>0.000000</td>\n",
       "      <td>0.000000</td>\n",
       "      <td>0.000000</td>\n",
       "      <td>0.000000</td>\n",
       "      <td>0.000000</td>\n",
       "    </tr>\n",
       "    <tr>\n",
       "      <th>1751</th>\n",
       "      <td>0.000149</td>\n",
       "      <td>0.000216</td>\n",
       "      <td>0.000121</td>\n",
       "      <td>0.000137</td>\n",
       "      <td>0.000180</td>\n",
       "      <td>0.000214</td>\n",
       "      <td>0.000182</td>\n",
       "      <td>0.000127</td>\n",
       "      <td>0.000166</td>\n",
       "      <td>0.000186</td>\n",
       "      <td>...</td>\n",
       "      <td>0.000105</td>\n",
       "      <td>0.000175</td>\n",
       "      <td>0.000157</td>\n",
       "      <td>0.000156</td>\n",
       "      <td>0.000156</td>\n",
       "      <td>0.000143</td>\n",
       "      <td>0.000200</td>\n",
       "      <td>0.000183</td>\n",
       "      <td>0.000211</td>\n",
       "      <td>0.000134</td>\n",
       "    </tr>\n",
       "    <tr>\n",
       "      <th>1752</th>\n",
       "      <td>0.000522</td>\n",
       "      <td>0.000784</td>\n",
       "      <td>0.000433</td>\n",
       "      <td>0.000492</td>\n",
       "      <td>0.000647</td>\n",
       "      <td>0.000771</td>\n",
       "      <td>0.000657</td>\n",
       "      <td>0.000465</td>\n",
       "      <td>0.000617</td>\n",
       "      <td>0.000679</td>\n",
       "      <td>...</td>\n",
       "      <td>0.000392</td>\n",
       "      <td>0.000625</td>\n",
       "      <td>0.000536</td>\n",
       "      <td>0.000546</td>\n",
       "      <td>0.000589</td>\n",
       "      <td>0.000497</td>\n",
       "      <td>0.000723</td>\n",
       "      <td>0.000629</td>\n",
       "      <td>0.000709</td>\n",
       "      <td>0.000475</td>\n",
       "    </tr>\n",
       "    <tr>\n",
       "      <th>1753</th>\n",
       "      <td>0.000940</td>\n",
       "      <td>0.001466</td>\n",
       "      <td>0.000809</td>\n",
       "      <td>0.000910</td>\n",
       "      <td>0.001198</td>\n",
       "      <td>0.001437</td>\n",
       "      <td>0.001218</td>\n",
       "      <td>0.000877</td>\n",
       "      <td>0.001183</td>\n",
       "      <td>0.001282</td>\n",
       "      <td>...</td>\n",
       "      <td>0.000743</td>\n",
       "      <td>0.001153</td>\n",
       "      <td>0.000945</td>\n",
       "      <td>0.000992</td>\n",
       "      <td>0.001131</td>\n",
       "      <td>0.000896</td>\n",
       "      <td>0.001362</td>\n",
       "      <td>0.001124</td>\n",
       "      <td>0.001233</td>\n",
       "      <td>0.000864</td>\n",
       "    </tr>\n",
       "    <tr>\n",
       "      <th>1754</th>\n",
       "      <td>0.001322</td>\n",
       "      <td>0.002126</td>\n",
       "      <td>0.001190</td>\n",
       "      <td>0.001322</td>\n",
       "      <td>0.001732</td>\n",
       "      <td>0.002112</td>\n",
       "      <td>0.001766</td>\n",
       "      <td>0.001282</td>\n",
       "      <td>0.001754</td>\n",
       "      <td>0.001886</td>\n",
       "      <td>...</td>\n",
       "      <td>0.001102</td>\n",
       "      <td>0.001661</td>\n",
       "      <td>0.001309</td>\n",
       "      <td>0.001414</td>\n",
       "      <td>0.001702</td>\n",
       "      <td>0.001268</td>\n",
       "      <td>0.002003</td>\n",
       "      <td>0.001571</td>\n",
       "      <td>0.001682</td>\n",
       "      <td>0.001239</td>\n",
       "    </tr>\n",
       "    <tr>\n",
       "      <th>...</th>\n",
       "      <th>...</th>\n",
       "      <td>...</td>\n",
       "      <td>...</td>\n",
       "      <td>...</td>\n",
       "      <td>...</td>\n",
       "      <td>...</td>\n",
       "      <td>...</td>\n",
       "      <td>...</td>\n",
       "      <td>...</td>\n",
       "      <td>...</td>\n",
       "      <td>...</td>\n",
       "      <td>...</td>\n",
       "      <td>...</td>\n",
       "      <td>...</td>\n",
       "      <td>...</td>\n",
       "      <td>...</td>\n",
       "      <td>...</td>\n",
       "      <td>...</td>\n",
       "      <td>...</td>\n",
       "      <td>...</td>\n",
       "      <td>...</td>\n",
       "      <td>...</td>\n",
       "    </tr>\n",
       "    <tr>\n",
       "      <th rowspan=\"5\" valign=\"top\">RIB_glob</th>\n",
       "      <th>2096</th>\n",
       "      <td>2.318666</td>\n",
       "      <td>2.625350</td>\n",
       "      <td>-2.573489</td>\n",
       "      <td>1.907810</td>\n",
       "      <td>2.739221</td>\n",
       "      <td>1.716201</td>\n",
       "      <td>2.774133</td>\n",
       "      <td>2.167723</td>\n",
       "      <td>1.994252</td>\n",
       "      <td>1.735891</td>\n",
       "      <td>...</td>\n",
       "      <td>2.676529</td>\n",
       "      <td>2.132872</td>\n",
       "      <td>3.366888</td>\n",
       "      <td>2.725714</td>\n",
       "      <td>2.536649</td>\n",
       "      <td>1.995282</td>\n",
       "      <td>1.393863</td>\n",
       "      <td>2.733807</td>\n",
       "      <td>2.295511</td>\n",
       "      <td>3.342750</td>\n",
       "    </tr>\n",
       "    <tr>\n",
       "      <th>2097</th>\n",
       "      <td>2.310374</td>\n",
       "      <td>2.618286</td>\n",
       "      <td>-2.606564</td>\n",
       "      <td>1.895557</td>\n",
       "      <td>2.730707</td>\n",
       "      <td>1.702385</td>\n",
       "      <td>2.766767</td>\n",
       "      <td>2.160511</td>\n",
       "      <td>1.987791</td>\n",
       "      <td>1.727476</td>\n",
       "      <td>...</td>\n",
       "      <td>2.667821</td>\n",
       "      <td>2.122885</td>\n",
       "      <td>3.362316</td>\n",
       "      <td>2.717553</td>\n",
       "      <td>2.526345</td>\n",
       "      <td>1.984530</td>\n",
       "      <td>1.379471</td>\n",
       "      <td>2.724897</td>\n",
       "      <td>2.287334</td>\n",
       "      <td>3.338468</td>\n",
       "    </tr>\n",
       "    <tr>\n",
       "      <th>2098</th>\n",
       "      <td>2.301911</td>\n",
       "      <td>2.611035</td>\n",
       "      <td>-2.638890</td>\n",
       "      <td>1.883191</td>\n",
       "      <td>2.721980</td>\n",
       "      <td>1.688481</td>\n",
       "      <td>2.759187</td>\n",
       "      <td>2.153175</td>\n",
       "      <td>1.981234</td>\n",
       "      <td>1.719005</td>\n",
       "      <td>...</td>\n",
       "      <td>2.658879</td>\n",
       "      <td>2.112767</td>\n",
       "      <td>3.357431</td>\n",
       "      <td>2.709197</td>\n",
       "      <td>2.515855</td>\n",
       "      <td>1.973646</td>\n",
       "      <td>1.365075</td>\n",
       "      <td>2.715761</td>\n",
       "      <td>2.278985</td>\n",
       "      <td>3.333897</td>\n",
       "    </tr>\n",
       "    <tr>\n",
       "      <th>2099</th>\n",
       "      <td>2.293261</td>\n",
       "      <td>2.603584</td>\n",
       "      <td>-2.670479</td>\n",
       "      <td>1.870698</td>\n",
       "      <td>2.713024</td>\n",
       "      <td>1.674473</td>\n",
       "      <td>2.751380</td>\n",
       "      <td>2.145700</td>\n",
       "      <td>1.974559</td>\n",
       "      <td>1.710458</td>\n",
       "      <td>...</td>\n",
       "      <td>2.649693</td>\n",
       "      <td>2.102499</td>\n",
       "      <td>3.352222</td>\n",
       "      <td>2.700633</td>\n",
       "      <td>2.505164</td>\n",
       "      <td>1.962614</td>\n",
       "      <td>1.350655</td>\n",
       "      <td>2.706383</td>\n",
       "      <td>2.270448</td>\n",
       "      <td>3.329023</td>\n",
       "    </tr>\n",
       "    <tr>\n",
       "      <th>2100</th>\n",
       "      <td>2.284420</td>\n",
       "      <td>2.595925</td>\n",
       "      <td>-2.701335</td>\n",
       "      <td>1.858070</td>\n",
       "      <td>2.703835</td>\n",
       "      <td>1.660356</td>\n",
       "      <td>2.743340</td>\n",
       "      <td>2.138078</td>\n",
       "      <td>1.967754</td>\n",
       "      <td>1.701823</td>\n",
       "      <td>...</td>\n",
       "      <td>2.640257</td>\n",
       "      <td>2.092075</td>\n",
       "      <td>3.346687</td>\n",
       "      <td>2.691857</td>\n",
       "      <td>2.494268</td>\n",
       "      <td>1.951429</td>\n",
       "      <td>1.336200</td>\n",
       "      <td>2.696760</td>\n",
       "      <td>2.261719</td>\n",
       "      <td>3.323845</td>\n",
       "    </tr>\n",
       "  </tbody>\n",
       "</table>\n",
       "<p>1404 rows × 49993 columns</p>\n",
       "</div>"
      ],
      "text/plain": [
       "                  0         1         2         3         4         5      \\\n",
       "dT_glob  1750  0.000000  0.000000  0.000000  0.000000  0.000000  0.000000   \n",
       "         1751  0.000149  0.000216  0.000121  0.000137  0.000180  0.000214   \n",
       "         1752  0.000522  0.000784  0.000433  0.000492  0.000647  0.000771   \n",
       "         1753  0.000940  0.001466  0.000809  0.000910  0.001198  0.001437   \n",
       "         1754  0.001322  0.002126  0.001190  0.001322  0.001732  0.002112   \n",
       "...                 ...       ...       ...       ...       ...       ...   \n",
       "RIB_glob 2096  2.318666  2.625350 -2.573489  1.907810  2.739221  1.716201   \n",
       "         2097  2.310374  2.618286 -2.606564  1.895557  2.730707  1.702385   \n",
       "         2098  2.301911  2.611035 -2.638890  1.883191  2.721980  1.688481   \n",
       "         2099  2.293261  2.603584 -2.670479  1.870698  2.713024  1.674473   \n",
       "         2100  2.284420  2.595925 -2.701335  1.858070  2.703835  1.660356   \n",
       "\n",
       "                  6         7         8         9      ...     49983  \\\n",
       "dT_glob  1750  0.000000  0.000000  0.000000  0.000000  ...  0.000000   \n",
       "         1751  0.000182  0.000127  0.000166  0.000186  ...  0.000105   \n",
       "         1752  0.000657  0.000465  0.000617  0.000679  ...  0.000392   \n",
       "         1753  0.001218  0.000877  0.001183  0.001282  ...  0.000743   \n",
       "         1754  0.001766  0.001282  0.001754  0.001886  ...  0.001102   \n",
       "...                 ...       ...       ...       ...  ...       ...   \n",
       "RIB_glob 2096  2.774133  2.167723  1.994252  1.735891  ...  2.676529   \n",
       "         2097  2.766767  2.160511  1.987791  1.727476  ...  2.667821   \n",
       "         2098  2.759187  2.153175  1.981234  1.719005  ...  2.658879   \n",
       "         2099  2.751380  2.145700  1.974559  1.710458  ...  2.649693   \n",
       "         2100  2.743340  2.138078  1.967754  1.701823  ...  2.640257   \n",
       "\n",
       "                  49984     49985     49986     49987     49988     49989  \\\n",
       "dT_glob  1750  0.000000  0.000000  0.000000  0.000000  0.000000  0.000000   \n",
       "         1751  0.000175  0.000157  0.000156  0.000156  0.000143  0.000200   \n",
       "         1752  0.000625  0.000536  0.000546  0.000589  0.000497  0.000723   \n",
       "         1753  0.001153  0.000945  0.000992  0.001131  0.000896  0.001362   \n",
       "         1754  0.001661  0.001309  0.001414  0.001702  0.001268  0.002003   \n",
       "...                 ...       ...       ...       ...       ...       ...   \n",
       "RIB_glob 2096  2.132872  3.366888  2.725714  2.536649  1.995282  1.393863   \n",
       "         2097  2.122885  3.362316  2.717553  2.526345  1.984530  1.379471   \n",
       "         2098  2.112767  3.357431  2.709197  2.515855  1.973646  1.365075   \n",
       "         2099  2.102499  3.352222  2.700633  2.505164  1.962614  1.350655   \n",
       "         2100  2.092075  3.346687  2.691857  2.494268  1.951429  1.336200   \n",
       "\n",
       "                  49990     49991     49992  \n",
       "dT_glob  1750  0.000000  0.000000  0.000000  \n",
       "         1751  0.000183  0.000211  0.000134  \n",
       "         1752  0.000629  0.000709  0.000475  \n",
       "         1753  0.001124  0.001233  0.000864  \n",
       "         1754  0.001571  0.001682  0.001239  \n",
       "...                 ...       ...       ...  \n",
       "RIB_glob 2096  2.733807  2.295511  3.342750  \n",
       "         2097  2.724897  2.287334  3.338468  \n",
       "         2098  2.715761  2.278985  3.333897  \n",
       "         2099  2.706383  2.270448  3.329023  \n",
       "         2100  2.696760  2.261719  3.323845  \n",
       "\n",
       "[1404 rows x 49993 columns]"
      ]
     },
     "execution_count": 34,
     "metadata": {},
     "output_type": "execute_result"
    }
   ],
   "source": [
    "df"
   ]
  },
  {
   "cell_type": "code",
   "execution_count": 35,
   "id": "c2f3fc5e",
   "metadata": {},
   "outputs": [],
   "source": [
    "df1 = df.iloc[:,issane]\n",
    "fcfgs1=[fcfgs[i] for i in issane]"
   ]
  },
  {
   "cell_type": "code",
   "execution_count": 37,
   "id": "8d315cc5",
   "metadata": {},
   "outputs": [],
   "source": [
    "df1.index.names = ['variable', 'year']\n",
    "df1.columns.names=['run_id']"
   ]
  },
  {
   "cell_type": "code",
   "execution_count": 38,
   "id": "a3377f34",
   "metadata": {},
   "outputs": [],
   "source": [
    "def plot_range(df, var, ax,col='k'):\n",
    "    Tdf=df.xs(var).T\n",
    "    lower = Tdf.quantile(0.10)\n",
    "    upper = Tdf.quantile(0.90)\n",
    "    ax.fill_between(Tdf.columns, lower, upper, color=col, alpha=0.2,edgecolor=None)\n",
    "    ax.plot(Tdf.columns, Tdf.mean(), color=col)\n",
    "\n"
   ]
  },
  {
   "cell_type": "code",
   "execution_count": 39,
   "id": "c94b4300",
   "metadata": {},
   "outputs": [
    {
     "data": {
      "text/plain": [
       "(0.0, 5.0)"
      ]
     },
     "execution_count": 39,
     "metadata": {},
     "output_type": "execute_result"
    },
    {
     "data": {
      "image/png": "[encoded data removed]",
      "text/plain": [
       "<Figure size 1500x400 with 4 Axes>"
      ]
     },
     "metadata": {},
     "output_type": "display_data"
    }
   ],
   "source": [
    "fig, ax = plt.subplots( 1,len(flds) ,figsize=(15, 4))\n",
    "\n",
    "ax=ax.flatten()\n",
    "for i,f in enumerate(flds):\n",
    "    plot_range(df1, f, ax[i])\n",
    "    ax[i].set_title(f)\n",
    "ax[0].set_ylim([0,5])\n",
    "ax[1].set_ylim([0,200])\n",
    "ax[2].set_ylim([200,700])\n",
    "ax[3].set_ylim([0,5])\n",
    "\n"
   ]
  },
  {
   "cell_type": "code",
   "execution_count": null,
   "id": "fea0ee38",
   "metadata": {},
   "outputs": [],
   "source": []
  },
  {
   "cell_type": "code",
   "execution_count": 40,
   "id": "b9489acd",
   "metadata": {},
   "outputs": [],
   "source": [
    "dates=[1950,1970,1990,2005,2018]\n",
    "targ=df1.loc[(slice(None), dates), :].T\n",
    "nflds=targ.shape[1]\n"
   ]
  },
  {
   "cell_type": "code",
   "execution_count": 41,
   "id": "d44f52e9",
   "metadata": {
    "vscode": {
     "languageId": "javascript"
    }
   },
   "outputs": [],
   "source": [
    "def merge_dicts(dc):\n",
    "    \"\"\"Given two dictionaries, merge them into a new dict as a shallow copy.\"\"\"\n",
    "    x=dc['pamset_udm']\n",
    "    y=dc['pamset_emiconc']\n",
    "    z = x.copy()\n",
    "    z.update(y)\n",
    "    return z"
   ]
  },
  {
   "cell_type": "code",
   "execution_count": 42,
   "id": "733fcfe8",
   "metadata": {},
   "outputs": [],
   "source": [
    "pdict=fcfgs1\n",
    "mdict=[ merge_dicts(d) for d in pdict ]\n",
    "pmat=pd.DataFrame(mdict)"
   ]
  },
  {
   "cell_type": "code",
   "execution_count": 44,
   "id": "4e737ba4",
   "metadata": {
    "vscode": {
     "languageId": "javascript"
    }
   },
   "outputs": [
    {
     "data": {
      "text/html": [
       "<div>\n",
       "<style scoped>\n",
       "    .dataframe tbody tr th:only-of-type {\n",
       "        vertical-align: middle;\n",
       "    }\n",
       "\n",
       "    .dataframe tbody tr th {\n",
       "        vertical-align: top;\n",
       "    }\n",
       "\n",
       "    .dataframe thead th {\n",
       "        text-align: right;\n",
       "    }\n",
       "</style>\n",
       "<table border=\"1\" class=\"dataframe\">\n",
       "  <thead>\n",
       "    <tr style=\"text-align: right;\">\n",
       "      <th></th>\n",
       "      <th>rlamdo</th>\n",
       "      <th>akapa</th>\n",
       "      <th>cpi</th>\n",
       "      <th>W</th>\n",
       "      <th>beto</th>\n",
       "      <th>lambda</th>\n",
       "      <th>mixed</th>\n",
       "      <th>qdirso2</th>\n",
       "      <th>qindso2</th>\n",
       "      <th>qbc</th>\n",
       "      <th>qoc</th>\n",
       "      <th>beta_f</th>\n",
       "      <th>mixed_carbon</th>\n",
       "      <th>qh2o_ch4</th>\n",
       "    </tr>\n",
       "  </thead>\n",
       "  <tbody>\n",
       "    <tr>\n",
       "      <th>0</th>\n",
       "      <td>0.440774</td>\n",
       "      <td>0.905520</td>\n",
       "      <td>0.800352</td>\n",
       "      <td>5.620841</td>\n",
       "      <td>0.752613</td>\n",
       "      <td>0.717799</td>\n",
       "      <td>68.615260</td>\n",
       "      <td>-0.544990</td>\n",
       "      <td>-1.142060</td>\n",
       "      <td>0.174110</td>\n",
       "      <td>-0.081630</td>\n",
       "      <td>0.326783</td>\n",
       "      <td>98.513488</td>\n",
       "      <td>0.092349</td>\n",
       "    </tr>\n",
       "    <tr>\n",
       "      <th>1</th>\n",
       "      <td>0.680958</td>\n",
       "      <td>0.404737</td>\n",
       "      <td>0.743800</td>\n",
       "      <td>5.617995</td>\n",
       "      <td>3.129197</td>\n",
       "      <td>1.197337</td>\n",
       "      <td>40.324068</td>\n",
       "      <td>-0.440564</td>\n",
       "      <td>-1.203002</td>\n",
       "      <td>0.136840</td>\n",
       "      <td>-0.076598</td>\n",
       "      <td>0.152043</td>\n",
       "      <td>65.726819</td>\n",
       "      <td>0.092525</td>\n",
       "    </tr>\n",
       "    <tr>\n",
       "      <th>2</th>\n",
       "      <td>0.454898</td>\n",
       "      <td>0.004942</td>\n",
       "      <td>0.367294</td>\n",
       "      <td>5.314021</td>\n",
       "      <td>1.806886</td>\n",
       "      <td>0.584156</td>\n",
       "      <td>94.649749</td>\n",
       "      <td>-0.293159</td>\n",
       "      <td>-1.073865</td>\n",
       "      <td>0.151952</td>\n",
       "      <td>-0.070529</td>\n",
       "      <td>0.204999</td>\n",
       "      <td>30.865822</td>\n",
       "      <td>0.092618</td>\n",
       "    </tr>\n",
       "    <tr>\n",
       "      <th>3</th>\n",
       "      <td>0.864660</td>\n",
       "      <td>0.936105</td>\n",
       "      <td>0.360483</td>\n",
       "      <td>5.480949</td>\n",
       "      <td>6.923262</td>\n",
       "      <td>0.846428</td>\n",
       "      <td>114.377980</td>\n",
       "      <td>-0.277504</td>\n",
       "      <td>-0.971991</td>\n",
       "      <td>0.114998</td>\n",
       "      <td>-0.082022</td>\n",
       "      <td>0.415251</td>\n",
       "      <td>83.888076</td>\n",
       "      <td>0.081175</td>\n",
       "    </tr>\n",
       "    <tr>\n",
       "      <th>4</th>\n",
       "      <td>0.548379</td>\n",
       "      <td>0.803303</td>\n",
       "      <td>0.517343</td>\n",
       "      <td>4.273653</td>\n",
       "      <td>2.332851</td>\n",
       "      <td>0.968192</td>\n",
       "      <td>50.594933</td>\n",
       "      <td>-0.279753</td>\n",
       "      <td>-1.204846</td>\n",
       "      <td>0.185195</td>\n",
       "      <td>-0.089575</td>\n",
       "      <td>0.248190</td>\n",
       "      <td>41.538023</td>\n",
       "      <td>0.081284</td>\n",
       "    </tr>\n",
       "    <tr>\n",
       "      <th>...</th>\n",
       "      <td>...</td>\n",
       "      <td>...</td>\n",
       "      <td>...</td>\n",
       "      <td>...</td>\n",
       "      <td>...</td>\n",
       "      <td>...</td>\n",
       "      <td>...</td>\n",
       "      <td>...</td>\n",
       "      <td>...</td>\n",
       "      <td>...</td>\n",
       "      <td>...</td>\n",
       "      <td>...</td>\n",
       "      <td>...</td>\n",
       "      <td>...</td>\n",
       "    </tr>\n",
       "    <tr>\n",
       "      <th>49986</th>\n",
       "      <td>0.480394</td>\n",
       "      <td>0.711929</td>\n",
       "      <td>0.482743</td>\n",
       "      <td>4.096088</td>\n",
       "      <td>4.151251</td>\n",
       "      <td>0.703563</td>\n",
       "      <td>93.237721</td>\n",
       "      <td>-0.504255</td>\n",
       "      <td>-0.955029</td>\n",
       "      <td>0.116901</td>\n",
       "      <td>-0.080561</td>\n",
       "      <td>0.326799</td>\n",
       "      <td>108.476461</td>\n",
       "      <td>0.089865</td>\n",
       "    </tr>\n",
       "    <tr>\n",
       "      <th>49987</th>\n",
       "      <td>0.893816</td>\n",
       "      <td>0.212135</td>\n",
       "      <td>0.105495</td>\n",
       "      <td>5.928718</td>\n",
       "      <td>0.530559</td>\n",
       "      <td>1.235700</td>\n",
       "      <td>73.692531</td>\n",
       "      <td>-0.474287</td>\n",
       "      <td>-1.340414</td>\n",
       "      <td>0.149180</td>\n",
       "      <td>-0.080990</td>\n",
       "      <td>0.325688</td>\n",
       "      <td>43.045798</td>\n",
       "      <td>0.095690</td>\n",
       "    </tr>\n",
       "    <tr>\n",
       "      <th>49988</th>\n",
       "      <td>0.473716</td>\n",
       "      <td>0.998920</td>\n",
       "      <td>0.287551</td>\n",
       "      <td>5.960427</td>\n",
       "      <td>1.206252</td>\n",
       "      <td>0.857163</td>\n",
       "      <td>58.998088</td>\n",
       "      <td>-0.452685</td>\n",
       "      <td>-1.353985</td>\n",
       "      <td>0.155642</td>\n",
       "      <td>-0.091753</td>\n",
       "      <td>0.135887</td>\n",
       "      <td>57.343110</td>\n",
       "      <td>0.087520</td>\n",
       "    </tr>\n",
       "    <tr>\n",
       "      <th>49989</th>\n",
       "      <td>0.185356</td>\n",
       "      <td>0.639269</td>\n",
       "      <td>0.597594</td>\n",
       "      <td>4.798626</td>\n",
       "      <td>6.282454</td>\n",
       "      <td>0.921124</td>\n",
       "      <td>109.239547</td>\n",
       "      <td>-0.455020</td>\n",
       "      <td>-1.262432</td>\n",
       "      <td>0.126494</td>\n",
       "      <td>-0.092564</td>\n",
       "      <td>0.435344</td>\n",
       "      <td>116.347524</td>\n",
       "      <td>0.098608</td>\n",
       "    </tr>\n",
       "    <tr>\n",
       "      <th>49990</th>\n",
       "      <td>0.038592</td>\n",
       "      <td>0.428539</td>\n",
       "      <td>0.523321</td>\n",
       "      <td>5.217412</td>\n",
       "      <td>6.908333</td>\n",
       "      <td>0.618969</td>\n",
       "      <td>38.167789</td>\n",
       "      <td>-0.214287</td>\n",
       "      <td>-0.841307</td>\n",
       "      <td>0.144406</td>\n",
       "      <td>-0.085652</td>\n",
       "      <td>0.442771</td>\n",
       "      <td>39.946289</td>\n",
       "      <td>0.088843</td>\n",
       "    </tr>\n",
       "  </tbody>\n",
       "</table>\n",
       "<p>49991 rows × 14 columns</p>\n",
       "</div>"
      ],
      "text/plain": [
       "         rlamdo     akapa       cpi         W      beto    lambda       mixed  \\\n",
       "0      0.440774  0.905520  0.800352  5.620841  0.752613  0.717799   68.615260   \n",
       "1      0.680958  0.404737  0.743800  5.617995  3.129197  1.197337   40.324068   \n",
       "2      0.454898  0.004942  0.367294  5.314021  1.806886  0.584156   94.649749   \n",
       "3      0.864660  0.936105  0.360483  5.480949  6.923262  0.846428  114.377980   \n",
       "4      0.548379  0.803303  0.517343  4.273653  2.332851  0.968192   50.594933   \n",
       "...         ...       ...       ...       ...       ...       ...         ...   \n",
       "49986  0.480394  0.711929  0.482743  4.096088  4.151251  0.703563   93.237721   \n",
       "49987  0.893816  0.212135  0.105495  5.928718  0.530559  1.235700   73.692531   \n",
       "49988  0.473716  0.998920  0.287551  5.960427  1.206252  0.857163   58.998088   \n",
       "49989  0.185356  0.639269  0.597594  4.798626  6.282454  0.921124  109.239547   \n",
       "49990  0.038592  0.428539  0.523321  5.217412  6.908333  0.618969   38.167789   \n",
       "\n",
       "        qdirso2   qindso2       qbc       qoc    beta_f  mixed_carbon  \\\n",
       "0     -0.544990 -1.142060  0.174110 -0.081630  0.326783     98.513488   \n",
       "1     -0.440564 -1.203002  0.136840 -0.076598  0.152043     65.726819   \n",
       "2     -0.293159 -1.073865  0.151952 -0.070529  0.204999     30.865822   \n",
       "3     -0.277504 -0.971991  0.114998 -0.082022  0.415251     83.888076   \n",
       "4     -0.279753 -1.204846  0.185195 -0.089575  0.248190     41.538023   \n",
       "...         ...       ...       ...       ...       ...           ...   \n",
       "49986 -0.504255 -0.955029  0.116901 -0.080561  0.326799    108.476461   \n",
       "49987 -0.474287 -1.340414  0.149180 -0.080990  0.325688     43.045798   \n",
       "49988 -0.452685 -1.353985  0.155642 -0.091753  0.135887     57.343110   \n",
       "49989 -0.455020 -1.262432  0.126494 -0.092564  0.435344    116.347524   \n",
       "49990 -0.214287 -0.841307  0.144406 -0.085652  0.442771     39.946289   \n",
       "\n",
       "       qh2o_ch4  \n",
       "0      0.092349  \n",
       "1      0.092525  \n",
       "2      0.092618  \n",
       "3      0.081175  \n",
       "4      0.081284  \n",
       "...         ...  \n",
       "49986  0.089865  \n",
       "49987  0.095690  \n",
       "49988  0.087520  \n",
       "49989  0.098608  \n",
       "49990  0.088843  \n",
       "\n",
       "[49991 rows x 14 columns]"
      ]
     },
     "execution_count": 44,
     "metadata": {},
     "output_type": "execute_result"
    }
   ],
   "source": [
    "parammat=pmat.loc[:, (pmat != pmat.iloc[0]).any()]\n",
    "parammat"
   ]
  },
  {
   "cell_type": "code",
   "execution_count": 45,
   "id": "62f4c888",
   "metadata": {
    "vscode": {
     "languageId": "javascript"
    }
   },
   "outputs": [],
   "source": [
    "store = pd.HDFStore('data.h5')\n",
    "store['targ'] = targ\n",
    "store['parammat'] = parammat\n",
    "store.close()"
   ]
  },
  {
   "cell_type": "code",
   "execution_count": null,
   "id": "e3145a37",
   "metadata": {
    "vscode": {
     "languageId": "javascript"
    }
   },
   "outputs": [],
   "source": []
  },
  {
   "cell_type": "code",
   "execution_count": 1,
   "id": "a695aac4",
   "metadata": {},
   "outputs": [
    {
     "ename": "NameError",
     "evalue": "name 'plt' is not defined",
     "output_type": "error",
     "traceback": [
      "\u001b[0;31m---------------------------------------------------------------------------\u001b[0m",
      "\u001b[0;31mNameError\u001b[0m                                 Traceback (most recent call last)",
      "Cell \u001b[0;32mIn[1], line 1\u001b[0m\n\u001b[0;32m----> 1\u001b[0m \u001b[43mplt\u001b[49m\u001b[38;5;241m.\u001b[39mplot(targ[\u001b[38;5;124m'\u001b[39m\u001b[38;5;124mdT_glob\u001b[39m\u001b[38;5;124m'\u001b[39m][\u001b[38;5;241m2018\u001b[39m],pmat[\u001b[38;5;124m'\u001b[39m\u001b[38;5;124mlambda\u001b[39m\u001b[38;5;124m'\u001b[39m],\u001b[38;5;124m'\u001b[39m\u001b[38;5;124m.\u001b[39m\u001b[38;5;124m'\u001b[39m)\n",
      "\u001b[0;31mNameError\u001b[0m: name 'plt' is not defined"
     ]
    }
   ],
   "source": [
    "plt.plot(targ['dT_glob'][2018],pmat['lambda'],'.')"
   ]
  },
  {
   "cell_type": "code",
   "execution_count": 67,
   "id": "052ca846",
   "metadata": {
    "vscode": {
     "languageId": "javascript"
    }
   },
   "outputs": [],
   "source": [
    "from sklearn.model_selection import train_test_split\n",
    "XTraining, XValidation, YTraining, YValidation = train_test_split(parammat,targ,test_size=0.1, shuffle=False) # before model building\n"
   ]
  },
  {
   "cell_type": "code",
   "execution_count": 68,
   "id": "91161371",
   "metadata": {
    "vscode": {
     "languageId": "javascript"
    }
   },
   "outputs": [
    {
     "name": "stderr",
     "output_type": "stream",
     "text": [
      "2024-05-10 12:32:32.098984: I tensorflow/tsl/cuda/cudart_stub.cc:28] Could not find cuda drivers on your machine, GPU will not be used.\n",
      "2024-05-10 12:32:32.214775: I tensorflow/tsl/cuda/cudart_stub.cc:28] Could not find cuda drivers on your machine, GPU will not be used.\n",
      "2024-05-10 12:32:32.218088: I tensorflow/core/platform/cpu_feature_guard.cc:182] This TensorFlow binary is optimized to use available CPU instructions in performance-critical operations.\n",
      "To enable the following instructions: AVX2 FMA, in other operations, rebuild TensorFlow with the appropriate compiler flags.\n",
      "2024-05-10 12:32:35.212623: W tensorflow/compiler/tf2tensorrt/utils/py_utils.cc:38] TF-TRT Warning: Could not find TensorRT\n"
     ]
    },
    {
     "name": "stdout",
     "output_type": "stream",
     "text": [
      "2.13.1\n",
      "[PhysicalDevice(name='/physical_device:CPU:0', device_type='CPU')]\n"
     ]
    }
   ],
   "source": [
    "import tensorflow as tf\n",
    "\n",
    "from tensorflow import keras\n",
    "from tensorflow.keras import layers\n",
    "\n",
    "print(tf.__version__)\n",
    "print(tf.config.list_physical_devices())"
   ]
  },
  {
   "cell_type": "code",
   "execution_count": 69,
   "id": "69e2ec34",
   "metadata": {
    "vscode": {
     "languageId": "javascript"
    }
   },
   "outputs": [],
   "source": [
    "def build_and_compile_model(norm):\n",
    "  model = keras.Sequential([\n",
    "      norm,\n",
    "      layers.Dense(30, activation='tanh'),\n",
    "      layers.Dense(10, activation='tanh'),\n",
    "\n",
    "      layers.Dense(nflds)\n",
    "  ])\n",
    "\n",
    "  model.compile(loss='mae',\n",
    "                optimizer=tf.keras.optimizers.AdamW(0.001))\n",
    "  return model"
   ]
  },
  {
   "cell_type": "code",
   "execution_count": 70,
   "id": "09f2f181",
   "metadata": {
    "vscode": {
     "languageId": "javascript"
    }
   },
   "outputs": [],
   "source": [
    "normalizer = tf.keras.layers.Normalization(input_shape=[parammat.shape[1],], axis=-1)"
   ]
  },
  {
   "cell_type": "code",
   "execution_count": 72,
   "id": "14fd6aca",
   "metadata": {
    "vscode": {
     "languageId": "javascript"
    }
   },
   "outputs": [],
   "source": [
    "normalizer.adapt(parammat)"
   ]
  },
  {
   "cell_type": "code",
   "execution_count": 73,
   "id": "87fbe5e2",
   "metadata": {
    "vscode": {
     "languageId": "javascript"
    }
   },
   "outputs": [],
   "source": [
    "dnn_model = build_and_compile_model(normalizer)\n"
   ]
  },
  {
   "cell_type": "code",
   "execution_count": 74,
   "id": "47d2aa4b",
   "metadata": {
    "vscode": {
     "languageId": "javascript"
    }
   },
   "outputs": [],
   "source": [
    "X_train = tf.convert_to_tensor(XTraining, dtype=tf.float32)\n",
    "Y_train = tf.convert_to_tensor(YTraining, dtype=tf.float32)\n",
    "X_dev = tf.convert_to_tensor(XValidation, dtype=tf.float32)\n",
    "Y_dev = tf.convert_to_tensor(YValidation, dtype=tf.float32)"
   ]
  },
  {
   "cell_type": "code",
   "execution_count": 75,
   "id": "b05304a5",
   "metadata": {
    "vscode": {
     "languageId": "javascript"
    }
   },
   "outputs": [],
   "source": [
    "from tqdm.keras import TqdmCallback"
   ]
  },
  {
   "cell_type": "code",
   "execution_count": 76,
   "id": "510f84bd",
   "metadata": {
    "vscode": {
     "languageId": "javascript"
    }
   },
   "outputs": [
    {
     "name": "stdout",
     "output_type": "stream",
     "text": [
      "INFO:tensorflow:Using MirroredStrategy with devices ('/job:localhost/replica:0/task:0/device:CPU:0',)\n",
      "Number of devices: 1\n"
     ]
    }
   ],
   "source": [
    "strategy = tf.distribute.MirroredStrategy()\n",
    "print('Number of devices: {}'.format(strategy.num_replicas_in_sync))"
   ]
  },
  {
   "cell_type": "code",
   "execution_count": 77,
   "id": "66668947",
   "metadata": {
    "vscode": {
     "languageId": "javascript"
    }
   },
   "outputs": [
    {
     "data": {
      "application/vnd.jupyter.widget-view+json": {
       "model_id": "784a72d0c50c46aba28faf87436a5d48",
       "version_major": 2,
       "version_minor": 0
      },
      "text/plain": [
       "0epoch [00:00, ?epoch/s]"
      ]
     },
     "metadata": {},
     "output_type": "display_data"
    },
    {
     "ename": "KeyboardInterrupt",
     "evalue": "",
     "output_type": "error",
     "traceback": [
      "\u001b[0;31m---------------------------------------------------------------------------\u001b[0m",
      "\u001b[0;31mKeyboardInterrupt\u001b[0m                         Traceback (most recent call last)",
      "Cell \u001b[0;32mIn[77], line 1\u001b[0m\n\u001b[0;32m----> 1\u001b[0m history\u001b[38;5;241m=\u001b[39m\u001b[43mdnn_model\u001b[49m\u001b[38;5;241;43m.\u001b[39;49m\u001b[43mfit\u001b[49m\u001b[43m(\u001b[49m\u001b[43mX_train\u001b[49m\u001b[43m,\u001b[49m\u001b[43m \u001b[49m\u001b[43mY_train\u001b[49m\u001b[43m,\u001b[49m\u001b[43m \u001b[49m\u001b[43mepochs\u001b[49m\u001b[38;5;241;43m=\u001b[39;49m\u001b[38;5;241;43m10000\u001b[39;49m\u001b[43m,\u001b[49m\u001b[43m \u001b[49m\u001b[43mbatch_size\u001b[49m\u001b[38;5;241;43m=\u001b[39;49m\u001b[38;5;241;43m100\u001b[39;49m\u001b[43m,\u001b[49m\u001b[43m \u001b[49m\u001b[43mvalidation_data\u001b[49m\u001b[38;5;241;43m=\u001b[39;49m\u001b[43m(\u001b[49m\u001b[43mX_dev\u001b[49m\u001b[43m,\u001b[49m\u001b[43m \u001b[49m\u001b[43mY_dev\u001b[49m\u001b[43m)\u001b[49m\u001b[43m,\u001b[49m\u001b[43mverbose\u001b[49m\u001b[38;5;241;43m=\u001b[39;49m\u001b[38;5;241;43m0\u001b[39;49m\u001b[43m,\u001b[49m\u001b[43mcallbacks\u001b[49m\u001b[38;5;241;43m=\u001b[39;49m\u001b[43m[\u001b[49m\u001b[43mTqdmCallback\u001b[49m\u001b[43m(\u001b[49m\u001b[43mverbose\u001b[49m\u001b[38;5;241;43m=\u001b[39;49m\u001b[38;5;241;43m0\u001b[39;49m\u001b[43m)\u001b[49m\u001b[43m]\u001b[49m\u001b[43m)\u001b[49m\n",
      "File \u001b[0;32m~/ciceroscm-1/venv/lib/python3.8/site-packages/keras/src/utils/traceback_utils.py:65\u001b[0m, in \u001b[0;36mfilter_traceback.<locals>.error_handler\u001b[0;34m(*args, **kwargs)\u001b[0m\n\u001b[1;32m     63\u001b[0m filtered_tb \u001b[38;5;241m=\u001b[39m \u001b[38;5;28;01mNone\u001b[39;00m\n\u001b[1;32m     64\u001b[0m \u001b[38;5;28;01mtry\u001b[39;00m:\n\u001b[0;32m---> 65\u001b[0m     \u001b[38;5;28;01mreturn\u001b[39;00m \u001b[43mfn\u001b[49m\u001b[43m(\u001b[49m\u001b[38;5;241;43m*\u001b[39;49m\u001b[43margs\u001b[49m\u001b[43m,\u001b[49m\u001b[43m \u001b[49m\u001b[38;5;241;43m*\u001b[39;49m\u001b[38;5;241;43m*\u001b[39;49m\u001b[43mkwargs\u001b[49m\u001b[43m)\u001b[49m\n\u001b[1;32m     66\u001b[0m \u001b[38;5;28;01mexcept\u001b[39;00m \u001b[38;5;167;01mException\u001b[39;00m \u001b[38;5;28;01mas\u001b[39;00m e:\n\u001b[1;32m     67\u001b[0m     filtered_tb \u001b[38;5;241m=\u001b[39m _process_traceback_frames(e\u001b[38;5;241m.\u001b[39m__traceback__)\n",
      "File \u001b[0;32m~/ciceroscm-1/venv/lib/python3.8/site-packages/keras/src/engine/training.py:1791\u001b[0m, in \u001b[0;36mModel.fit\u001b[0;34m(self, x, y, batch_size, epochs, verbose, callbacks, validation_split, validation_data, shuffle, class_weight, sample_weight, initial_epoch, steps_per_epoch, validation_steps, validation_batch_size, validation_freq, max_queue_size, workers, use_multiprocessing)\u001b[0m\n\u001b[1;32m   1775\u001b[0m \u001b[38;5;28;01mif\u001b[39;00m \u001b[38;5;28mgetattr\u001b[39m(\u001b[38;5;28mself\u001b[39m, \u001b[38;5;124m\"\u001b[39m\u001b[38;5;124m_eval_data_handler\u001b[39m\u001b[38;5;124m\"\u001b[39m, \u001b[38;5;28;01mNone\u001b[39;00m) \u001b[38;5;129;01mis\u001b[39;00m \u001b[38;5;28;01mNone\u001b[39;00m:\n\u001b[1;32m   1776\u001b[0m     \u001b[38;5;28mself\u001b[39m\u001b[38;5;241m.\u001b[39m_eval_data_handler \u001b[38;5;241m=\u001b[39m data_adapter\u001b[38;5;241m.\u001b[39mget_data_handler(\n\u001b[1;32m   1777\u001b[0m         x\u001b[38;5;241m=\u001b[39mval_x,\n\u001b[1;32m   1778\u001b[0m         y\u001b[38;5;241m=\u001b[39mval_y,\n\u001b[0;32m   (...)\u001b[0m\n\u001b[1;32m   1789\u001b[0m         pss_evaluation_shards\u001b[38;5;241m=\u001b[39m\u001b[38;5;28mself\u001b[39m\u001b[38;5;241m.\u001b[39m_pss_evaluation_shards,\n\u001b[1;32m   1790\u001b[0m     )\n\u001b[0;32m-> 1791\u001b[0m val_logs \u001b[38;5;241m=\u001b[39m \u001b[38;5;28;43mself\u001b[39;49m\u001b[38;5;241;43m.\u001b[39;49m\u001b[43mevaluate\u001b[49m\u001b[43m(\u001b[49m\n\u001b[1;32m   1792\u001b[0m \u001b[43m    \u001b[49m\u001b[43mx\u001b[49m\u001b[38;5;241;43m=\u001b[39;49m\u001b[43mval_x\u001b[49m\u001b[43m,\u001b[49m\n\u001b[1;32m   1793\u001b[0m \u001b[43m    \u001b[49m\u001b[43my\u001b[49m\u001b[38;5;241;43m=\u001b[39;49m\u001b[43mval_y\u001b[49m\u001b[43m,\u001b[49m\n\u001b[1;32m   1794\u001b[0m \u001b[43m    \u001b[49m\u001b[43msample_weight\u001b[49m\u001b[38;5;241;43m=\u001b[39;49m\u001b[43mval_sample_weight\u001b[49m\u001b[43m,\u001b[49m\n\u001b[1;32m   1795\u001b[0m \u001b[43m    \u001b[49m\u001b[43mbatch_size\u001b[49m\u001b[38;5;241;43m=\u001b[39;49m\u001b[43mvalidation_batch_size\u001b[49m\u001b[43m \u001b[49m\u001b[38;5;129;43;01mor\u001b[39;49;00m\u001b[43m \u001b[49m\u001b[43mbatch_size\u001b[49m\u001b[43m,\u001b[49m\n\u001b[1;32m   1796\u001b[0m \u001b[43m    \u001b[49m\u001b[43msteps\u001b[49m\u001b[38;5;241;43m=\u001b[39;49m\u001b[43mvalidation_steps\u001b[49m\u001b[43m,\u001b[49m\n\u001b[1;32m   1797\u001b[0m \u001b[43m    \u001b[49m\u001b[43mcallbacks\u001b[49m\u001b[38;5;241;43m=\u001b[39;49m\u001b[43mcallbacks\u001b[49m\u001b[43m,\u001b[49m\n\u001b[1;32m   1798\u001b[0m \u001b[43m    \u001b[49m\u001b[43mmax_queue_size\u001b[49m\u001b[38;5;241;43m=\u001b[39;49m\u001b[43mmax_queue_size\u001b[49m\u001b[43m,\u001b[49m\n\u001b[1;32m   1799\u001b[0m \u001b[43m    \u001b[49m\u001b[43mworkers\u001b[49m\u001b[38;5;241;43m=\u001b[39;49m\u001b[43mworkers\u001b[49m\u001b[43m,\u001b[49m\n\u001b[1;32m   1800\u001b[0m \u001b[43m    \u001b[49m\u001b[43muse_multiprocessing\u001b[49m\u001b[38;5;241;43m=\u001b[39;49m\u001b[43muse_multiprocessing\u001b[49m\u001b[43m,\u001b[49m\n\u001b[1;32m   1801\u001b[0m \u001b[43m    \u001b[49m\u001b[43mreturn_dict\u001b[49m\u001b[38;5;241;43m=\u001b[39;49m\u001b[38;5;28;43;01mTrue\u001b[39;49;00m\u001b[43m,\u001b[49m\n\u001b[1;32m   1802\u001b[0m \u001b[43m    \u001b[49m\u001b[43m_use_cached_eval_dataset\u001b[49m\u001b[38;5;241;43m=\u001b[39;49m\u001b[38;5;28;43;01mTrue\u001b[39;49;00m\u001b[43m,\u001b[49m\n\u001b[1;32m   1803\u001b[0m \u001b[43m\u001b[49m\u001b[43m)\u001b[49m\n\u001b[1;32m   1804\u001b[0m val_logs \u001b[38;5;241m=\u001b[39m {\n\u001b[1;32m   1805\u001b[0m     \u001b[38;5;124m\"\u001b[39m\u001b[38;5;124mval_\u001b[39m\u001b[38;5;124m\"\u001b[39m \u001b[38;5;241m+\u001b[39m name: val \u001b[38;5;28;01mfor\u001b[39;00m name, val \u001b[38;5;129;01min\u001b[39;00m val_logs\u001b[38;5;241m.\u001b[39mitems()\n\u001b[1;32m   1806\u001b[0m }\n\u001b[1;32m   1807\u001b[0m epoch_logs\u001b[38;5;241m.\u001b[39mupdate(val_logs)\n",
      "File \u001b[0;32m~/ciceroscm-1/venv/lib/python3.8/site-packages/keras/src/utils/traceback_utils.py:65\u001b[0m, in \u001b[0;36mfilter_traceback.<locals>.error_handler\u001b[0;34m(*args, **kwargs)\u001b[0m\n\u001b[1;32m     63\u001b[0m filtered_tb \u001b[38;5;241m=\u001b[39m \u001b[38;5;28;01mNone\u001b[39;00m\n\u001b[1;32m     64\u001b[0m \u001b[38;5;28;01mtry\u001b[39;00m:\n\u001b[0;32m---> 65\u001b[0m     \u001b[38;5;28;01mreturn\u001b[39;00m \u001b[43mfn\u001b[49m\u001b[43m(\u001b[49m\u001b[38;5;241;43m*\u001b[39;49m\u001b[43margs\u001b[49m\u001b[43m,\u001b[49m\u001b[43m \u001b[49m\u001b[38;5;241;43m*\u001b[39;49m\u001b[38;5;241;43m*\u001b[39;49m\u001b[43mkwargs\u001b[49m\u001b[43m)\u001b[49m\n\u001b[1;32m     66\u001b[0m \u001b[38;5;28;01mexcept\u001b[39;00m \u001b[38;5;167;01mException\u001b[39;00m \u001b[38;5;28;01mas\u001b[39;00m e:\n\u001b[1;32m     67\u001b[0m     filtered_tb \u001b[38;5;241m=\u001b[39m _process_traceback_frames(e\u001b[38;5;241m.\u001b[39m__traceback__)\n",
      "File \u001b[0;32m~/ciceroscm-1/venv/lib/python3.8/site-packages/keras/src/engine/training.py:2189\u001b[0m, in \u001b[0;36mModel.evaluate\u001b[0;34m(self, x, y, batch_size, verbose, sample_weight, steps, callbacks, max_queue_size, workers, use_multiprocessing, return_dict, **kwargs)\u001b[0m\n\u001b[1;32m   2187\u001b[0m \u001b[38;5;28mself\u001b[39m\u001b[38;5;241m.\u001b[39m_test_counter\u001b[38;5;241m.\u001b[39massign(\u001b[38;5;241m0\u001b[39m)\n\u001b[1;32m   2188\u001b[0m callbacks\u001b[38;5;241m.\u001b[39mon_test_begin()\n\u001b[0;32m-> 2189\u001b[0m \u001b[38;5;28;01mfor\u001b[39;00m (\n\u001b[1;32m   2190\u001b[0m     _,\n\u001b[1;32m   2191\u001b[0m     dataset_or_iterator,\n\u001b[1;32m   2192\u001b[0m ) \u001b[38;5;129;01min\u001b[39;00m data_handler\u001b[38;5;241m.\u001b[39menumerate_epochs():  \u001b[38;5;66;03m# Single epoch.\u001b[39;00m\n\u001b[1;32m   2193\u001b[0m     \u001b[38;5;28mself\u001b[39m\u001b[38;5;241m.\u001b[39mreset_metrics()\n\u001b[1;32m   2194\u001b[0m     \u001b[38;5;28;01mwith\u001b[39;00m data_handler\u001b[38;5;241m.\u001b[39mcatch_stop_iteration():\n",
      "File \u001b[0;32m~/ciceroscm-1/venv/lib/python3.8/site-packages/keras/src/engine/data_adapter.py:1331\u001b[0m, in \u001b[0;36mDataHandler.enumerate_epochs\u001b[0;34m(self)\u001b[0m\n\u001b[1;32m   1329\u001b[0m \u001b[38;5;250m\u001b[39m\u001b[38;5;124;03m\"\"\"Yields `(epoch, tf.data.Iterator)`.\"\"\"\u001b[39;00m\n\u001b[1;32m   1330\u001b[0m \u001b[38;5;28;01mwith\u001b[39;00m \u001b[38;5;28mself\u001b[39m\u001b[38;5;241m.\u001b[39m_truncate_execution_to_epoch():\n\u001b[0;32m-> 1331\u001b[0m     data_iterator \u001b[38;5;241m=\u001b[39m \u001b[38;5;28;43miter\u001b[39;49m\u001b[43m(\u001b[49m\u001b[38;5;28;43mself\u001b[39;49m\u001b[38;5;241;43m.\u001b[39;49m\u001b[43m_dataset\u001b[49m\u001b[43m)\u001b[49m\n\u001b[1;32m   1332\u001b[0m     \u001b[38;5;28;01mfor\u001b[39;00m epoch \u001b[38;5;129;01min\u001b[39;00m \u001b[38;5;28mrange\u001b[39m(\u001b[38;5;28mself\u001b[39m\u001b[38;5;241m.\u001b[39m_initial_epoch, \u001b[38;5;28mself\u001b[39m\u001b[38;5;241m.\u001b[39m_epochs):\n\u001b[1;32m   1333\u001b[0m         \u001b[38;5;28;01mif\u001b[39;00m \u001b[38;5;28mself\u001b[39m\u001b[38;5;241m.\u001b[39m_insufficient_data:  \u001b[38;5;66;03m# Set by `catch_stop_iteration`.\u001b[39;00m\n",
      "File \u001b[0;32m~/ciceroscm-1/venv/lib/python3.8/site-packages/tensorflow/python/data/ops/dataset_ops.py:506\u001b[0m, in \u001b[0;36mDatasetV2.__iter__\u001b[0;34m(self)\u001b[0m\n\u001b[1;32m    504\u001b[0m \u001b[38;5;28;01mif\u001b[39;00m context\u001b[38;5;241m.\u001b[39mexecuting_eagerly() \u001b[38;5;129;01mor\u001b[39;00m ops\u001b[38;5;241m.\u001b[39minside_function():\n\u001b[1;32m    505\u001b[0m   \u001b[38;5;28;01mwith\u001b[39;00m ops\u001b[38;5;241m.\u001b[39mcolocate_with(\u001b[38;5;28mself\u001b[39m\u001b[38;5;241m.\u001b[39m_variant_tensor):\n\u001b[0;32m--> 506\u001b[0m     \u001b[38;5;28;01mreturn\u001b[39;00m \u001b[43miterator_ops\u001b[49m\u001b[38;5;241;43m.\u001b[39;49m\u001b[43mOwnedIterator\u001b[49m\u001b[43m(\u001b[49m\u001b[38;5;28;43mself\u001b[39;49m\u001b[43m)\u001b[49m\n\u001b[1;32m    507\u001b[0m \u001b[38;5;28;01melse\u001b[39;00m:\n\u001b[1;32m    508\u001b[0m   \u001b[38;5;28;01mraise\u001b[39;00m \u001b[38;5;167;01mRuntimeError\u001b[39;00m(\u001b[38;5;124m\"\u001b[39m\u001b[38;5;124m`tf.data.Dataset` only supports Python-style \u001b[39m\u001b[38;5;124m\"\u001b[39m\n\u001b[1;32m    509\u001b[0m                      \u001b[38;5;124m\"\u001b[39m\u001b[38;5;124miteration in eager mode or within tf.function.\u001b[39m\u001b[38;5;124m\"\u001b[39m)\n",
      "File \u001b[0;32m~/ciceroscm-1/venv/lib/python3.8/site-packages/tensorflow/python/data/ops/iterator_ops.py:710\u001b[0m, in \u001b[0;36mOwnedIterator.__init__\u001b[0;34m(self, dataset, components, element_spec)\u001b[0m\n\u001b[1;32m    706\u001b[0m   \u001b[38;5;28;01mif\u001b[39;00m (components \u001b[38;5;129;01mis\u001b[39;00m \u001b[38;5;129;01mnot\u001b[39;00m \u001b[38;5;28;01mNone\u001b[39;00m \u001b[38;5;129;01mor\u001b[39;00m element_spec \u001b[38;5;129;01mis\u001b[39;00m \u001b[38;5;129;01mnot\u001b[39;00m \u001b[38;5;28;01mNone\u001b[39;00m):\n\u001b[1;32m    707\u001b[0m     \u001b[38;5;28;01mraise\u001b[39;00m \u001b[38;5;167;01mValueError\u001b[39;00m(\n\u001b[1;32m    708\u001b[0m         \u001b[38;5;124m\"\u001b[39m\u001b[38;5;124mWhen `dataset` is provided, `element_spec` and `components` must \u001b[39m\u001b[38;5;124m\"\u001b[39m\n\u001b[1;32m    709\u001b[0m         \u001b[38;5;124m\"\u001b[39m\u001b[38;5;124mnot be specified.\u001b[39m\u001b[38;5;124m\"\u001b[39m)\n\u001b[0;32m--> 710\u001b[0m   \u001b[38;5;28;43mself\u001b[39;49m\u001b[38;5;241;43m.\u001b[39;49m\u001b[43m_create_iterator\u001b[49m\u001b[43m(\u001b[49m\u001b[43mdataset\u001b[49m\u001b[43m)\u001b[49m\n\u001b[1;32m    712\u001b[0m \u001b[38;5;28mself\u001b[39m\u001b[38;5;241m.\u001b[39m_get_next_call_count \u001b[38;5;241m=\u001b[39m \u001b[38;5;241m0\u001b[39m\n",
      "File \u001b[0;32m~/ciceroscm-1/venv/lib/python3.8/site-packages/tensorflow/python/data/ops/iterator_ops.py:749\u001b[0m, in \u001b[0;36mOwnedIterator._create_iterator\u001b[0;34m(self, dataset)\u001b[0m\n\u001b[1;32m    746\u001b[0m   \u001b[38;5;28;01massert\u001b[39;00m \u001b[38;5;28mlen\u001b[39m(fulltype\u001b[38;5;241m.\u001b[39margs[\u001b[38;5;241m0\u001b[39m]\u001b[38;5;241m.\u001b[39margs[\u001b[38;5;241m0\u001b[39m]\u001b[38;5;241m.\u001b[39margs) \u001b[38;5;241m==\u001b[39m \u001b[38;5;28mlen\u001b[39m(\n\u001b[1;32m    747\u001b[0m       \u001b[38;5;28mself\u001b[39m\u001b[38;5;241m.\u001b[39m_flat_output_types)\n\u001b[1;32m    748\u001b[0m   \u001b[38;5;28mself\u001b[39m\u001b[38;5;241m.\u001b[39m_iterator_resource\u001b[38;5;241m.\u001b[39mop\u001b[38;5;241m.\u001b[39mexperimental_set_type(fulltype)\n\u001b[0;32m--> 749\u001b[0m \u001b[43mgen_dataset_ops\u001b[49m\u001b[38;5;241;43m.\u001b[39;49m\u001b[43mmake_iterator\u001b[49m\u001b[43m(\u001b[49m\u001b[43mds_variant\u001b[49m\u001b[43m,\u001b[49m\u001b[43m \u001b[49m\u001b[38;5;28;43mself\u001b[39;49m\u001b[38;5;241;43m.\u001b[39;49m\u001b[43m_iterator_resource\u001b[49m\u001b[43m)\u001b[49m\n",
      "File \u001b[0;32m~/ciceroscm-1/venv/lib/python3.8/site-packages/tensorflow/python/ops/gen_dataset_ops.py:3420\u001b[0m, in \u001b[0;36mmake_iterator\u001b[0;34m(dataset, iterator, name)\u001b[0m\n\u001b[1;32m   3418\u001b[0m \u001b[38;5;28;01mif\u001b[39;00m tld\u001b[38;5;241m.\u001b[39mis_eager:\n\u001b[1;32m   3419\u001b[0m   \u001b[38;5;28;01mtry\u001b[39;00m:\n\u001b[0;32m-> 3420\u001b[0m     _result \u001b[38;5;241m=\u001b[39m \u001b[43mpywrap_tfe\u001b[49m\u001b[38;5;241;43m.\u001b[39;49m\u001b[43mTFE_Py_FastPathExecute\u001b[49m\u001b[43m(\u001b[49m\n\u001b[1;32m   3421\u001b[0m \u001b[43m      \u001b[49m\u001b[43m_ctx\u001b[49m\u001b[43m,\u001b[49m\u001b[43m \u001b[49m\u001b[38;5;124;43m\"\u001b[39;49m\u001b[38;5;124;43mMakeIterator\u001b[39;49m\u001b[38;5;124;43m\"\u001b[39;49m\u001b[43m,\u001b[49m\u001b[43m \u001b[49m\u001b[43mname\u001b[49m\u001b[43m,\u001b[49m\u001b[43m \u001b[49m\u001b[43mdataset\u001b[49m\u001b[43m,\u001b[49m\u001b[43m \u001b[49m\u001b[43miterator\u001b[49m\u001b[43m)\u001b[49m\n\u001b[1;32m   3422\u001b[0m     \u001b[38;5;28;01mreturn\u001b[39;00m _result\n\u001b[1;32m   3423\u001b[0m   \u001b[38;5;28;01mexcept\u001b[39;00m _core\u001b[38;5;241m.\u001b[39m_NotOkStatusException \u001b[38;5;28;01mas\u001b[39;00m e:\n",
      "\u001b[0;31mKeyboardInterrupt\u001b[0m: "
     ]
    }
   ],
   "source": [
    "history=dnn_model.fit(X_train, Y_train, epochs=10000, batch_size=100, validation_data=(X_dev, Y_dev),verbose=0,callbacks=[TqdmCallback(verbose=0)])\n"
   ]
  },
  {
   "cell_type": "code",
   "execution_count": 78,
   "id": "c033d69b",
   "metadata": {
    "vscode": {
     "languageId": "javascript"
    }
   },
   "outputs": [
    {
     "name": "stdout",
     "output_type": "stream",
     "text": [
      "32/32 [==============================] - 0s 2ms/step\n",
      "282/282 [==============================] - 0s 905us/step\n"
     ]
    }
   ],
   "source": [
    "pred = dnn_model.predict(X_dev)\n",
    "pred_t = dnn_model.predict(X_train)"
   ]
  },
  {
   "cell_type": "code",
   "execution_count": 79,
   "id": "ed845847",
   "metadata": {
    "vscode": {
     "languageId": "javascript"
    }
   },
   "outputs": [
    {
     "data": {
      "text/plain": [
       "[<matplotlib.lines.Line2D at 0x7f17407adeb0>]"
      ]
     },
     "execution_count": 79,
     "metadata": {},
     "output_type": "execute_result"
    },
    {
     "data": {
      "image/png": "[encoded data removed]",
      "text/plain": [
       "<Figure size 640x480 with 1 Axes>"
      ]
     },
     "metadata": {},
     "output_type": "display_data"
    }
   ],
   "source": [
    "plt.plot(pred_t[:,0],Y_train[:,0],'k.')\n",
    "plt.plot(pred[:,0],Y_dev[:,0],'r.')"
   ]
  },
  {
   "cell_type": "code",
   "execution_count": null,
   "id": "e2d5be3c",
   "metadata": {
    "vscode": {
     "languageId": "javascript"
    }
   },
   "outputs": [
    {
     "data": {
      "image/png": "[encoded data removed]",
      "text/plain": [
       "<Figure size 1500x1000 with 20 Axes>"
      ]
     },
     "metadata": {},
     "output_type": "display_data"
    }
   ],
   "source": [
    "fig, ax = plt.subplots( len(flds), len(dates),figsize=(15, 10))\n",
    "\n",
    "ax=ax.flatten()\n",
    "for i in np.arange(nflds):\n",
    "  ax[i].plot(pred_t[:,i],Y_train[:,i],'k.')\n",
    "  ax[i].plot(pred[:,i],Y_dev[:,i],'r.')\n",
    "\n"
   ]
  },
  {
   "cell_type": "code",
   "execution_count": null,
   "id": "c082b129",
   "metadata": {
    "vscode": {
     "languageId": "javascript"
    }
   },
   "outputs": [],
   "source": []
  }
 ],
 "metadata": {
  "kernelspec": {
   "display_name": "Python 3 (ipykernel)",
   "language": "python",
   "name": "python3"
  },
  "language_info": {
   "codemirror_mode": {
    "name": "ipython",
    "version": 3
   },
   "file_extension": ".py",
   "mimetype": "text/x-python",
   "name": "python",
   "nbconvert_exporter": "python",
   "pygments_lexer": "ipython3",
   "version": "3.8.5"
  }
 },
 "nbformat": 4,
 "nbformat_minor": 5
}
