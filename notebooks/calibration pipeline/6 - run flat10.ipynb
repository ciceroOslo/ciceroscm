{
 "cells": [
  {
   "cell_type": "code",
   "execution_count": 2,
   "metadata": {},
   "outputs": [],
   "source": [
    "import sys\n",
    "import re\n",
    "import os\n",
    "import numpy as np\n",
    "import shutil\n",
    "import matplotlib.pyplot as plt\n",
    "import pandas as pd\n",
    "import pandas.testing as pdt\n",
    "import warnings\n",
    "import logging\n",
    "\n",
    "try:\n",
    "    from pandas.core.common import SettingWithCopyWarning\n",
    "except:\n",
    "    from pandas.errors import SettingWithCopyWarning\n",
    "warnings.simplefilter(action=\"ignore\", category=SettingWithCopyWarning)\n",
    "warnings.filterwarnings(\"ignore\", message=\".*Parameter.*\")"
   ]
  },
  {
   "cell_type": "code",
   "execution_count": 3,
   "metadata": {},
   "outputs": [],
   "source": [
    "store = pd.HDFStore('data/optparam.h5')\n",
    "opt = store['opt']\n",
    "store.close()"
   ]
  },
  {
   "cell_type": "code",
   "execution_count": 4,
   "metadata": {},
   "outputs": [],
   "source": [
    "from concurrent.futures import ProcessPoolExecutor\n",
    "from tqdm import tqdm"
   ]
  },
  {
   "cell_type": "code",
   "execution_count": 5,
   "metadata": {},
   "outputs": [],
   "source": [
    "import concurrent"
   ]
  },
  {
   "cell_type": "code",
   "execution_count": 6,
   "metadata": {},
   "outputs": [
    {
     "name": "stderr",
     "output_type": "stream",
     "text": [
      "/uio/kant/div-cicero-u1/bensan/ciceroscm-1/venv/lib/python3.8/site-packages/scmdata/database/_database.py:9: TqdmExperimentalWarning: Using `tqdm.autonotebook.tqdm` in notebook mode. Use `tqdm.tqdm` instead to force console mode (e.g. in jupyter console)\n",
      "  import tqdm.autonotebook as tqdman\n",
      "/uio/kant/div-cicero-u1/bensan/ciceroscm-1/venv/lib/python3.8/site-packages/setuptools_scm/_integration/setuptools.py:31: RuntimeWarning: \n",
      "ERROR: setuptools==47.1.0 is used in combination with setuptools_scm>=8.x\n",
      "\n",
      "Your build configuration is incomplete and previously worked by accident!\n",
      "setuptools_scm requires setuptools>=61\n",
      "\n",
      "Suggested workaround if applicable:\n",
      " - migrating from the deprecated setup_requires mechanism to pep517/518\n",
      "   and using a pyproject.toml to declare build dependencies\n",
      "   which are reliably pre-installed before running the build tools\n",
      "\n",
      "  warnings.warn(\n"
     ]
    },
    {
     "data": {
      "application/javascript": "if (typeof IPython !== 'undefined') { IPython.OutputArea.prototype._should_scroll = function(lines){ return false; }}",
      "text/plain": [
       "<IPython.core.display.Javascript object>"
      ]
     },
     "metadata": {},
     "output_type": "display_data"
    }
   ],
   "source": [
    "from ciceroscm.parallel._configdistro import _ConfigDistro\n",
    "from ciceroscm.parallel.calibrator import Calibrator\n",
    "from ciceroscm.parallel.distributionrun import DistributionRun\n"
   ]
  },
  {
   "cell_type": "markdown",
   "metadata": {},
   "source": [
    "Import the model"
   ]
  },
  {
   "cell_type": "code",
   "execution_count": 7,
   "metadata": {},
   "outputs": [],
   "source": [
    "sys.path.insert(0,os.path.join(os.getcwd(), '../', 'src'))\n",
    "from ciceroscm import CICEROSCM"
   ]
  },
  {
   "cell_type": "markdown",
   "metadata": {},
   "source": [
    "Define some input handling functions to give us example inputs"
   ]
  },
  {
   "cell_type": "code",
   "execution_count": 8,
   "metadata": {},
   "outputs": [],
   "source": [
    "from ciceroscm.input_handler import read_inputfile,read_components,read_natural_emissions"
   ]
  },
  {
   "cell_type": "markdown",
   "metadata": {},
   "source": [
    "Define a function to convert model output to a dataframe"
   ]
  },
  {
   "cell_type": "markdown",
   "metadata": {},
   "source": [
    "set up input directories"
   ]
  },
  {
   "cell_type": "code",
   "execution_count": 9,
   "metadata": {},
   "outputs": [],
   "source": [
    "test_data_dir = os.path.join(os.getcwd(), '../../', 'tests', 'test-data')"
   ]
  },
  {
   "cell_type": "markdown",
   "metadata": {},
   "source": [
    "# Read in datafiles into dataframes"
   ]
  },
  {
   "cell_type": "code",
   "execution_count": 10,
   "metadata": {},
   "outputs": [
    {
     "data": {
      "text/html": [
       "<div>\n",
       "<style scoped>\n",
       "    .dataframe tbody tr th:only-of-type {\n",
       "        vertical-align: middle;\n",
       "    }\n",
       "\n",
       "    .dataframe tbody tr th {\n",
       "        vertical-align: top;\n",
       "    }\n",
       "\n",
       "    .dataframe thead th {\n",
       "        text-align: right;\n",
       "    }\n",
       "</style>\n",
       "<table border=\"1\" class=\"dataframe\">\n",
       "  <thead>\n",
       "    <tr style=\"text-align: right;\">\n",
       "      <th></th>\n",
       "      <th>EM_UNIT</th>\n",
       "      <th>CONC_UNIT</th>\n",
       "      <th>BETA</th>\n",
       "      <th>ALPHA</th>\n",
       "      <th>TAU1</th>\n",
       "      <th>TAU2</th>\n",
       "      <th>TAU3</th>\n",
       "      <th>NAT_EM</th>\n",
       "      <th>SARF_TO_ERF</th>\n",
       "    </tr>\n",
       "    <tr>\n",
       "      <th>GAS</th>\n",
       "      <th></th>\n",
       "      <th></th>\n",
       "      <th></th>\n",
       "      <th></th>\n",
       "      <th></th>\n",
       "      <th></th>\n",
       "      <th></th>\n",
       "      <th></th>\n",
       "      <th></th>\n",
       "    </tr>\n",
       "  </thead>\n",
       "  <tbody>\n",
       "    <tr>\n",
       "      <th>CO2</th>\n",
       "      <td>Pg_C</td>\n",
       "      <td>ppm</td>\n",
       "      <td>2.123</td>\n",
       "      <td>0.00000</td>\n",
       "      <td>150.00</td>\n",
       "      <td>0</td>\n",
       "      <td>0</td>\n",
       "      <td>0.0</td>\n",
       "      <td>1.000000</td>\n",
       "    </tr>\n",
       "    <tr>\n",
       "      <th>CH4</th>\n",
       "      <td>Tg</td>\n",
       "      <td>ppb</td>\n",
       "      <td>2.780</td>\n",
       "      <td>0.00000</td>\n",
       "      <td>9.60</td>\n",
       "      <td>120</td>\n",
       "      <td>160</td>\n",
       "      <td>275.0</td>\n",
       "      <td>0.877193</td>\n",
       "    </tr>\n",
       "    <tr>\n",
       "      <th>N2O</th>\n",
       "      <td>Tg_N</td>\n",
       "      <td>ppb</td>\n",
       "      <td>4.810</td>\n",
       "      <td>0.00000</td>\n",
       "      <td>121.00</td>\n",
       "      <td>0</td>\n",
       "      <td>0</td>\n",
       "      <td>9.5</td>\n",
       "      <td>1.000000</td>\n",
       "    </tr>\n",
       "    <tr>\n",
       "      <th>SO2</th>\n",
       "      <td>Tg_S</td>\n",
       "      <td>-</td>\n",
       "      <td>11.000</td>\n",
       "      <td>0.00000</td>\n",
       "      <td>0.02</td>\n",
       "      <td>0</td>\n",
       "      <td>0</td>\n",
       "      <td>0.0</td>\n",
       "      <td>1.000000</td>\n",
       "    </tr>\n",
       "    <tr>\n",
       "      <th>CFC-11</th>\n",
       "      <td>Gg</td>\n",
       "      <td>ppt</td>\n",
       "      <td>22.600</td>\n",
       "      <td>0.00026</td>\n",
       "      <td>45.00</td>\n",
       "      <td>0</td>\n",
       "      <td>0</td>\n",
       "      <td>0.0</td>\n",
       "      <td>1.000000</td>\n",
       "    </tr>\n",
       "  </tbody>\n",
       "</table>\n",
       "</div>"
      ],
      "text/plain": [
       "       EM_UNIT CONC_UNIT    BETA    ALPHA    TAU1  TAU2  TAU3  NAT_EM  \\\n",
       "GAS                                                                     \n",
       "CO2       Pg_C       ppm   2.123  0.00000  150.00     0     0     0.0   \n",
       "CH4         Tg       ppb   2.780  0.00000    9.60   120   160   275.0   \n",
       "N2O       Tg_N       ppb   4.810  0.00000  121.00     0     0     9.5   \n",
       "SO2       Tg_S         -  11.000  0.00000    0.02     0     0     0.0   \n",
       "CFC-11      Gg       ppt  22.600  0.00026   45.00     0     0     0.0   \n",
       "\n",
       "        SARF_TO_ERF  \n",
       "GAS                  \n",
       "CO2        1.000000  \n",
       "CH4        0.877193  \n",
       "N2O        1.000000  \n",
       "SO2        1.000000  \n",
       "CFC-11     1.000000  "
      ]
     },
     "execution_count": 10,
     "metadata": {},
     "output_type": "execute_result"
    }
   ],
   "source": [
    "# NBVAL_IGNORE_OUTPUT\n",
    "#Read gas parameters\n",
    "gaspam =read_components(test_data_dir + '/gases_v1RCMIP.txt')\n",
    "gaspam.head()"
   ]
  },
  {
   "cell_type": "markdown",
   "metadata": {},
   "source": [
    "Read natural emissions"
   ]
  },
  {
   "cell_type": "code",
   "execution_count": 136,
   "metadata": {},
   "outputs": [
    {
     "data": {
      "text/html": [
       "<div>\n",
       "<style scoped>\n",
       "    .dataframe tbody tr th:only-of-type {\n",
       "        vertical-align: middle;\n",
       "    }\n",
       "\n",
       "    .dataframe tbody tr th {\n",
       "        vertical-align: top;\n",
       "    }\n",
       "\n",
       "    .dataframe thead th {\n",
       "        text-align: right;\n",
       "    }\n",
       "</style>\n",
       "<table border=\"1\" class=\"dataframe\">\n",
       "  <thead>\n",
       "    <tr style=\"text-align: right;\">\n",
       "      <th></th>\n",
       "      <th>CH4</th>\n",
       "    </tr>\n",
       "    <tr>\n",
       "      <th>year</th>\n",
       "      <th></th>\n",
       "    </tr>\n",
       "  </thead>\n",
       "  <tbody>\n",
       "    <tr>\n",
       "      <th>1750</th>\n",
       "      <td>269.4273</td>\n",
       "    </tr>\n",
       "    <tr>\n",
       "      <th>1751</th>\n",
       "      <td>269.4273</td>\n",
       "    </tr>\n",
       "    <tr>\n",
       "      <th>1752</th>\n",
       "      <td>269.4273</td>\n",
       "    </tr>\n",
       "    <tr>\n",
       "      <th>1753</th>\n",
       "      <td>269.4273</td>\n",
       "    </tr>\n",
       "    <tr>\n",
       "      <th>1754</th>\n",
       "      <td>269.4273</td>\n",
       "    </tr>\n",
       "  </tbody>\n",
       "</table>\n",
       "</div>"
      ],
      "text/plain": [
       "           CH4\n",
       "year          \n",
       "1750  269.4273\n",
       "1751  269.4273\n",
       "1752  269.4273\n",
       "1753  269.4273\n",
       "1754  269.4273"
      ]
     },
     "execution_count": 136,
     "metadata": {},
     "output_type": "execute_result"
    }
   ],
   "source": [
    "# NBVAL_IGNORE_OUTPUT\n",
    "df_nat_ch4 =read_natural_emissions(test_data_dir + '/natemis_ch4.txt','CH4')\n",
    "df_nat_n2o =read_natural_emissions(test_data_dir + '/natemis_n2o.txt','N2O')\n",
    "df_nat_ch4[:]=df_nat_ch4.iloc[0]\n",
    "df_nat_n2o[:]=df_nat_n2o.iloc[0]\n",
    "\n",
    "df_nat_ch4.head()\n"
   ]
  },
  {
   "cell_type": "markdown",
   "metadata": {},
   "source": [
    "Read forcing"
   ]
  },
  {
   "cell_type": "code",
   "execution_count": 137,
   "metadata": {},
   "outputs": [
    {
     "data": {
      "text/html": [
       "<div>\n",
       "<style scoped>\n",
       "    .dataframe tbody tr th:only-of-type {\n",
       "        vertical-align: middle;\n",
       "    }\n",
       "\n",
       "    .dataframe tbody tr th {\n",
       "        vertical-align: top;\n",
       "    }\n",
       "\n",
       "    .dataframe thead th {\n",
       "        text-align: right;\n",
       "    }\n",
       "</style>\n",
       "<table border=\"1\" class=\"dataframe\">\n",
       "  <thead>\n",
       "    <tr style=\"text-align: right;\">\n",
       "      <th></th>\n",
       "      <th>CO2</th>\n",
       "      <th>CH4</th>\n",
       "      <th>N2O</th>\n",
       "      <th>CFC-11</th>\n",
       "      <th>CFC-12</th>\n",
       "      <th>CFC-113</th>\n",
       "      <th>CFC-114</th>\n",
       "      <th>CFC-115</th>\n",
       "      <th>CH3Br</th>\n",
       "      <th>CCl4</th>\n",
       "      <th>...</th>\n",
       "      <th>HFC143a</th>\n",
       "      <th>HFC227ea</th>\n",
       "      <th>HFC23</th>\n",
       "      <th>HFC245fa</th>\n",
       "      <th>HFC32</th>\n",
       "      <th>HFC4310mee</th>\n",
       "      <th>C2F6</th>\n",
       "      <th>C6F14</th>\n",
       "      <th>CF4</th>\n",
       "      <th>SF6</th>\n",
       "    </tr>\n",
       "    <tr>\n",
       "      <th>Component</th>\n",
       "      <th></th>\n",
       "      <th></th>\n",
       "      <th></th>\n",
       "      <th></th>\n",
       "      <th></th>\n",
       "      <th></th>\n",
       "      <th></th>\n",
       "      <th></th>\n",
       "      <th></th>\n",
       "      <th></th>\n",
       "      <th></th>\n",
       "      <th></th>\n",
       "      <th></th>\n",
       "      <th></th>\n",
       "      <th></th>\n",
       "      <th></th>\n",
       "      <th></th>\n",
       "      <th></th>\n",
       "      <th></th>\n",
       "      <th></th>\n",
       "      <th></th>\n",
       "    </tr>\n",
       "  </thead>\n",
       "  <tbody>\n",
       "    <tr>\n",
       "      <th>1700</th>\n",
       "      <td>276.746</td>\n",
       "      <td>706.054021</td>\n",
       "      <td>272.212049</td>\n",
       "      <td>0.0</td>\n",
       "      <td>0.0</td>\n",
       "      <td>0.0</td>\n",
       "      <td>0.0</td>\n",
       "      <td>0.0</td>\n",
       "      <td>5.299998</td>\n",
       "      <td>0.025</td>\n",
       "      <td>...</td>\n",
       "      <td>0.0</td>\n",
       "      <td>0.0</td>\n",
       "      <td>0.0</td>\n",
       "      <td>0.0</td>\n",
       "      <td>0.0</td>\n",
       "      <td>0.0</td>\n",
       "      <td>0.0</td>\n",
       "      <td>0.0</td>\n",
       "      <td>34.049999</td>\n",
       "      <td>0.0</td>\n",
       "    </tr>\n",
       "    <tr>\n",
       "      <th>1701</th>\n",
       "      <td>276.746</td>\n",
       "      <td>706.054021</td>\n",
       "      <td>272.212049</td>\n",
       "      <td>0.0</td>\n",
       "      <td>0.0</td>\n",
       "      <td>0.0</td>\n",
       "      <td>0.0</td>\n",
       "      <td>0.0</td>\n",
       "      <td>5.299998</td>\n",
       "      <td>0.025</td>\n",
       "      <td>...</td>\n",
       "      <td>0.0</td>\n",
       "      <td>0.0</td>\n",
       "      <td>0.0</td>\n",
       "      <td>0.0</td>\n",
       "      <td>0.0</td>\n",
       "      <td>0.0</td>\n",
       "      <td>0.0</td>\n",
       "      <td>0.0</td>\n",
       "      <td>34.049999</td>\n",
       "      <td>0.0</td>\n",
       "    </tr>\n",
       "    <tr>\n",
       "      <th>1702</th>\n",
       "      <td>276.746</td>\n",
       "      <td>706.054021</td>\n",
       "      <td>272.212049</td>\n",
       "      <td>0.0</td>\n",
       "      <td>0.0</td>\n",
       "      <td>0.0</td>\n",
       "      <td>0.0</td>\n",
       "      <td>0.0</td>\n",
       "      <td>5.299998</td>\n",
       "      <td>0.025</td>\n",
       "      <td>...</td>\n",
       "      <td>0.0</td>\n",
       "      <td>0.0</td>\n",
       "      <td>0.0</td>\n",
       "      <td>0.0</td>\n",
       "      <td>0.0</td>\n",
       "      <td>0.0</td>\n",
       "      <td>0.0</td>\n",
       "      <td>0.0</td>\n",
       "      <td>34.049999</td>\n",
       "      <td>0.0</td>\n",
       "    </tr>\n",
       "    <tr>\n",
       "      <th>1703</th>\n",
       "      <td>276.746</td>\n",
       "      <td>706.054021</td>\n",
       "      <td>272.212049</td>\n",
       "      <td>0.0</td>\n",
       "      <td>0.0</td>\n",
       "      <td>0.0</td>\n",
       "      <td>0.0</td>\n",
       "      <td>0.0</td>\n",
       "      <td>5.299998</td>\n",
       "      <td>0.025</td>\n",
       "      <td>...</td>\n",
       "      <td>0.0</td>\n",
       "      <td>0.0</td>\n",
       "      <td>0.0</td>\n",
       "      <td>0.0</td>\n",
       "      <td>0.0</td>\n",
       "      <td>0.0</td>\n",
       "      <td>0.0</td>\n",
       "      <td>0.0</td>\n",
       "      <td>34.049999</td>\n",
       "      <td>0.0</td>\n",
       "    </tr>\n",
       "    <tr>\n",
       "      <th>1704</th>\n",
       "      <td>276.746</td>\n",
       "      <td>706.054021</td>\n",
       "      <td>272.212049</td>\n",
       "      <td>0.0</td>\n",
       "      <td>0.0</td>\n",
       "      <td>0.0</td>\n",
       "      <td>0.0</td>\n",
       "      <td>0.0</td>\n",
       "      <td>5.299998</td>\n",
       "      <td>0.025</td>\n",
       "      <td>...</td>\n",
       "      <td>0.0</td>\n",
       "      <td>0.0</td>\n",
       "      <td>0.0</td>\n",
       "      <td>0.0</td>\n",
       "      <td>0.0</td>\n",
       "      <td>0.0</td>\n",
       "      <td>0.0</td>\n",
       "      <td>0.0</td>\n",
       "      <td>34.049999</td>\n",
       "      <td>0.0</td>\n",
       "    </tr>\n",
       "  </tbody>\n",
       "</table>\n",
       "<p>5 rows × 30 columns</p>\n",
       "</div>"
      ],
      "text/plain": [
       "               CO2         CH4         N2O  CFC-11  CFC-12  CFC-113  CFC-114  \\\n",
       "Component                                                                      \n",
       "1700       276.746  706.054021  272.212049     0.0     0.0      0.0      0.0   \n",
       "1701       276.746  706.054021  272.212049     0.0     0.0      0.0      0.0   \n",
       "1702       276.746  706.054021  272.212049     0.0     0.0      0.0      0.0   \n",
       "1703       276.746  706.054021  272.212049     0.0     0.0      0.0      0.0   \n",
       "1704       276.746  706.054021  272.212049     0.0     0.0      0.0      0.0   \n",
       "\n",
       "           CFC-115     CH3Br   CCl4  ...  HFC143a  HFC227ea  HFC23  HFC245fa  \\\n",
       "Component                            ...                                       \n",
       "1700           0.0  5.299998  0.025  ...      0.0       0.0    0.0       0.0   \n",
       "1701           0.0  5.299998  0.025  ...      0.0       0.0    0.0       0.0   \n",
       "1702           0.0  5.299998  0.025  ...      0.0       0.0    0.0       0.0   \n",
       "1703           0.0  5.299998  0.025  ...      0.0       0.0    0.0       0.0   \n",
       "1704           0.0  5.299998  0.025  ...      0.0       0.0    0.0       0.0   \n",
       "\n",
       "           HFC32  HFC4310mee  C2F6  C6F14        CF4  SF6  \n",
       "Component                                                  \n",
       "1700         0.0         0.0   0.0    0.0  34.049999  0.0  \n",
       "1701         0.0         0.0   0.0    0.0  34.049999  0.0  \n",
       "1702         0.0         0.0   0.0    0.0  34.049999  0.0  \n",
       "1703         0.0         0.0   0.0    0.0  34.049999  0.0  \n",
       "1704         0.0         0.0   0.0    0.0  34.049999  0.0  \n",
       "\n",
       "[5 rows x 30 columns]"
      ]
     },
     "execution_count": 137,
     "metadata": {},
     "output_type": "execute_result"
    }
   ],
   "source": [
    "df_flat_conc =read_inputfile(test_data_dir + '/ssp245_conc_RCMIP.txt')\n",
    "df_flat_conc =read_inputfile(test_data_dir + '/ssp245_conc_RCMIP.txt')\n",
    "df_flat_conc[:]=df_flat_conc.iloc[0]\n",
    "\n",
    "df_flat_conc.head()"
   ]
  },
  {
   "cell_type": "code",
   "execution_count": 138,
   "metadata": {},
   "outputs": [
    {
     "data": {
      "text/html": [
       "<div>\n",
       "<style scoped>\n",
       "    .dataframe tbody tr th:only-of-type {\n",
       "        vertical-align: middle;\n",
       "    }\n",
       "\n",
       "    .dataframe tbody tr th {\n",
       "        vertical-align: top;\n",
       "    }\n",
       "\n",
       "    .dataframe thead th {\n",
       "        text-align: right;\n",
       "    }\n",
       "</style>\n",
       "<table border=\"1\" class=\"dataframe\">\n",
       "  <thead>\n",
       "    <tr style=\"text-align: right;\">\n",
       "      <th></th>\n",
       "      <th>CO2_FF</th>\n",
       "      <th>CO2_AFOLU</th>\n",
       "      <th>CH4</th>\n",
       "      <th>N2O</th>\n",
       "      <th>SO2</th>\n",
       "      <th>CFC-11</th>\n",
       "      <th>CFC-12</th>\n",
       "      <th>CFC-113</th>\n",
       "      <th>CFC-114</th>\n",
       "      <th>CFC-115</th>\n",
       "      <th>...</th>\n",
       "      <th>CF4</th>\n",
       "      <th>SF6</th>\n",
       "      <th>NOx</th>\n",
       "      <th>CO</th>\n",
       "      <th>NMVOC</th>\n",
       "      <th>NH3</th>\n",
       "      <th>BMB_AEROS_BC</th>\n",
       "      <th>BMB_AEROS_OC</th>\n",
       "      <th>BC</th>\n",
       "      <th>OC</th>\n",
       "    </tr>\n",
       "    <tr>\n",
       "      <th>Component</th>\n",
       "      <th></th>\n",
       "      <th></th>\n",
       "      <th></th>\n",
       "      <th></th>\n",
       "      <th></th>\n",
       "      <th></th>\n",
       "      <th></th>\n",
       "      <th></th>\n",
       "      <th></th>\n",
       "      <th></th>\n",
       "      <th></th>\n",
       "      <th></th>\n",
       "      <th></th>\n",
       "      <th></th>\n",
       "      <th></th>\n",
       "      <th></th>\n",
       "      <th></th>\n",
       "      <th></th>\n",
       "      <th></th>\n",
       "      <th></th>\n",
       "      <th></th>\n",
       "    </tr>\n",
       "  </thead>\n",
       "  <tbody>\n",
       "    <tr>\n",
       "      <th>1750</th>\n",
       "      <td>0.0</td>\n",
       "      <td>0.0</td>\n",
       "      <td>0.0</td>\n",
       "      <td>0.0</td>\n",
       "      <td>0.0</td>\n",
       "      <td>0.0</td>\n",
       "      <td>0.0</td>\n",
       "      <td>0.0</td>\n",
       "      <td>0.0</td>\n",
       "      <td>0.0</td>\n",
       "      <td>...</td>\n",
       "      <td>0.0</td>\n",
       "      <td>0.0</td>\n",
       "      <td>0.0</td>\n",
       "      <td>0.0</td>\n",
       "      <td>0.0</td>\n",
       "      <td>0.0</td>\n",
       "      <td>0.0</td>\n",
       "      <td>0.0</td>\n",
       "      <td>0.0</td>\n",
       "      <td>0.0</td>\n",
       "    </tr>\n",
       "    <tr>\n",
       "      <th>1751</th>\n",
       "      <td>0.0</td>\n",
       "      <td>0.0</td>\n",
       "      <td>0.0</td>\n",
       "      <td>0.0</td>\n",
       "      <td>0.0</td>\n",
       "      <td>0.0</td>\n",
       "      <td>0.0</td>\n",
       "      <td>0.0</td>\n",
       "      <td>0.0</td>\n",
       "      <td>0.0</td>\n",
       "      <td>...</td>\n",
       "      <td>0.0</td>\n",
       "      <td>0.0</td>\n",
       "      <td>0.0</td>\n",
       "      <td>0.0</td>\n",
       "      <td>0.0</td>\n",
       "      <td>0.0</td>\n",
       "      <td>0.0</td>\n",
       "      <td>0.0</td>\n",
       "      <td>0.0</td>\n",
       "      <td>0.0</td>\n",
       "    </tr>\n",
       "    <tr>\n",
       "      <th>1752</th>\n",
       "      <td>0.0</td>\n",
       "      <td>0.0</td>\n",
       "      <td>0.0</td>\n",
       "      <td>0.0</td>\n",
       "      <td>0.0</td>\n",
       "      <td>0.0</td>\n",
       "      <td>0.0</td>\n",
       "      <td>0.0</td>\n",
       "      <td>0.0</td>\n",
       "      <td>0.0</td>\n",
       "      <td>...</td>\n",
       "      <td>0.0</td>\n",
       "      <td>0.0</td>\n",
       "      <td>0.0</td>\n",
       "      <td>0.0</td>\n",
       "      <td>0.0</td>\n",
       "      <td>0.0</td>\n",
       "      <td>0.0</td>\n",
       "      <td>0.0</td>\n",
       "      <td>0.0</td>\n",
       "      <td>0.0</td>\n",
       "    </tr>\n",
       "    <tr>\n",
       "      <th>1753</th>\n",
       "      <td>0.0</td>\n",
       "      <td>0.0</td>\n",
       "      <td>0.0</td>\n",
       "      <td>0.0</td>\n",
       "      <td>0.0</td>\n",
       "      <td>0.0</td>\n",
       "      <td>0.0</td>\n",
       "      <td>0.0</td>\n",
       "      <td>0.0</td>\n",
       "      <td>0.0</td>\n",
       "      <td>...</td>\n",
       "      <td>0.0</td>\n",
       "      <td>0.0</td>\n",
       "      <td>0.0</td>\n",
       "      <td>0.0</td>\n",
       "      <td>0.0</td>\n",
       "      <td>0.0</td>\n",
       "      <td>0.0</td>\n",
       "      <td>0.0</td>\n",
       "      <td>0.0</td>\n",
       "      <td>0.0</td>\n",
       "    </tr>\n",
       "    <tr>\n",
       "      <th>1754</th>\n",
       "      <td>0.0</td>\n",
       "      <td>0.0</td>\n",
       "      <td>0.0</td>\n",
       "      <td>0.0</td>\n",
       "      <td>0.0</td>\n",
       "      <td>0.0</td>\n",
       "      <td>0.0</td>\n",
       "      <td>0.0</td>\n",
       "      <td>0.0</td>\n",
       "      <td>0.0</td>\n",
       "      <td>...</td>\n",
       "      <td>0.0</td>\n",
       "      <td>0.0</td>\n",
       "      <td>0.0</td>\n",
       "      <td>0.0</td>\n",
       "      <td>0.0</td>\n",
       "      <td>0.0</td>\n",
       "      <td>0.0</td>\n",
       "      <td>0.0</td>\n",
       "      <td>0.0</td>\n",
       "      <td>0.0</td>\n",
       "    </tr>\n",
       "  </tbody>\n",
       "</table>\n",
       "<p>5 rows × 40 columns</p>\n",
       "</div>"
      ],
      "text/plain": [
       "           CO2_FF  CO2_AFOLU  CH4  N2O  SO2  CFC-11  CFC-12  CFC-113  CFC-114  \\\n",
       "Component                                                                       \n",
       "1750          0.0        0.0  0.0  0.0  0.0     0.0     0.0      0.0      0.0   \n",
       "1751          0.0        0.0  0.0  0.0  0.0     0.0     0.0      0.0      0.0   \n",
       "1752          0.0        0.0  0.0  0.0  0.0     0.0     0.0      0.0      0.0   \n",
       "1753          0.0        0.0  0.0  0.0  0.0     0.0     0.0      0.0      0.0   \n",
       "1754          0.0        0.0  0.0  0.0  0.0     0.0     0.0      0.0      0.0   \n",
       "\n",
       "           CFC-115  ...  CF4  SF6  NOx   CO  NMVOC  NH3  BMB_AEROS_BC  \\\n",
       "Component           ...                                                 \n",
       "1750           0.0  ...  0.0  0.0  0.0  0.0    0.0  0.0           0.0   \n",
       "1751           0.0  ...  0.0  0.0  0.0  0.0    0.0  0.0           0.0   \n",
       "1752           0.0  ...  0.0  0.0  0.0  0.0    0.0  0.0           0.0   \n",
       "1753           0.0  ...  0.0  0.0  0.0  0.0    0.0  0.0           0.0   \n",
       "1754           0.0  ...  0.0  0.0  0.0  0.0    0.0  0.0           0.0   \n",
       "\n",
       "           BMB_AEROS_OC   BC   OC  \n",
       "Component                          \n",
       "1750                0.0  0.0  0.0  \n",
       "1751                0.0  0.0  0.0  \n",
       "1752                0.0  0.0  0.0  \n",
       "1753                0.0  0.0  0.0  \n",
       "1754                0.0  0.0  0.0  \n",
       "\n",
       "[5 rows x 40 columns]"
      ]
     },
     "execution_count": 138,
     "metadata": {},
     "output_type": "execute_result"
    }
   ],
   "source": [
    "emi_input =read_inputfile(test_data_dir + '/ssp245_em_RCMIP.txt')\n",
    "emi_input.rename(columns={\"CO2\": \"CO2_FF\", \"CO2.1\": \"CO2_AFOLU\"}, inplace=True)\n",
    "emi_input[:]=emi_input.iloc[0]*0\n",
    "\n",
    "emi_input.head()"
   ]
  },
  {
   "cell_type": "markdown",
   "metadata": {},
   "source": [
    "# Set up model run with defined input variables"
   ]
  },
  {
   "cell_type": "code",
   "execution_count": 139,
   "metadata": {},
   "outputs": [],
   "source": [
    "scendata={\n",
    "            \"gaspam_data\": gaspam,\n",
    "            \"emstart\": 1750,  \n",
    "            \"conc_run\":False,\n",
    "            \"nystart\": 1750,\n",
    "            \"nyend\": 2100,\n",
    "            \"concentrations_data\": df_flat_conc,\n",
    "            \"emissions_data\": emi_input,\n",
    "            \"nat_ch4_data\": df_nat_ch4,\n",
    "            \"nat_n2o_data\": df_nat_n2o,\n",
    "            \"idtm\":24,\n",
    "            \"udir\": test_data_dir,\n",
    "            \"scenname\": \"ssp245\",\n",
    "        }"
   ]
  },
  {
   "cell_type": "code",
   "execution_count": 140,
   "metadata": {},
   "outputs": [],
   "source": [
    "    calibdata = pd.DataFrame(\n",
    "        data={\n",
    "            \"Variable Name\": [\n",
    "                \"Heat Content|Ocean\",\n",
    "                \"Surface Air Ocean Blended Temperature Change\",\n",
    "            ],\n",
    "            \"Yearstart_norm\": [1971, 1961],\n",
    "            \"Yearend_norm\": [1971, 1990],\n",
    "            \"Yearstart_change\": [2018, 2000],\n",
    "            \"Yearend_change\": [2018, 2019],\n",
    "            \"Central Value\": [320.69251537323, 0.5372],\n",
    "            \"sigma\": [17.020342912051203, 0.039028311931729676],\n",
    "        })"
   ]
  },
  {
   "cell_type": "code",
   "execution_count": 141,
   "metadata": {},
   "outputs": [],
   "source": [
    "    testconfig = _ConfigDistro(\n",
    "        distro_array=np.array([        [5, 25],\n",
    "        [0.04, 1],\n",
    "        [0.161, 0.569],\n",
    "        [0.55, 2.55],\n",
    "        [0, 7],\n",
    "        [2 / 3.71, 8 / 3.71]]),\n",
    "        setvalues={\n",
    "            \"qbmb\": 0,\n",
    "            \"qo3\": 0.5,\n",
    "            \"threstemp\": 7.0,\n",
    "            \"lm\": 40,\n",
    "            \"ldtime\": 12,\n",
    "        },\n",
    "    )"
   ]
  },
  {
   "cell_type": "code",
   "execution_count": 142,
   "metadata": {},
   "outputs": [
    {
     "data": {
      "text/plain": [
       "['rlamdo',\n",
       " 'akapa',\n",
       " 'cpi',\n",
       " 'W',\n",
       " 'beto',\n",
       " 'lambda',\n",
       " 'mixed',\n",
       " 'qdirso2',\n",
       " 'qindso2',\n",
       " 'qbc',\n",
       " 'qoc',\n",
       " 'beta_f',\n",
       " 'mixed_carbon',\n",
       " 'qh2o_ch4']"
      ]
     },
     "execution_count": 142,
     "metadata": {},
     "output_type": "execute_result"
    }
   ],
   "source": [
    "testconfig.ordering"
   ]
  },
  {
   "cell_type": "code",
   "execution_count": null,
   "metadata": {},
   "outputs": [],
   "source": []
  },
  {
   "cell_type": "code",
   "execution_count": 143,
   "metadata": {},
   "outputs": [],
   "source": [
    "# NBVAL_IGNORE_OUTPUT\n",
    "scen = 'test'\n",
    "cscm_dir=CICEROSCM({\n",
    "            \"gaspam_data\": gaspam,\n",
    "            \"emstart\": 1750,  \n",
    "            \"conc_run\":False,\n",
    "            \"nystart\": 1750,\n",
    "            \"nyend\": 2100,\n",
    "            \"concentrations_data\": df_flat_conc,\n",
    "            \"emissions_data\": emi_input,\n",
    "            \"nat_ch4_data\": df_nat_ch4,\n",
    "            \"nat_n2o_data\": df_nat_n2o,\n",
    "            \"idtm\":24,\n",
    "        })"
   ]
  },
  {
   "cell_type": "code",
   "execution_count": 144,
   "metadata": {},
   "outputs": [
    {
     "data": {
      "text/plain": [
       "1000"
      ]
     },
     "execution_count": 144,
     "metadata": {},
     "output_type": "execute_result"
    }
   ],
   "source": [
    "len(opt)"
   ]
  },
  {
   "cell_type": "code",
   "execution_count": 145,
   "metadata": {},
   "outputs": [
    {
     "name": "stdout",
     "output_type": "stream",
     "text": [
      "[ 5.          0.04        0.161       0.55        0.          0.53908356\n",
      " 25.         -0.55       -1.5         0.1        -0.1         0.11\n",
      " 25.          0.08      ]\n",
      "[ 2.50000000e+01  1.00000000e+00  5.69000000e-01  2.55000000e+00\n",
      "  7.00000000e+00  2.15633423e+00  1.25000000e+02 -2.00000000e-01\n",
      " -5.00000000e-01  2.00000000e-01 -6.00000000e-02  4.65000000e-01\n",
      "  1.25000000e+02  1.00000000e-01]\n"
     ]
    }
   ],
   "source": [
    "distrorun1 = DistributionRun(testconfig, numvalues=len(opt))\n",
    "output_vars = [\"Heat Uptake\", \"Surface Air Temperature Change\"]\n"
   ]
  },
  {
   "cell_type": "code",
   "execution_count": 146,
   "metadata": {},
   "outputs": [],
   "source": [
    "def get_results(cfg):\n",
    "    try:\n",
    "        cscm_dir._run({\"results_as_dict\": True},pamset_udm=cfg['pamset_udm'],pamset_emiconc=cfg['pamset_emiconc'])\n",
    "        res=cscm_dir.results\n",
    "\n",
    "    except:\n",
    "        res=None\n",
    "    return [cfg,res]"
   ]
  },
  {
   "cell_type": "code",
   "execution_count": 147,
   "metadata": {},
   "outputs": [],
   "source": [
    "def run_parallel(cfgs,nworkers=4):\n",
    "    results=len(cfgs)*[None]\n",
    "    with ProcessPoolExecutor(nworkers) as exe:\n",
    "            # execute tasks concurrently and process results in order\n",
    "            pres=list(tqdm(exe.map(get_results, cfgs)))\n",
    "            for result in pres:\n",
    "                # get the corresponding index of the config\n",
    "                ind=int(result[0]['Index'])\n",
    "                # put it in the right element of the results vector\n",
    "                results[ind]=result[1]\n",
    "    return results"
   ]
  },
  {
   "cell_type": "code",
   "execution_count": 148,
   "metadata": {},
   "outputs": [
    {
     "data": {
      "text/plain": [
       "dict_keys(['pamset_udm', 'pamset_emiconc', 'Index'])"
      ]
     },
     "execution_count": 148,
     "metadata": {},
     "output_type": "execute_result"
    }
   ],
   "source": [
    "distrorun1.cfgs[0].keys()"
   ]
  },
  {
   "cell_type": "code",
   "execution_count": 149,
   "metadata": {},
   "outputs": [],
   "source": [
    "for j,c in enumerate(distrorun1.cfgs):\n",
    "    for typ in ['pamset_udm','pamset_emiconc']:\n",
    "        pkys=list(c[typ].keys())\n",
    "        ins=list(set(opt.iloc[j].keys()).intersection(pkys))\n",
    "        for i in ins:   \n",
    "            c[typ][i]=opt.iloc[j][i]\n"
   ]
  },
  {
   "cell_type": "code",
   "execution_count": 150,
   "metadata": {},
   "outputs": [],
   "source": [
    "cscm_dir._run({\"results_as_dict\": True},pamset_udm=distrorun1.cfgs[0]['pamset_udm'],pamset_emiconc=distrorun1.cfgs[0]['pamset_emiconc'])"
   ]
  },
  {
   "cell_type": "code",
   "execution_count": 151,
   "metadata": {},
   "outputs": [
    {
     "name": "stderr",
     "output_type": "stream",
     "text": [
      "1000it [00:24, 40.58it/s]\n"
     ]
    }
   ],
   "source": [
    "results=run_parallel(distrorun1.cfgs,nworkers=100)"
   ]
  },
  {
   "cell_type": "code",
   "execution_count": 183,
   "metadata": {},
   "outputs": [
    {
     "data": {
      "text/plain": [
       "<Axes: >"
      ]
     },
     "execution_count": 183,
     "metadata": {},
     "output_type": "execute_result"
    },
    {
     "data": {
      "image/png": "[encoded data removed]",
      "text/plain": [
       "<Figure size 640x480 with 1 Axes>"
      ]
     },
     "metadata": {},
     "output_type": "display_data"
    }
   ],
   "source": [
    "results[0]['forcing'].iloc[:,1:].plot()"
   ]
  },
  {
   "cell_type": "code",
   "execution_count": 179,
   "metadata": {},
   "outputs": [
    {
     "data": {
      "text/plain": [
       "<Axes: >"
      ]
     },
     "execution_count": 179,
     "metadata": {},
     "output_type": "execute_result"
    },
    {
     "data": {
      "image/png": "[encoded data removed]",
      "text/plain": [
       "<Figure size 640x480 with 1 Axes>"
      ]
     },
     "metadata": {},
     "output_type": "display_data"
    }
   ],
   "source": [
    "results[0]['forcing'].iloc[2:,:].plot()"
   ]
  },
  {
   "cell_type": "code",
   "execution_count": 167,
   "metadata": {},
   "outputs": [],
   "source": [
    "flds=['dT_glob','OHC700','concentrations-CO2','RIB_glob']"
   ]
  },
  {
   "cell_type": "code",
   "execution_count": 168,
   "metadata": {},
   "outputs": [],
   "source": [
    "isgd=np.where([r!=None for r in results])[0].astype(int)"
   ]
  },
  {
   "cell_type": "code",
   "execution_count": 169,
   "metadata": {},
   "outputs": [],
   "source": [
    "fresults = [results[i] for i in isgd]\n",
    "fcfgs=[distrorun1.cfgs[i] for i in isgd]"
   ]
  },
  {
   "cell_type": "code",
   "execution_count": 170,
   "metadata": {},
   "outputs": [],
   "source": [
    "def to_df(rs):\n",
    "\n",
    "    out=pd.concat([pd.DataFrame(v).reset_index(drop=True) for k, v in rs.items()], keys = rs.keys(),axis=1) \n",
    "    out.index=rs['forcing'].index\n",
    "    return out"
   ]
  },
  {
   "cell_type": "code",
   "execution_count": 171,
   "metadata": {},
   "outputs": [],
   "source": [
    "def make_ensdf(results,flds):\n",
    "    resdf=[]\n",
    "    for i,res in enumerate(results):\n",
    "        df=to_df(res)\n",
    "        test_list=df.columns.map('{0[0]}-{0[1]}'.format).tolist()\n",
    "        df.columns=[sub.replace('-0', '') for sub in test_list]\n",
    "        resdf.append(df[flds].unstack())\n",
    "    ensdf=pd.concat(resdf,axis=1)\n",
    "    return ensdf"
   ]
  },
  {
   "cell_type": "code",
   "execution_count": 172,
   "metadata": {},
   "outputs": [
    {
     "ename": "KeyError",
     "evalue": "\"['Forcing'] not in index\"",
     "output_type": "error",
     "traceback": [
      "\u001b[0;31m---------------------------------------------------------------------------\u001b[0m",
      "\u001b[0;31mKeyError\u001b[0m                                  Traceback (most recent call last)",
      "Cell \u001b[0;32mIn[172], line 1\u001b[0m\n\u001b[0;32m----> 1\u001b[0m df\u001b[38;5;241m=\u001b[39m\u001b[43mmake_ensdf\u001b[49m\u001b[43m(\u001b[49m\u001b[43mfresults\u001b[49m\u001b[43m,\u001b[49m\u001b[43mflds\u001b[49m\u001b[43m)\u001b[49m\n",
      "Cell \u001b[0;32mIn[171], line 7\u001b[0m, in \u001b[0;36mmake_ensdf\u001b[0;34m(results, flds)\u001b[0m\n\u001b[1;32m      5\u001b[0m     test_list\u001b[38;5;241m=\u001b[39mdf\u001b[38;5;241m.\u001b[39mcolumns\u001b[38;5;241m.\u001b[39mmap(\u001b[38;5;124m'\u001b[39m\u001b[38;5;132;01m{0[0]}\u001b[39;00m\u001b[38;5;124m-\u001b[39m\u001b[38;5;132;01m{0[1]}\u001b[39;00m\u001b[38;5;124m'\u001b[39m\u001b[38;5;241m.\u001b[39mformat)\u001b[38;5;241m.\u001b[39mtolist()\n\u001b[1;32m      6\u001b[0m     df\u001b[38;5;241m.\u001b[39mcolumns\u001b[38;5;241m=\u001b[39m[sub\u001b[38;5;241m.\u001b[39mreplace(\u001b[38;5;124m'\u001b[39m\u001b[38;5;124m-0\u001b[39m\u001b[38;5;124m'\u001b[39m, \u001b[38;5;124m'\u001b[39m\u001b[38;5;124m'\u001b[39m) \u001b[38;5;28;01mfor\u001b[39;00m sub \u001b[38;5;129;01min\u001b[39;00m test_list]\n\u001b[0;32m----> 7\u001b[0m     resdf\u001b[38;5;241m.\u001b[39mappend(\u001b[43mdf\u001b[49m\u001b[43m[\u001b[49m\u001b[43mflds\u001b[49m\u001b[43m]\u001b[49m\u001b[38;5;241m.\u001b[39munstack())\n\u001b[1;32m      8\u001b[0m ensdf\u001b[38;5;241m=\u001b[39mpd\u001b[38;5;241m.\u001b[39mconcat(resdf,axis\u001b[38;5;241m=\u001b[39m\u001b[38;5;241m1\u001b[39m)\n\u001b[1;32m      9\u001b[0m \u001b[38;5;28;01mreturn\u001b[39;00m ensdf\n",
      "File \u001b[0;32m~/ciceroscm-1/venv/lib/python3.8/site-packages/pandas/core/frame.py:3767\u001b[0m, in \u001b[0;36mDataFrame.__getitem__\u001b[0;34m(self, key)\u001b[0m\n\u001b[1;32m   3765\u001b[0m     \u001b[38;5;28;01mif\u001b[39;00m is_iterator(key):\n\u001b[1;32m   3766\u001b[0m         key \u001b[38;5;241m=\u001b[39m \u001b[38;5;28mlist\u001b[39m(key)\n\u001b[0;32m-> 3767\u001b[0m     indexer \u001b[38;5;241m=\u001b[39m \u001b[38;5;28;43mself\u001b[39;49m\u001b[38;5;241;43m.\u001b[39;49m\u001b[43mcolumns\u001b[49m\u001b[38;5;241;43m.\u001b[39;49m\u001b[43m_get_indexer_strict\u001b[49m\u001b[43m(\u001b[49m\u001b[43mkey\u001b[49m\u001b[43m,\u001b[49m\u001b[43m \u001b[49m\u001b[38;5;124;43m\"\u001b[39;49m\u001b[38;5;124;43mcolumns\u001b[39;49m\u001b[38;5;124;43m\"\u001b[39;49m\u001b[43m)\u001b[49m[\u001b[38;5;241m1\u001b[39m]\n\u001b[1;32m   3769\u001b[0m \u001b[38;5;66;03m# take() does not accept boolean indexers\u001b[39;00m\n\u001b[1;32m   3770\u001b[0m \u001b[38;5;28;01mif\u001b[39;00m \u001b[38;5;28mgetattr\u001b[39m(indexer, \u001b[38;5;124m\"\u001b[39m\u001b[38;5;124mdtype\u001b[39m\u001b[38;5;124m\"\u001b[39m, \u001b[38;5;28;01mNone\u001b[39;00m) \u001b[38;5;241m==\u001b[39m \u001b[38;5;28mbool\u001b[39m:\n",
      "File \u001b[0;32m~/ciceroscm-1/venv/lib/python3.8/site-packages/pandas/core/indexes/base.py:5877\u001b[0m, in \u001b[0;36mIndex._get_indexer_strict\u001b[0;34m(self, key, axis_name)\u001b[0m\n\u001b[1;32m   5874\u001b[0m \u001b[38;5;28;01melse\u001b[39;00m:\n\u001b[1;32m   5875\u001b[0m     keyarr, indexer, new_indexer \u001b[38;5;241m=\u001b[39m \u001b[38;5;28mself\u001b[39m\u001b[38;5;241m.\u001b[39m_reindex_non_unique(keyarr)\n\u001b[0;32m-> 5877\u001b[0m \u001b[38;5;28;43mself\u001b[39;49m\u001b[38;5;241;43m.\u001b[39;49m\u001b[43m_raise_if_missing\u001b[49m\u001b[43m(\u001b[49m\u001b[43mkeyarr\u001b[49m\u001b[43m,\u001b[49m\u001b[43m \u001b[49m\u001b[43mindexer\u001b[49m\u001b[43m,\u001b[49m\u001b[43m \u001b[49m\u001b[43maxis_name\u001b[49m\u001b[43m)\u001b[49m\n\u001b[1;32m   5879\u001b[0m keyarr \u001b[38;5;241m=\u001b[39m \u001b[38;5;28mself\u001b[39m\u001b[38;5;241m.\u001b[39mtake(indexer)\n\u001b[1;32m   5880\u001b[0m \u001b[38;5;28;01mif\u001b[39;00m \u001b[38;5;28misinstance\u001b[39m(key, Index):\n\u001b[1;32m   5881\u001b[0m     \u001b[38;5;66;03m# GH 42790 - Preserve name from an Index\u001b[39;00m\n",
      "File \u001b[0;32m~/ciceroscm-1/venv/lib/python3.8/site-packages/pandas/core/indexes/base.py:5941\u001b[0m, in \u001b[0;36mIndex._raise_if_missing\u001b[0;34m(self, key, indexer, axis_name)\u001b[0m\n\u001b[1;32m   5938\u001b[0m     \u001b[38;5;28;01mraise\u001b[39;00m \u001b[38;5;167;01mKeyError\u001b[39;00m(\u001b[38;5;124mf\u001b[39m\u001b[38;5;124m\"\u001b[39m\u001b[38;5;124mNone of [\u001b[39m\u001b[38;5;132;01m{\u001b[39;00mkey\u001b[38;5;132;01m}\u001b[39;00m\u001b[38;5;124m] are in the [\u001b[39m\u001b[38;5;132;01m{\u001b[39;00maxis_name\u001b[38;5;132;01m}\u001b[39;00m\u001b[38;5;124m]\u001b[39m\u001b[38;5;124m\"\u001b[39m)\n\u001b[1;32m   5940\u001b[0m not_found \u001b[38;5;241m=\u001b[39m \u001b[38;5;28mlist\u001b[39m(ensure_index(key)[missing_mask\u001b[38;5;241m.\u001b[39mnonzero()[\u001b[38;5;241m0\u001b[39m]]\u001b[38;5;241m.\u001b[39munique())\n\u001b[0;32m-> 5941\u001b[0m \u001b[38;5;28;01mraise\u001b[39;00m \u001b[38;5;167;01mKeyError\u001b[39;00m(\u001b[38;5;124mf\u001b[39m\u001b[38;5;124m\"\u001b[39m\u001b[38;5;132;01m{\u001b[39;00mnot_found\u001b[38;5;132;01m}\u001b[39;00m\u001b[38;5;124m not in index\u001b[39m\u001b[38;5;124m\"\u001b[39m)\n",
      "\u001b[0;31mKeyError\u001b[0m: \"['Forcing'] not in index\""
     ]
    }
   ],
   "source": [
    "df=make_ensdf(fresults,flds)"
   ]
  },
  {
   "cell_type": "code",
   "execution_count": 158,
   "metadata": {},
   "outputs": [],
   "source": [
    "issane=np.where(df.max()<1e8)[0]"
   ]
  },
  {
   "cell_type": "code",
   "execution_count": 159,
   "metadata": {},
   "outputs": [],
   "source": [
    "df1 = df.iloc[:,issane]\n",
    "fcfgs1=[fcfgs[i] for i in issane]"
   ]
  },
  {
   "cell_type": "code",
   "execution_count": 160,
   "metadata": {},
   "outputs": [],
   "source": [
    "df1.index.names = ['variable', 'year']\n",
    "df1.columns.names=['run_id']"
   ]
  },
  {
   "cell_type": "code",
   "execution_count": 161,
   "metadata": {},
   "outputs": [],
   "source": [
    "def plot_range(df, var, ax,col='k'):\n",
    "    Tdf=df.xs(var).T\n",
    "    lower = Tdf.quantile(0.10)\n",
    "    upper = Tdf.quantile(0.90)\n",
    "    ax.fill_between(Tdf.columns, lower, upper, color=col, alpha=0.2,edgecolor=None)\n",
    "    ax.plot(Tdf.columns, Tdf.mean(), color=col)\n",
    "\n"
   ]
  },
  {
   "cell_type": "code",
   "execution_count": 162,
   "metadata": {},
   "outputs": [
    {
     "data": {
      "text/plain": [
       "(-1.0, 5.0)"
      ]
     },
     "execution_count": 162,
     "metadata": {},
     "output_type": "execute_result"
    },
    {
     "data": {
      "image/png": "[encoded data removed]",
      "text/plain": [
       "<Figure size 1500x400 with 4 Axes>"
      ]
     },
     "metadata": {},
     "output_type": "display_data"
    }
   ],
   "source": [
    "fig, ax = plt.subplots( 1,len(flds) ,figsize=(15, 4))\n",
    "\n",
    "ax=ax.flatten()\n",
    "for i,f in enumerate(flds):\n",
    "    plot_range(df1, f, ax[i])\n",
    "    ax[i].set_title(f)\n",
    "ax[0].set_ylim([-5,5])\n",
    "ax[1].set_ylim([-1,200])\n",
    "ax[2].set_ylim([200,700])\n",
    "ax[3].set_ylim([-1,5])\n",
    "\n"
   ]
  },
  {
   "cell_type": "code",
   "execution_count": null,
   "metadata": {},
   "outputs": [],
   "source": []
  }
 ],
 "metadata": {
  "kernelspec": {
   "display_name": "venv",
   "language": "python",
   "name": "python3"
  },
  "language_info": {
   "codemirror_mode": {
    "name": "ipython",
    "version": 3
   },
   "file_extension": ".py",
   "mimetype": "text/x-python",
   "name": "python",
   "nbconvert_exporter": "python",
   "pygments_lexer": "ipython3",
   "version": "3.8.5"
  }
 },
 "nbformat": 4,
 "nbformat_minor": 2
}
