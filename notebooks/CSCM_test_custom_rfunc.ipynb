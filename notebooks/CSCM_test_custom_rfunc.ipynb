{
 "cells": [
  {
   "cell_type": "markdown",
   "id": "8e2328f2",
   "metadata": {},
   "source": [
    "# CICERO SCM notebook example - interactive input"
   ]
  },
  {
   "cell_type": "markdown",
   "id": "c7d6c91a",
   "metadata": {},
   "source": [
    "Import some stuff"
   ]
  },
  {
   "cell_type": "code",
   "execution_count": 1,
   "id": "51cdf382",
   "metadata": {
    "execution": {
     "iopub.execute_input": "2025-09-08T13:18:14.533227Z",
     "iopub.status.busy": "2025-09-08T13:18:14.532834Z",
     "iopub.status.idle": "2025-09-08T13:18:15.168031Z",
     "shell.execute_reply": "2025-09-08T13:18:15.167311Z"
    }
   },
   "outputs": [],
   "source": [
    "import sys\n",
    "import re\n",
    "import os\n",
    "import numpy as np\n",
    "import shutil\n",
    "import matplotlib.pyplot as plt\n",
    "import pandas as pd\n",
    "import pandas.testing as pdt\n",
    "import warnings\n",
    "try:\n",
    "    from pandas.core.common import SettingWithCopyWarning\n",
    "except:\n",
    "    from pandas.errors import SettingWithCopyWarning\n",
    "warnings.simplefilter(action=\"ignore\", category=SettingWithCopyWarning)"
   ]
  },
  {
   "cell_type": "code",
   "execution_count": 2,
   "id": "193834ab",
   "metadata": {
    "execution": {
     "iopub.execute_input": "2025-09-08T13:18:15.171575Z",
     "iopub.status.busy": "2025-09-08T13:18:15.171035Z",
     "iopub.status.idle": "2025-09-08T13:18:15.359016Z",
     "shell.execute_reply": "2025-09-08T13:18:15.358032Z"
    }
   },
   "outputs": [],
   "source": [
    "from ciceroscm.carbon_cycle.rfuns import *"
   ]
  },
  {
   "cell_type": "markdown",
   "id": "c4c273f7",
   "metadata": {},
   "source": [
    "Import the model"
   ]
  },
  {
   "cell_type": "code",
   "execution_count": 3,
   "id": "f3f7d2ef",
   "metadata": {
    "execution": {
     "iopub.execute_input": "2025-09-08T13:18:15.360996Z",
     "iopub.status.busy": "2025-09-08T13:18:15.360707Z",
     "iopub.status.idle": "2025-09-08T13:18:15.364263Z",
     "shell.execute_reply": "2025-09-08T13:18:15.363402Z"
    }
   },
   "outputs": [],
   "source": [
    "sys.path.insert(0,os.path.join(os.getcwd(), '../', 'src'))\n",
    "from ciceroscm import CICEROSCM"
   ]
  },
  {
   "cell_type": "markdown",
   "id": "1c38f49a",
   "metadata": {},
   "source": [
    "Define some input handling functions to give us example inputs"
   ]
  },
  {
   "cell_type": "code",
   "execution_count": 4,
   "id": "95d7c548",
   "metadata": {
    "execution": {
     "iopub.execute_input": "2025-09-08T13:18:15.365740Z",
     "iopub.status.busy": "2025-09-08T13:18:15.365608Z",
     "iopub.status.idle": "2025-09-08T13:18:15.368739Z",
     "shell.execute_reply": "2025-09-08T13:18:15.367732Z"
    }
   },
   "outputs": [],
   "source": [
    "from ciceroscm.input_handler import read_inputfile,read_components,read_natural_emissions"
   ]
  },
  {
   "cell_type": "markdown",
   "id": "08c20d53",
   "metadata": {},
   "source": [
    "Define a function to convert model output to a dataframe"
   ]
  },
  {
   "cell_type": "code",
   "execution_count": 5,
   "id": "60e34216",
   "metadata": {
    "execution": {
     "iopub.execute_input": "2025-09-08T13:18:15.371592Z",
     "iopub.status.busy": "2025-09-08T13:18:15.371299Z",
     "iopub.status.idle": "2025-09-08T13:18:15.375924Z",
     "shell.execute_reply": "2025-09-08T13:18:15.375147Z"
    }
   },
   "outputs": [],
   "source": [
    "def to_df(cscm):\n",
    "    out=pd.concat([pd.DataFrame(v) for k, v in cscm.results.items()], axis = 1, keys = list(cscm.results.keys()))\n",
    "    return out"
   ]
  },
  {
   "cell_type": "markdown",
   "id": "61fafe5a",
   "metadata": {},
   "source": [
    "set up input directories"
   ]
  },
  {
   "cell_type": "code",
   "execution_count": 6,
   "id": "1ea50bee",
   "metadata": {
    "execution": {
     "iopub.execute_input": "2025-09-08T13:18:15.377970Z",
     "iopub.status.busy": "2025-09-08T13:18:15.377783Z",
     "iopub.status.idle": "2025-09-08T13:18:15.380771Z",
     "shell.execute_reply": "2025-09-08T13:18:15.379970Z"
    }
   },
   "outputs": [],
   "source": [
    "test_data_dir = os.path.join(os.getcwd(), '../', 'tests', 'test-data')"
   ]
  },
  {
   "cell_type": "markdown",
   "id": "c2d00f05",
   "metadata": {},
   "source": [
    "# Read in datafiles into dataframes"
   ]
  },
  {
   "cell_type": "code",
   "execution_count": 7,
   "id": "22c1d304",
   "metadata": {
    "execution": {
     "iopub.execute_input": "2025-09-08T13:18:15.382684Z",
     "iopub.status.busy": "2025-09-08T13:18:15.382404Z",
     "iopub.status.idle": "2025-09-08T13:18:15.396092Z",
     "shell.execute_reply": "2025-09-08T13:18:15.395618Z"
    }
   },
   "outputs": [
    {
     "data": {
      "text/html": [
       "<div>\n",
       "<style scoped>\n",
       "    .dataframe tbody tr th:only-of-type {\n",
       "        vertical-align: middle;\n",
       "    }\n",
       "\n",
       "    .dataframe tbody tr th {\n",
       "        vertical-align: top;\n",
       "    }\n",
       "\n",
       "    .dataframe thead th {\n",
       "        text-align: right;\n",
       "    }\n",
       "</style>\n",
       "<table border=\"1\" class=\"dataframe\">\n",
       "  <thead>\n",
       "    <tr style=\"text-align: right;\">\n",
       "      <th></th>\n",
       "      <th>EM_UNIT</th>\n",
       "      <th>CONC_UNIT</th>\n",
       "      <th>BETA</th>\n",
       "      <th>ALPHA</th>\n",
       "      <th>TAU1</th>\n",
       "      <th>TAU2</th>\n",
       "      <th>TAU3</th>\n",
       "      <th>NAT_EM</th>\n",
       "      <th>SARF_TO_ERF</th>\n",
       "    </tr>\n",
       "    <tr>\n",
       "      <th>GAS</th>\n",
       "      <th></th>\n",
       "      <th></th>\n",
       "      <th></th>\n",
       "      <th></th>\n",
       "      <th></th>\n",
       "      <th></th>\n",
       "      <th></th>\n",
       "      <th></th>\n",
       "      <th></th>\n",
       "    </tr>\n",
       "  </thead>\n",
       "  <tbody>\n",
       "    <tr>\n",
       "      <th>CO2</th>\n",
       "      <td>Pg_C</td>\n",
       "      <td>ppm</td>\n",
       "      <td>2.123</td>\n",
       "      <td>0.00000</td>\n",
       "      <td>150.00</td>\n",
       "      <td>0</td>\n",
       "      <td>0</td>\n",
       "      <td>0.0</td>\n",
       "      <td>1.000000</td>\n",
       "    </tr>\n",
       "    <tr>\n",
       "      <th>CH4</th>\n",
       "      <td>Tg</td>\n",
       "      <td>ppb</td>\n",
       "      <td>2.780</td>\n",
       "      <td>0.00000</td>\n",
       "      <td>9.60</td>\n",
       "      <td>120</td>\n",
       "      <td>160</td>\n",
       "      <td>275.0</td>\n",
       "      <td>0.877193</td>\n",
       "    </tr>\n",
       "    <tr>\n",
       "      <th>N2O</th>\n",
       "      <td>Tg_N</td>\n",
       "      <td>ppb</td>\n",
       "      <td>4.810</td>\n",
       "      <td>0.00000</td>\n",
       "      <td>121.00</td>\n",
       "      <td>0</td>\n",
       "      <td>0</td>\n",
       "      <td>9.5</td>\n",
       "      <td>1.000000</td>\n",
       "    </tr>\n",
       "    <tr>\n",
       "      <th>SO2</th>\n",
       "      <td>Tg_SO2</td>\n",
       "      <td>-</td>\n",
       "      <td>11.000</td>\n",
       "      <td>0.00000</td>\n",
       "      <td>0.02</td>\n",
       "      <td>0</td>\n",
       "      <td>0</td>\n",
       "      <td>0.0</td>\n",
       "      <td>1.000000</td>\n",
       "    </tr>\n",
       "    <tr>\n",
       "      <th>CFC-11</th>\n",
       "      <td>Gg</td>\n",
       "      <td>ppt</td>\n",
       "      <td>22.600</td>\n",
       "      <td>0.00026</td>\n",
       "      <td>45.00</td>\n",
       "      <td>0</td>\n",
       "      <td>0</td>\n",
       "      <td>0.0</td>\n",
       "      <td>1.000000</td>\n",
       "    </tr>\n",
       "  </tbody>\n",
       "</table>\n",
       "</div>"
      ],
      "text/plain": [
       "       EM_UNIT CONC_UNIT    BETA    ALPHA    TAU1  TAU2  TAU3  NAT_EM  \\\n",
       "GAS                                                                     \n",
       "CO2       Pg_C       ppm   2.123  0.00000  150.00     0     0     0.0   \n",
       "CH4         Tg       ppb   2.780  0.00000    9.60   120   160   275.0   \n",
       "N2O       Tg_N       ppb   4.810  0.00000  121.00     0     0     9.5   \n",
       "SO2     Tg_SO2         -  11.000  0.00000    0.02     0     0     0.0   \n",
       "CFC-11      Gg       ppt  22.600  0.00026   45.00     0     0     0.0   \n",
       "\n",
       "        SARF_TO_ERF  \n",
       "GAS                  \n",
       "CO2        1.000000  \n",
       "CH4        0.877193  \n",
       "N2O        1.000000  \n",
       "SO2        1.000000  \n",
       "CFC-11     1.000000  "
      ]
     },
     "execution_count": 7,
     "metadata": {},
     "output_type": "execute_result"
    }
   ],
   "source": [
    "# NBVAL_IGNORE_OUTPUT\n",
    "#Read gas parameters\n",
    "gaspam =read_components(test_data_dir + '/gases_v1RCMIP.txt')\n",
    "gaspam.head()"
   ]
  },
  {
   "cell_type": "markdown",
   "id": "db6e7dad",
   "metadata": {},
   "source": [
    "Read natural emissions"
   ]
  },
  {
   "cell_type": "code",
   "execution_count": 8,
   "id": "4d2ec612",
   "metadata": {
    "execution": {
     "iopub.execute_input": "2025-09-08T13:18:15.397599Z",
     "iopub.status.busy": "2025-09-08T13:18:15.397459Z",
     "iopub.status.idle": "2025-09-08T13:18:15.407786Z",
     "shell.execute_reply": "2025-09-08T13:18:15.407064Z"
    }
   },
   "outputs": [
    {
     "data": {
      "text/html": [
       "<div>\n",
       "<style scoped>\n",
       "    .dataframe tbody tr th:only-of-type {\n",
       "        vertical-align: middle;\n",
       "    }\n",
       "\n",
       "    .dataframe tbody tr th {\n",
       "        vertical-align: top;\n",
       "    }\n",
       "\n",
       "    .dataframe thead th {\n",
       "        text-align: right;\n",
       "    }\n",
       "</style>\n",
       "<table border=\"1\" class=\"dataframe\">\n",
       "  <thead>\n",
       "    <tr style=\"text-align: right;\">\n",
       "      <th></th>\n",
       "      <th>CH4</th>\n",
       "    </tr>\n",
       "    <tr>\n",
       "      <th>year</th>\n",
       "      <th></th>\n",
       "    </tr>\n",
       "  </thead>\n",
       "  <tbody>\n",
       "    <tr>\n",
       "      <th>1750</th>\n",
       "      <td>269.4273</td>\n",
       "    </tr>\n",
       "    <tr>\n",
       "      <th>1751</th>\n",
       "      <td>270.9068</td>\n",
       "    </tr>\n",
       "    <tr>\n",
       "      <th>1752</th>\n",
       "      <td>273.0183</td>\n",
       "    </tr>\n",
       "    <tr>\n",
       "      <th>1753</th>\n",
       "      <td>272.0470</td>\n",
       "    </tr>\n",
       "    <tr>\n",
       "      <th>1754</th>\n",
       "      <td>271.1915</td>\n",
       "    </tr>\n",
       "  </tbody>\n",
       "</table>\n",
       "</div>"
      ],
      "text/plain": [
       "           CH4\n",
       "year          \n",
       "1750  269.4273\n",
       "1751  270.9068\n",
       "1752  273.0183\n",
       "1753  272.0470\n",
       "1754  271.1915"
      ]
     },
     "execution_count": 8,
     "metadata": {},
     "output_type": "execute_result"
    }
   ],
   "source": [
    "# NBVAL_IGNORE_OUTPUT\n",
    "df_nat_ch4 =read_natural_emissions(test_data_dir + '/natemis_ch4.txt','CH4')\n",
    "df_nat_n2o =read_natural_emissions(test_data_dir + '/natemis_n2o.txt','N2O')\n",
    "df_nat_ch4.head()\n"
   ]
  },
  {
   "cell_type": "markdown",
   "id": "43e19f0b",
   "metadata": {},
   "source": [
    "Read forcing"
   ]
  },
  {
   "cell_type": "code",
   "execution_count": 9,
   "id": "b8f04aae",
   "metadata": {
    "execution": {
     "iopub.execute_input": "2025-09-08T13:18:15.409383Z",
     "iopub.status.busy": "2025-09-08T13:18:15.409236Z",
     "iopub.status.idle": "2025-09-08T13:18:15.425182Z",
     "shell.execute_reply": "2025-09-08T13:18:15.424595Z"
    }
   },
   "outputs": [
    {
     "data": {
      "text/html": [
       "<div>\n",
       "<style scoped>\n",
       "    .dataframe tbody tr th:only-of-type {\n",
       "        vertical-align: middle;\n",
       "    }\n",
       "\n",
       "    .dataframe tbody tr th {\n",
       "        vertical-align: top;\n",
       "    }\n",
       "\n",
       "    .dataframe thead th {\n",
       "        text-align: right;\n",
       "    }\n",
       "</style>\n",
       "<table border=\"1\" class=\"dataframe\">\n",
       "  <thead>\n",
       "    <tr style=\"text-align: right;\">\n",
       "      <th></th>\n",
       "      <th>CO2</th>\n",
       "      <th>CH4</th>\n",
       "      <th>N2O</th>\n",
       "      <th>CFC-11</th>\n",
       "      <th>CFC-12</th>\n",
       "      <th>CFC-113</th>\n",
       "      <th>CFC-114</th>\n",
       "      <th>CFC-115</th>\n",
       "      <th>CH3Br</th>\n",
       "      <th>CCl4</th>\n",
       "      <th>...</th>\n",
       "      <th>HFC143a</th>\n",
       "      <th>HFC227ea</th>\n",
       "      <th>HFC23</th>\n",
       "      <th>HFC245fa</th>\n",
       "      <th>HFC32</th>\n",
       "      <th>HFC4310mee</th>\n",
       "      <th>C2F6</th>\n",
       "      <th>C6F14</th>\n",
       "      <th>CF4</th>\n",
       "      <th>SF6</th>\n",
       "    </tr>\n",
       "    <tr>\n",
       "      <th>Component</th>\n",
       "      <th></th>\n",
       "      <th></th>\n",
       "      <th></th>\n",
       "      <th></th>\n",
       "      <th></th>\n",
       "      <th></th>\n",
       "      <th></th>\n",
       "      <th></th>\n",
       "      <th></th>\n",
       "      <th></th>\n",
       "      <th></th>\n",
       "      <th></th>\n",
       "      <th></th>\n",
       "      <th></th>\n",
       "      <th></th>\n",
       "      <th></th>\n",
       "      <th></th>\n",
       "      <th></th>\n",
       "      <th></th>\n",
       "      <th></th>\n",
       "      <th></th>\n",
       "    </tr>\n",
       "  </thead>\n",
       "  <tbody>\n",
       "    <tr>\n",
       "      <th>1700</th>\n",
       "      <td>276.746000</td>\n",
       "      <td>706.054021</td>\n",
       "      <td>272.212049</td>\n",
       "      <td>0.0</td>\n",
       "      <td>0.0</td>\n",
       "      <td>0.0</td>\n",
       "      <td>0.0</td>\n",
       "      <td>0.0</td>\n",
       "      <td>5.299998</td>\n",
       "      <td>0.025</td>\n",
       "      <td>...</td>\n",
       "      <td>0.0</td>\n",
       "      <td>0.0</td>\n",
       "      <td>0.0</td>\n",
       "      <td>0.0</td>\n",
       "      <td>0.0</td>\n",
       "      <td>0.0</td>\n",
       "      <td>0.0</td>\n",
       "      <td>0.0</td>\n",
       "      <td>34.049999</td>\n",
       "      <td>0.0</td>\n",
       "    </tr>\n",
       "    <tr>\n",
       "      <th>1701</th>\n",
       "      <td>276.749995</td>\n",
       "      <td>706.247004</td>\n",
       "      <td>272.243047</td>\n",
       "      <td>0.0</td>\n",
       "      <td>0.0</td>\n",
       "      <td>0.0</td>\n",
       "      <td>0.0</td>\n",
       "      <td>0.0</td>\n",
       "      <td>5.299998</td>\n",
       "      <td>0.025</td>\n",
       "      <td>...</td>\n",
       "      <td>0.0</td>\n",
       "      <td>0.0</td>\n",
       "      <td>0.0</td>\n",
       "      <td>0.0</td>\n",
       "      <td>0.0</td>\n",
       "      <td>0.0</td>\n",
       "      <td>0.0</td>\n",
       "      <td>0.0</td>\n",
       "      <td>34.049999</td>\n",
       "      <td>0.0</td>\n",
       "    </tr>\n",
       "    <tr>\n",
       "      <th>1702</th>\n",
       "      <td>276.757998</td>\n",
       "      <td>706.375031</td>\n",
       "      <td>272.266047</td>\n",
       "      <td>0.0</td>\n",
       "      <td>0.0</td>\n",
       "      <td>0.0</td>\n",
       "      <td>0.0</td>\n",
       "      <td>0.0</td>\n",
       "      <td>5.299998</td>\n",
       "      <td>0.025</td>\n",
       "      <td>...</td>\n",
       "      <td>0.0</td>\n",
       "      <td>0.0</td>\n",
       "      <td>0.0</td>\n",
       "      <td>0.0</td>\n",
       "      <td>0.0</td>\n",
       "      <td>0.0</td>\n",
       "      <td>0.0</td>\n",
       "      <td>0.0</td>\n",
       "      <td>34.049999</td>\n",
       "      <td>0.0</td>\n",
       "    </tr>\n",
       "    <tr>\n",
       "      <th>1703</th>\n",
       "      <td>276.757001</td>\n",
       "      <td>706.491002</td>\n",
       "      <td>272.298047</td>\n",
       "      <td>0.0</td>\n",
       "      <td>0.0</td>\n",
       "      <td>0.0</td>\n",
       "      <td>0.0</td>\n",
       "      <td>0.0</td>\n",
       "      <td>5.299998</td>\n",
       "      <td>0.025</td>\n",
       "      <td>...</td>\n",
       "      <td>0.0</td>\n",
       "      <td>0.0</td>\n",
       "      <td>0.0</td>\n",
       "      <td>0.0</td>\n",
       "      <td>0.0</td>\n",
       "      <td>0.0</td>\n",
       "      <td>0.0</td>\n",
       "      <td>0.0</td>\n",
       "      <td>34.049999</td>\n",
       "      <td>0.0</td>\n",
       "    </tr>\n",
       "    <tr>\n",
       "      <th>1704</th>\n",
       "      <td>276.755000</td>\n",
       "      <td>706.602046</td>\n",
       "      <td>272.331052</td>\n",
       "      <td>0.0</td>\n",
       "      <td>0.0</td>\n",
       "      <td>0.0</td>\n",
       "      <td>0.0</td>\n",
       "      <td>0.0</td>\n",
       "      <td>5.299998</td>\n",
       "      <td>0.025</td>\n",
       "      <td>...</td>\n",
       "      <td>0.0</td>\n",
       "      <td>0.0</td>\n",
       "      <td>0.0</td>\n",
       "      <td>0.0</td>\n",
       "      <td>0.0</td>\n",
       "      <td>0.0</td>\n",
       "      <td>0.0</td>\n",
       "      <td>0.0</td>\n",
       "      <td>34.049999</td>\n",
       "      <td>0.0</td>\n",
       "    </tr>\n",
       "  </tbody>\n",
       "</table>\n",
       "<p>5 rows × 30 columns</p>\n",
       "</div>"
      ],
      "text/plain": [
       "                  CO2         CH4         N2O  CFC-11  CFC-12  CFC-113  \\\n",
       "Component                                                                \n",
       "1700       276.746000  706.054021  272.212049     0.0     0.0      0.0   \n",
       "1701       276.749995  706.247004  272.243047     0.0     0.0      0.0   \n",
       "1702       276.757998  706.375031  272.266047     0.0     0.0      0.0   \n",
       "1703       276.757001  706.491002  272.298047     0.0     0.0      0.0   \n",
       "1704       276.755000  706.602046  272.331052     0.0     0.0      0.0   \n",
       "\n",
       "           CFC-114  CFC-115     CH3Br   CCl4  ...  HFC143a  HFC227ea  HFC23  \\\n",
       "Component                                     ...                             \n",
       "1700           0.0      0.0  5.299998  0.025  ...      0.0       0.0    0.0   \n",
       "1701           0.0      0.0  5.299998  0.025  ...      0.0       0.0    0.0   \n",
       "1702           0.0      0.0  5.299998  0.025  ...      0.0       0.0    0.0   \n",
       "1703           0.0      0.0  5.299998  0.025  ...      0.0       0.0    0.0   \n",
       "1704           0.0      0.0  5.299998  0.025  ...      0.0       0.0    0.0   \n",
       "\n",
       "           HFC245fa  HFC32  HFC4310mee  C2F6  C6F14        CF4  SF6  \n",
       "Component                                                            \n",
       "1700            0.0    0.0         0.0   0.0    0.0  34.049999  0.0  \n",
       "1701            0.0    0.0         0.0   0.0    0.0  34.049999  0.0  \n",
       "1702            0.0    0.0         0.0   0.0    0.0  34.049999  0.0  \n",
       "1703            0.0    0.0         0.0   0.0    0.0  34.049999  0.0  \n",
       "1704            0.0    0.0         0.0   0.0    0.0  34.049999  0.0  \n",
       "\n",
       "[5 rows x 30 columns]"
      ]
     },
     "execution_count": 9,
     "metadata": {},
     "output_type": "execute_result"
    }
   ],
   "source": [
    "df_ssp2_conc =read_inputfile(test_data_dir + '/ssp245_conc_RCMIP.txt')\n",
    "df_ssp2_conc.head()"
   ]
  },
  {
   "cell_type": "code",
   "execution_count": 10,
   "id": "6706e9df",
   "metadata": {
    "execution": {
     "iopub.execute_input": "2025-09-08T13:18:15.427176Z",
     "iopub.status.busy": "2025-09-08T13:18:15.426996Z",
     "iopub.status.idle": "2025-09-08T13:18:15.443462Z",
     "shell.execute_reply": "2025-09-08T13:18:15.442907Z"
    }
   },
   "outputs": [
    {
     "data": {
      "text/html": [
       "<div>\n",
       "<style scoped>\n",
       "    .dataframe tbody tr th:only-of-type {\n",
       "        vertical-align: middle;\n",
       "    }\n",
       "\n",
       "    .dataframe tbody tr th {\n",
       "        vertical-align: top;\n",
       "    }\n",
       "\n",
       "    .dataframe thead th {\n",
       "        text-align: right;\n",
       "    }\n",
       "</style>\n",
       "<table border=\"1\" class=\"dataframe\">\n",
       "  <thead>\n",
       "    <tr style=\"text-align: right;\">\n",
       "      <th></th>\n",
       "      <th>CO2_FF</th>\n",
       "      <th>CO2_AFOLU</th>\n",
       "      <th>CH4</th>\n",
       "      <th>N2O</th>\n",
       "      <th>SO2</th>\n",
       "      <th>CFC-11</th>\n",
       "      <th>CFC-12</th>\n",
       "      <th>CFC-113</th>\n",
       "      <th>CFC-114</th>\n",
       "      <th>CFC-115</th>\n",
       "      <th>...</th>\n",
       "      <th>CF4</th>\n",
       "      <th>SF6</th>\n",
       "      <th>NOx</th>\n",
       "      <th>CO</th>\n",
       "      <th>NMVOC</th>\n",
       "      <th>NH3</th>\n",
       "      <th>BMB_AEROS_BC</th>\n",
       "      <th>BMB_AEROS_OC</th>\n",
       "      <th>BC</th>\n",
       "      <th>OC</th>\n",
       "    </tr>\n",
       "    <tr>\n",
       "      <th>Component</th>\n",
       "      <th></th>\n",
       "      <th></th>\n",
       "      <th></th>\n",
       "      <th></th>\n",
       "      <th></th>\n",
       "      <th></th>\n",
       "      <th></th>\n",
       "      <th></th>\n",
       "      <th></th>\n",
       "      <th></th>\n",
       "      <th></th>\n",
       "      <th></th>\n",
       "      <th></th>\n",
       "      <th></th>\n",
       "      <th></th>\n",
       "      <th></th>\n",
       "      <th></th>\n",
       "      <th></th>\n",
       "      <th></th>\n",
       "      <th></th>\n",
       "      <th></th>\n",
       "    </tr>\n",
       "  </thead>\n",
       "  <tbody>\n",
       "    <tr>\n",
       "      <th>1750</th>\n",
       "      <td>0.002592</td>\n",
       "      <td>0.081127</td>\n",
       "      <td>19.019783</td>\n",
       "      <td>0.054710</td>\n",
       "      <td>2.440048</td>\n",
       "      <td>0.0</td>\n",
       "      <td>0.0</td>\n",
       "      <td>0.0</td>\n",
       "      <td>0.0</td>\n",
       "      <td>0.0</td>\n",
       "      <td>...</td>\n",
       "      <td>0.010071</td>\n",
       "      <td>0.0</td>\n",
       "      <td>3.871504</td>\n",
       "      <td>348.527359</td>\n",
       "      <td>60.021826</td>\n",
       "      <td>6.927690</td>\n",
       "      <td>1.353250</td>\n",
       "      <td>12.520269</td>\n",
       "      <td>0.744520</td>\n",
       "      <td>2.927399</td>\n",
       "    </tr>\n",
       "    <tr>\n",
       "      <th>1751</th>\n",
       "      <td>0.002593</td>\n",
       "      <td>0.082619</td>\n",
       "      <td>18.915109</td>\n",
       "      <td>0.055744</td>\n",
       "      <td>2.408379</td>\n",
       "      <td>0.0</td>\n",
       "      <td>0.0</td>\n",
       "      <td>0.0</td>\n",
       "      <td>0.0</td>\n",
       "      <td>0.0</td>\n",
       "      <td>...</td>\n",
       "      <td>0.010071</td>\n",
       "      <td>0.0</td>\n",
       "      <td>3.828060</td>\n",
       "      <td>343.926367</td>\n",
       "      <td>59.088126</td>\n",
       "      <td>6.860142</td>\n",
       "      <td>1.335274</td>\n",
       "      <td>12.279280</td>\n",
       "      <td>0.737652</td>\n",
       "      <td>2.909437</td>\n",
       "    </tr>\n",
       "    <tr>\n",
       "      <th>1752</th>\n",
       "      <td>0.002594</td>\n",
       "      <td>0.084139</td>\n",
       "      <td>18.889712</td>\n",
       "      <td>0.056797</td>\n",
       "      <td>2.397116</td>\n",
       "      <td>0.0</td>\n",
       "      <td>0.0</td>\n",
       "      <td>0.0</td>\n",
       "      <td>0.0</td>\n",
       "      <td>0.0</td>\n",
       "      <td>...</td>\n",
       "      <td>0.010071</td>\n",
       "      <td>0.0</td>\n",
       "      <td>3.828658</td>\n",
       "      <td>341.809034</td>\n",
       "      <td>58.631997</td>\n",
       "      <td>6.819482</td>\n",
       "      <td>1.326617</td>\n",
       "      <td>12.121816</td>\n",
       "      <td>0.737695</td>\n",
       "      <td>2.912659</td>\n",
       "    </tr>\n",
       "    <tr>\n",
       "      <th>1753</th>\n",
       "      <td>0.002594</td>\n",
       "      <td>0.085687</td>\n",
       "      <td>19.121377</td>\n",
       "      <td>0.057870</td>\n",
       "      <td>2.410693</td>\n",
       "      <td>0.0</td>\n",
       "      <td>0.0</td>\n",
       "      <td>0.0</td>\n",
       "      <td>0.0</td>\n",
       "      <td>0.0</td>\n",
       "      <td>...</td>\n",
       "      <td>0.010071</td>\n",
       "      <td>0.0</td>\n",
       "      <td>3.812105</td>\n",
       "      <td>343.675456</td>\n",
       "      <td>59.026349</td>\n",
       "      <td>6.881439</td>\n",
       "      <td>1.328560</td>\n",
       "      <td>12.249330</td>\n",
       "      <td>0.743391</td>\n",
       "      <td>2.933215</td>\n",
       "    </tr>\n",
       "    <tr>\n",
       "      <th>1754</th>\n",
       "      <td>0.002595</td>\n",
       "      <td>0.087263</td>\n",
       "      <td>19.509061</td>\n",
       "      <td>0.058963</td>\n",
       "      <td>2.462065</td>\n",
       "      <td>0.0</td>\n",
       "      <td>0.0</td>\n",
       "      <td>0.0</td>\n",
       "      <td>0.0</td>\n",
       "      <td>0.0</td>\n",
       "      <td>...</td>\n",
       "      <td>0.010071</td>\n",
       "      <td>0.0</td>\n",
       "      <td>3.841598</td>\n",
       "      <td>349.815625</td>\n",
       "      <td>60.269945</td>\n",
       "      <td>7.015189</td>\n",
       "      <td>1.346553</td>\n",
       "      <td>12.593635</td>\n",
       "      <td>0.752796</td>\n",
       "      <td>2.965138</td>\n",
       "    </tr>\n",
       "  </tbody>\n",
       "</table>\n",
       "<p>5 rows × 40 columns</p>\n",
       "</div>"
      ],
      "text/plain": [
       "             CO2_FF  CO2_AFOLU        CH4       N2O       SO2  CFC-11  CFC-12  \\\n",
       "Component                                                                       \n",
       "1750       0.002592   0.081127  19.019783  0.054710  2.440048     0.0     0.0   \n",
       "1751       0.002593   0.082619  18.915109  0.055744  2.408379     0.0     0.0   \n",
       "1752       0.002594   0.084139  18.889712  0.056797  2.397116     0.0     0.0   \n",
       "1753       0.002594   0.085687  19.121377  0.057870  2.410693     0.0     0.0   \n",
       "1754       0.002595   0.087263  19.509061  0.058963  2.462065     0.0     0.0   \n",
       "\n",
       "           CFC-113  CFC-114  CFC-115  ...       CF4  SF6       NOx  \\\n",
       "Component                             ...                            \n",
       "1750           0.0      0.0      0.0  ...  0.010071  0.0  3.871504   \n",
       "1751           0.0      0.0      0.0  ...  0.010071  0.0  3.828060   \n",
       "1752           0.0      0.0      0.0  ...  0.010071  0.0  3.828658   \n",
       "1753           0.0      0.0      0.0  ...  0.010071  0.0  3.812105   \n",
       "1754           0.0      0.0      0.0  ...  0.010071  0.0  3.841598   \n",
       "\n",
       "                   CO      NMVOC       NH3  BMB_AEROS_BC  BMB_AEROS_OC  \\\n",
       "Component                                                                \n",
       "1750       348.527359  60.021826  6.927690      1.353250     12.520269   \n",
       "1751       343.926367  59.088126  6.860142      1.335274     12.279280   \n",
       "1752       341.809034  58.631997  6.819482      1.326617     12.121816   \n",
       "1753       343.675456  59.026349  6.881439      1.328560     12.249330   \n",
       "1754       349.815625  60.269945  7.015189      1.346553     12.593635   \n",
       "\n",
       "                 BC        OC  \n",
       "Component                      \n",
       "1750       0.744520  2.927399  \n",
       "1751       0.737652  2.909437  \n",
       "1752       0.737695  2.912659  \n",
       "1753       0.743391  2.933215  \n",
       "1754       0.752796  2.965138  \n",
       "\n",
       "[5 rows x 40 columns]"
      ]
     },
     "execution_count": 10,
     "metadata": {},
     "output_type": "execute_result"
    }
   ],
   "source": [
    "emi_input =read_inputfile(test_data_dir + '/ssp245_em_RCMIP.txt')\n",
    "emi_input.rename(columns={\"CO2\": \"CO2_FF\", \"CO2.1\": \"CO2_AFOLU\"}, inplace=True)\n",
    "emi_input.head()"
   ]
  },
  {
   "cell_type": "markdown",
   "id": "790d6bc5",
   "metadata": {},
   "source": [
    "# Set up model run with defined input variables"
   ]
  },
  {
   "cell_type": "markdown",
   "id": "ea51ff0f",
   "metadata": {},
   "source": [
    "and run it!"
   ]
  },
  {
   "cell_type": "code",
   "execution_count": 11,
   "id": "c67a7589",
   "metadata": {
    "execution": {
     "iopub.execute_input": "2025-09-08T13:18:15.444929Z",
     "iopub.status.busy": "2025-09-08T13:18:15.444799Z",
     "iopub.status.idle": "2025-09-08T13:18:15.447945Z",
     "shell.execute_reply": "2025-09-08T13:18:15.447432Z"
    }
   },
   "outputs": [],
   "source": [
    "pamset_udm={\"threstemp\": 7.0, #scales vertical velocity as a function of mixed layer temperature\n",
    "                    \"rlamdo\":16.0,#air-sea heat exchange coefficient (wm^-2K^-1)\n",
    "                    \"akapa\":0.634, #vertical heat diffusivity\n",
    "                    \"cpi\":0.4, #temperature change ratio: polar to nonpolar region\n",
    "                    \"W\":4, #vertical velocity (m/yr)\n",
    "                    \"beto\":3.5, #ocean interhemispheric heat exchange coeff (Wm^-2K^-1)\n",
    "                    \"lambda\":0.54,\n",
    "                    \"mixed\":60.0,  #mixed layer depth\n",
    "                    \"foan\":0.61, #fraction of northern hemisphere covered by ocean\n",
    "                    \"foas\":0.81, #fraction of northern hemisphere covered by ocean\n",
    "                    \"ebbeta\":0.0,#atmospheric interhemispheric heat exchange \n",
    "                    \"fnso\":0.7531, #ocean area ratio, northern to southern hemisphere\n",
    "                    \"lm\":40, #number of vertical layers\n",
    "                    \"ldtime\":12,\n",
    "                   }\n",
    "pamset_emiconc={\"lamb\": 0.8,\n",
    "                    \"qbmb\":0.03,\n",
    "                    \"qo3\":0.4,\n",
    "                    \"qdirso2\":-.457,\n",
    "                    \"qindso2\":-.514,\n",
    "                    \"qbc\":.2,\n",
    "                    \"qh2o_ch4\":.171,\n",
    "                    \"qoc\":-.103,\n",
    "                    \"ref_yr\":2010,\n",
    "                    \"idtm\":24}"
   ]
  },
  {
   "cell_type": "code",
   "execution_count": 12,
   "id": "c4ae176e",
   "metadata": {
    "execution": {
     "iopub.execute_input": "2025-09-08T13:18:15.449097Z",
     "iopub.status.busy": "2025-09-08T13:18:15.448984Z",
     "iopub.status.idle": "2025-09-08T13:18:15.498366Z",
     "shell.execute_reply": "2025-09-08T13:18:15.497808Z"
    }
   },
   "outputs": [],
   "source": [
    "# NBVAL_IGNORE_OUTPUT\n",
    "scen = 'test'\n",
    "cscm_custom=CICEROSCM({\n",
    "            \"gaspam_data\": gaspam,\n",
    "            \"emstart\": 1750,  \n",
    "            \"conc_run\":True,\n",
    "            \"nystart\": 1750,\n",
    "            \"nyend\": 2100,\n",
    "            \"concentrations_data\": df_ssp2_conc,\n",
    "            \"emissions_data\": emi_input,\n",
    "            \"nat_ch4_data\": df_nat_ch4,\n",
    "            \"nat_n2o_data\": df_nat_n2o,\n",
    "            \"idtm\":24,\n",
    "            \"rs_function\": {\n",
    "                    \"coeffs\": [0.05, 1.0,0.15,0.15,0.15],\n",
    "                    \"timescales\": [.8,3,10,80],\n",
    "                },\n",
    "            \"rb_function\": {\"coeffs\": [0.5, 0.25, 0.25], \"timescales\": [2.5, 10, 60]},\n",
    "\n",
    "        })\n",
    "\n",
    "cscm_org=CICEROSCM({\n",
    "            \"gaspam_data\": gaspam,\n",
    "            \"emstart\": 1750,  \n",
    "            \"conc_run\":True,\n",
    "            \"nystart\": 1750,\n",
    "            \"nyend\": 2100,\n",
    "            \"concentrations_data\": df_ssp2_conc,\n",
    "            \"emissions_data\": emi_input,\n",
    "            \"nat_ch4_data\": df_nat_ch4,\n",
    "            \"nat_n2o_data\": df_nat_n2o,\n",
    "            \"idtm\":24\n",
    "        })"
   ]
  },
  {
   "cell_type": "code",
   "execution_count": 13,
   "id": "e72d0a88",
   "metadata": {
    "execution": {
     "iopub.execute_input": "2025-09-08T13:18:15.500139Z",
     "iopub.status.busy": "2025-09-08T13:18:15.499993Z",
     "iopub.status.idle": "2025-09-08T13:18:16.340872Z",
     "shell.execute_reply": "2025-09-08T13:18:16.340002Z"
    }
   },
   "outputs": [],
   "source": [
    "# NBVAL_IGNORE_OUTPUT\n",
    "cscm_custom._run({\n",
    "            \"results_as_dict\":True\n",
    "            },pamset_emiconc=pamset_emiconc,pamset_udm=pamset_udm)\n",
    "cscm_org._run({\n",
    "            \"results_as_dict\":True\n",
    "            },pamset_emiconc=pamset_emiconc,pamset_udm=pamset_udm)    "
   ]
  },
  {
   "cell_type": "markdown",
   "id": "14980751",
   "metadata": {},
   "source": [
    "List available output"
   ]
  },
  {
   "cell_type": "code",
   "execution_count": 14,
   "id": "94385528",
   "metadata": {
    "execution": {
     "iopub.execute_input": "2025-09-08T13:18:16.343492Z",
     "iopub.status.busy": "2025-09-08T13:18:16.343253Z",
     "iopub.status.idle": "2025-09-08T13:18:16.439882Z",
     "shell.execute_reply": "2025-09-08T13:18:16.439191Z"
    }
   },
   "outputs": [
    {
     "data": {
      "text/plain": [
       "[<matplotlib.lines.Line2D at 0x7ca57b187590>]"
      ]
     },
     "execution_count": 14,
     "metadata": {},
     "output_type": "execute_result"
    },
    {
     "data": {
      "image/png": "[encoded data removed]",
      "text/plain": [
       "<Figure size 640x480 with 1 Axes>"
      ]
     },
     "metadata": {},
     "output_type": "display_data"
    }
   ],
   "source": [
    "# NBVAL_IGNORE_OUTPUT\n",
    "plt.plot(cscm_custom.ce_handler.carbon_cycle.r_functions[0,:])\n",
    "plt.plot(cscm_org.ce_handler.carbon_cycle.r_functions[0,:])\n"
   ]
  },
  {
   "cell_type": "code",
   "execution_count": 15,
   "id": "61f4fc25",
   "metadata": {
    "execution": {
     "iopub.execute_input": "2025-09-08T13:18:16.441646Z",
     "iopub.status.busy": "2025-09-08T13:18:16.441491Z",
     "iopub.status.idle": "2025-09-08T13:18:16.530181Z",
     "shell.execute_reply": "2025-09-08T13:18:16.529412Z"
    }
   },
   "outputs": [
    {
     "data": {
      "text/plain": [
       "[<matplotlib.lines.Line2D at 0x7ca578e98c90>]"
      ]
     },
     "execution_count": 15,
     "metadata": {},
     "output_type": "execute_result"
    },
    {
     "data": {
      "image/png": "[encoded data removed]",
      "text/plain": [
       "<Figure size 640x480 with 1 Axes>"
      ]
     },
     "metadata": {},
     "output_type": "display_data"
    }
   ],
   "source": [
    "# NBVAL_IGNORE_OUTPUT\n",
    "plt.plot(np.cumsum(cscm_custom.ce_handler.carbon_cycle.r_functions[1,:]/24))\n",
    "plt.plot(np.cumsum(cscm_org.ce_handler.carbon_cycle.r_functions[1,:]/24))\n"
   ]
  }
 ],
 "metadata": {
  "kernelspec": {
   "display_name": "Python 3 (ipykernel)",
   "language": "python",
   "name": "python3"
  },
  "language_info": {
   "codemirror_mode": {
    "name": "ipython",
    "version": 3
   },
   "file_extension": ".py",
   "mimetype": "text/x-python",
   "name": "python",
   "nbconvert_exporter": "python",
   "pygments_lexer": "ipython3",
   "version": "3.11.13"
  }
 },
 "nbformat": 4,
 "nbformat_minor": 5
}
