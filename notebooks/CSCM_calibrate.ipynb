{
 "cells": [
  {
   "cell_type": "markdown",
   "id": "8e2328f2",
   "metadata": {},
   "source": [
    "# CICERO SCM notebook example - interactive input"
   ]
  },
  {
   "cell_type": "markdown",
   "id": "c7d6c91a",
   "metadata": {},
   "source": [
    "Import some stuff"
   ]
  },
  {
   "cell_type": "code",
   "execution_count": 1,
   "id": "51cdf382",
   "metadata": {},
   "outputs": [],
   "source": [
    "import sys\n",
    "import re\n",
    "import os\n",
    "import numpy as np\n",
    "import shutil\n",
    "import matplotlib.pyplot as plt\n",
    "import pandas as pd\n",
    "import pandas.testing as pdt\n",
    "import warnings\n",
    "import logging\n",
    "\n",
    "try:\n",
    "    from pandas.core.common import SettingWithCopyWarning\n",
    "except:\n",
    "    from pandas.errors import SettingWithCopyWarning\n",
    "warnings.simplefilter(action=\"ignore\", category=SettingWithCopyWarning)\n",
    "warnings.filterwarnings(\"ignore\", message=\".*Parameter.*\")"
   ]
  },
  {
   "cell_type": "code",
   "execution_count": 21,
   "id": "6c1f91b4",
   "metadata": {},
   "outputs": [],
   "source": [
    "class DisableLogger():\n",
    "    def __enter__(self):\n",
    "       logging.disable(logging.CRITICAL)\n",
    "    def __exit__(self, exit_type, exit_value, exit_traceback):\n",
    "       logging.disable(logging.NOTSET)"
   ]
  },
  {
   "cell_type": "code",
   "execution_count": 3,
   "id": "30c5df12",
   "metadata": {},
   "outputs": [
    {
     "name": "stderr",
     "output_type": "stream",
     "text": [
      "/Users/sanderson/Documents/GitHub/ciceroscm/venv/lib/python3.12/site-packages/scmdata/database/_database.py:9: TqdmExperimentalWarning: Using `tqdm.autonotebook.tqdm` in notebook mode. Use `tqdm.tqdm` instead to force console mode (e.g. in jupyter console)\n",
      "  import tqdm.autonotebook as tqdman\n"
     ]
    }
   ],
   "source": [
    "from ciceroscm.parallel._configdistro import _ConfigDistro\n",
    "from ciceroscm.parallel.calibrator import Calibrator\n",
    "from ciceroscm.parallel.distributionrun import DistributionRun\n"
   ]
  },
  {
   "cell_type": "markdown",
   "id": "c4c273f7",
   "metadata": {},
   "source": [
    "Import the model"
   ]
  },
  {
   "cell_type": "code",
   "execution_count": 4,
   "id": "f3f7d2ef",
   "metadata": {},
   "outputs": [],
   "source": [
    "sys.path.insert(0,os.path.join(os.getcwd(), '../', 'src'))\n",
    "from ciceroscm import CICEROSCM"
   ]
  },
  {
   "cell_type": "markdown",
   "id": "1c38f49a",
   "metadata": {},
   "source": [
    "Define some input handling functions to give us example inputs"
   ]
  },
  {
   "cell_type": "code",
   "execution_count": 5,
   "id": "95d7c548",
   "metadata": {},
   "outputs": [],
   "source": [
    "from ciceroscm.input_handler import read_inputfile,read_components,read_natural_emissions"
   ]
  },
  {
   "cell_type": "markdown",
   "id": "08c20d53",
   "metadata": {},
   "source": [
    "Define a function to convert model output to a dataframe"
   ]
  },
  {
   "cell_type": "code",
   "execution_count": 6,
   "id": "60e34216",
   "metadata": {},
   "outputs": [],
   "source": [
    "def to_df(cscm):\n",
    "    out=pd.concat([pd.DataFrame(v) for k, v in cscm.results.items()], axis = 1, keys = list(cscm.results.keys()))\n",
    "    return out"
   ]
  },
  {
   "cell_type": "markdown",
   "id": "61fafe5a",
   "metadata": {},
   "source": [
    "set up input directories"
   ]
  },
  {
   "cell_type": "code",
   "execution_count": 7,
   "id": "1ea50bee",
   "metadata": {},
   "outputs": [],
   "source": [
    "test_data_dir = os.path.join(os.getcwd(), '../', 'tests', 'test-data')"
   ]
  },
  {
   "cell_type": "markdown",
   "id": "c2d00f05",
   "metadata": {},
   "source": [
    "# Read in datafiles into dataframes"
   ]
  },
  {
   "cell_type": "code",
   "execution_count": 8,
   "id": "22c1d304",
   "metadata": {},
   "outputs": [
    {
     "data": {
      "text/html": [
       "<div>\n",
       "<style scoped>\n",
       "    .dataframe tbody tr th:only-of-type {\n",
       "        vertical-align: middle;\n",
       "    }\n",
       "\n",
       "    .dataframe tbody tr th {\n",
       "        vertical-align: top;\n",
       "    }\n",
       "\n",
       "    .dataframe thead th {\n",
       "        text-align: right;\n",
       "    }\n",
       "</style>\n",
       "<table border=\"1\" class=\"dataframe\">\n",
       "  <thead>\n",
       "    <tr style=\"text-align: right;\">\n",
       "      <th></th>\n",
       "      <th>EM_UNIT</th>\n",
       "      <th>CONC_UNIT</th>\n",
       "      <th>BETA</th>\n",
       "      <th>ALPHA</th>\n",
       "      <th>TAU1</th>\n",
       "      <th>TAU2</th>\n",
       "      <th>TAU3</th>\n",
       "      <th>NAT_EM</th>\n",
       "      <th>SARF_TO_ERF</th>\n",
       "    </tr>\n",
       "    <tr>\n",
       "      <th>GAS</th>\n",
       "      <th></th>\n",
       "      <th></th>\n",
       "      <th></th>\n",
       "      <th></th>\n",
       "      <th></th>\n",
       "      <th></th>\n",
       "      <th></th>\n",
       "      <th></th>\n",
       "      <th></th>\n",
       "    </tr>\n",
       "  </thead>\n",
       "  <tbody>\n",
       "    <tr>\n",
       "      <th>CO2</th>\n",
       "      <td>Pg_C</td>\n",
       "      <td>ppm</td>\n",
       "      <td>2.123</td>\n",
       "      <td>0.00000</td>\n",
       "      <td>150.00</td>\n",
       "      <td>0</td>\n",
       "      <td>0</td>\n",
       "      <td>0.0</td>\n",
       "      <td>1.000000</td>\n",
       "    </tr>\n",
       "    <tr>\n",
       "      <th>CH4</th>\n",
       "      <td>Tg</td>\n",
       "      <td>ppb</td>\n",
       "      <td>2.780</td>\n",
       "      <td>0.00000</td>\n",
       "      <td>9.60</td>\n",
       "      <td>120</td>\n",
       "      <td>160</td>\n",
       "      <td>275.0</td>\n",
       "      <td>0.877193</td>\n",
       "    </tr>\n",
       "    <tr>\n",
       "      <th>N2O</th>\n",
       "      <td>Tg_N</td>\n",
       "      <td>ppb</td>\n",
       "      <td>4.810</td>\n",
       "      <td>0.00000</td>\n",
       "      <td>121.00</td>\n",
       "      <td>0</td>\n",
       "      <td>0</td>\n",
       "      <td>9.5</td>\n",
       "      <td>1.000000</td>\n",
       "    </tr>\n",
       "    <tr>\n",
       "      <th>SO2</th>\n",
       "      <td>Tg_S</td>\n",
       "      <td>-</td>\n",
       "      <td>11.000</td>\n",
       "      <td>0.00000</td>\n",
       "      <td>0.02</td>\n",
       "      <td>0</td>\n",
       "      <td>0</td>\n",
       "      <td>0.0</td>\n",
       "      <td>1.000000</td>\n",
       "    </tr>\n",
       "    <tr>\n",
       "      <th>CFC-11</th>\n",
       "      <td>Gg</td>\n",
       "      <td>ppt</td>\n",
       "      <td>22.600</td>\n",
       "      <td>0.00026</td>\n",
       "      <td>45.00</td>\n",
       "      <td>0</td>\n",
       "      <td>0</td>\n",
       "      <td>0.0</td>\n",
       "      <td>1.000000</td>\n",
       "    </tr>\n",
       "  </tbody>\n",
       "</table>\n",
       "</div>"
      ],
      "text/plain": [
       "       EM_UNIT CONC_UNIT    BETA    ALPHA    TAU1  TAU2  TAU3  NAT_EM  \\\n",
       "GAS                                                                     \n",
       "CO2       Pg_C       ppm   2.123  0.00000  150.00     0     0     0.0   \n",
       "CH4         Tg       ppb   2.780  0.00000    9.60   120   160   275.0   \n",
       "N2O       Tg_N       ppb   4.810  0.00000  121.00     0     0     9.5   \n",
       "SO2       Tg_S         -  11.000  0.00000    0.02     0     0     0.0   \n",
       "CFC-11      Gg       ppt  22.600  0.00026   45.00     0     0     0.0   \n",
       "\n",
       "        SARF_TO_ERF  \n",
       "GAS                  \n",
       "CO2        1.000000  \n",
       "CH4        0.877193  \n",
       "N2O        1.000000  \n",
       "SO2        1.000000  \n",
       "CFC-11     1.000000  "
      ]
     },
     "execution_count": 8,
     "metadata": {},
     "output_type": "execute_result"
    }
   ],
   "source": [
    "# NBVAL_IGNORE_OUTPUT\n",
    "#Read gas parameters\n",
    "gaspam =read_components(test_data_dir + '/gases_v1RCMIP.txt')\n",
    "gaspam.head()"
   ]
  },
  {
   "cell_type": "markdown",
   "id": "db6e7dad",
   "metadata": {},
   "source": [
    "Read natural emissions"
   ]
  },
  {
   "cell_type": "code",
   "execution_count": 9,
   "id": "4d2ec612",
   "metadata": {},
   "outputs": [
    {
     "data": {
      "text/html": [
       "<div>\n",
       "<style scoped>\n",
       "    .dataframe tbody tr th:only-of-type {\n",
       "        vertical-align: middle;\n",
       "    }\n",
       "\n",
       "    .dataframe tbody tr th {\n",
       "        vertical-align: top;\n",
       "    }\n",
       "\n",
       "    .dataframe thead th {\n",
       "        text-align: right;\n",
       "    }\n",
       "</style>\n",
       "<table border=\"1\" class=\"dataframe\">\n",
       "  <thead>\n",
       "    <tr style=\"text-align: right;\">\n",
       "      <th></th>\n",
       "      <th>CH4</th>\n",
       "    </tr>\n",
       "    <tr>\n",
       "      <th>year</th>\n",
       "      <th></th>\n",
       "    </tr>\n",
       "  </thead>\n",
       "  <tbody>\n",
       "    <tr>\n",
       "      <th>1750</th>\n",
       "      <td>269.4273</td>\n",
       "    </tr>\n",
       "    <tr>\n",
       "      <th>1751</th>\n",
       "      <td>270.9068</td>\n",
       "    </tr>\n",
       "    <tr>\n",
       "      <th>1752</th>\n",
       "      <td>273.0183</td>\n",
       "    </tr>\n",
       "    <tr>\n",
       "      <th>1753</th>\n",
       "      <td>272.0470</td>\n",
       "    </tr>\n",
       "    <tr>\n",
       "      <th>1754</th>\n",
       "      <td>271.1915</td>\n",
       "    </tr>\n",
       "  </tbody>\n",
       "</table>\n",
       "</div>"
      ],
      "text/plain": [
       "           CH4\n",
       "year          \n",
       "1750  269.4273\n",
       "1751  270.9068\n",
       "1752  273.0183\n",
       "1753  272.0470\n",
       "1754  271.1915"
      ]
     },
     "execution_count": 9,
     "metadata": {},
     "output_type": "execute_result"
    }
   ],
   "source": [
    "# NBVAL_IGNORE_OUTPUT\n",
    "df_nat_ch4 =read_natural_emissions(test_data_dir + '/natemis_ch4.txt','CH4')\n",
    "df_nat_n2o =read_natural_emissions(test_data_dir + '/natemis_n2o.txt','N2O')\n",
    "df_nat_ch4.head()\n"
   ]
  },
  {
   "cell_type": "markdown",
   "id": "43e19f0b",
   "metadata": {},
   "source": [
    "Read forcing"
   ]
  },
  {
   "cell_type": "code",
   "execution_count": 10,
   "id": "b8f04aae",
   "metadata": {},
   "outputs": [
    {
     "data": {
      "text/html": [
       "<div>\n",
       "<style scoped>\n",
       "    .dataframe tbody tr th:only-of-type {\n",
       "        vertical-align: middle;\n",
       "    }\n",
       "\n",
       "    .dataframe tbody tr th {\n",
       "        vertical-align: top;\n",
       "    }\n",
       "\n",
       "    .dataframe thead th {\n",
       "        text-align: right;\n",
       "    }\n",
       "</style>\n",
       "<table border=\"1\" class=\"dataframe\">\n",
       "  <thead>\n",
       "    <tr style=\"text-align: right;\">\n",
       "      <th></th>\n",
       "      <th>CO2</th>\n",
       "      <th>CH4</th>\n",
       "      <th>N2O</th>\n",
       "      <th>CFC-11</th>\n",
       "      <th>CFC-12</th>\n",
       "      <th>CFC-113</th>\n",
       "      <th>CFC-114</th>\n",
       "      <th>CFC-115</th>\n",
       "      <th>CH3Br</th>\n",
       "      <th>CCl4</th>\n",
       "      <th>...</th>\n",
       "      <th>HFC143a</th>\n",
       "      <th>HFC227ea</th>\n",
       "      <th>HFC23</th>\n",
       "      <th>HFC245fa</th>\n",
       "      <th>HFC32</th>\n",
       "      <th>HFC4310mee</th>\n",
       "      <th>C2F6</th>\n",
       "      <th>C6F14</th>\n",
       "      <th>CF4</th>\n",
       "      <th>SF6</th>\n",
       "    </tr>\n",
       "    <tr>\n",
       "      <th>Component</th>\n",
       "      <th></th>\n",
       "      <th></th>\n",
       "      <th></th>\n",
       "      <th></th>\n",
       "      <th></th>\n",
       "      <th></th>\n",
       "      <th></th>\n",
       "      <th></th>\n",
       "      <th></th>\n",
       "      <th></th>\n",
       "      <th></th>\n",
       "      <th></th>\n",
       "      <th></th>\n",
       "      <th></th>\n",
       "      <th></th>\n",
       "      <th></th>\n",
       "      <th></th>\n",
       "      <th></th>\n",
       "      <th></th>\n",
       "      <th></th>\n",
       "      <th></th>\n",
       "    </tr>\n",
       "  </thead>\n",
       "  <tbody>\n",
       "    <tr>\n",
       "      <th>1700</th>\n",
       "      <td>276.746000</td>\n",
       "      <td>706.054021</td>\n",
       "      <td>272.212049</td>\n",
       "      <td>0.0</td>\n",
       "      <td>0.0</td>\n",
       "      <td>0.0</td>\n",
       "      <td>0.0</td>\n",
       "      <td>0.0</td>\n",
       "      <td>5.299998</td>\n",
       "      <td>0.025</td>\n",
       "      <td>...</td>\n",
       "      <td>0.0</td>\n",
       "      <td>0.0</td>\n",
       "      <td>0.0</td>\n",
       "      <td>0.0</td>\n",
       "      <td>0.0</td>\n",
       "      <td>0.0</td>\n",
       "      <td>0.0</td>\n",
       "      <td>0.0</td>\n",
       "      <td>34.049999</td>\n",
       "      <td>0.0</td>\n",
       "    </tr>\n",
       "    <tr>\n",
       "      <th>1701</th>\n",
       "      <td>276.749995</td>\n",
       "      <td>706.247004</td>\n",
       "      <td>272.243047</td>\n",
       "      <td>0.0</td>\n",
       "      <td>0.0</td>\n",
       "      <td>0.0</td>\n",
       "      <td>0.0</td>\n",
       "      <td>0.0</td>\n",
       "      <td>5.299998</td>\n",
       "      <td>0.025</td>\n",
       "      <td>...</td>\n",
       "      <td>0.0</td>\n",
       "      <td>0.0</td>\n",
       "      <td>0.0</td>\n",
       "      <td>0.0</td>\n",
       "      <td>0.0</td>\n",
       "      <td>0.0</td>\n",
       "      <td>0.0</td>\n",
       "      <td>0.0</td>\n",
       "      <td>34.049999</td>\n",
       "      <td>0.0</td>\n",
       "    </tr>\n",
       "    <tr>\n",
       "      <th>1702</th>\n",
       "      <td>276.757998</td>\n",
       "      <td>706.375031</td>\n",
       "      <td>272.266047</td>\n",
       "      <td>0.0</td>\n",
       "      <td>0.0</td>\n",
       "      <td>0.0</td>\n",
       "      <td>0.0</td>\n",
       "      <td>0.0</td>\n",
       "      <td>5.299998</td>\n",
       "      <td>0.025</td>\n",
       "      <td>...</td>\n",
       "      <td>0.0</td>\n",
       "      <td>0.0</td>\n",
       "      <td>0.0</td>\n",
       "      <td>0.0</td>\n",
       "      <td>0.0</td>\n",
       "      <td>0.0</td>\n",
       "      <td>0.0</td>\n",
       "      <td>0.0</td>\n",
       "      <td>34.049999</td>\n",
       "      <td>0.0</td>\n",
       "    </tr>\n",
       "    <tr>\n",
       "      <th>1703</th>\n",
       "      <td>276.757001</td>\n",
       "      <td>706.491002</td>\n",
       "      <td>272.298047</td>\n",
       "      <td>0.0</td>\n",
       "      <td>0.0</td>\n",
       "      <td>0.0</td>\n",
       "      <td>0.0</td>\n",
       "      <td>0.0</td>\n",
       "      <td>5.299998</td>\n",
       "      <td>0.025</td>\n",
       "      <td>...</td>\n",
       "      <td>0.0</td>\n",
       "      <td>0.0</td>\n",
       "      <td>0.0</td>\n",
       "      <td>0.0</td>\n",
       "      <td>0.0</td>\n",
       "      <td>0.0</td>\n",
       "      <td>0.0</td>\n",
       "      <td>0.0</td>\n",
       "      <td>34.049999</td>\n",
       "      <td>0.0</td>\n",
       "    </tr>\n",
       "    <tr>\n",
       "      <th>1704</th>\n",
       "      <td>276.755000</td>\n",
       "      <td>706.602046</td>\n",
       "      <td>272.331052</td>\n",
       "      <td>0.0</td>\n",
       "      <td>0.0</td>\n",
       "      <td>0.0</td>\n",
       "      <td>0.0</td>\n",
       "      <td>0.0</td>\n",
       "      <td>5.299998</td>\n",
       "      <td>0.025</td>\n",
       "      <td>...</td>\n",
       "      <td>0.0</td>\n",
       "      <td>0.0</td>\n",
       "      <td>0.0</td>\n",
       "      <td>0.0</td>\n",
       "      <td>0.0</td>\n",
       "      <td>0.0</td>\n",
       "      <td>0.0</td>\n",
       "      <td>0.0</td>\n",
       "      <td>34.049999</td>\n",
       "      <td>0.0</td>\n",
       "    </tr>\n",
       "  </tbody>\n",
       "</table>\n",
       "<p>5 rows × 30 columns</p>\n",
       "</div>"
      ],
      "text/plain": [
       "                  CO2         CH4         N2O  CFC-11  CFC-12  CFC-113  \\\n",
       "Component                                                                \n",
       "1700       276.746000  706.054021  272.212049     0.0     0.0      0.0   \n",
       "1701       276.749995  706.247004  272.243047     0.0     0.0      0.0   \n",
       "1702       276.757998  706.375031  272.266047     0.0     0.0      0.0   \n",
       "1703       276.757001  706.491002  272.298047     0.0     0.0      0.0   \n",
       "1704       276.755000  706.602046  272.331052     0.0     0.0      0.0   \n",
       "\n",
       "           CFC-114  CFC-115     CH3Br   CCl4  ...  HFC143a  HFC227ea  HFC23  \\\n",
       "Component                                     ...                             \n",
       "1700           0.0      0.0  5.299998  0.025  ...      0.0       0.0    0.0   \n",
       "1701           0.0      0.0  5.299998  0.025  ...      0.0       0.0    0.0   \n",
       "1702           0.0      0.0  5.299998  0.025  ...      0.0       0.0    0.0   \n",
       "1703           0.0      0.0  5.299998  0.025  ...      0.0       0.0    0.0   \n",
       "1704           0.0      0.0  5.299998  0.025  ...      0.0       0.0    0.0   \n",
       "\n",
       "           HFC245fa  HFC32  HFC4310mee  C2F6  C6F14        CF4  SF6  \n",
       "Component                                                            \n",
       "1700            0.0    0.0         0.0   0.0    0.0  34.049999  0.0  \n",
       "1701            0.0    0.0         0.0   0.0    0.0  34.049999  0.0  \n",
       "1702            0.0    0.0         0.0   0.0    0.0  34.049999  0.0  \n",
       "1703            0.0    0.0         0.0   0.0    0.0  34.049999  0.0  \n",
       "1704            0.0    0.0         0.0   0.0    0.0  34.049999  0.0  \n",
       "\n",
       "[5 rows x 30 columns]"
      ]
     },
     "execution_count": 10,
     "metadata": {},
     "output_type": "execute_result"
    }
   ],
   "source": [
    "df_ssp2_conc =read_inputfile(test_data_dir + '/ssp245_conc_RCMIP.txt')\n",
    "df_ssp2_conc.head()"
   ]
  },
  {
   "cell_type": "code",
   "execution_count": 11,
   "id": "6706e9df",
   "metadata": {},
   "outputs": [
    {
     "data": {
      "text/html": [
       "<div>\n",
       "<style scoped>\n",
       "    .dataframe tbody tr th:only-of-type {\n",
       "        vertical-align: middle;\n",
       "    }\n",
       "\n",
       "    .dataframe tbody tr th {\n",
       "        vertical-align: top;\n",
       "    }\n",
       "\n",
       "    .dataframe thead th {\n",
       "        text-align: right;\n",
       "    }\n",
       "</style>\n",
       "<table border=\"1\" class=\"dataframe\">\n",
       "  <thead>\n",
       "    <tr style=\"text-align: right;\">\n",
       "      <th></th>\n",
       "      <th>CO2_FF</th>\n",
       "      <th>CO2_AFOLU</th>\n",
       "      <th>CH4</th>\n",
       "      <th>N2O</th>\n",
       "      <th>SO2</th>\n",
       "      <th>CFC-11</th>\n",
       "      <th>CFC-12</th>\n",
       "      <th>CFC-113</th>\n",
       "      <th>CFC-114</th>\n",
       "      <th>CFC-115</th>\n",
       "      <th>...</th>\n",
       "      <th>CF4</th>\n",
       "      <th>SF6</th>\n",
       "      <th>NOx</th>\n",
       "      <th>CO</th>\n",
       "      <th>NMVOC</th>\n",
       "      <th>NH3</th>\n",
       "      <th>BMB_AEROS_BC</th>\n",
       "      <th>BMB_AEROS_OC</th>\n",
       "      <th>BC</th>\n",
       "      <th>OC</th>\n",
       "    </tr>\n",
       "    <tr>\n",
       "      <th>Component</th>\n",
       "      <th></th>\n",
       "      <th></th>\n",
       "      <th></th>\n",
       "      <th></th>\n",
       "      <th></th>\n",
       "      <th></th>\n",
       "      <th></th>\n",
       "      <th></th>\n",
       "      <th></th>\n",
       "      <th></th>\n",
       "      <th></th>\n",
       "      <th></th>\n",
       "      <th></th>\n",
       "      <th></th>\n",
       "      <th></th>\n",
       "      <th></th>\n",
       "      <th></th>\n",
       "      <th></th>\n",
       "      <th></th>\n",
       "      <th></th>\n",
       "      <th></th>\n",
       "    </tr>\n",
       "  </thead>\n",
       "  <tbody>\n",
       "    <tr>\n",
       "      <th>1750</th>\n",
       "      <td>0.002592</td>\n",
       "      <td>0.081127</td>\n",
       "      <td>19.019783</td>\n",
       "      <td>0.054710</td>\n",
       "      <td>1.222464</td>\n",
       "      <td>0.0</td>\n",
       "      <td>0.0</td>\n",
       "      <td>0.0</td>\n",
       "      <td>0.0</td>\n",
       "      <td>0.0</td>\n",
       "      <td>...</td>\n",
       "      <td>0.010071</td>\n",
       "      <td>0.0</td>\n",
       "      <td>3.871504</td>\n",
       "      <td>348.527359</td>\n",
       "      <td>60.021826</td>\n",
       "      <td>6.927690</td>\n",
       "      <td>1.353250</td>\n",
       "      <td>12.520269</td>\n",
       "      <td>0.744520</td>\n",
       "      <td>2.927399</td>\n",
       "    </tr>\n",
       "    <tr>\n",
       "      <th>1751</th>\n",
       "      <td>0.002593</td>\n",
       "      <td>0.082619</td>\n",
       "      <td>18.915109</td>\n",
       "      <td>0.055744</td>\n",
       "      <td>1.206598</td>\n",
       "      <td>0.0</td>\n",
       "      <td>0.0</td>\n",
       "      <td>0.0</td>\n",
       "      <td>0.0</td>\n",
       "      <td>0.0</td>\n",
       "      <td>...</td>\n",
       "      <td>0.010071</td>\n",
       "      <td>0.0</td>\n",
       "      <td>3.828060</td>\n",
       "      <td>343.926367</td>\n",
       "      <td>59.088126</td>\n",
       "      <td>6.860142</td>\n",
       "      <td>1.335274</td>\n",
       "      <td>12.279280</td>\n",
       "      <td>0.737652</td>\n",
       "      <td>2.909437</td>\n",
       "    </tr>\n",
       "    <tr>\n",
       "      <th>1752</th>\n",
       "      <td>0.002594</td>\n",
       "      <td>0.084139</td>\n",
       "      <td>18.889712</td>\n",
       "      <td>0.056797</td>\n",
       "      <td>1.200955</td>\n",
       "      <td>0.0</td>\n",
       "      <td>0.0</td>\n",
       "      <td>0.0</td>\n",
       "      <td>0.0</td>\n",
       "      <td>0.0</td>\n",
       "      <td>...</td>\n",
       "      <td>0.010071</td>\n",
       "      <td>0.0</td>\n",
       "      <td>3.828658</td>\n",
       "      <td>341.809034</td>\n",
       "      <td>58.631997</td>\n",
       "      <td>6.819482</td>\n",
       "      <td>1.326617</td>\n",
       "      <td>12.121816</td>\n",
       "      <td>0.737695</td>\n",
       "      <td>2.912659</td>\n",
       "    </tr>\n",
       "    <tr>\n",
       "      <th>1753</th>\n",
       "      <td>0.002594</td>\n",
       "      <td>0.085687</td>\n",
       "      <td>19.121377</td>\n",
       "      <td>0.057870</td>\n",
       "      <td>1.207757</td>\n",
       "      <td>0.0</td>\n",
       "      <td>0.0</td>\n",
       "      <td>0.0</td>\n",
       "      <td>0.0</td>\n",
       "      <td>0.0</td>\n",
       "      <td>...</td>\n",
       "      <td>0.010071</td>\n",
       "      <td>0.0</td>\n",
       "      <td>3.812105</td>\n",
       "      <td>343.675456</td>\n",
       "      <td>59.026349</td>\n",
       "      <td>6.881439</td>\n",
       "      <td>1.328560</td>\n",
       "      <td>12.249330</td>\n",
       "      <td>0.743391</td>\n",
       "      <td>2.933215</td>\n",
       "    </tr>\n",
       "    <tr>\n",
       "      <th>1754</th>\n",
       "      <td>0.002595</td>\n",
       "      <td>0.087263</td>\n",
       "      <td>19.509061</td>\n",
       "      <td>0.058963</td>\n",
       "      <td>1.233495</td>\n",
       "      <td>0.0</td>\n",
       "      <td>0.0</td>\n",
       "      <td>0.0</td>\n",
       "      <td>0.0</td>\n",
       "      <td>0.0</td>\n",
       "      <td>...</td>\n",
       "      <td>0.010071</td>\n",
       "      <td>0.0</td>\n",
       "      <td>3.841598</td>\n",
       "      <td>349.815625</td>\n",
       "      <td>60.269945</td>\n",
       "      <td>7.015189</td>\n",
       "      <td>1.346553</td>\n",
       "      <td>12.593635</td>\n",
       "      <td>0.752796</td>\n",
       "      <td>2.965138</td>\n",
       "    </tr>\n",
       "  </tbody>\n",
       "</table>\n",
       "<p>5 rows × 40 columns</p>\n",
       "</div>"
      ],
      "text/plain": [
       "             CO2_FF  CO2_AFOLU        CH4       N2O       SO2  CFC-11  CFC-12  \\\n",
       "Component                                                                       \n",
       "1750       0.002592   0.081127  19.019783  0.054710  1.222464     0.0     0.0   \n",
       "1751       0.002593   0.082619  18.915109  0.055744  1.206598     0.0     0.0   \n",
       "1752       0.002594   0.084139  18.889712  0.056797  1.200955     0.0     0.0   \n",
       "1753       0.002594   0.085687  19.121377  0.057870  1.207757     0.0     0.0   \n",
       "1754       0.002595   0.087263  19.509061  0.058963  1.233495     0.0     0.0   \n",
       "\n",
       "           CFC-113  CFC-114  CFC-115  ...       CF4  SF6       NOx  \\\n",
       "Component                             ...                            \n",
       "1750           0.0      0.0      0.0  ...  0.010071  0.0  3.871504   \n",
       "1751           0.0      0.0      0.0  ...  0.010071  0.0  3.828060   \n",
       "1752           0.0      0.0      0.0  ...  0.010071  0.0  3.828658   \n",
       "1753           0.0      0.0      0.0  ...  0.010071  0.0  3.812105   \n",
       "1754           0.0      0.0      0.0  ...  0.010071  0.0  3.841598   \n",
       "\n",
       "                   CO      NMVOC       NH3  BMB_AEROS_BC  BMB_AEROS_OC  \\\n",
       "Component                                                                \n",
       "1750       348.527359  60.021826  6.927690      1.353250     12.520269   \n",
       "1751       343.926367  59.088126  6.860142      1.335274     12.279280   \n",
       "1752       341.809034  58.631997  6.819482      1.326617     12.121816   \n",
       "1753       343.675456  59.026349  6.881439      1.328560     12.249330   \n",
       "1754       349.815625  60.269945  7.015189      1.346553     12.593635   \n",
       "\n",
       "                 BC        OC  \n",
       "Component                      \n",
       "1750       0.744520  2.927399  \n",
       "1751       0.737652  2.909437  \n",
       "1752       0.737695  2.912659  \n",
       "1753       0.743391  2.933215  \n",
       "1754       0.752796  2.965138  \n",
       "\n",
       "[5 rows x 40 columns]"
      ]
     },
     "execution_count": 11,
     "metadata": {},
     "output_type": "execute_result"
    }
   ],
   "source": [
    "emi_input =read_inputfile(test_data_dir + '/ssp245_em_RCMIP.txt')\n",
    "emi_input.rename(columns={\"CO2\": \"CO2_FF\", \"CO2.1\": \"CO2_AFOLU\"}, inplace=True)\n",
    "emi_input.head()"
   ]
  },
  {
   "cell_type": "markdown",
   "id": "790d6bc5",
   "metadata": {},
   "source": [
    "# Set up model run with defined input variables"
   ]
  },
  {
   "cell_type": "code",
   "execution_count": 30,
   "id": "3b34e365",
   "metadata": {},
   "outputs": [],
   "source": [
    "scendata={\n",
    "            \"gaspam_data\": gaspam,\n",
    "            \"emstart\": 1750,  \n",
    "            \"conc_run\":True,\n",
    "            \"nystart\": 1750,\n",
    "            \"nyend\": 2100,\n",
    "            \"concentrations_data\": df_ssp2_conc,\n",
    "            \"emissions_data\": emi_input,\n",
    "            \"nat_ch4_data\": df_nat_ch4,\n",
    "            \"nat_n2o_data\": df_nat_n2o,\n",
    "            \"idtm\":24,\n",
    "            \"udir\": test_data_dir,\n",
    "            \"scenname\": \"ssp245\",\n",
    "        }"
   ]
  },
  {
   "cell_type": "code",
   "execution_count": 13,
   "id": "6ab13543",
   "metadata": {},
   "outputs": [],
   "source": [
    "    calibdata = pd.DataFrame(\n",
    "        data={\n",
    "            \"Variable Name\": [\n",
    "                \"Heat Content|Ocean\",\n",
    "                \"Surface Air Ocean Blended Temperature Change\",\n",
    "            ],\n",
    "            \"Yearstart_norm\": [1971, 1961],\n",
    "            \"Yearend_norm\": [1971, 1990],\n",
    "            \"Yearstart_change\": [2018, 2000],\n",
    "            \"Yearend_change\": [2018, 2019],\n",
    "            \"Central Value\": [320.69251537323, 0.5372],\n",
    "            \"sigma\": [17.020342912051203, 0.039028311931729676],\n",
    "        })"
   ]
  },
  {
   "cell_type": "code",
   "execution_count": 32,
   "id": "ed07a98e",
   "metadata": {},
   "outputs": [],
   "source": [
    "    testconfig = _ConfigDistro(\n",
    "        distro_array=[],\n",
    "        ordering=[\"aerosol_total\", \"W\", \"lambda\", \"beta_f\"],\n",
    "        setvalues={\n",
    "            \"threstemp\": 7.0,\n",
    "            \"lm\": 40,\n",
    "            \"ldtime\": 12,\n",
    "            \"qbmb\": 0,\n",
    "            \"qo3\": 0.5,\n",
    "            \"qh2o_ch4\": 0.091915,\n",
    "            \"rlamdo\": 16,\n",
    "            \"akapa\": 0.634,\n",
    "            \"cpi\": 0.4,\n",
    "            \"beto\": 3.5,\n",
    "            \"mixed\": 60,\n",
    "            \"foan\":0.61,\n",
    "        },\n",
    "        options={\"aerosol_total\": [-0.36, -0.97, 0.16, -0.08]}\n",
    "    )"
   ]
  },
  {
   "cell_type": "code",
   "execution_count": 15,
   "id": "c85fd6ac",
   "metadata": {},
   "outputs": [
    {
     "data": {
      "text/plain": [
       "['aerosol_total', 'W', 'lambda', 'beta_f']"
      ]
     },
     "execution_count": 15,
     "metadata": {},
     "output_type": "execute_result"
    }
   ],
   "source": [
    "testconfig.ordering"
   ]
  },
  {
   "cell_type": "code",
   "execution_count": 28,
   "id": "2758a129",
   "metadata": {},
   "outputs": [
    {
     "name": "stdout",
     "output_type": "stream",
     "text": [
      "[-3.          0.55        0.53908356  0.11      ]\n",
      "[-0.5         2.55        1.34770889  0.465     ]\n"
     ]
    }
   ],
   "source": [
    "distrorun1 = DistributionRun(testconfig, numvalues=2)\n",
    "output_vars = [\"Heat Content|Ocean\", \"Surface Air Temperature Change\"]\n"
   ]
  },
  {
   "cell_type": "code",
   "execution_count": 33,
   "id": "d65a8824",
   "metadata": {},
   "outputs": [
    {
     "data": {
      "application/vnd.jupyter.widget-view+json": {
       "model_id": "7b55a2fb151e4157adfe3aa0da002154",
       "version_major": 2,
       "version_minor": 0
      },
      "text/plain": [
       "Parallel runs:   0%|          | 0.00/1.00 [00:00<?, ?it/s]"
      ]
     },
     "metadata": {},
     "output_type": "display_data"
    },
    {
     "name": "stderr",
     "output_type": "stream",
     "text": [
      "Parameter udir is not used. Please check if you have a typo\n",
      "Parameter scenname is not used. Please check if you have a typo\n",
      "Parameter foan not in pamset. Using default value 0.61\n",
      "Parameter foas not in pamset. Using default value 0.81\n",
      "Parameter ebbeta not in pamset. Using default value 0.0\n",
      "Parameter fnso not in pamset. Using default value 0.7531\n",
      "Parameter foan is not used. Please check if you have a typo\n",
      "Parameter ref_yr not in pamset. Using default value 2010\n",
      "Parameter mixed_carbon not in pamset. Using default value 75.0\n",
      "Parameter foan not in pamset. Using default value 0.61\n",
      "Parameter foas not in pamset. Using default value 0.81\n",
      "Parameter ebbeta not in pamset. Using default value 0.0\n",
      "Parameter fnso not in pamset. Using default value 0.7531\n",
      "Parameter foan is not used. Please check if you have a typo\n",
      "Parameter ref_yr not in pamset. Using default value 2010\n",
      "Parameter mixed_carbon not in pamset. Using default value 75.0\n"
     ]
    }
   ],
   "source": [
    "\n",
    "results1 = distrorun1.run_over_distribution(scendata, output_vars)\n"
   ]
  },
  {
   "cell_type": "code",
   "execution_count": 97,
   "id": "84c1b1f2",
   "metadata": {},
   "outputs": [],
   "source": [
    "df=results1.timeseries()"
   ]
  },
  {
   "cell_type": "code",
   "execution_count": 102,
   "id": "675748a2",
   "metadata": {},
   "outputs": [
    {
     "data": {
      "text/plain": [
       "<Axes: xlabel='time'>"
      ]
     },
     "execution_count": 102,
     "metadata": {},
     "output_type": "execute_result"
    },
    {
     "data": {
      "image/png": "[encoded data removed]",
      "text/plain": [
       "<Figure size 640x480 with 1 Axes>"
      ]
     },
     "metadata": {},
     "output_type": "display_data"
    }
   ],
   "source": [
    "df.xs(output_vars[1], level='variable').T.plot()"
   ]
  },
  {
   "cell_type": "code",
   "execution_count": 107,
   "id": "6fcf28ec",
   "metadata": {},
   "outputs": [
    {
     "data": {
      "text/plain": [
       "array([1.62792107, 0.4442897 ])"
      ]
     },
     "execution_count": 107,
     "metadata": {},
     "output_type": "execute_result"
    }
   ],
   "source": [
    "df.xs(output_vars[1], level='variable')['2020-01-01'].values"
   ]
  },
  {
   "cell_type": "code",
   "execution_count": 110,
   "id": "e60a4f78",
   "metadata": {},
   "outputs": [
    {
     "data": {
      "text/plain": [
       "climate_model  model   region  run_id  scenario  unit  variable                      \n",
       "CICERO-SCM-PY  ssp245  World   0       ssp245    ZJ    Heat Content|Ocean                809.710366\n",
       "                                                 K     Surface Air Temperature Change      1.627921\n",
       "                               1       ssp245    ZJ    Heat Content|Ocean                -53.340900\n",
       "                                                 K     Surface Air Temperature Change      0.444290\n",
       "Name: 2020-01-01 00:00:00, dtype: float64"
      ]
     },
     "execution_count": 110,
     "metadata": {},
     "output_type": "execute_result"
    }
   ],
   "source": [
    "df['2020-01-01']"
   ]
  },
  {
   "cell_type": "code",
   "execution_count": 124,
   "id": "5d5fd40e",
   "metadata": {},
   "outputs": [
    {
     "data": {
      "text/html": [
       "<div>\n",
       "<style scoped>\n",
       "    .dataframe tbody tr th:only-of-type {\n",
       "        vertical-align: middle;\n",
       "    }\n",
       "\n",
       "    .dataframe tbody tr th {\n",
       "        vertical-align: top;\n",
       "    }\n",
       "\n",
       "    .dataframe thead th {\n",
       "        text-align: right;\n",
       "    }\n",
       "</style>\n",
       "<table border=\"1\" class=\"dataframe\">\n",
       "  <thead>\n",
       "    <tr style=\"text-align: right;\">\n",
       "      <th>variable</th>\n",
       "      <th>Heat Content|Ocean</th>\n",
       "      <th>Surface Air Temperature Change</th>\n",
       "    </tr>\n",
       "    <tr>\n",
       "      <th>run_id</th>\n",
       "      <th></th>\n",
       "      <th></th>\n",
       "    </tr>\n",
       "  </thead>\n",
       "  <tbody>\n",
       "    <tr>\n",
       "      <th>0</th>\n",
       "      <td>809.710366</td>\n",
       "      <td>1.627921</td>\n",
       "    </tr>\n",
       "    <tr>\n",
       "      <th>1</th>\n",
       "      <td>-53.340900</td>\n",
       "      <td>0.444290</td>\n",
       "    </tr>\n",
       "  </tbody>\n",
       "</table>\n",
       "</div>"
      ],
      "text/plain": [
       "variable  Heat Content|Ocean  Surface Air Temperature Change\n",
       "run_id                                                      \n",
       "0                 809.710366                        1.627921\n",
       "1                 -53.340900                        0.444290"
      ]
     },
     "execution_count": 124,
     "metadata": {},
     "output_type": "execute_result"
    }
   ],
   "source": [
    "df.groupby(['run_id', 'variable'])['2020-01-01'].sum().unstack()"
   ]
  },
  {
   "cell_type": "code",
   "execution_count": 130,
   "id": "b9489acd",
   "metadata": {},
   "outputs": [
    {
     "data": {
      "text/html": [
       "<div>\n",
       "<style scoped>\n",
       "    .dataframe tbody tr th:only-of-type {\n",
       "        vertical-align: middle;\n",
       "    }\n",
       "\n",
       "    .dataframe tbody tr th {\n",
       "        vertical-align: top;\n",
       "    }\n",
       "\n",
       "    .dataframe thead tr th {\n",
       "        text-align: left;\n",
       "    }\n",
       "\n",
       "    .dataframe thead tr:last-of-type th {\n",
       "        text-align: right;\n",
       "    }\n",
       "</style>\n",
       "<table border=\"1\" class=\"dataframe\">\n",
       "  <thead>\n",
       "    <tr>\n",
       "      <th></th>\n",
       "      <th colspan=\"2\" halign=\"left\">2000-01-01</th>\n",
       "      <th colspan=\"2\" halign=\"left\">2020-01-01</th>\n",
       "    </tr>\n",
       "    <tr>\n",
       "      <th></th>\n",
       "      <th>Heat Content|Ocean</th>\n",
       "      <th>Surface Air Temperature Change</th>\n",
       "      <th>Heat Content|Ocean</th>\n",
       "      <th>Surface Air Temperature Change</th>\n",
       "    </tr>\n",
       "    <tr>\n",
       "      <th>run_id</th>\n",
       "      <th></th>\n",
       "      <th></th>\n",
       "      <th></th>\n",
       "      <th></th>\n",
       "    </tr>\n",
       "  </thead>\n",
       "  <tbody>\n",
       "    <tr>\n",
       "      <th>0</th>\n",
       "      <td>508.798193</td>\n",
       "      <td>1.007434</td>\n",
       "      <td>809.710366</td>\n",
       "      <td>1.627921</td>\n",
       "    </tr>\n",
       "    <tr>\n",
       "      <th>1</th>\n",
       "      <td>-230.813278</td>\n",
       "      <td>-0.242924</td>\n",
       "      <td>-53.340900</td>\n",
       "      <td>0.444290</td>\n",
       "    </tr>\n",
       "  </tbody>\n",
       "</table>\n",
       "</div>"
      ],
      "text/plain": [
       "               2000-01-01                                        2020-01-01  \\\n",
       "       Heat Content|Ocean Surface Air Temperature Change Heat Content|Ocean   \n",
       "run_id                                                                        \n",
       "0              508.798193                       1.007434         809.710366   \n",
       "1             -230.813278                      -0.242924         -53.340900   \n",
       "\n",
       "                                       \n",
       "       Surface Air Temperature Change  \n",
       "run_id                                 \n",
       "0                            1.627921  \n",
       "1                            0.444290  "
      ]
     },
     "execution_count": 130,
     "metadata": {},
     "output_type": "execute_result"
    }
   ],
   "source": [
    "dates=['2000-01-01','2020-01-01']\n",
    "df2=pd.concat([df.groupby(['run_id', 'variable'])[d].sum().unstack() for d in ['2000-01-01','2020-01-01']],axis=1)   \n",
    "df2.columns=pd.MultiIndex.from_product([['2000-01-01','2020-01-01'],output_vars])\n",
    "df2"
   ]
  },
  {
   "cell_type": "code",
   "execution_count": null,
   "id": "733fcfe8",
   "metadata": {},
   "outputs": [],
   "source": []
  }
 ],
 "metadata": {
  "kernelspec": {
   "display_name": "Python 3 (ipykernel)",
   "language": "python",
   "name": "python3"
  },
  "language_info": {
   "codemirror_mode": {
    "name": "ipython",
    "version": 3
   },
   "file_extension": ".py",
   "mimetype": "text/x-python",
   "name": "python",
   "nbconvert_exporter": "python",
   "pygments_lexer": "ipython3",
   "version": "3.12.3"
  }
 },
 "nbformat": 4,
 "nbformat_minor": 5
}
