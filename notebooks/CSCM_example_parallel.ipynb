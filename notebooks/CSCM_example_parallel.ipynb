{
 "cells": [
  {
   "cell_type": "markdown",
   "id": "7a47dfc7",
   "metadata": {},
   "source": [
    "# CICERO SCM notebook parallel example"
   ]
  },
  {
   "cell_type": "markdown",
   "id": "1a721d37",
   "metadata": {},
   "source": [
    "Import some stuff"
   ]
  },
  {
   "cell_type": "code",
   "execution_count": 1,
   "id": "34c63512",
   "metadata": {},
   "outputs": [],
   "source": [
    "import sys\n",
    "import re\n",
    "import os\n",
    "import numpy as np\n",
    "import shutil\n",
    "import matplotlib.pyplot as plt\n",
    "import pandas as pd\n",
    "import pandas.testing as pdt\n",
    "import warnings\n",
    "\n",
    "try:\n",
    "    from pandas.core.common import SettingWithCopyWarning\n",
    "except:\n",
    "    from pandas.errors import SettingWithCopyWarning\n",
    "warnings.simplefilter(action=\"ignore\", category=SettingWithCopyWarning)"
   ]
  },
  {
   "cell_type": "markdown",
   "id": "b0a9eeb6",
   "metadata": {},
   "source": [
    "Import the model"
   ]
  },
  {
   "cell_type": "code",
   "execution_count": 2,
   "id": "dc85854b",
   "metadata": {},
   "outputs": [],
   "source": [
    "sys.path.insert(0, os.path.join(os.getcwd(), \"../\", \"src\"))\n",
    "from ciceroscm import CICEROSCM"
   ]
  },
  {
   "cell_type": "markdown",
   "id": "319a02eb",
   "metadata": {},
   "source": [
    "Define some input handling functions to give us example inputs"
   ]
  },
  {
   "cell_type": "code",
   "execution_count": 3,
   "id": "a7401d42",
   "metadata": {},
   "outputs": [
    {
     "name": "stderr",
     "output_type": "stream",
     "text": [
      "/home/masan/gitrepos/ciceroscm/venv/lib/python3.8/site-packages/scmdata/database/_database.py:9: TqdmExperimentalWarning: Using `tqdm.autonotebook.tqdm` in notebook mode. Use `tqdm.tqdm` instead to force console mode (e.g. in jupyter console)\n",
      "  import tqdm.autonotebook as tqdman\n",
      "/home/masan/gitrepos/ciceroscm/venv/lib/python3.8/site-packages/setuptools_scm/_integration/setuptools.py:31: RuntimeWarning: \n",
      "ERROR: setuptools==44.0.0 is used in combination with setuptools_scm>=8.x\n",
      "\n",
      "Your build configuration is incomplete and previously worked by accident!\n",
      "setuptools_scm requires setuptools>=61\n",
      "\n",
      "Suggested workaround if applicable:\n",
      " - migrating from the deprecated setup_requires mechanism to pep517/518\n",
      "   and using a pyproject.toml to declare build dependencies\n",
      "   which are reliably pre-installed before running the build tools\n",
      "\n",
      "  warnings.warn(\n"
     ]
    },
    {
     "data": {
      "application/javascript": [
       "if (typeof IPython !== 'undefined') { IPython.OutputArea.prototype._should_scroll = function(lines){ return false; }}"
      ],
      "text/plain": [
       "<IPython.core.display.Javascript object>"
      ]
     },
     "metadata": {},
     "output_type": "display_data"
    }
   ],
   "source": [
    "# NBVAL_IGNORE_OUTPUT\n",
    "# from ciceroscm.input_handler import read_inputfile,read_components,read_natural_emissions\n",
    "from ciceroscm.parallel.cscmparwrapper import run_ciceroscm_parallel\n",
    "import ciceroscm.input_handler as input_handler"
   ]
  },
  {
   "cell_type": "markdown",
   "id": "8d3cf3c3",
   "metadata": {},
   "source": [
    "Define data directory"
   ]
  },
  {
   "cell_type": "code",
   "execution_count": 4,
   "id": "6486bfe1",
   "metadata": {},
   "outputs": [],
   "source": [
    "test_data_dir = os.path.join(os.getcwd(), \"../\", \"tests\", \"test-data\")"
   ]
  },
  {
   "cell_type": "markdown",
   "id": "9341aff2",
   "metadata": {},
   "source": [
    "Define emissions data"
   ]
  },
  {
   "cell_type": "code",
   "execution_count": 5,
   "id": "92fb3d63",
   "metadata": {},
   "outputs": [],
   "source": [
    "gaspam_data = input_handler.read_components(\n",
    "    os.path.join(test_data_dir, \"gases_v1RCMIP.txt\")\n",
    ")\n",
    "conc_data = input_handler.read_inputfile(\n",
    "    os.path.join(test_data_dir, \"ssp245_conc_RCMIP.txt\"), True, 1750, 2100\n",
    ")\n",
    "ih = input_handler.InputHandler({\"nyend\": 2050, \"nystart\": 1900, \"emstart\": 2015})\n",
    "em_data = ih.read_emissions(os.path.join(test_data_dir, \"ssp245_em_RCMIP.txt\"))\n",
    "nat_ch4_data = input_handler.read_natural_emissions(\n",
    "    os.path.join(test_data_dir, \"natemis_ch4.txt\"), \"CH4\"\n",
    ")\n",
    "nat_n2o_data = input_handler.read_natural_emissions(\n",
    "    os.path.join(test_data_dir, \"natemis_n2o.txt\"), \"N2O\"\n",
    ")"
   ]
  },
  {
   "cell_type": "markdown",
   "id": "0e9f9cf5",
   "metadata": {},
   "source": [
    "Make a list of dictionaries to define the parameter ensemble - keys should be pamset_udm, pamset_emiconc and Index..."
   ]
  },
  {
   "cell_type": "code",
   "execution_count": 6,
   "id": "7cd3d377",
   "metadata": {},
   "outputs": [],
   "source": [
    "cfgs = [\n",
    "    {\n",
    "        \"pamset_udm\": {\n",
    "            \"rlamdo\": 15.1,\n",
    "            \"akapa\": 0.657,\n",
    "            \"cpi\": 0.208,\n",
    "            \"W\": 2.2,\n",
    "            \"beto\": 6.9,\n",
    "            \"lambda\": 0.606,\n",
    "            \"mixed\": 107.0,\n",
    "        },\n",
    "        \"pamset_emiconc\": {\n",
    "            \"qbmb\": 0.0,\n",
    "            \"qo3\": 0.5,\n",
    "            \"qdirso2\": -0.3701,\n",
    "            \"qindso2\": -0.4163,\n",
    "            \"qbc\": 0.163,\n",
    "            \"qoc\": -0.084,\n",
    "            \"qh2o_ch4\": 0.171,\n",
    "        },\n",
    "        \"Index\": \"13555_old_NR_rounded\",\n",
    "    },\n",
    "    {\n",
    "        \"pamset_udm\": {\n",
    "            \"rlamdo\": 15.08357,\n",
    "            \"akapa\": 0.6568376339229769,\n",
    "            \"cpi\": 0.2077266,\n",
    "            \"W\": 2.205919,\n",
    "            \"beto\": 6.89822,\n",
    "            \"lambda\": 0.6062529,\n",
    "            \"mixed\": 107.2422,\n",
    "        },\n",
    "        \"pamset_emiconc\": {\n",
    "            \"qbmb\": 0.0,\n",
    "            \"qo3\": 0.5,\n",
    "            \"qdirso2\": -0.3562,\n",
    "            \"qindso2\": -0.96609,\n",
    "            \"qbc\": 0.1566,\n",
    "            \"qoc\": -0.0806,\n",
    "        },\n",
    "        \"Index\": \"13555_old_NR_improved\",\n",
    "    },\n",
    "    {\n",
    "        \"pamset_udm\": {\n",
    "            \"rlamdo\": 15.08357,\n",
    "            \"akapa\": 0.6568376339229769,\n",
    "            \"cpi\": 0.2077266,\n",
    "            \"W\": 2.205919,\n",
    "            \"beto\": 6.89822,\n",
    "            \"lambda\": 0.6062529,\n",
    "            \"mixed\": 107.2422,\n",
    "        },\n",
    "        \"pamset_emiconc\": {\n",
    "            \"qbmb\": 0.0,\n",
    "            \"qo3\": 0.5,\n",
    "            \"qdirso2\": -0.3701323367808028 / 1.5,\n",
    "            \"qindso2\": -0.4162980444986502 * 1.5,\n",
    "            \"qbc\": 0.162692563111132,\n",
    "            \"qoc\": -0.08377713183167902,\n",
    "        },\n",
    "        \"Index\": \"13555_old_NR\",\n",
    "    },\n",
    "    {\n",
    "        \"pamset_udm\": {\n",
    "            \"rlamdo\": 5.269455,\n",
    "            \"akapa\": 0.40099950002568496,\n",
    "            \"cpi\": 0.2054687,\n",
    "            \"W\": 1.95183,\n",
    "            \"beto\": 3.278654,\n",
    "            \"lambda\": 0.7308369,\n",
    "            \"mixed\": 115.1219,\n",
    "        },\n",
    "        \"pamset_emiconc\": {\n",
    "            \"qbmb\": 0.0,\n",
    "            \"qo3\": 0.3,\n",
    "            \"qdirso2\": -0.32211222516087934,\n",
    "            \"qindso2\": -0.3622885009449893,\n",
    "            \"qbc\": 0.1415852070009452,\n",
    "            \"qoc\": -0.07290808089507649,\n",
    "        },\n",
    "        \"Index\": \"10496_old_NR\",\n",
    "    },\n",
    "    {\n",
    "        \"pamset_udm\": {\n",
    "            \"rlamdo\": 5.269455,\n",
    "            \"akapa\": 0.40099950002568496,\n",
    "            \"cpi\": 0.2054687,\n",
    "            \"W\": 1.95183,\n",
    "            \"beto\": 3.278654,\n",
    "            \"lambda\": 0.7308369,\n",
    "            \"mixed\": 115.1219,\n",
    "        },\n",
    "        \"pamset_emiconc\": {\n",
    "            \"qbmb\": 0.0,\n",
    "            \"qo3\": 0.3,\n",
    "            \"qdirso2\": -0.32211222516087934,\n",
    "            \"qindso2\": -0.3622885009449893,\n",
    "            \"qbc\": 0.1415852070009452,\n",
    "            \"qoc\": -0.07290808089507649,\n",
    "        },\n",
    "        \"Index\": \"10974_old_NR\",\n",
    "    },\n",
    "    {\n",
    "        \"pamset_udm\": {\n",
    "            \"rlamdo\": 23.71469,\n",
    "            \"akapa\": 0.5486541129586187,\n",
    "            \"cpi\": 0.4059296,\n",
    "            \"W\": 2.090927,\n",
    "            \"beto\": 4.426507,\n",
    "            \"lambda\": 0.6345007,\n",
    "            \"mixed\": 97.25478,\n",
    "        },\n",
    "        \"pamset_emiconc\": {\n",
    "            \"qbmb\": 0.0,\n",
    "            \"qo3\": 0.3,\n",
    "            \"qdirso2\": -0.4031202924043847,\n",
    "            \"qindso2\": -0.453400507735301,\n",
    "            \"qbc\": 0.17719249872571508,\n",
    "            \"qoc\": -0.09124374858602939,\n",
    "        },\n",
    "        \"Index\": \"Unknown_old_NR\",\n",
    "    },\n",
    "    {\n",
    "        \"pamset_udm\": {\n",
    "            \"rlamdo\": 23.13088,\n",
    "            \"akapa\": 0.6588532950589802,\n",
    "            \"cpi\": 0.1690946,\n",
    "            \"W\": 2.228695,\n",
    "            \"beto\": 2.623041,\n",
    "            \"lambda\": 0.5402487,\n",
    "            \"mixed\": 99.86714,\n",
    "        },\n",
    "        \"pamset_emiconc\": {\n",
    "            \"qbmb\": 0.0,\n",
    "            \"qo3\": 0.3,\n",
    "            \"qdirso2\": -0.882827534329248,\n",
    "            \"qindso2\": -0.9929404692583796,\n",
    "            \"qbc\": 0.3880489761967636,\n",
    "            \"qoc\": -0.1998224726091362,\n",
    "        },\n",
    "        \"Index\": \"28925_old_NR\",\n",
    "    },\n",
    "]"
   ]
  },
  {
   "cell_type": "markdown",
   "id": "1dc62d59",
   "metadata": {},
   "source": [
    "Define scenarios as a list of dictionaries."
   ]
  },
  {
   "cell_type": "code",
   "execution_count": 7,
   "id": "6e488be2",
   "metadata": {},
   "outputs": [],
   "source": [
    "scenarios = []\n",
    "for i in range(3):\n",
    "    em_data_here = em_data.mul((1 + i / 5))\n",
    "    new_scen = {\n",
    "        \"gaspam_data\": gaspam_data,\n",
    "        \"nyend\": 2050,\n",
    "        \"nystart\": 1900,\n",
    "        \"emstart\": 2015,\n",
    "        \"concentrations_data\": conc_data,\n",
    "        \"nat_ch4_data\": nat_ch4_data,\n",
    "        \"nat_n2o_data\": nat_n2o_data,\n",
    "        \"emissions_data\": em_data_here,\n",
    "        \"udir\": test_data_dir,\n",
    "        \"idtm\": 24,\n",
    "        \"scenname\": \"ssp245-plus-%d-percent\" % np.multiply(i, 20.0),\n",
    "    }\n",
    "    scenarios.append(new_scen)"
   ]
  },
  {
   "cell_type": "markdown",
   "id": "51b5ee83",
   "metadata": {},
   "source": [
    "Parallel processor loops over all scenarios and configuration lists"
   ]
  },
  {
   "cell_type": "code",
   "execution_count": 8,
   "id": "8a638733",
   "metadata": {},
   "outputs": [
    {
     "data": {
      "application/vnd.jupyter.widget-view+json": {
       "model_id": "b0811d11decf420e97c490cc86c7e3dc",
       "version_major": 2,
       "version_minor": 0
      },
      "text/plain": [
       "Parallel runs:   0%|          | 0.00/6.00 [00:00<?, ?it/s]"
      ]
     },
     "metadata": {},
     "output_type": "display_data"
    }
   ],
   "source": [
    "# NBVAL_IGNORE_OUTPUT\n",
    "output_variables = [\"Heat Content|Ocean\", \"Surface Air Temperature Change\"]\n",
    "results = run_ciceroscm_parallel(scenarios, cfgs, output_variables)"
   ]
  },
  {
   "cell_type": "markdown",
   "id": "31beb4cb",
   "metadata": {},
   "source": [
    "Look at the output openSCMrunner object"
   ]
  },
  {
   "cell_type": "code",
   "execution_count": 9,
   "id": "9ef93f5b",
   "metadata": {},
   "outputs": [
    {
     "data": {
      "text/html": [
       "<div>\n",
       "<style scoped>\n",
       "    .dataframe tbody tr th:only-of-type {\n",
       "        vertical-align: middle;\n",
       "    }\n",
       "\n",
       "    .dataframe tbody tr th {\n",
       "        vertical-align: top;\n",
       "    }\n",
       "\n",
       "    .dataframe thead th {\n",
       "        text-align: right;\n",
       "    }\n",
       "</style>\n",
       "<table border=\"1\" class=\"dataframe\">\n",
       "  <thead>\n",
       "    <tr style=\"text-align: right;\">\n",
       "      <th></th>\n",
       "      <th>climate_model</th>\n",
       "      <th>model</th>\n",
       "      <th>run_id</th>\n",
       "      <th>scenario</th>\n",
       "      <th>region</th>\n",
       "      <th>variable</th>\n",
       "      <th>unit</th>\n",
       "      <th>1900</th>\n",
       "      <th>1901</th>\n",
       "      <th>1902</th>\n",
       "      <th>...</th>\n",
       "      <th>2041</th>\n",
       "      <th>2042</th>\n",
       "      <th>2043</th>\n",
       "      <th>2044</th>\n",
       "      <th>2045</th>\n",
       "      <th>2046</th>\n",
       "      <th>2047</th>\n",
       "      <th>2048</th>\n",
       "      <th>2049</th>\n",
       "      <th>2050</th>\n",
       "    </tr>\n",
       "  </thead>\n",
       "  <tbody>\n",
       "    <tr>\n",
       "      <th>0</th>\n",
       "      <td>CICERO-SCM-PY</td>\n",
       "      <td>ssp245-plus-0-percent</td>\n",
       "      <td>13555_old_NR_rounded</td>\n",
       "      <td>ssp245-plus-0-percent</td>\n",
       "      <td>World</td>\n",
       "      <td>Heat Content|Ocean</td>\n",
       "      <td>ZJ</td>\n",
       "      <td>-0.593835</td>\n",
       "      <td>-1.570286</td>\n",
       "      <td>-2.381085</td>\n",
       "      <td>...</td>\n",
       "      <td>882.279889</td>\n",
       "      <td>896.27472</td>\n",
       "      <td>910.128435</td>\n",
       "      <td>923.829002</td>\n",
       "      <td>937.366761</td>\n",
       "      <td>950.733705</td>\n",
       "      <td>963.923257</td>\n",
       "      <td>976.930068</td>\n",
       "      <td>989.749828</td>\n",
       "      <td>1002.379128</td>\n",
       "    </tr>\n",
       "    <tr>\n",
       "      <th>1</th>\n",
       "      <td>CICERO-SCM-PY</td>\n",
       "      <td>ssp245-plus-0-percent</td>\n",
       "      <td>13555_old_NR_rounded</td>\n",
       "      <td>ssp245-plus-0-percent</td>\n",
       "      <td>World</td>\n",
       "      <td>Surface Air Temperature Change</td>\n",
       "      <td>K</td>\n",
       "      <td>-0.005125</td>\n",
       "      <td>-0.012324</td>\n",
       "      <td>-0.014943</td>\n",
       "      <td>...</td>\n",
       "      <td>1.604634</td>\n",
       "      <td>1.617487</td>\n",
       "      <td>1.629858</td>\n",
       "      <td>1.641679</td>\n",
       "      <td>1.652929</td>\n",
       "      <td>1.663597</td>\n",
       "      <td>1.673684</td>\n",
       "      <td>1.683194</td>\n",
       "      <td>1.692137</td>\n",
       "      <td>1.700522</td>\n",
       "    </tr>\n",
       "    <tr>\n",
       "      <th>2</th>\n",
       "      <td>CICERO-SCM-PY</td>\n",
       "      <td>ssp245-plus-0-percent</td>\n",
       "      <td>13555_old_NR_improved</td>\n",
       "      <td>ssp245-plus-0-percent</td>\n",
       "      <td>World</td>\n",
       "      <td>Heat Content|Ocean</td>\n",
       "      <td>ZJ</td>\n",
       "      <td>-0.593855</td>\n",
       "      <td>-1.606135</td>\n",
       "      <td>-2.505708</td>\n",
       "      <td>...</td>\n",
       "      <td>698.360017</td>\n",
       "      <td>712.877458</td>\n",
       "      <td>727.293003</td>\n",
       "      <td>741.593854</td>\n",
       "      <td>755.769661</td>\n",
       "      <td>769.811787</td>\n",
       "      <td>783.713067</td>\n",
       "      <td>797.4676</td>\n",
       "      <td>811.070548</td>\n",
       "      <td>824.518001</td>\n",
       "    </tr>\n",
       "    <tr>\n",
       "      <th>3</th>\n",
       "      <td>CICERO-SCM-PY</td>\n",
       "      <td>ssp245-plus-0-percent</td>\n",
       "      <td>13555_old_NR_improved</td>\n",
       "      <td>ssp245-plus-0-percent</td>\n",
       "      <td>World</td>\n",
       "      <td>Surface Air Temperature Change</td>\n",
       "      <td>K</td>\n",
       "      <td>-0.005126</td>\n",
       "      <td>-0.012631</td>\n",
       "      <td>-0.015937</td>\n",
       "      <td>...</td>\n",
       "      <td>1.412663</td>\n",
       "      <td>1.428602</td>\n",
       "      <td>1.444106</td>\n",
       "      <td>1.459105</td>\n",
       "      <td>1.473571</td>\n",
       "      <td>1.487491</td>\n",
       "      <td>1.500863</td>\n",
       "      <td>1.513691</td>\n",
       "      <td>1.525979</td>\n",
       "      <td>1.537739</td>\n",
       "    </tr>\n",
       "    <tr>\n",
       "      <th>4</th>\n",
       "      <td>CICERO-SCM-PY</td>\n",
       "      <td>ssp245-plus-0-percent</td>\n",
       "      <td>13555_old_NR</td>\n",
       "      <td>ssp245-plus-0-percent</td>\n",
       "      <td>World</td>\n",
       "      <td>Heat Content|Ocean</td>\n",
       "      <td>ZJ</td>\n",
       "      <td>-0.593855</td>\n",
       "      <td>-1.577005</td>\n",
       "      <td>-2.404635</td>\n",
       "      <td>...</td>\n",
       "      <td>842.875677</td>\n",
       "      <td>856.8558</td>\n",
       "      <td>870.702628</td>\n",
       "      <td>884.40415</td>\n",
       "      <td>897.950716</td>\n",
       "      <td>911.334313</td>\n",
       "      <td>924.548352</td>\n",
       "      <td>937.587462</td>\n",
       "      <td>950.447298</td>\n",
       "      <td>963.124411</td>\n",
       "    </tr>\n",
       "  </tbody>\n",
       "</table>\n",
       "<p>5 rows × 158 columns</p>\n",
       "</div>"
      ],
      "text/plain": [
       "   climate_model                  model                 run_id  \\\n",
       "0  CICERO-SCM-PY  ssp245-plus-0-percent   13555_old_NR_rounded   \n",
       "1  CICERO-SCM-PY  ssp245-plus-0-percent   13555_old_NR_rounded   \n",
       "2  CICERO-SCM-PY  ssp245-plus-0-percent  13555_old_NR_improved   \n",
       "3  CICERO-SCM-PY  ssp245-plus-0-percent  13555_old_NR_improved   \n",
       "4  CICERO-SCM-PY  ssp245-plus-0-percent           13555_old_NR   \n",
       "\n",
       "                scenario region                        variable unit  \\\n",
       "0  ssp245-plus-0-percent  World              Heat Content|Ocean   ZJ   \n",
       "1  ssp245-plus-0-percent  World  Surface Air Temperature Change    K   \n",
       "2  ssp245-plus-0-percent  World              Heat Content|Ocean   ZJ   \n",
       "3  ssp245-plus-0-percent  World  Surface Air Temperature Change    K   \n",
       "4  ssp245-plus-0-percent  World              Heat Content|Ocean   ZJ   \n",
       "\n",
       "       1900      1901      1902  ...        2041        2042        2043  \\\n",
       "0 -0.593835 -1.570286 -2.381085  ...  882.279889   896.27472  910.128435   \n",
       "1 -0.005125 -0.012324 -0.014943  ...    1.604634    1.617487    1.629858   \n",
       "2 -0.593855 -1.606135 -2.505708  ...  698.360017  712.877458  727.293003   \n",
       "3 -0.005126 -0.012631 -0.015937  ...    1.412663    1.428602    1.444106   \n",
       "4 -0.593855 -1.577005 -2.404635  ...  842.875677    856.8558  870.702628   \n",
       "\n",
       "         2044        2045        2046        2047        2048        2049  \\\n",
       "0  923.829002  937.366761  950.733705  963.923257  976.930068  989.749828   \n",
       "1    1.641679    1.652929    1.663597    1.673684    1.683194    1.692137   \n",
       "2  741.593854  755.769661  769.811787  783.713067    797.4676  811.070548   \n",
       "3    1.459105    1.473571    1.487491    1.500863    1.513691    1.525979   \n",
       "4   884.40415  897.950716  911.334313  924.548352  937.587462  950.447298   \n",
       "\n",
       "          2050  \n",
       "0  1002.379128  \n",
       "1     1.700522  \n",
       "2   824.518001  \n",
       "3     1.537739  \n",
       "4   963.124411  \n",
       "\n",
       "[5 rows x 158 columns]"
      ]
     },
     "execution_count": 9,
     "metadata": {},
     "output_type": "execute_result"
    }
   ],
   "source": [
    "# NBVAL_IGNORE_OUTPUT\n",
    "results.head()"
   ]
  },
  {
   "cell_type": "markdown",
   "id": "b40f6c19",
   "metadata": {},
   "source": [
    "Plot some plume plots, showing the range of temperature for each scenario (looking at percentiles of the parameter response distribution)"
   ]
  },
  {
   "cell_type": "code",
   "execution_count": 10,
   "id": "81365ddc",
   "metadata": {},
   "outputs": [],
   "source": [
    "plot_kwargs = dict(\n",
    "    quantiles_plumes=[((0.05, 0.95), 0.5), ((0.5,), 1.0)],\n",
    "    quantile_over=\"run_id\",\n",
    "    hue_var=\"scenario\",\n",
    "    style_var=\"model\",\n",
    "    style_label=\"IAM\",\n",
    "    time_axis=\"year\",\n",
    ")"
   ]
  },
  {
   "cell_type": "markdown",
   "id": "2d70dc57",
   "metadata": {},
   "source": [
    "and plot!"
   ]
  },
  {
   "cell_type": "code",
   "execution_count": 11,
   "id": "f9b53868",
   "metadata": {},
   "outputs": [
    {
     "data": {
      "text/plain": [
       "<matplotlib.lines.Line2D at 0x7f3c22e33dc0>"
      ]
     },
     "execution_count": 10,
     "metadata": {},
     "output_type": "execute_result"
    },
    {
     "data": {
      "image/png": "[encoded data removed]",
      "text/plain": [
       "<Figure size 1200x700 with 1 Axes>"
      ]
     },
     "metadata": {},
     "output_type": "display_data"
    }
   ],
   "source": [
    "# NBVAL_IGNORE_OUTPUT\n",
    "ax = plt.figure(figsize=(12, 7)).add_subplot(111)\n",
    "for name, group in results[results[\"variable\"]==\"Surface Air Temperature Change\"].groupby(\"scenario\"):\n",
    "    ax.plot(group.columns[7:], group.iloc[:, 7:].quantile(0.5), '-.', label = name)\n",
    "    ax.fill_between(group.columns[7:].astype(int), group.iloc[:, 7:].quantile(0.05).astype(float), group.iloc[:, 7:].quantile(0.95).astype(float), alpha = 0.3)\n",
    "\n",
    "ax.set_xlabel(\"Year\")\n",
    "ax.set_ylabel(\"Surface Air Temperature Change\")\n",
    "ax.legend()\n",
    "ax.axhline(1.1)\n",
    "ax.axvline(2018)"
   ]
  },
  {
   "cell_type": "code",
   "execution_count": null,
   "id": "1f60af0c",
   "metadata": {},
   "outputs": [],
   "source": []
  }
 ],
 "metadata": {
  "kernelspec": {
   "display_name": "Python 3 (ipykernel)",
   "language": "python",
   "name": "python3"
  },
  "language_info": {
   "codemirror_mode": {
    "name": "ipython",
    "version": 3
   },
   "file_extension": ".py",
   "mimetype": "text/x-python",
   "name": "python",
   "nbconvert_exporter": "python",
   "pygments_lexer": "ipython3",
   "version": "3.8.10"
  }
 },
 "nbformat": 4,
 "nbformat_minor": 5
}
