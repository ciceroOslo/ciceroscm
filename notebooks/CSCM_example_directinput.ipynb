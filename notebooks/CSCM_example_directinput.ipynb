{
 "cells": [
  {
   "cell_type": "markdown",
   "id": "8e2328f2",
   "metadata": {},
   "source": [
    "# CICERO SCM notebook example - interactive input"
   ]
  },
  {
   "cell_type": "markdown",
   "id": "c7d6c91a",
   "metadata": {},
   "source": [
    "Import some stuff"
   ]
  },
  {
   "cell_type": "code",
   "execution_count": null,
   "id": "51cdf382",
   "metadata": {},
   "outputs": [],
   "source": [
    "import sys\n",
    "import re\n",
    "import os\n",
    "import numpy as np\n",
    "import shutil\n",
    "import matplotlib.pyplot as plt\n",
    "import pandas as pd\n",
    "import pandas.testing as pdt\n",
    "import warnings\n",
    "try:\n",
    "    from pandas.core.common import SettingWithCopyWarning\n",
    "except:\n",
    "    from pandas.errors import SettingWithCopyWarning\n",
    "warnings.simplefilter(action=\"ignore\", category=SettingWithCopyWarning)"
   ]
  },
  {
   "cell_type": "markdown",
   "id": "c4c273f7",
   "metadata": {},
   "source": [
    "Import the model"
   ]
  },
  {
   "cell_type": "code",
   "execution_count": null,
   "id": "f3f7d2ef",
   "metadata": {},
   "outputs": [],
   "source": [
    "sys.path.insert(0,os.path.join(os.getcwd(), '../', 'src'))\n",
    "from ciceroscm import CICEROSCM"
   ]
  },
  {
   "cell_type": "markdown",
   "id": "1c38f49a",
   "metadata": {},
   "source": [
    "Define some input handling functions to give us example inputs"
   ]
  },
  {
   "cell_type": "code",
   "execution_count": null,
   "id": "95d7c548",
   "metadata": {},
   "outputs": [],
   "source": [
    "from ciceroscm.input_handler import read_inputfile,read_components,read_natural_emissions"
   ]
  },
  {
   "cell_type": "markdown",
   "id": "08c20d53",
   "metadata": {},
   "source": [
    "Define a function to convert model output to a dataframe"
   ]
  },
  {
   "cell_type": "code",
   "execution_count": null,
   "id": "60e34216",
   "metadata": {},
   "outputs": [],
   "source": [
    "def to_df(cscm):\n",
    "    out=pd.concat([pd.DataFrame(v) for k, v in cscm.results.items()], axis = 1, keys = list(cscm.results.keys()))\n",
    "    return out"
   ]
  },
  {
   "cell_type": "markdown",
   "id": "61fafe5a",
   "metadata": {},
   "source": [
    "set up input directories"
   ]
  },
  {
   "cell_type": "code",
   "execution_count": null,
   "id": "1ea50bee",
   "metadata": {},
   "outputs": [],
   "source": [
    "test_data_dir = os.path.join(os.getcwd(), '../', 'tests', 'test-data')"
   ]
  },
  {
   "cell_type": "markdown",
   "id": "c2d00f05",
   "metadata": {},
   "source": [
    "# Read in datafiles into dataframes"
   ]
  },
  {
   "cell_type": "code",
   "execution_count": null,
   "id": "22c1d304",
   "metadata": {},
   "outputs": [],
   "source": [
    "# NBVAL_IGNORE_OUTPUT\n",
    "#Read gas parameters\n",
    "gaspam =read_components(test_data_dir + '/gases_v1RCMIP.txt')\n",
    "gaspam.head()"
   ]
  },
  {
   "cell_type": "markdown",
   "id": "db6e7dad",
   "metadata": {},
   "source": [
    "Read natural emissions"
   ]
  },
  {
   "cell_type": "code",
   "execution_count": null,
   "id": "4d2ec612",
   "metadata": {},
   "outputs": [],
   "source": [
    "# NBVAL_IGNORE_OUTPUT\n",
    "df_nat_ch4 =read_natural_emissions(test_data_dir + '/natemis_ch4.txt','CH4')\n",
    "df_nat_n2o =read_natural_emissions(test_data_dir + '/natemis_n2o.txt','N2O')\n",
    "df_nat_ch4.head()\n"
   ]
  },
  {
   "cell_type": "markdown",
   "id": "43e19f0b",
   "metadata": {},
   "source": [
    "Read forcing"
   ]
  },
  {
   "cell_type": "code",
   "execution_count": null,
   "id": "b8f04aae",
   "metadata": {},
   "outputs": [],
   "source": [
    "df_ssp2_conc =read_inputfile(test_data_dir + '/ssp245_conc_RCMIP.txt')\n",
    "df_ssp2_conc.head()"
   ]
  },
  {
   "cell_type": "code",
   "execution_count": null,
   "id": "6706e9df",
   "metadata": {},
   "outputs": [],
   "source": [
    "emi_input =read_inputfile(test_data_dir + '/ssp245_em_RCMIP.txt')\n",
    "emi_input.rename(columns={\"CO2\": \"CO2_FF\", \"CO2.1\": \"CO2_AFOLU\"}, inplace=True)\n",
    "emi_input.head()"
   ]
  },
  {
   "cell_type": "markdown",
   "id": "790d6bc5",
   "metadata": {},
   "source": [
    "# Set up model run with defined input variables"
   ]
  },
  {
   "cell_type": "code",
   "execution_count": null,
   "id": "c4ae176e",
   "metadata": {},
   "outputs": [],
   "source": [
    "# NBVAL_IGNORE_OUTPUT\n",
    "scen = 'test'\n",
    "cscm_dir=CICEROSCM({\n",
    "            \"gaspam_data\": gaspam,\n",
    "            \"emstart\": 1750,  \n",
    "            \"conc_run\":True,\n",
    "            \"nystart\": 1750,\n",
    "            \"nyend\": 2100,\n",
    "            \"concentrations_data\": df_ssp2_conc,\n",
    "            \"emissions_data\": emi_input,\n",
    "            \"nat_ch4_data\": df_nat_ch4,\n",
    "            \"nat_n2o_data\": df_nat_n2o,\n",
    "            \"idtm\":24,\n",
    "        })"
   ]
  },
  {
   "cell_type": "markdown",
   "id": "ea51ff0f",
   "metadata": {},
   "source": [
    "and run it!"
   ]
  },
  {
   "cell_type": "code",
   "execution_count": null,
   "id": "e72d0a88",
   "metadata": {},
   "outputs": [],
   "source": [
    "# NBVAL_IGNORE_OUTPUT\n",
    "cscm_dir._run({\n",
    "            \"results_as_dict\":True\n",
    "        },\n",
    "    pamset_udm={\"threstemp\": 7.0, #scales vertical velocity as a function of mixed layer temperature\n",
    "                    \"rlamdo\":16.0,#air-sea heat exchange coefficient (wm^-2K^-1)\n",
    "                    \"akapa\":0.634, #vertical heat diffusivity\n",
    "                    \"cpi\":0.4, #temperature change ratio: polar to nonpolar region\n",
    "                    \"W\":4, #vertical velocity (m/yr)\n",
    "                    \"beto\":3.5, #ocean interhemispheric heat exchange coeff (Wm^-2K^-1)\n",
    "                    \"lambda\":0.54,\n",
    "                    \"mixed\":60.0,  #mixed layer depth\n",
    "                    \"foan\":0.61, #fraction of northern hemisphere covered by ocean\n",
    "                    \"foas\":0.81, #fraction of northern hemisphere covered by ocean\n",
    "                    \"ebbeta\":0.0,#atmospheric interhemispheric heat exchange \n",
    "                    \"fnso\":0.7531, #ocean area ratio, northern to southern hemisphere\n",
    "                    \"lm\":40, #number of vertical layers\n",
    "                    \"ldtime\":12,\n",
    "                   },\n",
    "    pamset_emiconc={\"lamb\": 0.8,\n",
    "                    \"qbmb\":0.03,\n",
    "                    \"qo3\":0.4,\n",
    "                    \"qdirso2\":-.457,\n",
    "                    \"qindso2\":-.514,\n",
    "                    \"qbc\":.2,\n",
    "                    \"qh2o_ch4\":.171,\n",
    "                    \"qoc\":-.103,\n",
    "                    \"ref_yr\":2010,\n",
    "                    \"idtm\":24})"
   ]
  },
  {
   "cell_type": "markdown",
   "id": "14980751",
   "metadata": {},
   "source": [
    "List available output"
   ]
  },
  {
   "cell_type": "code",
   "execution_count": null,
   "id": "4045035f",
   "metadata": {},
   "outputs": [],
   "source": [
    "cscm_dir.results.keys()"
   ]
  },
  {
   "cell_type": "markdown",
   "id": "737a8de0",
   "metadata": {},
   "source": [
    "Convert the output to a dataframe for easy handling"
   ]
  },
  {
   "cell_type": "code",
   "execution_count": null,
   "id": "470f037a",
   "metadata": {},
   "outputs": [],
   "source": [
    "\n",
    "df_temp = to_df(cscm_dir)\n"
   ]
  },
  {
   "cell_type": "code",
   "execution_count": null,
   "id": "e93a88fd",
   "metadata": {},
   "outputs": [],
   "source": [
    "# NBVAL_IGNORE_OUTPUT\n",
    "df_temp.head()"
   ]
  },
  {
   "cell_type": "markdown",
   "id": "64b52467",
   "metadata": {},
   "source": [
    "# Plot output"
   ]
  },
  {
   "cell_type": "code",
   "execution_count": null,
   "id": "dd9e96c6",
   "metadata": {},
   "outputs": [],
   "source": [
    "# NBVAL_IGNORE_OUTPUT\n",
    "fig, axs = plt.subplots(nrows=2, ncols=2,figsize=(15,10))\n",
    "axs=axs.flatten()\n",
    "fig.suptitle('CICERO SCM simulation')\n",
    "\n",
    "df_temp['dT_glob'].plot(ylabel='(K)',ax=axs[0])\n",
    "df_temp['dT_NH'].plot(ylabel='(K)',ax=axs[0],linestyle=':')\n",
    "df_temp['dT_SH'].plot(ylabel='(K)',ax=axs[0],linestyle=':')\n",
    "axs[0].legend(['Global mean temperature','NH temperature','SH temperature'])\n",
    "\n",
    "df_temp['concentrations']['CO2'].plot(ylabel='(ppm)',ax=axs[1])\n",
    "axs[1].legend([r'CO$_2$ concentration'])\n",
    "\n",
    "df_temp['emissions']['CO2'].plot(ylabel='(GtC)',ax=axs[2])\n",
    "axs[2].legend([r'CO$_2$ emission'])\n",
    "\n",
    "df_temp['forcing']['Total_forcing'].plot(ylabel='(Wm$^{-2}$)',ax=axs[3])\n",
    "\n",
    "axs[3].legend([r'Total','CO$_2$','CH$_4$','Land Use'])"
   ]
  },
  {
   "cell_type": "code",
   "execution_count": null,
   "id": "52229a7d",
   "metadata": {},
   "outputs": [],
   "source": [
    "for i in enumerate(df_temp.columns):\n",
    "    print(i)"
   ]
  }
 ],
 "metadata": {
  "kernelspec": {
   "display_name": "venv",
   "language": "python",
   "name": "venv"
  },
  "language_info": {
   "codemirror_mode": {
    "name": "ipython",
    "version": 3
   },
   "file_extension": ".py",
   "mimetype": "text/x-python",
   "name": "python",
   "nbconvert_exporter": "python",
   "pygments_lexer": "ipython3",
   "version": "3.9.23"
  }
 },
 "nbformat": 4,
 "nbformat_minor": 5
}
