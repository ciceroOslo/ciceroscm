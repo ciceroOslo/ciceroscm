{
 "cells": [
  {
   "cell_type": "markdown",
   "id": "8e2328f2",
   "metadata": {},
   "source": [
    "# CICERO SCM notebook example - interactive input"
   ]
  },
  {
   "cell_type": "markdown",
   "id": "c7d6c91a",
   "metadata": {},
   "source": [
    "Import some stuff"
   ]
  },
  {
   "cell_type": "code",
   "execution_count": 1,
   "id": "51cdf382",
   "metadata": {
    "execution": {
     "iopub.execute_input": "2025-09-08T13:17:58.524506Z",
     "iopub.status.busy": "2025-09-08T13:17:58.524099Z",
     "iopub.status.idle": "2025-09-08T13:17:59.166455Z",
     "shell.execute_reply": "2025-09-08T13:17:59.165775Z"
    }
   },
   "outputs": [],
   "source": [
    "import sys\n",
    "import os\n",
    "import matplotlib.pyplot as plt\n",
    "import pandas as pd\n",
    "import warnings\n",
    "try:\n",
    "    from pandas.core.common import SettingWithCopyWarning\n",
    "except:\n",
    "    from pandas.errors import SettingWithCopyWarning\n",
    "warnings.simplefilter(action=\"ignore\", category=SettingWithCopyWarning)"
   ]
  },
  {
   "cell_type": "markdown",
   "id": "c4c273f7",
   "metadata": {},
   "source": [
    "Import the model"
   ]
  },
  {
   "cell_type": "code",
   "execution_count": 2,
   "id": "f3f7d2ef",
   "metadata": {
    "execution": {
     "iopub.execute_input": "2025-09-08T13:17:59.168700Z",
     "iopub.status.busy": "2025-09-08T13:17:59.168440Z",
     "iopub.status.idle": "2025-09-08T13:17:59.348108Z",
     "shell.execute_reply": "2025-09-08T13:17:59.347532Z"
    }
   },
   "outputs": [],
   "source": [
    "sys.path.insert(0,os.path.join(os.getcwd(), '../', 'src'))\n",
    "from ciceroscm import CICEROSCM"
   ]
  },
  {
   "cell_type": "markdown",
   "id": "1c38f49a",
   "metadata": {},
   "source": [
    "Define some input handling functions to give us example inputs"
   ]
  },
  {
   "cell_type": "code",
   "execution_count": 3,
   "id": "95d7c548",
   "metadata": {
    "execution": {
     "iopub.execute_input": "2025-09-08T13:17:59.350154Z",
     "iopub.status.busy": "2025-09-08T13:17:59.349936Z",
     "iopub.status.idle": "2025-09-08T13:17:59.353693Z",
     "shell.execute_reply": "2025-09-08T13:17:59.352870Z"
    }
   },
   "outputs": [],
   "source": [
    "from ciceroscm.input_handler import read_inputfile,read_components,read_natural_emissions"
   ]
  },
  {
   "cell_type": "markdown",
   "id": "08c20d53",
   "metadata": {},
   "source": [
    "Define a function to convert model output to a dataframe"
   ]
  },
  {
   "cell_type": "code",
   "execution_count": 4,
   "id": "60e34216",
   "metadata": {
    "execution": {
     "iopub.execute_input": "2025-09-08T13:17:59.356460Z",
     "iopub.status.busy": "2025-09-08T13:17:59.356247Z",
     "iopub.status.idle": "2025-09-08T13:17:59.359448Z",
     "shell.execute_reply": "2025-09-08T13:17:59.358978Z"
    }
   },
   "outputs": [],
   "source": [
    "def to_df(cscm):\n",
    "    out=pd.concat([pd.DataFrame(v) for k, v in cscm.results.items()], axis = 1, keys = list(cscm.results.keys()))\n",
    "    return out"
   ]
  },
  {
   "cell_type": "markdown",
   "id": "61fafe5a",
   "metadata": {},
   "source": [
    "set up input directories"
   ]
  },
  {
   "cell_type": "code",
   "execution_count": 5,
   "id": "1ea50bee",
   "metadata": {
    "execution": {
     "iopub.execute_input": "2025-09-08T13:17:59.361130Z",
     "iopub.status.busy": "2025-09-08T13:17:59.360986Z",
     "iopub.status.idle": "2025-09-08T13:17:59.363850Z",
     "shell.execute_reply": "2025-09-08T13:17:59.363319Z"
    }
   },
   "outputs": [],
   "source": [
    "test_data_dir = os.path.join(os.getcwd(), '../', 'tests', 'test-data')"
   ]
  },
  {
   "cell_type": "markdown",
   "id": "c2d00f05",
   "metadata": {},
   "source": [
    "# Read in datafiles into dataframes"
   ]
  },
  {
   "cell_type": "code",
   "execution_count": 6,
   "id": "22c1d304",
   "metadata": {
    "execution": {
     "iopub.execute_input": "2025-09-08T13:17:59.365047Z",
     "iopub.status.busy": "2025-09-08T13:17:59.364923Z",
     "iopub.status.idle": "2025-09-08T13:17:59.377873Z",
     "shell.execute_reply": "2025-09-08T13:17:59.377221Z"
    }
   },
   "outputs": [
    {
     "data": {
      "text/html": [
       "<div>\n",
       "<style scoped>\n",
       "    .dataframe tbody tr th:only-of-type {\n",
       "        vertical-align: middle;\n",
       "    }\n",
       "\n",
       "    .dataframe tbody tr th {\n",
       "        vertical-align: top;\n",
       "    }\n",
       "\n",
       "    .dataframe thead th {\n",
       "        text-align: right;\n",
       "    }\n",
       "</style>\n",
       "<table border=\"1\" class=\"dataframe\">\n",
       "  <thead>\n",
       "    <tr style=\"text-align: right;\">\n",
       "      <th></th>\n",
       "      <th>EM_UNIT</th>\n",
       "      <th>CONC_UNIT</th>\n",
       "      <th>BETA</th>\n",
       "      <th>ALPHA</th>\n",
       "      <th>TAU1</th>\n",
       "      <th>TAU2</th>\n",
       "      <th>TAU3</th>\n",
       "      <th>NAT_EM</th>\n",
       "      <th>SARF_TO_ERF</th>\n",
       "    </tr>\n",
       "    <tr>\n",
       "      <th>GAS</th>\n",
       "      <th></th>\n",
       "      <th></th>\n",
       "      <th></th>\n",
       "      <th></th>\n",
       "      <th></th>\n",
       "      <th></th>\n",
       "      <th></th>\n",
       "      <th></th>\n",
       "      <th></th>\n",
       "    </tr>\n",
       "  </thead>\n",
       "  <tbody>\n",
       "    <tr>\n",
       "      <th>CO2</th>\n",
       "      <td>Pg_C</td>\n",
       "      <td>ppm</td>\n",
       "      <td>2.123</td>\n",
       "      <td>0.00000</td>\n",
       "      <td>150.00</td>\n",
       "      <td>0</td>\n",
       "      <td>0</td>\n",
       "      <td>0.0</td>\n",
       "      <td>1.000000</td>\n",
       "    </tr>\n",
       "    <tr>\n",
       "      <th>CH4</th>\n",
       "      <td>Tg</td>\n",
       "      <td>ppb</td>\n",
       "      <td>2.780</td>\n",
       "      <td>0.00000</td>\n",
       "      <td>9.60</td>\n",
       "      <td>120</td>\n",
       "      <td>160</td>\n",
       "      <td>275.0</td>\n",
       "      <td>0.877193</td>\n",
       "    </tr>\n",
       "    <tr>\n",
       "      <th>N2O</th>\n",
       "      <td>Tg_N</td>\n",
       "      <td>ppb</td>\n",
       "      <td>4.810</td>\n",
       "      <td>0.00000</td>\n",
       "      <td>121.00</td>\n",
       "      <td>0</td>\n",
       "      <td>0</td>\n",
       "      <td>9.5</td>\n",
       "      <td>1.000000</td>\n",
       "    </tr>\n",
       "    <tr>\n",
       "      <th>SO2</th>\n",
       "      <td>Tg_SO2</td>\n",
       "      <td>-</td>\n",
       "      <td>11.000</td>\n",
       "      <td>0.00000</td>\n",
       "      <td>0.02</td>\n",
       "      <td>0</td>\n",
       "      <td>0</td>\n",
       "      <td>0.0</td>\n",
       "      <td>1.000000</td>\n",
       "    </tr>\n",
       "    <tr>\n",
       "      <th>CFC-11</th>\n",
       "      <td>Gg</td>\n",
       "      <td>ppt</td>\n",
       "      <td>22.600</td>\n",
       "      <td>0.00026</td>\n",
       "      <td>45.00</td>\n",
       "      <td>0</td>\n",
       "      <td>0</td>\n",
       "      <td>0.0</td>\n",
       "      <td>1.000000</td>\n",
       "    </tr>\n",
       "  </tbody>\n",
       "</table>\n",
       "</div>"
      ],
      "text/plain": [
       "       EM_UNIT CONC_UNIT    BETA    ALPHA    TAU1  TAU2  TAU3  NAT_EM  \\\n",
       "GAS                                                                     \n",
       "CO2       Pg_C       ppm   2.123  0.00000  150.00     0     0     0.0   \n",
       "CH4         Tg       ppb   2.780  0.00000    9.60   120   160   275.0   \n",
       "N2O       Tg_N       ppb   4.810  0.00000  121.00     0     0     9.5   \n",
       "SO2     Tg_SO2         -  11.000  0.00000    0.02     0     0     0.0   \n",
       "CFC-11      Gg       ppt  22.600  0.00026   45.00     0     0     0.0   \n",
       "\n",
       "        SARF_TO_ERF  \n",
       "GAS                  \n",
       "CO2        1.000000  \n",
       "CH4        0.877193  \n",
       "N2O        1.000000  \n",
       "SO2        1.000000  \n",
       "CFC-11     1.000000  "
      ]
     },
     "execution_count": 6,
     "metadata": {},
     "output_type": "execute_result"
    }
   ],
   "source": [
    "# NBVAL_IGNORE_OUTPUT\n",
    "#Read gas parameters\n",
    "gaspam =read_components(test_data_dir + '/gases_v1RCMIP.txt')\n",
    "gaspam.head()"
   ]
  },
  {
   "cell_type": "markdown",
   "id": "db6e7dad",
   "metadata": {},
   "source": [
    "Read natural emissions"
   ]
  },
  {
   "cell_type": "code",
   "execution_count": 7,
   "id": "4d2ec612",
   "metadata": {
    "execution": {
     "iopub.execute_input": "2025-09-08T13:17:59.379440Z",
     "iopub.status.busy": "2025-09-08T13:17:59.379274Z",
     "iopub.status.idle": "2025-09-08T13:17:59.387633Z",
     "shell.execute_reply": "2025-09-08T13:17:59.386841Z"
    }
   },
   "outputs": [
    {
     "data": {
      "text/html": [
       "<div>\n",
       "<style scoped>\n",
       "    .dataframe tbody tr th:only-of-type {\n",
       "        vertical-align: middle;\n",
       "    }\n",
       "\n",
       "    .dataframe tbody tr th {\n",
       "        vertical-align: top;\n",
       "    }\n",
       "\n",
       "    .dataframe thead th {\n",
       "        text-align: right;\n",
       "    }\n",
       "</style>\n",
       "<table border=\"1\" class=\"dataframe\">\n",
       "  <thead>\n",
       "    <tr style=\"text-align: right;\">\n",
       "      <th></th>\n",
       "      <th>CH4</th>\n",
       "    </tr>\n",
       "    <tr>\n",
       "      <th>year</th>\n",
       "      <th></th>\n",
       "    </tr>\n",
       "  </thead>\n",
       "  <tbody>\n",
       "    <tr>\n",
       "      <th>1750</th>\n",
       "      <td>269.4273</td>\n",
       "    </tr>\n",
       "    <tr>\n",
       "      <th>1751</th>\n",
       "      <td>270.9068</td>\n",
       "    </tr>\n",
       "    <tr>\n",
       "      <th>1752</th>\n",
       "      <td>273.0183</td>\n",
       "    </tr>\n",
       "    <tr>\n",
       "      <th>1753</th>\n",
       "      <td>272.0470</td>\n",
       "    </tr>\n",
       "    <tr>\n",
       "      <th>1754</th>\n",
       "      <td>271.1915</td>\n",
       "    </tr>\n",
       "  </tbody>\n",
       "</table>\n",
       "</div>"
      ],
      "text/plain": [
       "           CH4\n",
       "year          \n",
       "1750  269.4273\n",
       "1751  270.9068\n",
       "1752  273.0183\n",
       "1753  272.0470\n",
       "1754  271.1915"
      ]
     },
     "execution_count": 7,
     "metadata": {},
     "output_type": "execute_result"
    }
   ],
   "source": [
    "# NBVAL_IGNORE_OUTPUT\n",
    "df_nat_ch4 =read_natural_emissions(test_data_dir + '/natemis_ch4.txt','CH4')\n",
    "df_nat_n2o =read_natural_emissions(test_data_dir + '/natemis_n2o.txt','N2O')\n",
    "df_nat_ch4.head()\n"
   ]
  },
  {
   "cell_type": "markdown",
   "id": "43e19f0b",
   "metadata": {},
   "source": [
    "Read forcing"
   ]
  },
  {
   "cell_type": "code",
   "execution_count": 8,
   "id": "b8f04aae",
   "metadata": {
    "execution": {
     "iopub.execute_input": "2025-09-08T13:17:59.390660Z",
     "iopub.status.busy": "2025-09-08T13:17:59.390428Z",
     "iopub.status.idle": "2025-09-08T13:17:59.408407Z",
     "shell.execute_reply": "2025-09-08T13:17:59.407907Z"
    }
   },
   "outputs": [
    {
     "data": {
      "text/html": [
       "<div>\n",
       "<style scoped>\n",
       "    .dataframe tbody tr th:only-of-type {\n",
       "        vertical-align: middle;\n",
       "    }\n",
       "\n",
       "    .dataframe tbody tr th {\n",
       "        vertical-align: top;\n",
       "    }\n",
       "\n",
       "    .dataframe thead th {\n",
       "        text-align: right;\n",
       "    }\n",
       "</style>\n",
       "<table border=\"1\" class=\"dataframe\">\n",
       "  <thead>\n",
       "    <tr style=\"text-align: right;\">\n",
       "      <th></th>\n",
       "      <th>CO2</th>\n",
       "      <th>CH4</th>\n",
       "      <th>N2O</th>\n",
       "      <th>CFC-11</th>\n",
       "      <th>CFC-12</th>\n",
       "      <th>CFC-113</th>\n",
       "      <th>CFC-114</th>\n",
       "      <th>CFC-115</th>\n",
       "      <th>CH3Br</th>\n",
       "      <th>CCl4</th>\n",
       "      <th>...</th>\n",
       "      <th>HFC143a</th>\n",
       "      <th>HFC227ea</th>\n",
       "      <th>HFC23</th>\n",
       "      <th>HFC245fa</th>\n",
       "      <th>HFC32</th>\n",
       "      <th>HFC4310mee</th>\n",
       "      <th>C2F6</th>\n",
       "      <th>C6F14</th>\n",
       "      <th>CF4</th>\n",
       "      <th>SF6</th>\n",
       "    </tr>\n",
       "    <tr>\n",
       "      <th>Component</th>\n",
       "      <th></th>\n",
       "      <th></th>\n",
       "      <th></th>\n",
       "      <th></th>\n",
       "      <th></th>\n",
       "      <th></th>\n",
       "      <th></th>\n",
       "      <th></th>\n",
       "      <th></th>\n",
       "      <th></th>\n",
       "      <th></th>\n",
       "      <th></th>\n",
       "      <th></th>\n",
       "      <th></th>\n",
       "      <th></th>\n",
       "      <th></th>\n",
       "      <th></th>\n",
       "      <th></th>\n",
       "      <th></th>\n",
       "      <th></th>\n",
       "      <th></th>\n",
       "    </tr>\n",
       "  </thead>\n",
       "  <tbody>\n",
       "    <tr>\n",
       "      <th>1700</th>\n",
       "      <td>276.746000</td>\n",
       "      <td>706.054021</td>\n",
       "      <td>272.212049</td>\n",
       "      <td>0.0</td>\n",
       "      <td>0.0</td>\n",
       "      <td>0.0</td>\n",
       "      <td>0.0</td>\n",
       "      <td>0.0</td>\n",
       "      <td>5.299998</td>\n",
       "      <td>0.025</td>\n",
       "      <td>...</td>\n",
       "      <td>0.0</td>\n",
       "      <td>0.0</td>\n",
       "      <td>0.0</td>\n",
       "      <td>0.0</td>\n",
       "      <td>0.0</td>\n",
       "      <td>0.0</td>\n",
       "      <td>0.0</td>\n",
       "      <td>0.0</td>\n",
       "      <td>34.049999</td>\n",
       "      <td>0.0</td>\n",
       "    </tr>\n",
       "    <tr>\n",
       "      <th>1701</th>\n",
       "      <td>276.749995</td>\n",
       "      <td>706.247004</td>\n",
       "      <td>272.243047</td>\n",
       "      <td>0.0</td>\n",
       "      <td>0.0</td>\n",
       "      <td>0.0</td>\n",
       "      <td>0.0</td>\n",
       "      <td>0.0</td>\n",
       "      <td>5.299998</td>\n",
       "      <td>0.025</td>\n",
       "      <td>...</td>\n",
       "      <td>0.0</td>\n",
       "      <td>0.0</td>\n",
       "      <td>0.0</td>\n",
       "      <td>0.0</td>\n",
       "      <td>0.0</td>\n",
       "      <td>0.0</td>\n",
       "      <td>0.0</td>\n",
       "      <td>0.0</td>\n",
       "      <td>34.049999</td>\n",
       "      <td>0.0</td>\n",
       "    </tr>\n",
       "    <tr>\n",
       "      <th>1702</th>\n",
       "      <td>276.757998</td>\n",
       "      <td>706.375031</td>\n",
       "      <td>272.266047</td>\n",
       "      <td>0.0</td>\n",
       "      <td>0.0</td>\n",
       "      <td>0.0</td>\n",
       "      <td>0.0</td>\n",
       "      <td>0.0</td>\n",
       "      <td>5.299998</td>\n",
       "      <td>0.025</td>\n",
       "      <td>...</td>\n",
       "      <td>0.0</td>\n",
       "      <td>0.0</td>\n",
       "      <td>0.0</td>\n",
       "      <td>0.0</td>\n",
       "      <td>0.0</td>\n",
       "      <td>0.0</td>\n",
       "      <td>0.0</td>\n",
       "      <td>0.0</td>\n",
       "      <td>34.049999</td>\n",
       "      <td>0.0</td>\n",
       "    </tr>\n",
       "    <tr>\n",
       "      <th>1703</th>\n",
       "      <td>276.757001</td>\n",
       "      <td>706.491002</td>\n",
       "      <td>272.298047</td>\n",
       "      <td>0.0</td>\n",
       "      <td>0.0</td>\n",
       "      <td>0.0</td>\n",
       "      <td>0.0</td>\n",
       "      <td>0.0</td>\n",
       "      <td>5.299998</td>\n",
       "      <td>0.025</td>\n",
       "      <td>...</td>\n",
       "      <td>0.0</td>\n",
       "      <td>0.0</td>\n",
       "      <td>0.0</td>\n",
       "      <td>0.0</td>\n",
       "      <td>0.0</td>\n",
       "      <td>0.0</td>\n",
       "      <td>0.0</td>\n",
       "      <td>0.0</td>\n",
       "      <td>34.049999</td>\n",
       "      <td>0.0</td>\n",
       "    </tr>\n",
       "    <tr>\n",
       "      <th>1704</th>\n",
       "      <td>276.755000</td>\n",
       "      <td>706.602046</td>\n",
       "      <td>272.331052</td>\n",
       "      <td>0.0</td>\n",
       "      <td>0.0</td>\n",
       "      <td>0.0</td>\n",
       "      <td>0.0</td>\n",
       "      <td>0.0</td>\n",
       "      <td>5.299998</td>\n",
       "      <td>0.025</td>\n",
       "      <td>...</td>\n",
       "      <td>0.0</td>\n",
       "      <td>0.0</td>\n",
       "      <td>0.0</td>\n",
       "      <td>0.0</td>\n",
       "      <td>0.0</td>\n",
       "      <td>0.0</td>\n",
       "      <td>0.0</td>\n",
       "      <td>0.0</td>\n",
       "      <td>34.049999</td>\n",
       "      <td>0.0</td>\n",
       "    </tr>\n",
       "  </tbody>\n",
       "</table>\n",
       "<p>5 rows × 30 columns</p>\n",
       "</div>"
      ],
      "text/plain": [
       "                  CO2         CH4         N2O  CFC-11  CFC-12  CFC-113  \\\n",
       "Component                                                                \n",
       "1700       276.746000  706.054021  272.212049     0.0     0.0      0.0   \n",
       "1701       276.749995  706.247004  272.243047     0.0     0.0      0.0   \n",
       "1702       276.757998  706.375031  272.266047     0.0     0.0      0.0   \n",
       "1703       276.757001  706.491002  272.298047     0.0     0.0      0.0   \n",
       "1704       276.755000  706.602046  272.331052     0.0     0.0      0.0   \n",
       "\n",
       "           CFC-114  CFC-115     CH3Br   CCl4  ...  HFC143a  HFC227ea  HFC23  \\\n",
       "Component                                     ...                             \n",
       "1700           0.0      0.0  5.299998  0.025  ...      0.0       0.0    0.0   \n",
       "1701           0.0      0.0  5.299998  0.025  ...      0.0       0.0    0.0   \n",
       "1702           0.0      0.0  5.299998  0.025  ...      0.0       0.0    0.0   \n",
       "1703           0.0      0.0  5.299998  0.025  ...      0.0       0.0    0.0   \n",
       "1704           0.0      0.0  5.299998  0.025  ...      0.0       0.0    0.0   \n",
       "\n",
       "           HFC245fa  HFC32  HFC4310mee  C2F6  C6F14        CF4  SF6  \n",
       "Component                                                            \n",
       "1700            0.0    0.0         0.0   0.0    0.0  34.049999  0.0  \n",
       "1701            0.0    0.0         0.0   0.0    0.0  34.049999  0.0  \n",
       "1702            0.0    0.0         0.0   0.0    0.0  34.049999  0.0  \n",
       "1703            0.0    0.0         0.0   0.0    0.0  34.049999  0.0  \n",
       "1704            0.0    0.0         0.0   0.0    0.0  34.049999  0.0  \n",
       "\n",
       "[5 rows x 30 columns]"
      ]
     },
     "execution_count": 8,
     "metadata": {},
     "output_type": "execute_result"
    }
   ],
   "source": [
    "df_ssp2_conc =read_inputfile(test_data_dir + '/ssp245_conc_RCMIP.txt')\n",
    "df_ssp2_conc.head()"
   ]
  },
  {
   "cell_type": "code",
   "execution_count": 9,
   "id": "6706e9df",
   "metadata": {
    "execution": {
     "iopub.execute_input": "2025-09-08T13:17:59.410271Z",
     "iopub.status.busy": "2025-09-08T13:17:59.410140Z",
     "iopub.status.idle": "2025-09-08T13:17:59.428353Z",
     "shell.execute_reply": "2025-09-08T13:17:59.427686Z"
    }
   },
   "outputs": [
    {
     "data": {
      "text/html": [
       "<div>\n",
       "<style scoped>\n",
       "    .dataframe tbody tr th:only-of-type {\n",
       "        vertical-align: middle;\n",
       "    }\n",
       "\n",
       "    .dataframe tbody tr th {\n",
       "        vertical-align: top;\n",
       "    }\n",
       "\n",
       "    .dataframe thead th {\n",
       "        text-align: right;\n",
       "    }\n",
       "</style>\n",
       "<table border=\"1\" class=\"dataframe\">\n",
       "  <thead>\n",
       "    <tr style=\"text-align: right;\">\n",
       "      <th></th>\n",
       "      <th>CO2_FF</th>\n",
       "      <th>CO2_AFOLU</th>\n",
       "      <th>CH4</th>\n",
       "      <th>N2O</th>\n",
       "      <th>SO2</th>\n",
       "      <th>CFC-11</th>\n",
       "      <th>CFC-12</th>\n",
       "      <th>CFC-113</th>\n",
       "      <th>CFC-114</th>\n",
       "      <th>CFC-115</th>\n",
       "      <th>...</th>\n",
       "      <th>CF4</th>\n",
       "      <th>SF6</th>\n",
       "      <th>NOx</th>\n",
       "      <th>CO</th>\n",
       "      <th>NMVOC</th>\n",
       "      <th>NH3</th>\n",
       "      <th>BMB_AEROS_BC</th>\n",
       "      <th>BMB_AEROS_OC</th>\n",
       "      <th>BC</th>\n",
       "      <th>OC</th>\n",
       "    </tr>\n",
       "    <tr>\n",
       "      <th>Component</th>\n",
       "      <th></th>\n",
       "      <th></th>\n",
       "      <th></th>\n",
       "      <th></th>\n",
       "      <th></th>\n",
       "      <th></th>\n",
       "      <th></th>\n",
       "      <th></th>\n",
       "      <th></th>\n",
       "      <th></th>\n",
       "      <th></th>\n",
       "      <th></th>\n",
       "      <th></th>\n",
       "      <th></th>\n",
       "      <th></th>\n",
       "      <th></th>\n",
       "      <th></th>\n",
       "      <th></th>\n",
       "      <th></th>\n",
       "      <th></th>\n",
       "      <th></th>\n",
       "    </tr>\n",
       "  </thead>\n",
       "  <tbody>\n",
       "    <tr>\n",
       "      <th>1750</th>\n",
       "      <td>0.002592</td>\n",
       "      <td>0.081127</td>\n",
       "      <td>19.019783</td>\n",
       "      <td>0.054710</td>\n",
       "      <td>2.440048</td>\n",
       "      <td>0.0</td>\n",
       "      <td>0.0</td>\n",
       "      <td>0.0</td>\n",
       "      <td>0.0</td>\n",
       "      <td>0.0</td>\n",
       "      <td>...</td>\n",
       "      <td>0.010071</td>\n",
       "      <td>0.0</td>\n",
       "      <td>3.871504</td>\n",
       "      <td>348.527359</td>\n",
       "      <td>60.021826</td>\n",
       "      <td>6.927690</td>\n",
       "      <td>1.353250</td>\n",
       "      <td>12.520269</td>\n",
       "      <td>0.744520</td>\n",
       "      <td>2.927399</td>\n",
       "    </tr>\n",
       "    <tr>\n",
       "      <th>1751</th>\n",
       "      <td>0.002593</td>\n",
       "      <td>0.082619</td>\n",
       "      <td>18.915109</td>\n",
       "      <td>0.055744</td>\n",
       "      <td>2.408379</td>\n",
       "      <td>0.0</td>\n",
       "      <td>0.0</td>\n",
       "      <td>0.0</td>\n",
       "      <td>0.0</td>\n",
       "      <td>0.0</td>\n",
       "      <td>...</td>\n",
       "      <td>0.010071</td>\n",
       "      <td>0.0</td>\n",
       "      <td>3.828060</td>\n",
       "      <td>343.926367</td>\n",
       "      <td>59.088126</td>\n",
       "      <td>6.860142</td>\n",
       "      <td>1.335274</td>\n",
       "      <td>12.279280</td>\n",
       "      <td>0.737652</td>\n",
       "      <td>2.909437</td>\n",
       "    </tr>\n",
       "    <tr>\n",
       "      <th>1752</th>\n",
       "      <td>0.002594</td>\n",
       "      <td>0.084139</td>\n",
       "      <td>18.889712</td>\n",
       "      <td>0.056797</td>\n",
       "      <td>2.397116</td>\n",
       "      <td>0.0</td>\n",
       "      <td>0.0</td>\n",
       "      <td>0.0</td>\n",
       "      <td>0.0</td>\n",
       "      <td>0.0</td>\n",
       "      <td>...</td>\n",
       "      <td>0.010071</td>\n",
       "      <td>0.0</td>\n",
       "      <td>3.828658</td>\n",
       "      <td>341.809034</td>\n",
       "      <td>58.631997</td>\n",
       "      <td>6.819482</td>\n",
       "      <td>1.326617</td>\n",
       "      <td>12.121816</td>\n",
       "      <td>0.737695</td>\n",
       "      <td>2.912659</td>\n",
       "    </tr>\n",
       "    <tr>\n",
       "      <th>1753</th>\n",
       "      <td>0.002594</td>\n",
       "      <td>0.085687</td>\n",
       "      <td>19.121377</td>\n",
       "      <td>0.057870</td>\n",
       "      <td>2.410693</td>\n",
       "      <td>0.0</td>\n",
       "      <td>0.0</td>\n",
       "      <td>0.0</td>\n",
       "      <td>0.0</td>\n",
       "      <td>0.0</td>\n",
       "      <td>...</td>\n",
       "      <td>0.010071</td>\n",
       "      <td>0.0</td>\n",
       "      <td>3.812105</td>\n",
       "      <td>343.675456</td>\n",
       "      <td>59.026349</td>\n",
       "      <td>6.881439</td>\n",
       "      <td>1.328560</td>\n",
       "      <td>12.249330</td>\n",
       "      <td>0.743391</td>\n",
       "      <td>2.933215</td>\n",
       "    </tr>\n",
       "    <tr>\n",
       "      <th>1754</th>\n",
       "      <td>0.002595</td>\n",
       "      <td>0.087263</td>\n",
       "      <td>19.509061</td>\n",
       "      <td>0.058963</td>\n",
       "      <td>2.462065</td>\n",
       "      <td>0.0</td>\n",
       "      <td>0.0</td>\n",
       "      <td>0.0</td>\n",
       "      <td>0.0</td>\n",
       "      <td>0.0</td>\n",
       "      <td>...</td>\n",
       "      <td>0.010071</td>\n",
       "      <td>0.0</td>\n",
       "      <td>3.841598</td>\n",
       "      <td>349.815625</td>\n",
       "      <td>60.269945</td>\n",
       "      <td>7.015189</td>\n",
       "      <td>1.346553</td>\n",
       "      <td>12.593635</td>\n",
       "      <td>0.752796</td>\n",
       "      <td>2.965138</td>\n",
       "    </tr>\n",
       "  </tbody>\n",
       "</table>\n",
       "<p>5 rows × 40 columns</p>\n",
       "</div>"
      ],
      "text/plain": [
       "             CO2_FF  CO2_AFOLU        CH4       N2O       SO2  CFC-11  CFC-12  \\\n",
       "Component                                                                       \n",
       "1750       0.002592   0.081127  19.019783  0.054710  2.440048     0.0     0.0   \n",
       "1751       0.002593   0.082619  18.915109  0.055744  2.408379     0.0     0.0   \n",
       "1752       0.002594   0.084139  18.889712  0.056797  2.397116     0.0     0.0   \n",
       "1753       0.002594   0.085687  19.121377  0.057870  2.410693     0.0     0.0   \n",
       "1754       0.002595   0.087263  19.509061  0.058963  2.462065     0.0     0.0   \n",
       "\n",
       "           CFC-113  CFC-114  CFC-115  ...       CF4  SF6       NOx  \\\n",
       "Component                             ...                            \n",
       "1750           0.0      0.0      0.0  ...  0.010071  0.0  3.871504   \n",
       "1751           0.0      0.0      0.0  ...  0.010071  0.0  3.828060   \n",
       "1752           0.0      0.0      0.0  ...  0.010071  0.0  3.828658   \n",
       "1753           0.0      0.0      0.0  ...  0.010071  0.0  3.812105   \n",
       "1754           0.0      0.0      0.0  ...  0.010071  0.0  3.841598   \n",
       "\n",
       "                   CO      NMVOC       NH3  BMB_AEROS_BC  BMB_AEROS_OC  \\\n",
       "Component                                                                \n",
       "1750       348.527359  60.021826  6.927690      1.353250     12.520269   \n",
       "1751       343.926367  59.088126  6.860142      1.335274     12.279280   \n",
       "1752       341.809034  58.631997  6.819482      1.326617     12.121816   \n",
       "1753       343.675456  59.026349  6.881439      1.328560     12.249330   \n",
       "1754       349.815625  60.269945  7.015189      1.346553     12.593635   \n",
       "\n",
       "                 BC        OC  \n",
       "Component                      \n",
       "1750       0.744520  2.927399  \n",
       "1751       0.737652  2.909437  \n",
       "1752       0.737695  2.912659  \n",
       "1753       0.743391  2.933215  \n",
       "1754       0.752796  2.965138  \n",
       "\n",
       "[5 rows x 40 columns]"
      ]
     },
     "execution_count": 9,
     "metadata": {},
     "output_type": "execute_result"
    }
   ],
   "source": [
    "emi_input =read_inputfile(test_data_dir + '/ssp245_em_RCMIP.txt')\n",
    "emi_input.rename(columns={\"CO2\": \"CO2_FF\", \"CO2.1\": \"CO2_AFOLU\"}, inplace=True)\n",
    "emi_input.head()"
   ]
  },
  {
   "cell_type": "markdown",
   "id": "790d6bc5",
   "metadata": {},
   "source": [
    "# Set up model run with defined input variables"
   ]
  },
  {
   "cell_type": "code",
   "execution_count": 10,
   "id": "c4ae176e",
   "metadata": {
    "execution": {
     "iopub.execute_input": "2025-09-08T13:17:59.429915Z",
     "iopub.status.busy": "2025-09-08T13:17:59.429743Z",
     "iopub.status.idle": "2025-09-08T13:17:59.465089Z",
     "shell.execute_reply": "2025-09-08T13:17:59.464579Z"
    }
   },
   "outputs": [],
   "source": [
    "# NBVAL_IGNORE_OUTPUT\n",
    "scen = 'test'\n",
    "cscm_dir=CICEROSCM({\n",
    "            \"gaspam_data\": gaspam,\n",
    "            \"emstart\": 1751,  \n",
    "            \"conc_run\":False,\n",
    "            \"nystart\": 1750,\n",
    "            \"nyend\": 2100,\n",
    "            \"concentrations_data\": df_ssp2_conc,\n",
    "            \"emissions_data\": emi_input,\n",
    "            \"nat_ch4_data\": df_nat_ch4,\n",
    "            \"nat_n2o_data\": df_nat_n2o,\n",
    "            \"idtm\":24,\n",
    "        })"
   ]
  },
  {
   "cell_type": "markdown",
   "id": "ea51ff0f",
   "metadata": {},
   "source": [
    "and run it!"
   ]
  },
  {
   "cell_type": "code",
   "execution_count": 11,
   "id": "e72d0a88",
   "metadata": {
    "execution": {
     "iopub.execute_input": "2025-09-08T13:17:59.466897Z",
     "iopub.status.busy": "2025-09-08T13:17:59.466766Z",
     "iopub.status.idle": "2025-09-08T13:17:59.877286Z",
     "shell.execute_reply": "2025-09-08T13:17:59.876750Z"
    }
   },
   "outputs": [],
   "source": [
    "# NBVAL_IGNORE_OUTPUT\n",
    "cscm_dir._run({\n",
    "            \"results_as_dict\":True,\n",
    "            \"carbon_cycle_outputs\":True\n",
    "        },\n",
    "    pamset_udm={\"threstemp\": 7.0, #scales vertical velocity as a function of mixed layer temperature\n",
    "                    \"rlamdo\":16.0,#air-sea heat exchange coefficient (wm^-2K^-1)\n",
    "                    \"akapa\":0.634, #vertical heat diffusivity\n",
    "                    \"cpi\":0.4, #temperature change ratio: polar to nonpolar region\n",
    "                    \"W\":4, #vertical velocity (m/yr)\n",
    "                    \"beto\":3.5, #ocean interhemispheric heat exchange coeff (Wm^-2K^-1)\n",
    "                    \"lambda\":0.54,\n",
    "                    \"mixed\":60.0,  #mixed layer depth\n",
    "                    \"foan\":0.61, #fraction of northern hemisphere covered by ocean\n",
    "                    \"foas\":0.81, #fraction of northern hemisphere covered by ocean\n",
    "                    \"ebbeta\":0.0,#atmospheric interhemispheric heat exchange \n",
    "                    \"fnso\":0.7531, #ocean area ratio, northern to southern hemisphere\n",
    "                    \"lm\":40, #number of vertical layers\n",
    "                    \"ldtime\":12,\n",
    "                   },\n",
    "    pamset_emiconc={\"qbmb\": 0.0,\n",
    "                    \"qo3\": 0.5,\n",
    "                    \"qdirso2\": -0.00308,\n",
    "                    \"qindso2\": -0.97 / 57.052577209999995,\n",
    "                    \"qbc\": 0.0279,\n",
    "                    \"qoc\": -0.00433,\n",
    "                    \"qh2o_ch4\": 0.091915,\n",
    "                    \"ref_yr\": 2010,\n",
    "                    \"beta_f\": 0.287,\n",
    "                    \"mixed_carbon\": 75.0,\n",
    "                    \"qnmvoc\": 0.0,\n",
    "                    \"qnh3\": 0.0,\n",
    "                    \"qnox\": 0.0,\n",
    "                    \"npp0\": 60.0,\n",
    "                    \"npp_t_half\": 0.5,\n",
    "                    \"npp_w_sigmoid\": 4,\n",
    "                    \"npp_t_threshold\": 6,\n",
    "                    \"npp_w_threshold\": 4,\n",
    "                    \"ml_w_sigmoid\": 3.0,\n",
    "                    \"ml_fracmax\": 0.5,\n",
    "                    \"ml_t_half\": 0.5,\n",
    "                }\n",
    "            )   \n",
    "\n"
   ]
  },
  {
   "cell_type": "markdown",
   "id": "14980751",
   "metadata": {},
   "source": [
    "List available output"
   ]
  },
  {
   "cell_type": "code",
   "execution_count": 12,
   "id": "4045035f",
   "metadata": {
    "execution": {
     "iopub.execute_input": "2025-09-08T13:17:59.880004Z",
     "iopub.status.busy": "2025-09-08T13:17:59.879525Z",
     "iopub.status.idle": "2025-09-08T13:17:59.883522Z",
     "shell.execute_reply": "2025-09-08T13:17:59.882793Z"
    }
   },
   "outputs": [
    {
     "data": {
      "text/plain": [
       "dict_keys(['OHC700', 'OHCTOT', 'RIB_glob', 'RIB_N', 'RIB_S', 'dT_glob', 'dT_NH', 'dT_SH', 'dT_glob_air', 'dT_NH_air', 'dT_SH_air', 'dT_glob_sea', 'dT_NH_sea', 'dT_SHsea', 'Total_forcing', 'Solar_forcing', 'Volcanic_forcing_NH', 'Volcanic_forcing_SH', 'emissions', 'concentrations', 'forcing', 'carbon cycle'])"
      ]
     },
     "execution_count": 12,
     "metadata": {},
     "output_type": "execute_result"
    }
   ],
   "source": [
    "cscm_dir.results.keys()"
   ]
  },
  {
   "cell_type": "markdown",
   "id": "737a8de0",
   "metadata": {},
   "source": [
    "Convert the output to a dataframe for easy handling"
   ]
  },
  {
   "cell_type": "code",
   "execution_count": 13,
   "id": "470f037a",
   "metadata": {
    "execution": {
     "iopub.execute_input": "2025-09-08T13:17:59.885155Z",
     "iopub.status.busy": "2025-09-08T13:17:59.885030Z",
     "iopub.status.idle": "2025-09-08T13:17:59.892945Z",
     "shell.execute_reply": "2025-09-08T13:17:59.892335Z"
    }
   },
   "outputs": [],
   "source": [
    "\n",
    "df_temp = to_df(cscm_dir)"
   ]
  },
  {
   "cell_type": "code",
   "execution_count": 14,
   "id": "e93a88fd",
   "metadata": {
    "execution": {
     "iopub.execute_input": "2025-09-08T13:17:59.894941Z",
     "iopub.status.busy": "2025-09-08T13:17:59.894782Z",
     "iopub.status.idle": "2025-09-08T13:17:59.907998Z",
     "shell.execute_reply": "2025-09-08T13:17:59.907196Z"
    }
   },
   "outputs": [
    {
     "data": {
      "text/html": [
       "<div>\n",
       "<style scoped>\n",
       "    .dataframe tbody tr th:only-of-type {\n",
       "        vertical-align: middle;\n",
       "    }\n",
       "\n",
       "    .dataframe tbody tr th {\n",
       "        vertical-align: top;\n",
       "    }\n",
       "\n",
       "    .dataframe thead tr th {\n",
       "        text-align: left;\n",
       "    }\n",
       "</style>\n",
       "<table border=\"1\" class=\"dataframe\">\n",
       "  <thead>\n",
       "    <tr>\n",
       "      <th></th>\n",
       "      <th>OHC700</th>\n",
       "      <th>OHCTOT</th>\n",
       "      <th>RIB_glob</th>\n",
       "      <th>RIB_N</th>\n",
       "      <th>RIB_S</th>\n",
       "      <th>dT_glob</th>\n",
       "      <th>dT_NH</th>\n",
       "      <th>dT_SH</th>\n",
       "      <th>dT_glob_air</th>\n",
       "      <th>dT_NH_air</th>\n",
       "      <th>...</th>\n",
       "      <th colspan=\"4\" halign=\"left\">forcing</th>\n",
       "      <th colspan=\"6\" halign=\"left\">carbon cycle</th>\n",
       "    </tr>\n",
       "    <tr>\n",
       "      <th></th>\n",
       "      <th>0</th>\n",
       "      <th>0</th>\n",
       "      <th>0</th>\n",
       "      <th>0</th>\n",
       "      <th>0</th>\n",
       "      <th>0</th>\n",
       "      <th>0</th>\n",
       "      <th>0</th>\n",
       "      <th>0</th>\n",
       "      <th>0</th>\n",
       "      <th>...</th>\n",
       "      <th>C2F6</th>\n",
       "      <th>C6F14</th>\n",
       "      <th>CF4</th>\n",
       "      <th>SF6</th>\n",
       "      <th>Biosphere carbon flux</th>\n",
       "      <th>Ocean carbon flux</th>\n",
       "      <th>Mixed layer depth</th>\n",
       "      <th>CO2 solubility</th>\n",
       "      <th>Net Primary Production</th>\n",
       "      <th>Airborne fraction CO2</th>\n",
       "    </tr>\n",
       "  </thead>\n",
       "  <tbody>\n",
       "    <tr>\n",
       "      <th>0</th>\n",
       "      <td>0.000000</td>\n",
       "      <td>0.000000</td>\n",
       "      <td>0.000000</td>\n",
       "      <td>0.000000</td>\n",
       "      <td>0.000000</td>\n",
       "      <td>0.000000</td>\n",
       "      <td>0.000000</td>\n",
       "      <td>0.000000</td>\n",
       "      <td>0.000000</td>\n",
       "      <td>0.000000</td>\n",
       "      <td>...</td>\n",
       "      <td>NaN</td>\n",
       "      <td>NaN</td>\n",
       "      <td>NaN</td>\n",
       "      <td>NaN</td>\n",
       "      <td>NaN</td>\n",
       "      <td>NaN</td>\n",
       "      <td>NaN</td>\n",
       "      <td>NaN</td>\n",
       "      <td>NaN</td>\n",
       "      <td>NaN</td>\n",
       "    </tr>\n",
       "    <tr>\n",
       "      <th>1</th>\n",
       "      <td>0.001480</td>\n",
       "      <td>0.001491</td>\n",
       "      <td>0.002041</td>\n",
       "      <td>0.002151</td>\n",
       "      <td>0.001932</td>\n",
       "      <td>0.000083</td>\n",
       "      <td>0.000104</td>\n",
       "      <td>0.000061</td>\n",
       "      <td>0.000141</td>\n",
       "      <td>0.000165</td>\n",
       "      <td>...</td>\n",
       "      <td>NaN</td>\n",
       "      <td>NaN</td>\n",
       "      <td>NaN</td>\n",
       "      <td>NaN</td>\n",
       "      <td>NaN</td>\n",
       "      <td>NaN</td>\n",
       "      <td>NaN</td>\n",
       "      <td>NaN</td>\n",
       "      <td>NaN</td>\n",
       "      <td>NaN</td>\n",
       "    </tr>\n",
       "    <tr>\n",
       "      <th>2</th>\n",
       "      <td>0.005517</td>\n",
       "      <td>0.005591</td>\n",
       "      <td>0.003977</td>\n",
       "      <td>0.004074</td>\n",
       "      <td>0.003880</td>\n",
       "      <td>0.000368</td>\n",
       "      <td>0.000438</td>\n",
       "      <td>0.000297</td>\n",
       "      <td>0.000527</td>\n",
       "      <td>0.000601</td>\n",
       "      <td>...</td>\n",
       "      <td>NaN</td>\n",
       "      <td>NaN</td>\n",
       "      <td>NaN</td>\n",
       "      <td>NaN</td>\n",
       "      <td>NaN</td>\n",
       "      <td>NaN</td>\n",
       "      <td>NaN</td>\n",
       "      <td>NaN</td>\n",
       "      <td>NaN</td>\n",
       "      <td>NaN</td>\n",
       "    </tr>\n",
       "    <tr>\n",
       "      <th>3</th>\n",
       "      <td>0.011536</td>\n",
       "      <td>0.011759</td>\n",
       "      <td>0.005171</td>\n",
       "      <td>0.005124</td>\n",
       "      <td>0.005217</td>\n",
       "      <td>0.000768</td>\n",
       "      <td>0.000878</td>\n",
       "      <td>0.000657</td>\n",
       "      <td>0.001008</td>\n",
       "      <td>0.001117</td>\n",
       "      <td>...</td>\n",
       "      <td>NaN</td>\n",
       "      <td>NaN</td>\n",
       "      <td>NaN</td>\n",
       "      <td>NaN</td>\n",
       "      <td>NaN</td>\n",
       "      <td>NaN</td>\n",
       "      <td>NaN</td>\n",
       "      <td>NaN</td>\n",
       "      <td>NaN</td>\n",
       "      <td>NaN</td>\n",
       "    </tr>\n",
       "    <tr>\n",
       "      <th>4</th>\n",
       "      <td>0.018927</td>\n",
       "      <td>0.019394</td>\n",
       "      <td>0.006088</td>\n",
       "      <td>0.005844</td>\n",
       "      <td>0.006333</td>\n",
       "      <td>0.001198</td>\n",
       "      <td>0.001327</td>\n",
       "      <td>0.001068</td>\n",
       "      <td>0.001495</td>\n",
       "      <td>0.001615</td>\n",
       "      <td>...</td>\n",
       "      <td>NaN</td>\n",
       "      <td>NaN</td>\n",
       "      <td>NaN</td>\n",
       "      <td>NaN</td>\n",
       "      <td>NaN</td>\n",
       "      <td>NaN</td>\n",
       "      <td>NaN</td>\n",
       "      <td>NaN</td>\n",
       "      <td>NaN</td>\n",
       "      <td>NaN</td>\n",
       "    </tr>\n",
       "  </tbody>\n",
       "</table>\n",
       "<p>5 rows × 144 columns</p>\n",
       "</div>"
      ],
      "text/plain": [
       "     OHC700    OHCTOT  RIB_glob     RIB_N     RIB_S   dT_glob     dT_NH  \\\n",
       "          0         0         0         0         0         0         0   \n",
       "0  0.000000  0.000000  0.000000  0.000000  0.000000  0.000000  0.000000   \n",
       "1  0.001480  0.001491  0.002041  0.002151  0.001932  0.000083  0.000104   \n",
       "2  0.005517  0.005591  0.003977  0.004074  0.003880  0.000368  0.000438   \n",
       "3  0.011536  0.011759  0.005171  0.005124  0.005217  0.000768  0.000878   \n",
       "4  0.018927  0.019394  0.006088  0.005844  0.006333  0.001198  0.001327   \n",
       "\n",
       "      dT_SH dT_glob_air dT_NH_air  ... forcing                \\\n",
       "          0           0         0  ...    C2F6 C6F14 CF4 SF6   \n",
       "0  0.000000    0.000000  0.000000  ...     NaN   NaN NaN NaN   \n",
       "1  0.000061    0.000141  0.000165  ...     NaN   NaN NaN NaN   \n",
       "2  0.000297    0.000527  0.000601  ...     NaN   NaN NaN NaN   \n",
       "3  0.000657    0.001008  0.001117  ...     NaN   NaN NaN NaN   \n",
       "4  0.001068    0.001495  0.001615  ...     NaN   NaN NaN NaN   \n",
       "\n",
       "           carbon cycle                                                     \\\n",
       "  Biosphere carbon flux Ocean carbon flux Mixed layer depth CO2 solubility   \n",
       "0                   NaN               NaN               NaN            NaN   \n",
       "1                   NaN               NaN               NaN            NaN   \n",
       "2                   NaN               NaN               NaN            NaN   \n",
       "3                   NaN               NaN               NaN            NaN   \n",
       "4                   NaN               NaN               NaN            NaN   \n",
       "\n",
       "                                                \n",
       "  Net Primary Production Airborne fraction CO2  \n",
       "0                    NaN                   NaN  \n",
       "1                    NaN                   NaN  \n",
       "2                    NaN                   NaN  \n",
       "3                    NaN                   NaN  \n",
       "4                    NaN                   NaN  \n",
       "\n",
       "[5 rows x 144 columns]"
      ]
     },
     "execution_count": 14,
     "metadata": {},
     "output_type": "execute_result"
    }
   ],
   "source": [
    "# NBVAL_IGNORE_OUTPUT\n",
    "df_temp.head()"
   ]
  },
  {
   "cell_type": "markdown",
   "id": "64b52467",
   "metadata": {},
   "source": [
    "# Plot output"
   ]
  },
  {
   "cell_type": "code",
   "execution_count": 28,
   "id": "48faa3b2",
   "metadata": {},
   "outputs": [
    {
     "data": {
      "text/html": [
       "<div>\n",
       "<style scoped>\n",
       "    .dataframe tbody tr th:only-of-type {\n",
       "        vertical-align: middle;\n",
       "    }\n",
       "\n",
       "    .dataframe tbody tr th {\n",
       "        vertical-align: top;\n",
       "    }\n",
       "\n",
       "    .dataframe thead th {\n",
       "        text-align: right;\n",
       "    }\n",
       "</style>\n",
       "<table border=\"1\" class=\"dataframe\">\n",
       "  <thead>\n",
       "    <tr style=\"text-align: right;\">\n",
       "      <th></th>\n",
       "      <th>Biosphere carbon flux</th>\n",
       "      <th>Ocean carbon flux</th>\n",
       "      <th>Mixed layer depth</th>\n",
       "      <th>CO2 solubility</th>\n",
       "      <th>Net Primary Production</th>\n",
       "      <th>Airborne fraction CO2</th>\n",
       "    </tr>\n",
       "  </thead>\n",
       "  <tbody>\n",
       "    <tr>\n",
       "      <th>0</th>\n",
       "      <td>NaN</td>\n",
       "      <td>NaN</td>\n",
       "      <td>NaN</td>\n",
       "      <td>NaN</td>\n",
       "      <td>NaN</td>\n",
       "      <td>NaN</td>\n",
       "    </tr>\n",
       "    <tr>\n",
       "      <th>1</th>\n",
       "      <td>NaN</td>\n",
       "      <td>NaN</td>\n",
       "      <td>NaN</td>\n",
       "      <td>NaN</td>\n",
       "      <td>NaN</td>\n",
       "      <td>NaN</td>\n",
       "    </tr>\n",
       "    <tr>\n",
       "      <th>2</th>\n",
       "      <td>NaN</td>\n",
       "      <td>NaN</td>\n",
       "      <td>NaN</td>\n",
       "      <td>NaN</td>\n",
       "      <td>NaN</td>\n",
       "      <td>NaN</td>\n",
       "    </tr>\n",
       "    <tr>\n",
       "      <th>3</th>\n",
       "      <td>NaN</td>\n",
       "      <td>NaN</td>\n",
       "      <td>NaN</td>\n",
       "      <td>NaN</td>\n",
       "      <td>NaN</td>\n",
       "      <td>NaN</td>\n",
       "    </tr>\n",
       "    <tr>\n",
       "      <th>4</th>\n",
       "      <td>NaN</td>\n",
       "      <td>NaN</td>\n",
       "      <td>NaN</td>\n",
       "      <td>NaN</td>\n",
       "      <td>NaN</td>\n",
       "      <td>NaN</td>\n",
       "    </tr>\n",
       "    <tr>\n",
       "      <th>...</th>\n",
       "      <td>...</td>\n",
       "      <td>...</td>\n",
       "      <td>...</td>\n",
       "      <td>...</td>\n",
       "      <td>...</td>\n",
       "      <td>...</td>\n",
       "    </tr>\n",
       "    <tr>\n",
       "      <th>2096</th>\n",
       "      <td>1.873458</td>\n",
       "      <td>2.476632</td>\n",
       "      <td>67.168020</td>\n",
       "      <td>0.961537</td>\n",
       "      <td>67.735246</td>\n",
       "      <td>0.414422</td>\n",
       "    </tr>\n",
       "    <tr>\n",
       "      <th>2097</th>\n",
       "      <td>1.834038</td>\n",
       "      <td>2.434009</td>\n",
       "      <td>67.153242</td>\n",
       "      <td>0.961462</td>\n",
       "      <td>67.744570</td>\n",
       "      <td>0.412701</td>\n",
       "    </tr>\n",
       "    <tr>\n",
       "      <th>2098</th>\n",
       "      <td>1.794640</td>\n",
       "      <td>2.391481</td>\n",
       "      <td>67.139655</td>\n",
       "      <td>0.961394</td>\n",
       "      <td>67.753124</td>\n",
       "      <td>0.410971</td>\n",
       "    </tr>\n",
       "    <tr>\n",
       "      <th>2099</th>\n",
       "      <td>1.755217</td>\n",
       "      <td>2.348996</td>\n",
       "      <td>67.127205</td>\n",
       "      <td>0.961331</td>\n",
       "      <td>67.760944</td>\n",
       "      <td>0.409230</td>\n",
       "    </tr>\n",
       "    <tr>\n",
       "      <th>2100</th>\n",
       "      <td>1.715729</td>\n",
       "      <td>2.306511</td>\n",
       "      <td>67.115850</td>\n",
       "      <td>0.961274</td>\n",
       "      <td>67.768061</td>\n",
       "      <td>0.407479</td>\n",
       "    </tr>\n",
       "  </tbody>\n",
       "</table>\n",
       "<p>702 rows × 6 columns</p>\n",
       "</div>"
      ],
      "text/plain": [
       "      Biosphere carbon flux  Ocean carbon flux  Mixed layer depth  \\\n",
       "0                       NaN                NaN                NaN   \n",
       "1                       NaN                NaN                NaN   \n",
       "2                       NaN                NaN                NaN   \n",
       "3                       NaN                NaN                NaN   \n",
       "4                       NaN                NaN                NaN   \n",
       "...                     ...                ...                ...   \n",
       "2096               1.873458           2.476632          67.168020   \n",
       "2097               1.834038           2.434009          67.153242   \n",
       "2098               1.794640           2.391481          67.139655   \n",
       "2099               1.755217           2.348996          67.127205   \n",
       "2100               1.715729           2.306511          67.115850   \n",
       "\n",
       "      CO2 solubility  Net Primary Production  Airborne fraction CO2  \n",
       "0                NaN                     NaN                    NaN  \n",
       "1                NaN                     NaN                    NaN  \n",
       "2                NaN                     NaN                    NaN  \n",
       "3                NaN                     NaN                    NaN  \n",
       "4                NaN                     NaN                    NaN  \n",
       "...              ...                     ...                    ...  \n",
       "2096        0.961537               67.735246               0.414422  \n",
       "2097        0.961462               67.744570               0.412701  \n",
       "2098        0.961394               67.753124               0.410971  \n",
       "2099        0.961331               67.760944               0.409230  \n",
       "2100        0.961274               67.768061               0.407479  \n",
       "\n",
       "[702 rows x 6 columns]"
      ]
     },
     "execution_count": 28,
     "metadata": {},
     "output_type": "execute_result"
    }
   ],
   "source": [
    "df_temp['carbon cycle']"
   ]
  },
  {
   "cell_type": "code",
   "execution_count": 24,
   "id": "6ada8c33",
   "metadata": {},
   "outputs": [
    {
     "data": {
      "text/plain": [
       "<Axes: >"
      ]
     },
     "execution_count": 24,
     "metadata": {},
     "output_type": "execute_result"
    },
    {
     "data": {
      "image/png": "[encoded data removed]",
      "text/plain": [
       "<Figure size 640x480 with 1 Axes>"
      ]
     },
     "metadata": {},
     "output_type": "display_data"
    }
   ],
   "source": [
    "df_temp['carbon cycle']['CO2 solubility'].plot()"
   ]
  },
  {
   "cell_type": "code",
   "execution_count": 26,
   "id": "5c49d2ed",
   "metadata": {},
   "outputs": [
    {
     "data": {
      "text/plain": [
       "<Axes: >"
      ]
     },
     "execution_count": 26,
     "metadata": {},
     "output_type": "execute_result"
    },
    {
     "data": {
      "image/png": "[encoded data removed]",
      "text/plain": [
       "<Figure size 640x480 with 1 Axes>"
      ]
     },
     "metadata": {},
     "output_type": "display_data"
    }
   ],
   "source": [
    "df_temp['carbon cycle']['Net Primary Production'].plot()"
   ]
  },
  {
   "cell_type": "code",
   "execution_count": 29,
   "id": "8bc643bd",
   "metadata": {},
   "outputs": [
    {
     "data": {
      "text/plain": [
       "<Axes: >"
      ]
     },
     "execution_count": 29,
     "metadata": {},
     "output_type": "execute_result"
    },
    {
     "data": {
      "image/png": "[encoded data removed]",
      "text/plain": [
       "<Figure size 640x480 with 1 Axes>"
      ]
     },
     "metadata": {},
     "output_type": "display_data"
    }
   ],
   "source": [
    "df_temp['carbon cycle']['Mixed layer depth'].plot()"
   ]
  },
  {
   "cell_type": "code",
   "execution_count": 16,
   "id": "dd9e96c6",
   "metadata": {
    "execution": {
     "iopub.execute_input": "2025-09-08T13:17:59.910097Z",
     "iopub.status.busy": "2025-09-08T13:17:59.909961Z",
     "iopub.status.idle": "2025-09-08T13:18:00.346452Z",
     "shell.execute_reply": "2025-09-08T13:18:00.345651Z"
    }
   },
   "outputs": [
    {
     "data": {
      "text/plain": [
       "<matplotlib.legend.Legend at 0x1322fa490>"
      ]
     },
     "execution_count": 16,
     "metadata": {},
     "output_type": "execute_result"
    },
    {
     "data": {
      "image/png": "[encoded data removed]",
      "text/plain": [
       "<Figure size 1500x1000 with 4 Axes>"
      ]
     },
     "metadata": {},
     "output_type": "display_data"
    }
   ],
   "source": [
    "# NBVAL_IGNORE_OUTPUT\n",
    "fig, axs = plt.subplots(nrows=2, ncols=2,figsize=(15,10))\n",
    "axs=axs.flatten()\n",
    "fig.suptitle('CICERO SCM simulation')\n",
    "\n",
    "df_temp['dT_glob'].plot(ylabel='(K)',ax=axs[0])\n",
    "df_temp['dT_NH'].plot(ylabel='(K)',ax=axs[0],linestyle=':')\n",
    "df_temp['dT_SH'].plot(ylabel='(K)',ax=axs[0],linestyle=':')\n",
    "axs[0].legend(['Global mean temperature','NH temperature','SH temperature'])\n",
    "\n",
    "df_temp['concentrations']['CO2'].plot(ylabel='(ppm)',ax=axs[1])\n",
    "axs[1].legend([r'CO$_2$ concentration'])\n",
    "\n",
    "df_temp['emissions']['CO2'].plot(ylabel='(GtC)',ax=axs[2])\n",
    "axs[2].legend([r'CO$_2$ emission'])\n",
    "\n",
    "\n",
    "axs[3].legend([r'Total','CO$_2$','CH$_4$','Land Use'])"
   ]
  },
  {
   "cell_type": "code",
   "execution_count": 17,
   "id": "52229a7d",
   "metadata": {
    "execution": {
     "iopub.execute_input": "2025-09-08T13:18:00.347940Z",
     "iopub.status.busy": "2025-09-08T13:18:00.347800Z",
     "iopub.status.idle": "2025-09-08T13:18:00.351123Z",
     "shell.execute_reply": "2025-09-08T13:18:00.350629Z"
    }
   },
   "outputs": [
    {
     "name": "stdout",
     "output_type": "stream",
     "text": [
      "(0, ('OHC700', 0))\n",
      "(1, ('OHCTOT', 0))\n",
      "(2, ('RIB_glob', 0))\n",
      "(3, ('RIB_N', 0))\n",
      "(4, ('RIB_S', 0))\n",
      "(5, ('dT_glob', 0))\n",
      "(6, ('dT_NH', 0))\n",
      "(7, ('dT_SH', 0))\n",
      "(8, ('dT_glob_air', 0))\n",
      "(9, ('dT_NH_air', 0))\n",
      "(10, ('dT_SH_air', 0))\n",
      "(11, ('dT_glob_sea', 0))\n",
      "(12, ('dT_NH_sea', 0))\n",
      "(13, ('dT_SHsea', 0))\n",
      "(14, ('Total_forcing', 0))\n",
      "(15, ('Solar_forcing', 0))\n",
      "(16, ('Volcanic_forcing_NH', 0))\n",
      "(17, ('Volcanic_forcing_SH', 0))\n",
      "(18, ('emissions', 'Year'))\n",
      "(19, ('emissions', 'CO2'))\n",
      "(20, ('emissions', 'CH4'))\n",
      "(21, ('emissions', 'N2O'))\n",
      "(22, ('emissions', 'SO2'))\n",
      "(23, ('emissions', 'CFC-11'))\n",
      "(24, ('emissions', 'CFC-12'))\n",
      "(25, ('emissions', 'CFC-113'))\n",
      "(26, ('emissions', 'CFC-114'))\n",
      "(27, ('emissions', 'CFC-115'))\n",
      "(28, ('emissions', 'CH3Br'))\n",
      "(29, ('emissions', 'CCl4'))\n",
      "(30, ('emissions', 'CH3CCl3'))\n",
      "(31, ('emissions', 'HCFC-22'))\n",
      "(32, ('emissions', 'HCFC-141b'))\n",
      "(33, ('emissions', 'HCFC-123'))\n",
      "(34, ('emissions', 'HCFC-142b'))\n",
      "(35, ('emissions', 'H-1211'))\n",
      "(36, ('emissions', 'H-1301'))\n",
      "(37, ('emissions', 'H-2402'))\n",
      "(38, ('emissions', 'HFC125'))\n",
      "(39, ('emissions', 'HFC134a'))\n",
      "(40, ('emissions', 'HFC143a'))\n",
      "(41, ('emissions', 'HFC227ea'))\n",
      "(42, ('emissions', 'HFC23'))\n",
      "(43, ('emissions', 'HFC245fa'))\n",
      "(44, ('emissions', 'HFC32'))\n",
      "(45, ('emissions', 'HFC4310mee'))\n",
      "(46, ('emissions', 'C2F6'))\n",
      "(47, ('emissions', 'C6F14'))\n",
      "(48, ('emissions', 'CF4'))\n",
      "(49, ('emissions', 'SF6'))\n",
      "(50, ('emissions', 'NOx'))\n",
      "(51, ('emissions', 'CO'))\n",
      "(52, ('emissions', 'NMVOC'))\n",
      "(53, ('emissions', 'NH3'))\n",
      "(54, ('emissions', 'BMB_AEROS_BC'))\n",
      "(55, ('emissions', 'BMB_AEROS_OC'))\n",
      "(56, ('emissions', 'BC'))\n",
      "(57, ('emissions', 'OC'))\n",
      "(58, ('concentrations', 'Year'))\n",
      "(59, ('concentrations', 'CO2'))\n",
      "(60, ('concentrations', 'CH4'))\n",
      "(61, ('concentrations', 'N2O'))\n",
      "(62, ('concentrations', 'CFC-11'))\n",
      "(63, ('concentrations', 'CFC-12'))\n",
      "(64, ('concentrations', 'CFC-113'))\n",
      "(65, ('concentrations', 'CFC-114'))\n",
      "(66, ('concentrations', 'CFC-115'))\n",
      "(67, ('concentrations', 'CH3Br'))\n",
      "(68, ('concentrations', 'CCl4'))\n",
      "(69, ('concentrations', 'CH3CCl3'))\n",
      "(70, ('concentrations', 'HCFC-22'))\n",
      "(71, ('concentrations', 'HCFC-141b'))\n",
      "(72, ('concentrations', 'HCFC-123'))\n",
      "(73, ('concentrations', 'HCFC-142b'))\n",
      "(74, ('concentrations', 'H-1211'))\n",
      "(75, ('concentrations', 'H-1301'))\n",
      "(76, ('concentrations', 'H-2402'))\n",
      "(77, ('concentrations', 'HFC125'))\n",
      "(78, ('concentrations', 'HFC134a'))\n",
      "(79, ('concentrations', 'HFC143a'))\n",
      "(80, ('concentrations', 'HFC227ea'))\n",
      "(81, ('concentrations', 'HFC23'))\n",
      "(82, ('concentrations', 'HFC245fa'))\n",
      "(83, ('concentrations', 'HFC32'))\n",
      "(84, ('concentrations', 'HFC4310mee'))\n",
      "(85, ('concentrations', 'C2F6'))\n",
      "(86, ('concentrations', 'C6F14'))\n",
      "(87, ('concentrations', 'CF4'))\n",
      "(88, ('concentrations', 'SF6'))\n",
      "(89, ('concentrations', 'TROP_O3'))\n",
      "(90, ('forcing', 'STRAT_O3'))\n",
      "(91, ('forcing', 'CO2'))\n",
      "(92, ('forcing', 'CH4'))\n",
      "(93, ('forcing', 'N2O'))\n",
      "(94, ('forcing', 'SO4_DIR'))\n",
      "(95, ('forcing', 'NOx'))\n",
      "(96, ('forcing', 'CO'))\n",
      "(97, ('forcing', 'NMVOC'))\n",
      "(98, ('forcing', 'NH3'))\n",
      "(99, ('forcing', 'SO4_IND'))\n",
      "(100, ('forcing', 'TROP_O3'))\n",
      "(101, ('forcing', 'STRAT_H2O'))\n",
      "(102, ('forcing', 'BMB_AEROS_BC'))\n",
      "(103, ('forcing', 'BMB_AEROS_OC'))\n",
      "(104, ('forcing', 'BMB_AEROS'))\n",
      "(105, ('forcing', 'LANDUSE'))\n",
      "(106, ('forcing', 'BC'))\n",
      "(107, ('forcing', 'OC'))\n",
      "(108, ('forcing', 'OTHER'))\n",
      "(109, ('forcing', 'Total_forcing'))\n",
      "(110, ('forcing', 'Year'))\n",
      "(111, ('forcing', 'CFC-11'))\n",
      "(112, ('forcing', 'CFC-12'))\n",
      "(113, ('forcing', 'CFC-113'))\n",
      "(114, ('forcing', 'CFC-114'))\n",
      "(115, ('forcing', 'CFC-115'))\n",
      "(116, ('forcing', 'CH3Br'))\n",
      "(117, ('forcing', 'CCl4'))\n",
      "(118, ('forcing', 'CH3CCl3'))\n",
      "(119, ('forcing', 'HCFC-22'))\n",
      "(120, ('forcing', 'HCFC-141b'))\n",
      "(121, ('forcing', 'HCFC-123'))\n",
      "(122, ('forcing', 'HCFC-142b'))\n",
      "(123, ('forcing', 'H-1211'))\n",
      "(124, ('forcing', 'H-1301'))\n",
      "(125, ('forcing', 'H-2402'))\n",
      "(126, ('forcing', 'HFC125'))\n",
      "(127, ('forcing', 'HFC134a'))\n",
      "(128, ('forcing', 'HFC143a'))\n",
      "(129, ('forcing', 'HFC227ea'))\n",
      "(130, ('forcing', 'HFC23'))\n",
      "(131, ('forcing', 'HFC245fa'))\n",
      "(132, ('forcing', 'HFC32'))\n",
      "(133, ('forcing', 'HFC4310mee'))\n",
      "(134, ('forcing', 'C2F6'))\n",
      "(135, ('forcing', 'C6F14'))\n",
      "(136, ('forcing', 'CF4'))\n",
      "(137, ('forcing', 'SF6'))\n",
      "(138, ('carbon cycle', 'Biosphere carbon flux'))\n",
      "(139, ('carbon cycle', 'Ocean carbon flux'))\n",
      "(140, ('carbon cycle', 'Mixed layer depth'))\n",
      "(141, ('carbon cycle', 'CO2 solubility'))\n",
      "(142, ('carbon cycle', 'Net Primary Production'))\n",
      "(143, ('carbon cycle', 'Airborne fraction CO2'))\n"
     ]
    }
   ],
   "source": [
    "for i in enumerate(df_temp.columns):\n",
    "    print(i)"
   ]
  },
  {
   "cell_type": "code",
   "execution_count": 18,
   "id": "20b17f43",
   "metadata": {},
   "outputs": [],
   "source": [
    "from ciceroscm.carbon_cycle.carbon_cycle_mod import fnpp_from_temp,mixed_layer_temp_feedback,solubility_temp_feedback   "
   ]
  },
  {
   "cell_type": "code",
   "execution_count": 19,
   "id": "ad239f36",
   "metadata": {},
   "outputs": [],
   "source": [
    "import numpy as np"
   ]
  },
  {
   "cell_type": "code",
   "execution_count": 20,
   "id": "3c4ecfe6",
   "metadata": {},
   "outputs": [
    {
     "data": {
      "text/plain": [
       "Text(0, 0.5, 'Fnpp (PgC/yr)')"
      ]
     },
     "execution_count": 20,
     "metadata": {},
     "output_type": "execute_result"
    },
    {
     "data": {
      "image/png": "[encoded data removed]",
      "text/plain": [
       "<Figure size 640x480 with 1 Axes>"
      ]
     },
     "metadata": {},
     "output_type": "display_data"
    }
   ],
   "source": [
    "t=np.linspace(-20,20,100)\n",
    "f=fnpp_from_temp(t)\n",
    "plt.plot(t,f)\n",
    "plt.xlabel('Delta temperature (K)')\n",
    "plt.ylabel('Fnpp (PgC/yr)')"
   ]
  },
  {
   "cell_type": "code",
   "execution_count": 21,
   "id": "f343ab60",
   "metadata": {},
   "outputs": [
    {
     "data": {
      "text/plain": [
       "Text(0, 0.5, '')"
      ]
     },
     "execution_count": 21,
     "metadata": {},
     "output_type": "execute_result"
    },
    {
     "data": {
      "image/png": "[encoded data removed]",
      "text/plain": [
       "<Figure size 640x480 with 1 Axes>"
      ]
     },
     "metadata": {},
     "output_type": "display_data"
    }
   ],
   "source": [
    "t=np.linspace(-40,40,100)\n",
    "f=mixed_layer_temp_feedback(t)*75\n",
    "plt.plot(t,f)\n",
    "plt.xlabel('Delta temperature (K)')\n",
    "plt.ylabel('')"
   ]
  },
  {
   "cell_type": "code",
   "execution_count": 22,
   "id": "c823760e",
   "metadata": {},
   "outputs": [
    {
     "data": {
      "text/plain": [
       "Text(0, 0.5, '')"
      ]
     },
     "execution_count": 22,
     "metadata": {},
     "output_type": "execute_result"
    },
    {
     "data": {
      "image/png": "[encoded data removed]",
      "text/plain": [
       "<Figure size 640x480 with 1 Axes>"
      ]
     },
     "metadata": {},
     "output_type": "display_data"
    }
   ],
   "source": [
    "f=solubility_temp_feedback(t)\n",
    "plt.plot(t,f)\n",
    "plt.xlabel('Delta temperature (K)')\n",
    "plt.ylabel('')"
   ]
  }
 ],
 "metadata": {
  "kernelspec": {
   "display_name": ".venv",
   "language": "python",
   "name": "python3"
  },
  "language_info": {
   "codemirror_mode": {
    "name": "ipython",
    "version": 3
   },
   "file_extension": ".py",
   "mimetype": "text/x-python",
   "name": "python",
   "nbconvert_exporter": "python",
   "pygments_lexer": "ipython3",
   "version": "3.13.5"
  }
 },
 "nbformat": 4,
 "nbformat_minor": 5
}
