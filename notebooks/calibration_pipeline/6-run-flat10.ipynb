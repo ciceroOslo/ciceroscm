{
 "cells": [
  {
   "cell_type": "code",
   "execution_count": 1,
   "metadata": {},
   "outputs": [],
   "source": [
    "from itertools import repeat\n"
   ]
  },
  {
   "cell_type": "code",
   "execution_count": 2,
   "metadata": {},
   "outputs": [],
   "source": [
    "import sys\n",
    "import re\n",
    "import os\n",
    "import numpy as np\n",
    "import shutil\n",
    "import matplotlib.pyplot as plt\n",
    "import pandas as pd\n",
    "import pandas.testing as pdt\n",
    "import warnings\n",
    "import logging\n",
    "\n",
    "try:\n",
    "    from pandas.core.common import SettingWithCopyWarning\n",
    "except:\n",
    "    from pandas.errors import SettingWithCopyWarning\n",
    "warnings.simplefilter(action=\"ignore\", category=SettingWithCopyWarning)\n",
    "warnings.filterwarnings(\"ignore\", message=\".*Parameter.*\")"
   ]
  },
  {
   "cell_type": "code",
   "execution_count": 3,
   "metadata": {},
   "outputs": [],
   "source": [
    "pd.set_option('display.max_columns', None)  "
   ]
  },
  {
   "cell_type": "code",
   "execution_count": 4,
   "metadata": {},
   "outputs": [],
   "source": [
    "store = pd.HDFStore('data/optparam.h5')\n",
    "opt = store['opt']\n",
    "store.close()"
   ]
  },
  {
   "cell_type": "code",
   "execution_count": 5,
   "metadata": {},
   "outputs": [],
   "source": [
    "from concurrent.futures import ProcessPoolExecutor\n",
    "from tqdm import tqdm"
   ]
  },
  {
   "cell_type": "code",
   "execution_count": 6,
   "metadata": {},
   "outputs": [],
   "source": [
    "import concurrent"
   ]
  },
  {
   "cell_type": "code",
   "execution_count": 7,
   "metadata": {},
   "outputs": [
    {
     "name": "stderr",
     "output_type": "stream",
     "text": [
      "/uio/kant/div-cicero-u1/bensan/ciceroscm-1/venv/lib/python3.8/site-packages/scmdata/database/_database.py:9: TqdmExperimentalWarning: Using `tqdm.autonotebook.tqdm` in notebook mode. Use `tqdm.tqdm` instead to force console mode (e.g. in jupyter console)\n",
      "  import tqdm.autonotebook as tqdman\n",
      "/uio/kant/div-cicero-u1/bensan/ciceroscm-1/venv/lib/python3.8/site-packages/setuptools_scm/_integration/setuptools.py:31: RuntimeWarning: \n",
      "ERROR: setuptools==47.1.0 is used in combination with setuptools_scm>=8.x\n",
      "\n",
      "Your build configuration is incomplete and previously worked by accident!\n",
      "setuptools_scm requires setuptools>=61\n",
      "\n",
      "Suggested workaround if applicable:\n",
      " - migrating from the deprecated setup_requires mechanism to pep517/518\n",
      "   and using a pyproject.toml to declare build dependencies\n",
      "   which are reliably pre-installed before running the build tools\n",
      "\n",
      "  warnings.warn(\n"
     ]
    },
    {
     "data": {
      "application/javascript": "if (typeof IPython !== 'undefined') { IPython.OutputArea.prototype._should_scroll = function(lines){ return false; }}",
      "text/plain": [
       "<IPython.core.display.Javascript object>"
      ]
     },
     "metadata": {},
     "output_type": "display_data"
    }
   ],
   "source": [
    "from ciceroscm.parallel._configdistro import _ConfigDistro\n",
    "from ciceroscm.parallel.calibrator import Calibrator\n",
    "from ciceroscm.parallel.distributionrun import DistributionRun\n"
   ]
  },
  {
   "cell_type": "markdown",
   "metadata": {},
   "source": [
    "Import the model"
   ]
  },
  {
   "cell_type": "code",
   "execution_count": 8,
   "metadata": {},
   "outputs": [],
   "source": [
    "sys.path.insert(0,os.path.join(os.getcwd(), '../', 'src'))\n",
    "from ciceroscm import CICEROSCM"
   ]
  },
  {
   "cell_type": "markdown",
   "metadata": {},
   "source": [
    "Define some input handling functions to give us example inputs"
   ]
  },
  {
   "cell_type": "code",
   "execution_count": 9,
   "metadata": {},
   "outputs": [],
   "source": [
    "from ciceroscm.input_handler import read_inputfile,read_components,read_natural_emissions"
   ]
  },
  {
   "cell_type": "markdown",
   "metadata": {},
   "source": [
    "Define a function to convert model output to a dataframe"
   ]
  },
  {
   "cell_type": "markdown",
   "metadata": {},
   "source": [
    "set up input directories"
   ]
  },
  {
   "cell_type": "code",
   "execution_count": 10,
   "metadata": {},
   "outputs": [],
   "source": [
    "test_data_dir = os.path.join(os.getcwd(), '../../', 'tests', 'test-data')"
   ]
  },
  {
   "cell_type": "markdown",
   "metadata": {},
   "source": [
    "# Read in datafiles into dataframes"
   ]
  },
  {
   "cell_type": "code",
   "execution_count": 11,
   "metadata": {},
   "outputs": [
    {
     "data": {
      "text/html": [
       "<div>\n",
       "<style scoped>\n",
       "    .dataframe tbody tr th:only-of-type {\n",
       "        vertical-align: middle;\n",
       "    }\n",
       "\n",
       "    .dataframe tbody tr th {\n",
       "        vertical-align: top;\n",
       "    }\n",
       "\n",
       "    .dataframe thead th {\n",
       "        text-align: right;\n",
       "    }\n",
       "</style>\n",
       "<table border=\"1\" class=\"dataframe\">\n",
       "  <thead>\n",
       "    <tr style=\"text-align: right;\">\n",
       "      <th></th>\n",
       "      <th>EM_UNIT</th>\n",
       "      <th>CONC_UNIT</th>\n",
       "      <th>BETA</th>\n",
       "      <th>ALPHA</th>\n",
       "      <th>TAU1</th>\n",
       "      <th>TAU2</th>\n",
       "      <th>TAU3</th>\n",
       "      <th>NAT_EM</th>\n",
       "      <th>SARF_TO_ERF</th>\n",
       "    </tr>\n",
       "    <tr>\n",
       "      <th>GAS</th>\n",
       "      <th></th>\n",
       "      <th></th>\n",
       "      <th></th>\n",
       "      <th></th>\n",
       "      <th></th>\n",
       "      <th></th>\n",
       "      <th></th>\n",
       "      <th></th>\n",
       "      <th></th>\n",
       "    </tr>\n",
       "  </thead>\n",
       "  <tbody>\n",
       "    <tr>\n",
       "      <th>CO2</th>\n",
       "      <td>Pg_C</td>\n",
       "      <td>ppm</td>\n",
       "      <td>2.123</td>\n",
       "      <td>0.00000</td>\n",
       "      <td>150.00</td>\n",
       "      <td>0</td>\n",
       "      <td>0</td>\n",
       "      <td>0.0</td>\n",
       "      <td>1.000000</td>\n",
       "    </tr>\n",
       "    <tr>\n",
       "      <th>CH4</th>\n",
       "      <td>Tg</td>\n",
       "      <td>ppb</td>\n",
       "      <td>2.780</td>\n",
       "      <td>0.00000</td>\n",
       "      <td>9.60</td>\n",
       "      <td>120</td>\n",
       "      <td>160</td>\n",
       "      <td>275.0</td>\n",
       "      <td>0.877193</td>\n",
       "    </tr>\n",
       "    <tr>\n",
       "      <th>N2O</th>\n",
       "      <td>Tg_N</td>\n",
       "      <td>ppb</td>\n",
       "      <td>4.810</td>\n",
       "      <td>0.00000</td>\n",
       "      <td>121.00</td>\n",
       "      <td>0</td>\n",
       "      <td>0</td>\n",
       "      <td>9.5</td>\n",
       "      <td>1.000000</td>\n",
       "    </tr>\n",
       "    <tr>\n",
       "      <th>SO2</th>\n",
       "      <td>Tg_S</td>\n",
       "      <td>-</td>\n",
       "      <td>11.000</td>\n",
       "      <td>0.00000</td>\n",
       "      <td>0.02</td>\n",
       "      <td>0</td>\n",
       "      <td>0</td>\n",
       "      <td>0.0</td>\n",
       "      <td>1.000000</td>\n",
       "    </tr>\n",
       "    <tr>\n",
       "      <th>CFC-11</th>\n",
       "      <td>Gg</td>\n",
       "      <td>ppt</td>\n",
       "      <td>22.600</td>\n",
       "      <td>0.00026</td>\n",
       "      <td>45.00</td>\n",
       "      <td>0</td>\n",
       "      <td>0</td>\n",
       "      <td>0.0</td>\n",
       "      <td>1.000000</td>\n",
       "    </tr>\n",
       "  </tbody>\n",
       "</table>\n",
       "</div>"
      ],
      "text/plain": [
       "       EM_UNIT CONC_UNIT    BETA    ALPHA    TAU1  TAU2  TAU3  NAT_EM  \\\n",
       "GAS                                                                     \n",
       "CO2       Pg_C       ppm   2.123  0.00000  150.00     0     0     0.0   \n",
       "CH4         Tg       ppb   2.780  0.00000    9.60   120   160   275.0   \n",
       "N2O       Tg_N       ppb   4.810  0.00000  121.00     0     0     9.5   \n",
       "SO2       Tg_S         -  11.000  0.00000    0.02     0     0     0.0   \n",
       "CFC-11      Gg       ppt  22.600  0.00026   45.00     0     0     0.0   \n",
       "\n",
       "        SARF_TO_ERF  \n",
       "GAS                  \n",
       "CO2        1.000000  \n",
       "CH4        0.877193  \n",
       "N2O        1.000000  \n",
       "SO2        1.000000  \n",
       "CFC-11     1.000000  "
      ]
     },
     "execution_count": 11,
     "metadata": {},
     "output_type": "execute_result"
    }
   ],
   "source": [
    "# NBVAL_IGNORE_OUTPUT\n",
    "#Read gas parameters\n",
    "gaspam =read_components(test_data_dir + '/gases_v1RCMIP.txt')\n",
    "gaspam.head()"
   ]
  },
  {
   "cell_type": "markdown",
   "metadata": {},
   "source": [
    "Read natural emissions"
   ]
  },
  {
   "cell_type": "code",
   "execution_count": 12,
   "metadata": {},
   "outputs": [
    {
     "data": {
      "text/html": [
       "<div>\n",
       "<style scoped>\n",
       "    .dataframe tbody tr th:only-of-type {\n",
       "        vertical-align: middle;\n",
       "    }\n",
       "\n",
       "    .dataframe tbody tr th {\n",
       "        vertical-align: top;\n",
       "    }\n",
       "\n",
       "    .dataframe thead th {\n",
       "        text-align: right;\n",
       "    }\n",
       "</style>\n",
       "<table border=\"1\" class=\"dataframe\">\n",
       "  <thead>\n",
       "    <tr style=\"text-align: right;\">\n",
       "      <th></th>\n",
       "      <th>CH4</th>\n",
       "    </tr>\n",
       "    <tr>\n",
       "      <th>year</th>\n",
       "      <th></th>\n",
       "    </tr>\n",
       "  </thead>\n",
       "  <tbody>\n",
       "    <tr>\n",
       "      <th>1750</th>\n",
       "      <td>269.4273</td>\n",
       "    </tr>\n",
       "    <tr>\n",
       "      <th>1751</th>\n",
       "      <td>269.4273</td>\n",
       "    </tr>\n",
       "    <tr>\n",
       "      <th>1752</th>\n",
       "      <td>269.4273</td>\n",
       "    </tr>\n",
       "    <tr>\n",
       "      <th>1753</th>\n",
       "      <td>269.4273</td>\n",
       "    </tr>\n",
       "    <tr>\n",
       "      <th>1754</th>\n",
       "      <td>269.4273</td>\n",
       "    </tr>\n",
       "  </tbody>\n",
       "</table>\n",
       "</div>"
      ],
      "text/plain": [
       "           CH4\n",
       "year          \n",
       "1750  269.4273\n",
       "1751  269.4273\n",
       "1752  269.4273\n",
       "1753  269.4273\n",
       "1754  269.4273"
      ]
     },
     "execution_count": 12,
     "metadata": {},
     "output_type": "execute_result"
    }
   ],
   "source": [
    "# NBVAL_IGNORE_OUTPUT\n",
    "df_nat_ch4 =read_natural_emissions(test_data_dir + '/natemis_ch4.txt','CH4')\n",
    "df_nat_n2o =read_natural_emissions(test_data_dir + '/natemis_n2o.txt','N2O')\n",
    "df_nat_ch4[:]=df_nat_ch4.iloc[0]\n",
    "df_nat_n2o[:]=df_nat_n2o.iloc[0]\n",
    "\n",
    "df_nat_ch4.head()\n"
   ]
  },
  {
   "cell_type": "markdown",
   "metadata": {},
   "source": [
    "Read forcing"
   ]
  },
  {
   "cell_type": "code",
   "execution_count": 13,
   "metadata": {},
   "outputs": [],
   "source": [
    "df_flat_conc =read_inputfile(test_data_dir + '/ssp245_conc_RCMIP.txt')\n",
    "df_flat_conc =read_inputfile(test_data_dir + '/ssp245_conc_RCMIP.txt')\n",
    "df_flat_conc[:]=df_flat_conc.iloc[101]\n"
   ]
  },
  {
   "cell_type": "code",
   "execution_count": 14,
   "metadata": {},
   "outputs": [],
   "source": [
    "df_1pct_conc=df_flat_conc.copy()\n",
    "nt=len(df_1pct_conc)\n",
    "df_1pct_conc['CO2'][:]=278\n",
    "\n",
    "df_1pct_conc['CO2'][50:]=278*(1.01**(np.arange(0,nt-50)))\n",
    "df_1pct_conc['CO2'][190:]=278*(1.01**140)\n",
    "\n",
    "\n"
   ]
  },
  {
   "cell_type": "code",
   "execution_count": 15,
   "metadata": {},
   "outputs": [
    {
     "data": {
      "text/plain": [
       "(1700.0, 2100.0)"
      ]
     },
     "execution_count": 15,
     "metadata": {},
     "output_type": "execute_result"
    },
    {
     "data": {
      "image/png": "[encoded data removed]",
      "text/plain": [
       "<Figure size 640x480 with 1 Axes>"
      ]
     },
     "metadata": {},
     "output_type": "display_data"
    }
   ],
   "source": [
    "df_1pct_conc['CO2'].plot()\n",
    "plt.ylim([0,2000])\n",
    "plt.xlim([1700,2100])\n"
   ]
  },
  {
   "cell_type": "code",
   "execution_count": 16,
   "metadata": {},
   "outputs": [],
   "source": [
    "emi_input =read_inputfile(test_data_dir + '/ssp245_em_RCMIP.txt')\n",
    "emi_input.rename(columns={\"CO2\": \"CO2_FF\", \"CO2.1\": \"CO2_AFOLU\"}, inplace=True)\n",
    "emi_input[:]=emi_input.iloc[0]*0\n",
    "\n",
    "emi_input['CO2_FF'][100:]=10"
   ]
  },
  {
   "cell_type": "code",
   "execution_count": 17,
   "metadata": {},
   "outputs": [],
   "source": [
    "emi_input_zec=emi_input.copy()\n",
    "emi_input_zec['CO2_FF'][200:]=0\n"
   ]
  },
  {
   "cell_type": "code",
   "execution_count": 18,
   "metadata": {},
   "outputs": [],
   "source": [
    "emi_input_cdr=emi_input.copy()\n",
    "emi_input_cdr['CO2_FF'][200:300]=np.arange(10,-10,-.2)\n",
    "emi_input_cdr['CO2_FF'][300:400]=-10\n",
    "emi_input_cdr['CO2_FF'][400:]=0\n",
    "\n"
   ]
  },
  {
   "cell_type": "markdown",
   "metadata": {},
   "source": [
    "# Set up model run with defined input variables"
   ]
  },
  {
   "cell_type": "code",
   "execution_count": 19,
   "metadata": {},
   "outputs": [],
   "source": [
    "scendata_1pct={\n",
    "            \"gaspam_data\": gaspam,\n",
    "            \"emstart\": 2500,  \n",
    "            \"conc_run\":True,\n",
    "            \"nystart\": 1750,\n",
    "            \"nyend\": 2100,\n",
    "            \"concentrations_data\": df_1pct_conc,\n",
    "            \"emissions_data\": emi_input,\n",
    "            \"nat_ch4_data\": df_nat_ch4,\n",
    "            \"nat_n2o_data\": df_nat_n2o,\n",
    "            \"idtm\":24,\n",
    "        }"
   ]
  },
  {
   "cell_type": "code",
   "execution_count": 20,
   "metadata": {},
   "outputs": [],
   "source": [
    "scendata={\n",
    "            \"gaspam_data\": gaspam,\n",
    "            \"emstart\": 2500,  \n",
    "            \"conc_run\":False,\n",
    "            \"nystart\": 1750,\n",
    "            \"nyend\": 2200,\n",
    "            \"concentrations_data\": df_flat_conc,\n",
    "            \"emissions_data\": emi_input,\n",
    "            \"nat_ch4_data\": df_nat_ch4,\n",
    "            \"nat_n2o_data\": df_nat_n2o,\n",
    "            \"idtm\":24,\n",
    "        }"
   ]
  },
  {
   "cell_type": "code",
   "execution_count": 21,
   "metadata": {},
   "outputs": [],
   "source": [
    "\n",
    "scendata_zec=scendata.copy()\n",
    "scendata_zec[\"emissions_data\"]=emi_input_zec\n",
    "\n"
   ]
  },
  {
   "cell_type": "code",
   "execution_count": 22,
   "metadata": {},
   "outputs": [],
   "source": [
    "scendata_cdr=scendata.copy()\n",
    "scendata_cdr[\"emissions_data\"]=emi_input_cdr"
   ]
  },
  {
   "cell_type": "code",
   "execution_count": 23,
   "metadata": {},
   "outputs": [
    {
     "data": {
      "text/plain": [
       "[<matplotlib.lines.Line2D at 0x7f00d36ad0a0>]"
      ]
     },
     "execution_count": 23,
     "metadata": {},
     "output_type": "execute_result"
    },
    {
     "data": {
      "image/png": "[encoded data removed]",
      "text/plain": [
       "<Figure size 640x480 with 1 Axes>"
      ]
     },
     "metadata": {},
     "output_type": "display_data"
    }
   ],
   "source": [
    "plt.plot(scendata_cdr[\"emissions_data\"]['CO2_FF'])\n",
    "plt.plot(scendata_zec[\"emissions_data\"]['CO2_FF'])\n",
    "\n",
    "plt.plot(scendata[\"emissions_data\"]['CO2_FF'])"
   ]
  },
  {
   "cell_type": "code",
   "execution_count": 24,
   "metadata": {},
   "outputs": [],
   "source": [
    "    calibdata = pd.DataFrame(\n",
    "        data={\n",
    "            \"Variable Name\": [\n",
    "                \"Heat Content|Ocean\",\n",
    "                \"Surface Air Ocean Blended Temperature Change\",\n",
    "            ],\n",
    "            \"Yearstart_norm\": [1971, 1961],\n",
    "            \"Yearend_norm\": [1971, 1990],\n",
    "            \"Yearstart_change\": [2018, 2000],\n",
    "            \"Yearend_change\": [2018, 2019],\n",
    "            \"Central Value\": [320.69251537323, 0.5372],\n",
    "            \"sigma\": [17.020342912051203, 0.039028311931729676],\n",
    "        })"
   ]
  },
  {
   "cell_type": "code",
   "execution_count": 25,
   "metadata": {},
   "outputs": [
    {
     "name": "stderr",
     "output_type": "stream",
     "text": [
      "distro_array not 2 dimensional, disregarding\n"
     ]
    }
   ],
   "source": [
    "testconfig = _ConfigDistro( )"
   ]
  },
  {
   "cell_type": "code",
   "execution_count": 26,
   "metadata": {},
   "outputs": [],
   "source": [
    "\n",
    "# NBVAL_IGNORE_OUTPUT\n",
    "scen = 'test'\n",
    "\n"
   ]
  },
  {
   "cell_type": "code",
   "execution_count": null,
   "metadata": {},
   "outputs": [],
   "source": []
  },
  {
   "cell_type": "code",
   "execution_count": 27,
   "metadata": {},
   "outputs": [
    {
     "name": "stdout",
     "output_type": "stream",
     "text": [
      "[ 5.          0.06        0.161       0.55        0.          0.53908356\n",
      " 25.          0.4        -0.55       -1.5         0.1        -0.1\n",
      "  0.11       25.        ]\n",
      "[ 2.50000000e+01  8.00000000e-01  5.69000000e-01  2.55000000e+00\n",
      "  7.00000000e+00  1.34770889e+00  1.25000000e+02  6.00000000e-01\n",
      " -2.00000000e-01 -5.00000000e-01  2.00000000e-01 -6.00000000e-02\n",
      "  4.65000000e-01  1.25000000e+02]\n"
     ]
    }
   ],
   "source": [
    "distrorun1 = DistributionRun(testconfig, numvalues=len(opt))\n",
    "output_vars = [\"Heat Uptake\", \"Surface Air Temperature Change\"]\n"
   ]
  },
  {
   "cell_type": "code",
   "execution_count": null,
   "metadata": {},
   "outputs": [],
   "source": []
  },
  {
   "cell_type": "markdown",
   "metadata": {},
   "source": [
    "overwrite parameter values with opt"
   ]
  },
  {
   "cell_type": "code",
   "execution_count": 28,
   "metadata": {},
   "outputs": [],
   "source": [
    "for j,c in enumerate(distrorun1.cfgs):\n",
    "    for typ in ['pamset_udm','pamset_emiconc']:\n",
    "        pkys=list(c[typ].keys())\n",
    "        ins=list(set(opt.iloc[j].keys()).intersection(pkys))\n",
    "        for i in ins:   \n",
    "            c[typ][i]=opt.iloc[j][i]\n",
    "    c['pamset_emiconc']['qo3']=0\n"
   ]
  },
  {
   "cell_type": "code",
   "execution_count": 29,
   "metadata": {},
   "outputs": [],
   "source": [
    "def get_results(cfg,scn=scendata,outcc=False):\n",
    "    try:\n",
    "        cex=CICEROSCM(scn)\n",
    "        if outcc:\n",
    "            cex._run({\"results_as_dict\": True, \"carbon_cycle_outputs\": outcc},pamset_udm=cfg['pamset_udm'],pamset_emiconc=cfg['pamset_emiconc'])\n",
    "        else:\n",
    "            cex._run({\"results_as_dict\": True},pamset_udm=cfg['pamset_udm'],pamset_emiconc=cfg['pamset_emiconc'])\n",
    "            \n",
    "        res=cex.results\n",
    "\n",
    "    except:\n",
    "        res=None\n",
    "    return [cfg,res]"
   ]
  },
  {
   "cell_type": "code",
   "execution_count": 30,
   "metadata": {},
   "outputs": [],
   "source": [
    "def run_parallel(cfgs,nworkers=4,scn=scendata,outcc=False):\n",
    "    results=len(cfgs)*[None]\n",
    "    with ProcessPoolExecutor(nworkers) as exe:\n",
    "            # execute tasks concurrently and process results in order\n",
    "            if type(scn)==dict:\n",
    "                \n",
    "                pres=list(tqdm(exe.map(get_results, cfgs,repeat(scn),repeat(outcc))))\n",
    "            else:\n",
    "                pres=list(tqdm(exe.map(get_results, cfgs,scn,repeat(outcc))))\n",
    "            for result in pres:\n",
    "                # get the corresponding index of the config\n",
    "                ind=int(result[0]['Index'])\n",
    "                # put it in the right element of the results vector\n",
    "                results[ind]=result[1]\n",
    "    return results"
   ]
  },
  {
   "cell_type": "code",
   "execution_count": 31,
   "metadata": {},
   "outputs": [
    {
     "data": {
      "text/plain": [
       "'/uio/kant/div-cicero-u1/bensan/ciceroscm-1/venv/lib/python3.8/site-packages/debugpy/__init__.py'"
      ]
     },
     "execution_count": 31,
     "metadata": {},
     "output_type": "execute_result"
    }
   ],
   "source": [
    "sys.modules['debugpy'].__file__"
   ]
  },
  {
   "cell_type": "code",
   "execution_count": 32,
   "metadata": {},
   "outputs": [
    {
     "data": {
      "text/plain": [
       "<Axes: xlabel='Component'>"
      ]
     },
     "execution_count": 32,
     "metadata": {},
     "output_type": "execute_result"
    },
    {
     "data": {
      "image/png": "[encoded data removed]",
      "text/plain": [
       "<Figure size 640x480 with 1 Axes>"
      ]
     },
     "metadata": {},
     "output_type": "display_data"
    }
   ],
   "source": [
    "scendata_1pct['concentrations_data'].plot()"
   ]
  },
  {
   "cell_type": "code",
   "execution_count": 35,
   "metadata": {},
   "outputs": [
    {
     "name": "stderr",
     "output_type": "stream",
     "text": [
      "1000it [01:45,  9.47it/s]\n"
     ]
    }
   ],
   "source": [
    "results_1pct=run_parallel(distrorun1.cfgs,nworkers=100,scn=scendata_1pct,outcc=True)\n",
    "\n"
   ]
  },
  {
   "cell_type": "code",
   "execution_count": null,
   "metadata": {},
   "outputs": [],
   "source": []
  },
  {
   "cell_type": "code",
   "execution_count": 36,
   "metadata": {},
   "outputs": [
    {
     "name": "stderr",
     "output_type": "stream",
     "text": [
      "1000it [04:26,  3.75it/s]\n",
      "1000it [04:32,  3.67it/s]\n",
      "1000it [04:27,  3.74it/s]\n"
     ]
    }
   ],
   "source": [
    "results=run_parallel(distrorun1.cfgs,nworkers=100,scn=scendata,outcc=False)\n",
    "results_cdr=run_parallel(distrorun1.cfgs,nworkers=100,scn=scendata_cdr,outcc=False)\n",
    "results_zec=run_parallel(distrorun1.cfgs,nworkers=100,scn=scendata_zec,outcc=False)\n"
   ]
  },
  {
   "cell_type": "code",
   "execution_count": 37,
   "metadata": {},
   "outputs": [],
   "source": [
    "def to_df(rs):\n",
    "\n",
    "    out=pd.concat([pd.DataFrame(v).reset_index(drop=True) for k, v in rs.items()], keys = rs.keys(),axis=1) \n",
    "    out.index=rs['forcing'].index\n",
    "    return out"
   ]
  },
  {
   "cell_type": "code",
   "execution_count": 38,
   "metadata": {},
   "outputs": [],
   "source": [
    "def plot_range(df, var, ax,col='k'):\n",
    "    Tdf=df.xs(var).T\n",
    "    lower = Tdf.quantile(0.10)\n",
    "    upper = Tdf.quantile(0.90)\n",
    "    ax.fill_between(Tdf.columns, lower, upper, color=col, alpha=0.2,edgecolor=None)\n",
    "    ax.plot(Tdf.columns, Tdf.mean(), color=col)\n",
    "\n"
   ]
  },
  {
   "cell_type": "code",
   "execution_count": 39,
   "metadata": {},
   "outputs": [],
   "source": [
    "def make_ensdf(results,flds):\n",
    "    resdf=[]\n",
    "    for i,res in enumerate(results):\n",
    "        df=to_df(res)\n",
    "        test_list=df.columns.map('{0[0]}-{0[1]}'.format).tolist()\n",
    "        df.columns=[sub.replace('-0', '') for sub in test_list]\n",
    "        resdf.append(df[flds].unstack())\n",
    "    ensdf=pd.concat(resdf,axis=1)\n",
    "    ensdf.index.names = ['variable', 'year']\n",
    "    ensdf.columns.names=['run_id']\n",
    "    return ensdf"
   ]
  },
  {
   "cell_type": "code",
   "execution_count": 40,
   "metadata": {},
   "outputs": [],
   "source": [
    "flds=['dT_glob','OHC700','concentrations-CO2','RIB_glob']"
   ]
  },
  {
   "cell_type": "code",
   "execution_count": 41,
   "metadata": {},
   "outputs": [],
   "source": [
    "df1=make_ensdf(results,flds)\n",
    "df1_zec=make_ensdf(results_zec,flds)\n",
    "df1_cdr=make_ensdf(results_cdr,flds)\n"
   ]
  },
  {
   "cell_type": "code",
   "execution_count": 42,
   "metadata": {},
   "outputs": [],
   "source": [
    "import xarray as xr"
   ]
  },
  {
   "cell_type": "markdown",
   "metadata": {},
   "source": []
  },
  {
   "cell_type": "code",
   "execution_count": 43,
   "metadata": {},
   "outputs": [
    {
     "data": {
      "text/plain": [
       "(-1.0, 5.0)"
      ]
     },
     "execution_count": 43,
     "metadata": {},
     "output_type": "execute_result"
    },
    {
     "data": {
      "image/png": "[encoded data removed]",
      "text/plain": [
       "<Figure size 1500x400 with 4 Axes>"
      ]
     },
     "metadata": {},
     "output_type": "display_data"
    }
   ],
   "source": [
    "\n",
    "fig, ax = plt.subplots( 1,len(flds) ,figsize=(15, 4))\n",
    "\n",
    "ax=ax.flatten()\n",
    "for i,f in enumerate(flds):\n",
    "    plot_range(df1, f, ax[i])\n",
    "    plot_range(df1_zec, f, ax[i])\n",
    "    plot_range(df1_cdr, f, ax[i])\n",
    "    \n",
    "    \n",
    "    ax[i].set_title(f)\n",
    "ax[0].set_ylim([-5,5])\n",
    "ax[1].set_ylim([-1,200])\n",
    "ax[2].set_ylim([200,700])\n",
    "ax[3].set_ylim([-1,5])\n",
    "\n"
   ]
  },
  {
   "cell_type": "code",
   "execution_count": 44,
   "metadata": {},
   "outputs": [],
   "source": [
    "tcremat=np.ones(len(results_1pct))\n",
    "t1000mat=[]\n",
    "emis1pc_zec=[]\n",
    "emis1pc=[]\n",
    "\n",
    "scendata_e1pct=[]\n",
    "scendata_e1pct_zec=[]\n",
    "\n",
    "for i,r in enumerate(results_1pct):\n",
    "    tmp=r['carbon cycle']['Emissions'].fillna(0).clip(upper=50).clip(lower=0).copy()\n",
    "    \n",
    "    t1000=np.argmax(tmp.cumsum()>1000)\n",
    "    tcremat[i]=r['dT_glob'][t1000]\n",
    "    emis1pc.append(scendata_1pct['emissions_data'].copy())\n",
    "    \n",
    "    emis1pc[i]['CO2_FF']=tmp\n",
    "    emis1pc[i]['CO2_FF'][250:]=0\n",
    "    emis1pc_zec.append(scendata_1pct['emissions_data'].copy())\n",
    "    emis1pc_zec[i]['CO2_FF']=tmp\n",
    "    emis1pc_zec[i]['CO2_FF'][t1000:]=0 \n",
    "    t1000mat.append(t1000)\n",
    "    scendata_e1pct.append(scendata.copy())\n",
    "    scendata_e1pct[i][\"emissions_data\"]=emis1pc[i]\n",
    "    scendata_e1pct_zec.append(scendata.copy())\n",
    "    scendata_e1pct_zec[i][\"emissions_data\"]=emis1pc_zec[i]\n",
    "\n"
   ]
  },
  {
   "cell_type": "code",
   "execution_count": null,
   "metadata": {},
   "outputs": [],
   "source": []
  },
  {
   "cell_type": "code",
   "execution_count": null,
   "metadata": {},
   "outputs": [],
   "source": []
  },
  {
   "cell_type": "code",
   "execution_count": 45,
   "metadata": {},
   "outputs": [
    {
     "name": "stderr",
     "output_type": "stream",
     "text": [
      "1000it [04:34,  3.64it/s]\n",
      "1000it [04:41,  3.56it/s]\n"
     ]
    }
   ],
   "source": [
    "results_e1pct=run_parallel(distrorun1.cfgs,nworkers=100,scn=scendata_e1pct,outcc=False)\n",
    "results_e1pct_zec=run_parallel(distrorun1.cfgs,nworkers=100,scn=scendata_e1pct_zec,outcc=False)\n",
    "\n",
    "\n"
   ]
  },
  {
   "cell_type": "code",
   "execution_count": 46,
   "metadata": {},
   "outputs": [],
   "source": [
    "isgd=np.where([r!=None for r in results_e1pct])[0].astype(int)"
   ]
  },
  {
   "cell_type": "code",
   "execution_count": 57,
   "metadata": {},
   "outputs": [],
   "source": [
    "tcremat_e=[]\n",
    "zec50mat=[]\n",
    "\n",
    "zec100mat=[]\n",
    "\n",
    "for i,zf in enumerate(results_e1pct_zec):\n",
    "    tcremat_e.append(results_e1pct_zec[i]['dT_glob'][t1000mat[i]])\n",
    "    try:\n",
    "        zec50mat.append(results_e1pct_zec[i]['dT_glob'][t1000mat[i]+50]-tcremat_e[i])\n",
    "    except:\n",
    "        zec50mat.append(np.NaN)\n",
    "    try:\n",
    "        zec100mat.append(results_e1pct_zec[i]['dT_glob'][t1000mat[i]+100]-tcremat_e[i])\n",
    "    except:\n",
    "        zec100mat.append(np.NaN)\n",
    "zec50mat=np.array(zec50mat)\n",
    "tcremat_e=np.array(tcremat_e)\n",
    "\n",
    "zec100mat=np.array(zec100mat)"
   ]
  },
  {
   "cell_type": "code",
   "execution_count": 58,
   "metadata": {},
   "outputs": [],
   "source": [
    "zec50mat[np.abs(tcremat-tcremat_e)>0.1]=np.NaN\n",
    "zec100mat[np.abs(tcremat-tcremat_e)>0.1]=np.NaN\n",
    "tcremat_e[np.abs(tcremat-tcremat_e)>0.1]=np.NaN"
   ]
  },
  {
   "cell_type": "code",
   "execution_count": null,
   "metadata": {},
   "outputs": [],
   "source": []
  },
  {
   "cell_type": "code",
   "execution_count": 59,
   "metadata": {},
   "outputs": [
    {
     "data": {
      "text/plain": [
       "[<matplotlib.lines.Line2D at 0x7f00e2ab5040>]"
      ]
     },
     "execution_count": 59,
     "metadata": {},
     "output_type": "execute_result"
    },
    {
     "data": {
      "image/png": "[encoded data removed]",
      "text/plain": [
       "<Figure size 640x480 with 1 Axes>"
      ]
     },
     "metadata": {},
     "output_type": "display_data"
    }
   ],
   "source": [
    "plt.plot(tcremat,tcremat_e)"
   ]
  },
  {
   "cell_type": "code",
   "execution_count": 60,
   "metadata": {},
   "outputs": [],
   "source": [
    "xdf=xr.Dataset()\n",
    "xdf_zec=xr.Dataset()\n",
    "xdf_cdr=xr.Dataset()\n",
    "\n",
    "\n",
    "for f in flds:\n",
    "    xdf[f]=xr.DataArray(df1.loc[f].T.to_numpy(), coords={'config': df1.columns.values,'time': df1.loc[flds[0]].index.values}, \n",
    "                    dims=[\"config\", \"time\"])    \n",
    "    xdf_zec[f]=xr.DataArray(df1_zec.loc[f].T.to_numpy(), coords={'config': df1.columns.values,'time': df1.loc[flds[0]].index.values}, \n",
    "                    dims=[\"config\", \"time\"])\n",
    "    xdf_cdr[f]=xr.DataArray(df1_cdr.loc[f].T.to_numpy(), coords={'config': df1.columns.values,'time': df1.loc[flds[0]].index.values}, \n",
    "                    dims=[\"config\", \"time\"])\n",
    "    \n",
    "    \n",
    "f10_cic=xr.concat([xdf,xdf_zec,xdf_cdr], 'scenario')\n",
    "f10_cic['scenario']=['esm-flat10','esm-flat10_zec','esm-flat10_cdr']\n",
    "\n",
    "xtcre=xr.DataArray(tcremat,coords={'config': df1.columns.values})\n",
    "f10_cic['tcre']=xtcre\n",
    "xzec50=xr.DataArray(zec50mat,coords={'config': df1.columns.values})\n",
    "f10_cic['zec50']=xzec50\n",
    "xzec100=xr.DataArray(zec100mat,coords={'config': df1.columns.values})\n",
    "f10_cic['zec100']=xzec100\n",
    "    "
   ]
  },
  {
   "cell_type": "code",
   "execution_count": 61,
   "metadata": {},
   "outputs": [],
   "source": [
    "f10_cic.to_netcdf('data/cic_flat10.nc')"
   ]
  },
  {
   "cell_type": "code",
   "execution_count": 62,
   "metadata": {},
   "outputs": [
    {
     "data": {
      "text/html": [
       "<div><svg style=\"position: absolute; width: 0; height: 0; overflow: hidden\">\n",
       "<defs>\n",
       "<symbol id=\"icon-database\" viewBox=\"0 0 32 32\">\n",
       "<path d=\"M16 0c-8.837 0-16 2.239-16 5v4c0 2.761 7.163 5 16 5s16-2.239 16-5v-4c0-2.761-7.163-5-16-5z\"></path>\n",
       "<path d=\"M16 17c-8.837 0-16-2.239-16-5v6c0 2.761 7.163 5 16 5s16-2.239 16-5v-6c0 2.761-7.163 5-16 5z\"></path>\n",
       "<path d=\"M16 26c-8.837 0-16-2.239-16-5v6c0 2.761 7.163 5 16 5s16-2.239 16-5v-6c0 2.761-7.163 5-16 5z\"></path>\n",
       "</symbol>\n",
       "<symbol id=\"icon-file-text2\" viewBox=\"0 0 32 32\">\n",
       "<path d=\"M28.681 7.159c-0.694-0.947-1.662-2.053-2.724-3.116s-2.169-2.030-3.116-2.724c-1.612-1.182-2.393-1.319-2.841-1.319h-15.5c-1.378 0-2.5 1.121-2.5 2.5v27c0 1.378 1.122 2.5 2.5 2.5h23c1.378 0 2.5-1.122 2.5-2.5v-19.5c0-0.448-0.137-1.23-1.319-2.841zM24.543 5.457c0.959 0.959 1.712 1.825 2.268 2.543h-4.811v-4.811c0.718 0.556 1.584 1.309 2.543 2.268zM28 29.5c0 0.271-0.229 0.5-0.5 0.5h-23c-0.271 0-0.5-0.229-0.5-0.5v-27c0-0.271 0.229-0.5 0.5-0.5 0 0 15.499-0 15.5 0v7c0 0.552 0.448 1 1 1h7v19.5z\"></path>\n",
       "<path d=\"M23 26h-14c-0.552 0-1-0.448-1-1s0.448-1 1-1h14c0.552 0 1 0.448 1 1s-0.448 1-1 1z\"></path>\n",
       "<path d=\"M23 22h-14c-0.552 0-1-0.448-1-1s0.448-1 1-1h14c0.552 0 1 0.448 1 1s-0.448 1-1 1z\"></path>\n",
       "<path d=\"M23 18h-14c-0.552 0-1-0.448-1-1s0.448-1 1-1h14c0.552 0 1 0.448 1 1s-0.448 1-1 1z\"></path>\n",
       "</symbol>\n",
       "</defs>\n",
       "</svg>\n",
       "<style>/* CSS stylesheet for displaying xarray objects in jupyterlab.\n",
       " *\n",
       " */\n",
       "\n",
       ":root {\n",
       "  --xr-font-color0: var(--jp-content-font-color0, rgba(0, 0, 0, 1));\n",
       "  --xr-font-color2: var(--jp-content-font-color2, rgba(0, 0, 0, 0.54));\n",
       "  --xr-font-color3: var(--jp-content-font-color3, rgba(0, 0, 0, 0.38));\n",
       "  --xr-border-color: var(--jp-border-color2, #e0e0e0);\n",
       "  --xr-disabled-color: var(--jp-layout-color3, #bdbdbd);\n",
       "  --xr-background-color: var(--jp-layout-color0, white);\n",
       "  --xr-background-color-row-even: var(--jp-layout-color1, white);\n",
       "  --xr-background-color-row-odd: var(--jp-layout-color2, #eeeeee);\n",
       "}\n",
       "\n",
       "html[theme=dark],\n",
       "body[data-theme=dark],\n",
       "body.vscode-dark {\n",
       "  --xr-font-color0: rgba(255, 255, 255, 1);\n",
       "  --xr-font-color2: rgba(255, 255, 255, 0.54);\n",
       "  --xr-font-color3: rgba(255, 255, 255, 0.38);\n",
       "  --xr-border-color: #1F1F1F;\n",
       "  --xr-disabled-color: #515151;\n",
       "  --xr-background-color: #111111;\n",
       "  --xr-background-color-row-even: #111111;\n",
       "  --xr-background-color-row-odd: #313131;\n",
       "}\n",
       "\n",
       ".xr-wrap {\n",
       "  display: block !important;\n",
       "  min-width: 300px;\n",
       "  max-width: 700px;\n",
       "}\n",
       "\n",
       ".xr-text-repr-fallback {\n",
       "  /* fallback to plain text repr when CSS is not injected (untrusted notebook) */\n",
       "  display: none;\n",
       "}\n",
       "\n",
       ".xr-header {\n",
       "  padding-top: 6px;\n",
       "  padding-bottom: 6px;\n",
       "  margin-bottom: 4px;\n",
       "  border-bottom: solid 1px var(--xr-border-color);\n",
       "}\n",
       "\n",
       ".xr-header > div,\n",
       ".xr-header > ul {\n",
       "  display: inline;\n",
       "  margin-top: 0;\n",
       "  margin-bottom: 0;\n",
       "}\n",
       "\n",
       ".xr-obj-type,\n",
       ".xr-array-name {\n",
       "  margin-left: 2px;\n",
       "  margin-right: 10px;\n",
       "}\n",
       "\n",
       ".xr-obj-type {\n",
       "  color: var(--xr-font-color2);\n",
       "}\n",
       "\n",
       ".xr-sections {\n",
       "  padding-left: 0 !important;\n",
       "  display: grid;\n",
       "  grid-template-columns: 150px auto auto 1fr 20px 20px;\n",
       "}\n",
       "\n",
       ".xr-section-item {\n",
       "  display: contents;\n",
       "}\n",
       "\n",
       ".xr-section-item input {\n",
       "  display: none;\n",
       "}\n",
       "\n",
       ".xr-section-item input + label {\n",
       "  color: var(--xr-disabled-color);\n",
       "}\n",
       "\n",
       ".xr-section-item input:enabled + label {\n",
       "  cursor: pointer;\n",
       "  color: var(--xr-font-color2);\n",
       "}\n",
       "\n",
       ".xr-section-item input:enabled + label:hover {\n",
       "  color: var(--xr-font-color0);\n",
       "}\n",
       "\n",
       ".xr-section-summary {\n",
       "  grid-column: 1;\n",
       "  color: var(--xr-font-color2);\n",
       "  font-weight: 500;\n",
       "}\n",
       "\n",
       ".xr-section-summary > span {\n",
       "  display: inline-block;\n",
       "  padding-left: 0.5em;\n",
       "}\n",
       "\n",
       ".xr-section-summary-in:disabled + label {\n",
       "  color: var(--xr-font-color2);\n",
       "}\n",
       "\n",
       ".xr-section-summary-in + label:before {\n",
       "  display: inline-block;\n",
       "  content: '►';\n",
       "  font-size: 11px;\n",
       "  width: 15px;\n",
       "  text-align: center;\n",
       "}\n",
       "\n",
       ".xr-section-summary-in:disabled + label:before {\n",
       "  color: var(--xr-disabled-color);\n",
       "}\n",
       "\n",
       ".xr-section-summary-in:checked + label:before {\n",
       "  content: '▼';\n",
       "}\n",
       "\n",
       ".xr-section-summary-in:checked + label > span {\n",
       "  display: none;\n",
       "}\n",
       "\n",
       ".xr-section-summary,\n",
       ".xr-section-inline-details {\n",
       "  padding-top: 4px;\n",
       "  padding-bottom: 4px;\n",
       "}\n",
       "\n",
       ".xr-section-inline-details {\n",
       "  grid-column: 2 / -1;\n",
       "}\n",
       "\n",
       ".xr-section-details {\n",
       "  display: none;\n",
       "  grid-column: 1 / -1;\n",
       "  margin-bottom: 5px;\n",
       "}\n",
       "\n",
       ".xr-section-summary-in:checked ~ .xr-section-details {\n",
       "  display: contents;\n",
       "}\n",
       "\n",
       ".xr-array-wrap {\n",
       "  grid-column: 1 / -1;\n",
       "  display: grid;\n",
       "  grid-template-columns: 20px auto;\n",
       "}\n",
       "\n",
       ".xr-array-wrap > label {\n",
       "  grid-column: 1;\n",
       "  vertical-align: top;\n",
       "}\n",
       "\n",
       ".xr-preview {\n",
       "  color: var(--xr-font-color3);\n",
       "}\n",
       "\n",
       ".xr-array-preview,\n",
       ".xr-array-data {\n",
       "  padding: 0 5px !important;\n",
       "  grid-column: 2;\n",
       "}\n",
       "\n",
       ".xr-array-data,\n",
       ".xr-array-in:checked ~ .xr-array-preview {\n",
       "  display: none;\n",
       "}\n",
       "\n",
       ".xr-array-in:checked ~ .xr-array-data,\n",
       ".xr-array-preview {\n",
       "  display: inline-block;\n",
       "}\n",
       "\n",
       ".xr-dim-list {\n",
       "  display: inline-block !important;\n",
       "  list-style: none;\n",
       "  padding: 0 !important;\n",
       "  margin: 0;\n",
       "}\n",
       "\n",
       ".xr-dim-list li {\n",
       "  display: inline-block;\n",
       "  padding: 0;\n",
       "  margin: 0;\n",
       "}\n",
       "\n",
       ".xr-dim-list:before {\n",
       "  content: '(';\n",
       "}\n",
       "\n",
       ".xr-dim-list:after {\n",
       "  content: ')';\n",
       "}\n",
       "\n",
       ".xr-dim-list li:not(:last-child):after {\n",
       "  content: ',';\n",
       "  padding-right: 5px;\n",
       "}\n",
       "\n",
       ".xr-has-index {\n",
       "  font-weight: bold;\n",
       "}\n",
       "\n",
       ".xr-var-list,\n",
       ".xr-var-item {\n",
       "  display: contents;\n",
       "}\n",
       "\n",
       ".xr-var-item > div,\n",
       ".xr-var-item label,\n",
       ".xr-var-item > .xr-var-name span {\n",
       "  background-color: var(--xr-background-color-row-even);\n",
       "  margin-bottom: 0;\n",
       "}\n",
       "\n",
       ".xr-var-item > .xr-var-name:hover span {\n",
       "  padding-right: 5px;\n",
       "}\n",
       "\n",
       ".xr-var-list > li:nth-child(odd) > div,\n",
       ".xr-var-list > li:nth-child(odd) > label,\n",
       ".xr-var-list > li:nth-child(odd) > .xr-var-name span {\n",
       "  background-color: var(--xr-background-color-row-odd);\n",
       "}\n",
       "\n",
       ".xr-var-name {\n",
       "  grid-column: 1;\n",
       "}\n",
       "\n",
       ".xr-var-dims {\n",
       "  grid-column: 2;\n",
       "}\n",
       "\n",
       ".xr-var-dtype {\n",
       "  grid-column: 3;\n",
       "  text-align: right;\n",
       "  color: var(--xr-font-color2);\n",
       "}\n",
       "\n",
       ".xr-var-preview {\n",
       "  grid-column: 4;\n",
       "}\n",
       "\n",
       ".xr-index-preview {\n",
       "  grid-column: 2 / 5;\n",
       "  color: var(--xr-font-color2);\n",
       "}\n",
       "\n",
       ".xr-var-name,\n",
       ".xr-var-dims,\n",
       ".xr-var-dtype,\n",
       ".xr-preview,\n",
       ".xr-attrs dt {\n",
       "  white-space: nowrap;\n",
       "  overflow: hidden;\n",
       "  text-overflow: ellipsis;\n",
       "  padding-right: 10px;\n",
       "}\n",
       "\n",
       ".xr-var-name:hover,\n",
       ".xr-var-dims:hover,\n",
       ".xr-var-dtype:hover,\n",
       ".xr-attrs dt:hover {\n",
       "  overflow: visible;\n",
       "  width: auto;\n",
       "  z-index: 1;\n",
       "}\n",
       "\n",
       ".xr-var-attrs,\n",
       ".xr-var-data,\n",
       ".xr-index-data {\n",
       "  display: none;\n",
       "  background-color: var(--xr-background-color) !important;\n",
       "  padding-bottom: 5px !important;\n",
       "}\n",
       "\n",
       ".xr-var-attrs-in:checked ~ .xr-var-attrs,\n",
       ".xr-var-data-in:checked ~ .xr-var-data,\n",
       ".xr-index-data-in:checked ~ .xr-index-data {\n",
       "  display: block;\n",
       "}\n",
       "\n",
       ".xr-var-data > table {\n",
       "  float: right;\n",
       "}\n",
       "\n",
       ".xr-var-name span,\n",
       ".xr-var-data,\n",
       ".xr-index-name div,\n",
       ".xr-index-data,\n",
       ".xr-attrs {\n",
       "  padding-left: 25px !important;\n",
       "}\n",
       "\n",
       ".xr-attrs,\n",
       ".xr-var-attrs,\n",
       ".xr-var-data,\n",
       ".xr-index-data {\n",
       "  grid-column: 1 / -1;\n",
       "}\n",
       "\n",
       "dl.xr-attrs {\n",
       "  padding: 0;\n",
       "  margin: 0;\n",
       "  display: grid;\n",
       "  grid-template-columns: 125px auto;\n",
       "}\n",
       "\n",
       ".xr-attrs dt,\n",
       ".xr-attrs dd {\n",
       "  padding: 0;\n",
       "  margin: 0;\n",
       "  float: left;\n",
       "  padding-right: 10px;\n",
       "  width: auto;\n",
       "}\n",
       "\n",
       ".xr-attrs dt {\n",
       "  font-weight: normal;\n",
       "  grid-column: 1;\n",
       "}\n",
       "\n",
       ".xr-attrs dt:hover span {\n",
       "  display: inline-block;\n",
       "  background: var(--xr-background-color);\n",
       "  padding-right: 10px;\n",
       "}\n",
       "\n",
       ".xr-attrs dd {\n",
       "  grid-column: 2;\n",
       "  white-space: pre-wrap;\n",
       "  word-break: break-all;\n",
       "}\n",
       "\n",
       ".xr-icon-database,\n",
       ".xr-icon-file-text2,\n",
       ".xr-no-icon {\n",
       "  display: inline-block;\n",
       "  vertical-align: middle;\n",
       "  width: 1em;\n",
       "  height: 1.5em !important;\n",
       "  stroke-width: 0;\n",
       "  stroke: currentColor;\n",
       "  fill: currentColor;\n",
       "}\n",
       "</style><pre class='xr-text-repr-fallback'>&lt;xarray.Dataset&gt;\n",
       "Dimensions:             (config: 1000, time: 451, scenario: 3)\n",
       "Coordinates:\n",
       "  * config              (config) int64 0 1 2 3 4 5 6 ... 994 995 996 997 998 999\n",
       "  * time                (time) int64 1750 1751 1752 1753 ... 2197 2198 2199 2200\n",
       "  * scenario            (scenario) &lt;U14 &#x27;esm-flat10&#x27; ... &#x27;esm-flat10_cdr&#x27;\n",
       "Data variables:\n",
       "    dT_glob             (scenario, config, time) float64 0.0 ... -0.3942\n",
       "    OHC700              (scenario, config, time) float64 0.0 ... -13.54\n",
       "    concentrations-CO2  (scenario, config, time) float64 278.0 278.0 ... 247.3\n",
       "    RIB_glob            (scenario, config, time) float64 0.0 ... -0.121\n",
       "    tcre                (config) float64 1.633 1.747 1.577 ... 1.204 1.72 1.482\n",
       "    zec50               (config) float64 0.002152 -0.01674 ... 0.04337 -0.1504\n",
       "    zec100              (config) float64 -0.1832 -0.216 ... -0.09211 -0.3252</pre><div class='xr-wrap' style='display:none'><div class='xr-header'><div class='xr-obj-type'>xarray.Dataset</div></div><ul class='xr-sections'><li class='xr-section-item'><input id='section-2ad59a56-2fdb-459c-aa36-7ca3c4e9dc40' class='xr-section-summary-in' type='checkbox' disabled ><label for='section-2ad59a56-2fdb-459c-aa36-7ca3c4e9dc40' class='xr-section-summary'  title='Expand/collapse section'>Dimensions:</label><div class='xr-section-inline-details'><ul class='xr-dim-list'><li><span class='xr-has-index'>config</span>: 1000</li><li><span class='xr-has-index'>time</span>: 451</li><li><span class='xr-has-index'>scenario</span>: 3</li></ul></div><div class='xr-section-details'></div></li><li class='xr-section-item'><input id='section-2d94c612-c650-4b44-9ff0-350ae9aac5e6' class='xr-section-summary-in' type='checkbox'  checked><label for='section-2d94c612-c650-4b44-9ff0-350ae9aac5e6' class='xr-section-summary' >Coordinates: <span>(3)</span></label><div class='xr-section-inline-details'></div><div class='xr-section-details'><ul class='xr-var-list'><li class='xr-var-item'><div class='xr-var-name'><span class='xr-has-index'>config</span></div><div class='xr-var-dims'>(config)</div><div class='xr-var-dtype'>int64</div><div class='xr-var-preview xr-preview'>0 1 2 3 4 5 ... 995 996 997 998 999</div><input id='attrs-11d6e255-4862-47a1-b973-fab69869089c' class='xr-var-attrs-in' type='checkbox' disabled><label for='attrs-11d6e255-4862-47a1-b973-fab69869089c' title='Show/Hide attributes'><svg class='icon xr-icon-file-text2'><use xlink:href='#icon-file-text2'></use></svg></label><input id='data-02bef37d-a05f-4341-9dd3-fd7eff3f7e8a' class='xr-var-data-in' type='checkbox'><label for='data-02bef37d-a05f-4341-9dd3-fd7eff3f7e8a' title='Show/Hide data repr'><svg class='icon xr-icon-database'><use xlink:href='#icon-database'></use></svg></label><div class='xr-var-attrs'><dl class='xr-attrs'></dl></div><div class='xr-var-data'><pre>array([  0,   1,   2, ..., 997, 998, 999])</pre></div></li><li class='xr-var-item'><div class='xr-var-name'><span class='xr-has-index'>time</span></div><div class='xr-var-dims'>(time)</div><div class='xr-var-dtype'>int64</div><div class='xr-var-preview xr-preview'>1750 1751 1752 ... 2198 2199 2200</div><input id='attrs-795cdf9d-feb8-4032-81a5-1bbd43a0dbdf' class='xr-var-attrs-in' type='checkbox' disabled><label for='attrs-795cdf9d-feb8-4032-81a5-1bbd43a0dbdf' title='Show/Hide attributes'><svg class='icon xr-icon-file-text2'><use xlink:href='#icon-file-text2'></use></svg></label><input id='data-d6346be6-b190-4f01-a3af-8fcb2fb9617b' class='xr-var-data-in' type='checkbox'><label for='data-d6346be6-b190-4f01-a3af-8fcb2fb9617b' title='Show/Hide data repr'><svg class='icon xr-icon-database'><use xlink:href='#icon-database'></use></svg></label><div class='xr-var-attrs'><dl class='xr-attrs'></dl></div><div class='xr-var-data'><pre>array([1750, 1751, 1752, ..., 2198, 2199, 2200])</pre></div></li><li class='xr-var-item'><div class='xr-var-name'><span class='xr-has-index'>scenario</span></div><div class='xr-var-dims'>(scenario)</div><div class='xr-var-dtype'>&lt;U14</div><div class='xr-var-preview xr-preview'>&#x27;esm-flat10&#x27; ... &#x27;esm-flat10_cdr&#x27;</div><input id='attrs-bf3654c1-acda-46d6-837c-0185ff4b2a90' class='xr-var-attrs-in' type='checkbox' disabled><label for='attrs-bf3654c1-acda-46d6-837c-0185ff4b2a90' title='Show/Hide attributes'><svg class='icon xr-icon-file-text2'><use xlink:href='#icon-file-text2'></use></svg></label><input id='data-1c83e27d-9ca0-4eb7-ac2a-411495f4d33e' class='xr-var-data-in' type='checkbox'><label for='data-1c83e27d-9ca0-4eb7-ac2a-411495f4d33e' title='Show/Hide data repr'><svg class='icon xr-icon-database'><use xlink:href='#icon-database'></use></svg></label><div class='xr-var-attrs'><dl class='xr-attrs'></dl></div><div class='xr-var-data'><pre>array([&#x27;esm-flat10&#x27;, &#x27;esm-flat10_zec&#x27;, &#x27;esm-flat10_cdr&#x27;], dtype=&#x27;&lt;U14&#x27;)</pre></div></li></ul></div></li><li class='xr-section-item'><input id='section-9353c9af-d15b-4f8f-9325-6055a28ad35a' class='xr-section-summary-in' type='checkbox'  checked><label for='section-9353c9af-d15b-4f8f-9325-6055a28ad35a' class='xr-section-summary' >Data variables: <span>(7)</span></label><div class='xr-section-inline-details'></div><div class='xr-section-details'><ul class='xr-var-list'><li class='xr-var-item'><div class='xr-var-name'><span>dT_glob</span></div><div class='xr-var-dims'>(scenario, config, time)</div><div class='xr-var-dtype'>float64</div><div class='xr-var-preview xr-preview'>0.0 -1.109e-05 ... -0.3976 -0.3942</div><input id='attrs-9ba70cd1-58ca-4892-a450-f02a122924bf' class='xr-var-attrs-in' type='checkbox' disabled><label for='attrs-9ba70cd1-58ca-4892-a450-f02a122924bf' title='Show/Hide attributes'><svg class='icon xr-icon-file-text2'><use xlink:href='#icon-file-text2'></use></svg></label><input id='data-a8ee9aae-40bd-4bd4-8251-ef09cdbe3904' class='xr-var-data-in' type='checkbox'><label for='data-a8ee9aae-40bd-4bd4-8251-ef09cdbe3904' title='Show/Hide data repr'><svg class='icon xr-icon-database'><use xlink:href='#icon-database'></use></svg></label><div class='xr-var-attrs'><dl class='xr-attrs'></dl></div><div class='xr-var-data'><pre>array([[[ 0.00000000e+00, -1.10944332e-05, -4.09867762e-05, ...,\n",
       "          4.36444938e+00,  4.37400214e+00,  4.38354343e+00],\n",
       "        [ 0.00000000e+00, -8.16217121e-06, -3.47061409e-05, ...,\n",
       "          4.57476872e+00,  4.58464017e+00,  4.59449929e+00],\n",
       "        [ 0.00000000e+00, -1.25338244e-05, -5.27318987e-05, ...,\n",
       "          3.76272429e+00,  3.77100774e+00,  3.77928318e+00],\n",
       "        ...,\n",
       "        [ 0.00000000e+00, -1.02791468e-05, -3.55636786e-05, ...,\n",
       "          3.17304235e+00,  3.18015029e+00,  3.18725082e+00],\n",
       "        [ 0.00000000e+00, -1.12200122e-05, -4.25711711e-05, ...,\n",
       "          4.77963407e+00,  4.79032894e+00,  4.80101073e+00],\n",
       "        [ 0.00000000e+00, -1.22509235e-05, -5.02905080e-05, ...,\n",
       "          3.64418090e+00,  3.65208237e+00,  3.65997529e+00]],\n",
       "\n",
       "       [[ 0.00000000e+00, -1.10944332e-05, -4.09867762e-05, ...,\n",
       "          1.11752189e+00,  1.11644835e+00,  1.11537833e+00],\n",
       "        [ 0.00000000e+00, -8.16217121e-06, -3.47061409e-05, ...,\n",
       "          1.20053717e+00,  1.19951786e+00,  1.19850198e+00],\n",
       "        [ 0.00000000e+00, -1.25338244e-05, -5.27318987e-05, ...,\n",
       "          9.23846822e-01,  9.23201156e-01,  9.22557809e-01],\n",
       "...\n",
       "        [ 0.00000000e+00, -1.02791468e-05, -3.55636786e-05, ...,\n",
       "          8.01942277e-01,  8.01327715e-01,  8.00715193e-01],\n",
       "        [ 0.00000000e+00, -1.12200122e-05, -4.25711711e-05, ...,\n",
       "          1.44595805e+00,  1.44555796e+00,  1.44515950e+00],\n",
       "        [ 0.00000000e+00, -1.22509235e-05, -5.02905080e-05, ...,\n",
       "          9.17087997e-01,  9.16381488e-01,  9.15677604e-01]],\n",
       "\n",
       "       [[ 0.00000000e+00, -1.10944332e-05, -4.09867762e-05, ...,\n",
       "         -5.39880028e-01, -5.35879778e-01, -5.31944056e-01],\n",
       "        [ 0.00000000e+00, -8.16217121e-06, -3.47061409e-05, ...,\n",
       "         -5.39404798e-01, -5.35042265e-01, -5.30755321e-01],\n",
       "        [ 0.00000000e+00, -1.25338244e-05, -5.27318987e-05, ...,\n",
       "         -3.96623390e-01, -3.92942687e-01, -3.89340810e-01],\n",
       "        ...,\n",
       "        [ 0.00000000e+00, -1.02791468e-05, -3.55636786e-05, ...,\n",
       "         -3.53587257e-01, -3.50652253e-01, -3.47769905e-01],\n",
       "        [ 0.00000000e+00, -1.12200122e-05, -4.25711711e-05, ...,\n",
       "         -3.45351604e-01, -3.42074246e-01, -3.38852068e-01],\n",
       "        [ 0.00000000e+00, -1.22509235e-05, -5.02905080e-05, ...,\n",
       "         -4.01110221e-01, -3.97602465e-01, -3.94164907e-01]]])</pre></div></li><li class='xr-var-item'><div class='xr-var-name'><span>OHC700</span></div><div class='xr-var-dims'>(scenario, config, time)</div><div class='xr-var-dtype'>float64</div><div class='xr-var-preview xr-preview'>0.0 -0.0001452 ... -13.55 -13.54</div><input id='attrs-94ca286c-b314-4fc1-8ddb-8dd8ad239b31' class='xr-var-attrs-in' type='checkbox' disabled><label for='attrs-94ca286c-b314-4fc1-8ddb-8dd8ad239b31' title='Show/Hide attributes'><svg class='icon xr-icon-file-text2'><use xlink:href='#icon-file-text2'></use></svg></label><input id='data-a85d630c-a048-4072-aaa6-a3f75c951cc5' class='xr-var-data-in' type='checkbox'><label for='data-a85d630c-a048-4072-aaa6-a3f75c951cc5' title='Show/Hide data repr'><svg class='icon xr-icon-database'><use xlink:href='#icon-database'></use></svg></label><div class='xr-var-attrs'><dl class='xr-attrs'></dl></div><div class='xr-var-data'><pre>array([[[ 0.00000000e+00, -1.45207607e-04, -5.40626204e-04, ...,\n",
       "          3.00540235e+02,  3.01353792e+02,  3.02166672e+02],\n",
       "        [ 0.00000000e+00, -1.66372481e-04, -6.16130183e-04, ...,\n",
       "          3.16984945e+02,  3.17838000e+02,  3.18690315e+02],\n",
       "        [ 0.00000000e+00, -1.49217697e-04, -5.35406426e-04, ...,\n",
       "          2.23657725e+02,  2.24293302e+02,  2.24928530e+02],\n",
       "        ...,\n",
       "        [ 0.00000000e+00, -1.26081216e-04, -4.71015300e-04, ...,\n",
       "          2.32517238e+02,  2.33142764e+02,  2.33767805e+02],\n",
       "        [ 0.00000000e+00, -1.49658607e-04, -5.54919988e-04, ...,\n",
       "          3.32290119e+02,  3.33202544e+02,  3.34114249e+02],\n",
       "        [ 0.00000000e+00, -1.47387827e-04, -5.28438542e-04, ...,\n",
       "          2.22958048e+02,  2.23565837e+02,  2.24173219e+02]],\n",
       "\n",
       "       [[ 0.00000000e+00, -1.45207607e-04, -5.40626204e-04, ...,\n",
       "          9.00023266e+01,  8.99512170e+01,  8.99001118e+01],\n",
       "        [ 0.00000000e+00, -1.66372481e-04, -6.16130183e-04, ...,\n",
       "          9.75438343e+01,  9.75007689e+01,  9.74576799e+01],\n",
       "        [ 0.00000000e+00, -1.49217697e-04, -5.35406426e-04, ...,\n",
       "          6.62930098e+01,  6.62749167e+01,  6.62567859e+01],\n",
       "...\n",
       "        [ 0.00000000e+00, -1.26081216e-04, -4.71015300e-04, ...,\n",
       "          6.78624523e+01,  6.78320169e+01,  6.78015904e+01],\n",
       "        [ 0.00000000e+00, -1.49658607e-04, -5.54919988e-04, ...,\n",
       "          1.12773234e+02,  1.12779259e+02,  1.12785212e+02],\n",
       "        [ 0.00000000e+00, -1.47387827e-04, -5.28438542e-04, ...,\n",
       "          6.54665722e+01,  6.54396329e+01,  6.54127265e+01]],\n",
       "\n",
       "       [[ 0.00000000e+00, -1.45207607e-04, -5.40626204e-04, ...,\n",
       "         -2.01088481e+01, -2.01505150e+01, -2.01885932e+01],\n",
       "        [ 0.00000000e+00, -1.66372481e-04, -6.16130183e-04, ...,\n",
       "         -1.81248658e+01, -1.81695621e+01, -1.82107202e+01],\n",
       "        [ 0.00000000e+00, -1.49217697e-04, -5.35406426e-04, ...,\n",
       "         -1.01393766e+01, -1.01645657e+01, -1.01879019e+01],\n",
       "        ...,\n",
       "        [ 0.00000000e+00, -1.26081216e-04, -4.71015300e-04, ...,\n",
       "         -1.55302088e+01, -1.55180046e+01, -1.55040297e+01],\n",
       "        [ 0.00000000e+00, -1.49658607e-04, -5.54919988e-04, ...,\n",
       "         -5.85107021e+00, -5.91425961e+00, -5.97364209e+00],\n",
       "        [ 0.00000000e+00, -1.47387827e-04, -5.28438542e-04, ...,\n",
       "         -1.35516741e+01, -1.35488447e+01, -1.35442634e+01]]])</pre></div></li><li class='xr-var-item'><div class='xr-var-name'><span>concentrations-CO2</span></div><div class='xr-var-dims'>(scenario, config, time)</div><div class='xr-var-dtype'>float64</div><div class='xr-var-preview xr-preview'>278.0 278.0 278.0 ... 247.0 247.3</div><input id='attrs-ba842c8d-c8d4-4d2e-bb3f-6671a533477d' class='xr-var-attrs-in' type='checkbox' disabled><label for='attrs-ba842c8d-c8d4-4d2e-bb3f-6671a533477d' title='Show/Hide attributes'><svg class='icon xr-icon-file-text2'><use xlink:href='#icon-file-text2'></use></svg></label><input id='data-40281c64-e890-4835-b071-82eb39daaa3b' class='xr-var-data-in' type='checkbox'><label for='data-40281c64-e890-4835-b071-82eb39daaa3b' title='Show/Hide data repr'><svg class='icon xr-icon-database'><use xlink:href='#icon-database'></use></svg></label><div class='xr-var-attrs'><dl class='xr-attrs'></dl></div><div class='xr-var-data'><pre>array([[[ 278.        ,  278.        ,  278.        , ...,\n",
       "         1003.5996226 , 1005.79514162, 1007.99216226],\n",
       "        [ 278.        ,  278.        ,  278.        , ...,\n",
       "         1033.82515297, 1036.14242003, 1038.46133548],\n",
       "        [ 278.        ,  278.        ,  278.        , ...,\n",
       "          914.04774561,  916.02223426,  917.99850227],\n",
       "        ...,\n",
       "        [ 278.        ,  278.        ,  278.        , ...,\n",
       "          940.95993257,  943.00096599,  945.0437    ],\n",
       "        [ 278.        ,  278.        ,  278.        , ...,\n",
       "         1117.51561502, 1120.19373309, 1122.87409242],\n",
       "        [ 278.        ,  278.        ,  278.        , ...,\n",
       "          970.69453075,  972.83522706,  974.97767187]],\n",
       "\n",
       "       [[ 278.        ,  278.        ,  278.        , ...,\n",
       "          386.21893856,  386.09005369,  385.9617737 ],\n",
       "        [ 278.        ,  278.        ,  278.        , ...,\n",
       "          394.56709034,  394.44435624,  394.32218693],\n",
       "        [ 278.        ,  278.        ,  278.        , ...,\n",
       "          377.01660337,  376.93485764,  376.85348004],\n",
       "...\n",
       "        [ 278.        ,  278.        ,  278.        , ...,\n",
       "          379.60802356,  379.51243147,  379.41727548],\n",
       "        [ 278.        ,  278.        ,  278.        , ...,\n",
       "          424.42115506,  424.34663428,  424.27249677],\n",
       "        [ 278.        ,  278.        ,  278.        , ...,\n",
       "          385.23231216,  385.13311919,  385.03437941]],\n",
       "\n",
       "       [[ 278.        ,  278.        ,  278.        , ...,\n",
       "          239.97219863,  240.36414   ,  240.74788703],\n",
       "        [ 278.        ,  278.        ,  278.        , ...,\n",
       "          241.63180514,  242.01970152,  242.39939816],\n",
       "        [ 278.        ,  278.        ,  278.        , ...,\n",
       "          250.60740131,  250.93872151,  251.26241085],\n",
       "        ...,\n",
       "        [ 278.        ,  278.        ,  278.        , ...,\n",
       "          247.38552969,  247.73540505,  248.07746256],\n",
       "        [ 278.        ,  278.        ,  278.        , ...,\n",
       "          250.97791235,  251.36186651,  251.73709388],\n",
       "        [ 278.        ,  278.        ,  278.        , ...,\n",
       "          246.62433169,  246.98288574,  247.33349232]]])</pre></div></li><li class='xr-var-item'><div class='xr-var-name'><span>RIB_glob</span></div><div class='xr-var-dims'>(scenario, config, time)</div><div class='xr-var-dtype'>float64</div><div class='xr-var-preview xr-preview'>0.0 -0.0002145 ... -0.1229 -0.121</div><input id='attrs-c64ac429-4558-443a-b4f2-867de7fc2a5b' class='xr-var-attrs-in' type='checkbox' disabled><label for='attrs-c64ac429-4558-443a-b4f2-867de7fc2a5b' title='Show/Hide attributes'><svg class='icon xr-icon-file-text2'><use xlink:href='#icon-file-text2'></use></svg></label><input id='data-a8fa63a5-b902-4e17-9bdf-b1a9cca2d837' class='xr-var-data-in' type='checkbox'><label for='data-a8fa63a5-b902-4e17-9bdf-b1a9cca2d837' title='Show/Hide data repr'><svg class='icon xr-icon-database'><use xlink:href='#icon-database'></use></svg></label><div class='xr-var-attrs'><dl class='xr-attrs'></dl></div><div class='xr-var-data'><pre>array([[[ 0.00000000e+00, -2.14505607e-04, -4.03677814e-04, ...,\n",
       "          1.28590800e+00,  1.28653447e+00,  1.28715902e+00],\n",
       "        [ 0.00000000e+00, -2.18417504e-04, -4.11972691e-04, ...,\n",
       "          1.16369813e+00,  1.16421689e+00,  1.16473390e+00],\n",
       "        [ 0.00000000e+00, -2.10029532e-04, -3.77178826e-04, ...,\n",
       "          7.60920995e-01,  7.61276959e-01,  7.61632157e-01],\n",
       "        ...,\n",
       "        [ 0.00000000e+00, -2.10745764e-04, -3.94176700e-04, ...,\n",
       "          9.94961385e-01,  9.95317518e-01,  9.95672708e-01],\n",
       "        [ 0.00000000e+00, -2.14752101e-04, -4.03119953e-04, ...,\n",
       "          1.57071720e+00,  1.57161497e+00,  1.57250876e+00],\n",
       "        [ 0.00000000e+00, -2.09292861e-04, -3.76138905e-04, ...,\n",
       "          9.64030281e-01,  9.64588075e-01,  9.65144332e-01]],\n",
       "\n",
       "       [[ 0.00000000e+00, -2.14505607e-04, -4.03677814e-04, ...,\n",
       "          1.14496840e-01,  1.14120531e-01,  1.13747491e-01],\n",
       "        [ 0.00000000e+00, -2.18417504e-04, -4.11972691e-04, ...,\n",
       "          1.13704084e-01,  1.13379536e-01,  1.13057705e-01],\n",
       "        [ 0.00000000e+00, -2.10029532e-04, -3.77178826e-04, ...,\n",
       "          5.70070399e-02,  5.68263570e-02,  5.66471735e-02],\n",
       "...\n",
       "        [ 0.00000000e+00, -2.10745764e-04, -3.94176700e-04, ...,\n",
       "          6.65232996e-02,  6.62688399e-02,  6.60166241e-02],\n",
       "        [ 0.00000000e+00, -2.14752101e-04, -4.03119953e-04, ...,\n",
       "          2.43311169e-01,  2.42866363e-01,  2.42424269e-01],\n",
       "        [ 0.00000000e+00, -2.09292861e-04, -3.76138905e-04, ...,\n",
       "          9.70990940e-02,  9.68557122e-02,  9.66141119e-02]],\n",
       "\n",
       "       [[ 0.00000000e+00, -2.14505607e-04, -4.03677814e-04, ...,\n",
       "         -2.03829362e-01, -2.00483105e-01, -1.97247147e-01],\n",
       "        [ 0.00000000e+00, -2.18417504e-04, -4.11972691e-04, ...,\n",
       "         -1.64944100e-01, -1.62260238e-01, -1.59669698e-01],\n",
       "        [ 0.00000000e+00, -2.10029532e-04, -3.77178826e-04, ...,\n",
       "         -8.47515602e-02, -8.34014910e-02, -8.21012845e-02],\n",
       "        ...,\n",
       "        [ 0.00000000e+00, -2.10745764e-04, -3.94176700e-04, ...,\n",
       "         -1.25008480e-01, -1.22798121e-01, -1.20671612e-01],\n",
       "        [ 0.00000000e+00, -2.14752101e-04, -4.03119953e-04, ...,\n",
       "         -2.39013872e-01, -2.35146910e-01, -2.31405939e-01],\n",
       "        [ 0.00000000e+00, -2.09292861e-04, -3.76138905e-04, ...,\n",
       "         -1.24920669e-01, -1.22928669e-01, -1.21004808e-01]]])</pre></div></li><li class='xr-var-item'><div class='xr-var-name'><span>tcre</span></div><div class='xr-var-dims'>(config)</div><div class='xr-var-dtype'>float64</div><div class='xr-var-preview xr-preview'>1.633 1.747 1.577 ... 1.72 1.482</div><input id='attrs-0ce004f2-2e91-4360-a472-8a24ff337140' class='xr-var-attrs-in' type='checkbox' disabled><label for='attrs-0ce004f2-2e91-4360-a472-8a24ff337140' title='Show/Hide attributes'><svg class='icon xr-icon-file-text2'><use xlink:href='#icon-file-text2'></use></svg></label><input id='data-6d6f088e-2ad5-4fab-8d85-8dc867dacca4' class='xr-var-data-in' type='checkbox'><label for='data-6d6f088e-2ad5-4fab-8d85-8dc867dacca4' title='Show/Hide data repr'><svg class='icon xr-icon-database'><use xlink:href='#icon-database'></use></svg></label><div class='xr-var-attrs'><dl class='xr-attrs'></dl></div><div class='xr-var-data'><pre>array([1.63317955, 1.74665264, 1.57661347, 1.37354568, 1.51408235,\n",
       "       1.49664779, 1.48565738, 1.5432647 , 1.26817553, 1.53149164,\n",
       "       2.33787139, 1.54192903, 1.84908412, 1.68117658, 1.51018395,\n",
       "       1.66221986, 1.44324665, 1.86132933, 1.85099385, 1.93093565,\n",
       "       2.14103028, 1.79188513, 1.50841419, 1.59874265, 1.96965522,\n",
       "       1.88875747, 1.63107236, 1.57727218, 1.40606291, 1.73384643,\n",
       "       1.91267015, 1.37266926, 1.76365564, 1.81645421, 1.6125287 ,\n",
       "       1.45698363, 1.6488531 , 2.13505034, 1.80060308, 1.84796336,\n",
       "       1.82412913, 1.63961291, 1.67701281, 1.35192401, 1.97037628,\n",
       "       1.93211682, 2.07566628, 1.93087546, 1.78413063, 1.35441099,\n",
       "       1.3525882 , 2.03481506, 1.74730104, 1.69881931, 1.63941396,\n",
       "       1.49079185, 1.52584964, 1.73397362, 1.56554864, 1.72810074,\n",
       "       1.31599408, 1.62198555, 1.42537223, 1.66674535, 1.78381615,\n",
       "       1.54660931, 1.57143067, 1.45891308, 1.545385  , 1.49250318,\n",
       "       1.79360163, 1.35805212, 2.14059539, 1.89869082, 2.06420901,\n",
       "       1.52392835, 2.00215071, 1.57546966, 2.49606913, 1.54492086,\n",
       "       1.65497212, 1.60745353, 2.00481613, 1.46421806, 1.71697489,\n",
       "       1.66059323, 1.31641495, 1.41269585, 1.65490999, 1.89157664,\n",
       "       1.68345211, 2.60381454, 1.73594618, 1.62898619, 1.43135299,\n",
       "       1.59311823, 1.88623977, 1.82512202, 1.47790834, 1.6751796 ,\n",
       "...\n",
       "       1.33497168, 1.77921375, 1.44597005, 1.87439015, 1.43201136,\n",
       "       1.58848473, 2.27242243, 1.2368614 , 1.86335094, 1.50063047,\n",
       "       1.52703835, 1.47028739, 1.35532831, 1.47773466, 1.55130957,\n",
       "       1.74761928, 1.51994367, 1.38003468, 1.43769348, 1.64553331,\n",
       "       1.64329875, 1.96271762, 1.86750863, 2.41317408, 1.27811598,\n",
       "       1.88311286, 1.52559313, 1.66704709, 2.18749238, 2.15840661,\n",
       "       1.73384301, 1.66035716, 1.71841469, 1.70834377, 1.38764905,\n",
       "       1.52088459, 1.81550594, 1.49616567, 1.79799086, 1.34167642,\n",
       "       1.63987212, 1.62526416, 1.38285974, 1.83664881, 1.39803415,\n",
       "       1.77784131, 1.7227284 , 1.38242825, 1.40947545, 1.71284075,\n",
       "       1.45269264, 1.39350468, 1.83435357, 1.59906066, 1.57751627,\n",
       "       1.44642714, 1.47852558, 1.4727366 , 1.32541826, 1.3287384 ,\n",
       "       1.67690443, 1.32438019, 1.43253848, 2.38754898, 1.73208923,\n",
       "       1.81703698, 1.49563217, 1.41230518, 2.2513613 , 1.50837408,\n",
       "       1.5504584 , 1.82582426, 1.75396909, 1.27633657, 1.76618132,\n",
       "       1.5853668 , 2.21007889, 1.89468617, 1.80137463, 1.35707268,\n",
       "       1.44448158, 1.4035855 , 1.60988938, 1.41475803, 1.770604  ,\n",
       "       1.68726653, 1.59459285, 1.70968633, 1.28199696, 1.55992793,\n",
       "       1.3458995 , 1.46726436, 1.52569133, 1.49969673, 1.50920402,\n",
       "       1.93996865, 1.36170034, 1.20423237, 1.71972026, 1.48209779])</pre></div></li><li class='xr-var-item'><div class='xr-var-name'><span>zec50</span></div><div class='xr-var-dims'>(config)</div><div class='xr-var-dtype'>float64</div><div class='xr-var-preview xr-preview'>0.002152 -0.01674 ... -0.1504</div><input id='attrs-1b047bf3-f597-4e39-b005-656380548bd2' class='xr-var-attrs-in' type='checkbox' disabled><label for='attrs-1b047bf3-f597-4e39-b005-656380548bd2' title='Show/Hide attributes'><svg class='icon xr-icon-file-text2'><use xlink:href='#icon-file-text2'></use></svg></label><input id='data-3e492c20-bda2-4374-9c9c-5fb69ff8ba81' class='xr-var-data-in' type='checkbox'><label for='data-3e492c20-bda2-4374-9c9c-5fb69ff8ba81' title='Show/Hide data repr'><svg class='icon xr-icon-database'><use xlink:href='#icon-database'></use></svg></label><div class='xr-var-attrs'><dl class='xr-attrs'></dl></div><div class='xr-var-data'><pre>array([ 2.15150197e-03, -1.67387098e-02, -2.14299207e-01, -1.38159546e-01,\n",
       "       -2.14626220e-01, -5.30631858e-02, -1.45262307e-01, -1.30309032e-01,\n",
       "       -9.13361437e-02, -5.97192332e-02, -1.05106809e-01, -1.42322553e-01,\n",
       "       -6.39715651e-02, -2.15251563e-01, -3.10635535e-02, -2.85128556e-03,\n",
       "       -9.96640853e-02,  7.20837127e-02, -3.21069228e-02, -3.75517089e-03,\n",
       "       -1.82996876e-01,  8.74892435e-02, -1.26314434e-01, -1.50313870e-01,\n",
       "        4.32227301e-03,  6.44317343e-02, -8.38518872e-02, -1.44694962e-01,\n",
       "       -8.01794382e-02, -4.84696961e-02, -1.54975541e-01, -1.43992701e-01,\n",
       "       -1.53475001e-01, -2.48608634e-01,  2.36283290e-02, -4.86923304e-02,\n",
       "       -1.80503153e-01, -1.67319024e-01, -1.36424805e-01,  7.08066062e-02,\n",
       "        9.18540875e-02,  4.51103832e-02, -2.00263237e-01, -8.47548503e-02,\n",
       "        1.65984199e-01, -5.56957677e-02, -1.87132467e-01, -1.20100651e-01,\n",
       "       -4.08904037e-02, -1.06322072e-01, -9.36686466e-02, -3.27041171e-02,\n",
       "       -9.46810890e-02, -1.49313911e-01, -1.98392680e-01, -9.14022296e-02,\n",
       "       -1.46721841e-01, -5.32102897e-02, -1.39187989e-01, -1.77777876e-01,\n",
       "       -1.52019836e-01, -1.93977431e-01, -1.46484406e-01, -1.64068450e-01,\n",
       "        1.95364522e-02, -3.64298341e-02, -1.22667207e-01, -1.72152616e-01,\n",
       "       -1.64668867e-01, -1.47030019e-01, -1.46398171e-01, -1.15917287e-01,\n",
       "       -1.35951656e-01, -2.82218133e-03,  1.23658404e-01, -8.76135703e-02,\n",
       "       -4.28162931e-02, -1.16507862e-01, -1.93749626e-01, -1.46094167e-02,\n",
       "...\n",
       "       -7.37082468e-02, -2.95460604e-02, -1.72870959e-02, -9.88142878e-02,\n",
       "       -1.33362282e-01, -2.70539409e-01, -4.99242496e-02,  4.30714451e-02,\n",
       "       -5.11979336e-02,  3.93932666e-02, -9.40479848e-02, -2.70511939e-02,\n",
       "       -1.04050603e-01, -1.68195911e-01, -6.09310417e-02, -6.77873585e-02,\n",
       "       -5.58249056e-02, -1.45641884e-01, -6.94493912e-02, -1.27775423e-01,\n",
       "       -1.38355032e-01,  3.66514669e-02, -4.77968959e-02, -1.52330878e-01,\n",
       "       -2.63324900e-01, -7.38821544e-03, -1.10591551e-01, -1.24328696e-01,\n",
       "       -1.68458927e-01, -1.98364267e-01, -1.23337593e-01, -1.11224909e-01,\n",
       "       -2.15487422e-01, -1.41920384e-01, -1.09417312e-01, -1.95141127e-01,\n",
       "       -1.44589848e-01, -1.62669372e-01, -8.82187295e-02, -1.19662688e-01,\n",
       "       -1.47834929e-01, -1.62335465e-01, -5.93434757e-02, -1.94267002e-01,\n",
       "       -4.58491796e-03, -8.69856617e-02, -1.16582509e-01, -1.27329133e-01,\n",
       "       -2.74297457e-01, -1.50037003e-01, -5.90655591e-02, -7.36601158e-02,\n",
       "       -5.07928248e-02, -1.02862668e-01,  4.05722385e-02, -9.14603814e-02,\n",
       "       -3.42118151e-01,  2.00128920e-03, -1.46102532e-01, -7.58012426e-02,\n",
       "       -1.74881746e-01, -1.14820245e-01, -5.61409505e-02, -1.52020894e-01,\n",
       "        4.90366054e-02, -9.92968243e-02, -1.10943679e-01, -1.48279985e-01,\n",
       "       -1.80841459e-01, -2.73180616e-01, -3.94789293e-02, -2.40127634e-01,\n",
       "       -1.64640079e-01, -7.33571952e-02, -1.23316972e-01, -1.37519995e-02,\n",
       "       -1.98848962e-01, -4.10890426e-02,  4.33661592e-02, -1.50380953e-01])</pre></div></li><li class='xr-var-item'><div class='xr-var-name'><span>zec100</span></div><div class='xr-var-dims'>(config)</div><div class='xr-var-dtype'>float64</div><div class='xr-var-preview xr-preview'>-0.1832 -0.216 ... -0.09211 -0.3252</div><input id='attrs-bcde596d-9f77-4565-95f8-6d9f7e20d38f' class='xr-var-attrs-in' type='checkbox' disabled><label for='attrs-bcde596d-9f77-4565-95f8-6d9f7e20d38f' title='Show/Hide attributes'><svg class='icon xr-icon-file-text2'><use xlink:href='#icon-file-text2'></use></svg></label><input id='data-870f8f70-4d0a-445b-bbee-98b70f01da80' class='xr-var-data-in' type='checkbox'><label for='data-870f8f70-4d0a-445b-bbee-98b70f01da80' title='Show/Hide data repr'><svg class='icon xr-icon-database'><use xlink:href='#icon-database'></use></svg></label><div class='xr-var-attrs'><dl class='xr-attrs'></dl></div><div class='xr-var-data'><pre>array([-1.83217080e-01, -2.15982368e-01, -4.06813666e-01, -3.25847491e-01,\n",
       "       -4.17387753e-01, -2.58550927e-01, -3.26185622e-01, -3.65621783e-01,\n",
       "       -2.76530191e-01, -2.59088338e-01, -3.61937605e-01, -3.17085517e-01,\n",
       "       -2.67143762e-01, -4.10572090e-01, -2.12341697e-01, -1.71293066e-01,\n",
       "       -2.83382691e-01, -1.46481190e-01, -2.17922094e-01, -2.16285677e-01,\n",
       "       -4.70108350e-01, -9.27966923e-02, -3.10868185e-01, -3.63988766e-01,\n",
       "       -2.24435562e-01, -1.61484693e-01, -2.66893571e-01, -3.40300687e-01,\n",
       "       -2.50303373e-01, -2.43979269e-01, -3.97582934e-01, -3.10805250e-01,\n",
       "       -4.18667214e-01, -4.89481079e-01, -1.61752915e-01, -2.50264387e-01,\n",
       "       -3.99560761e-01, -4.62442127e-01, -3.50393452e-01, -1.18333544e-01,\n",
       "       -9.35400491e-02, -1.36491367e-01, -4.31468624e-01, -2.55503804e-01,\n",
       "       -4.69510531e-02, -2.74197038e-01, -4.44461187e-01, -3.31129889e-01,\n",
       "       -2.14225631e-01, -2.78160208e-01, -2.93438503e-01, -2.59383479e-01,\n",
       "       -3.04104330e-01, -3.69660698e-01, -4.11937458e-01, -2.73000940e-01,\n",
       "       -3.22963676e-01, -2.66404514e-01, -3.33003296e-01, -4.03888037e-01,\n",
       "       -3.40483037e-01, -4.05386834e-01, -3.31254331e-01, -3.83206252e-01,\n",
       "       -1.65646861e-01, -2.34793679e-01, -3.21225269e-01, -3.56159976e-01,\n",
       "       -3.75466633e-01, -3.37471024e-01, -3.57489771e-01, -3.08475230e-01,\n",
       "       -4.10222707e-01, -1.88410833e-01, -8.06250983e-02, -2.88639034e-01,\n",
       "       -2.98478905e-01, -2.79922914e-01, -5.03106227e-01, -1.87491345e-01,\n",
       "...\n",
       "       -2.68498559e-01, -2.75551049e-01, -2.43754854e-01, -3.89858769e-01,\n",
       "       -2.91361165e-01, -5.45742009e-01, -2.18215734e-01, -1.56541992e-01,\n",
       "       -3.22399470e-01, -1.58013082e-01, -3.11665901e-01, -2.26366407e-01,\n",
       "       -2.83755895e-01, -4.16161394e-01, -2.43726966e-01, -2.79876162e-01,\n",
       "       -2.83941833e-01, -3.28461530e-01, -2.73232927e-01, -3.12125357e-01,\n",
       "       -3.41735199e-01, -1.40852903e-01, -2.24253410e-01, -3.97486645e-01,\n",
       "       -4.57426713e-01, -2.39345429e-01, -3.21276406e-01, -3.05601765e-01,\n",
       "       -3.31905461e-01, -4.51579845e-01, -3.22373644e-01, -2.69572751e-01,\n",
       "       -4.85203319e-01, -3.79422091e-01, -2.93952610e-01, -3.95726815e-01,\n",
       "       -3.47989374e-01, -3.58903550e-01, -2.66130100e-01, -3.13649941e-01,\n",
       "       -3.76687276e-01, -3.43085770e-01, -2.47565743e-01, -4.93445322e-01,\n",
       "       -2.00660399e-01, -3.32779981e-01, -2.81735943e-01, -3.04132974e-01,\n",
       "       -5.83529198e-01, -3.49854004e-01, -2.55948152e-01, -2.56049159e-01,\n",
       "       -2.65178242e-01, -2.61573883e-01, -1.14443762e-01, -2.78973804e-01,\n",
       "       -6.75460970e-01, -2.07470339e-01, -3.88720080e-01, -2.23564179e-01,\n",
       "       -3.83463925e-01, -3.03613341e-01, -2.74313647e-01, -3.12554755e-01,\n",
       "       -1.24741740e-01, -2.89727440e-01, -2.99036642e-01, -3.49533955e-01,\n",
       "       -3.55883759e-01, -4.91919948e-01, -1.90786334e-01, -4.42171510e-01,\n",
       "       -3.65730511e-01, -2.76118604e-01, -3.17998459e-01, -1.72286572e-01,\n",
       "       -3.84379407e-01, -1.86678463e-01, -9.21081055e-02, -3.25191554e-01])</pre></div></li></ul></div></li><li class='xr-section-item'><input id='section-8a5fbe76-e026-406f-a415-967a65b2cac2' class='xr-section-summary-in' type='checkbox'  ><label for='section-8a5fbe76-e026-406f-a415-967a65b2cac2' class='xr-section-summary' >Indexes: <span>(3)</span></label><div class='xr-section-inline-details'></div><div class='xr-section-details'><ul class='xr-var-list'><li class='xr-var-item'><div class='xr-index-name'><div>config</div></div><div class='xr-index-preview'>PandasIndex</div><div></div><input id='index-2e5611b1-5e8b-4297-a191-32f51f2b70df' class='xr-index-data-in' type='checkbox'/><label for='index-2e5611b1-5e8b-4297-a191-32f51f2b70df' title='Show/Hide index repr'><svg class='icon xr-icon-database'><use xlink:href='#icon-database'></use></svg></label><div class='xr-index-data'><pre>PandasIndex(Index([  0,   1,   2,   3,   4,   5,   6,   7,   8,   9,\n",
       "       ...\n",
       "       990, 991, 992, 993, 994, 995, 996, 997, 998, 999],\n",
       "      dtype=&#x27;int64&#x27;, name=&#x27;config&#x27;, length=1000))</pre></div></li><li class='xr-var-item'><div class='xr-index-name'><div>time</div></div><div class='xr-index-preview'>PandasIndex</div><div></div><input id='index-dd225c7c-db3e-4178-b4ab-b47770aa2669' class='xr-index-data-in' type='checkbox'/><label for='index-dd225c7c-db3e-4178-b4ab-b47770aa2669' title='Show/Hide index repr'><svg class='icon xr-icon-database'><use xlink:href='#icon-database'></use></svg></label><div class='xr-index-data'><pre>PandasIndex(Index([1750, 1751, 1752, 1753, 1754, 1755, 1756, 1757, 1758, 1759,\n",
       "       ...\n",
       "       2191, 2192, 2193, 2194, 2195, 2196, 2197, 2198, 2199, 2200],\n",
       "      dtype=&#x27;int64&#x27;, name=&#x27;time&#x27;, length=451))</pre></div></li><li class='xr-var-item'><div class='xr-index-name'><div>scenario</div></div><div class='xr-index-preview'>PandasIndex</div><div></div><input id='index-b04e4faf-3ce6-439e-bdcf-7f6f976a180e' class='xr-index-data-in' type='checkbox'/><label for='index-b04e4faf-3ce6-439e-bdcf-7f6f976a180e' title='Show/Hide index repr'><svg class='icon xr-icon-database'><use xlink:href='#icon-database'></use></svg></label><div class='xr-index-data'><pre>PandasIndex(Index([&#x27;esm-flat10&#x27;, &#x27;esm-flat10_zec&#x27;, &#x27;esm-flat10_cdr&#x27;], dtype=&#x27;object&#x27;, name=&#x27;scenario&#x27;))</pre></div></li></ul></div></li><li class='xr-section-item'><input id='section-0ed01d29-518a-4c7a-bb69-7c76dfb597ca' class='xr-section-summary-in' type='checkbox' disabled ><label for='section-0ed01d29-518a-4c7a-bb69-7c76dfb597ca' class='xr-section-summary'  title='Expand/collapse section'>Attributes: <span>(0)</span></label><div class='xr-section-inline-details'></div><div class='xr-section-details'><dl class='xr-attrs'></dl></div></li></ul></div></div>"
      ],
      "text/plain": [
       "<xarray.Dataset>\n",
       "Dimensions:             (config: 1000, time: 451, scenario: 3)\n",
       "Coordinates:\n",
       "  * config              (config) int64 0 1 2 3 4 5 6 ... 994 995 996 997 998 999\n",
       "  * time                (time) int64 1750 1751 1752 1753 ... 2197 2198 2199 2200\n",
       "  * scenario            (scenario) <U14 'esm-flat10' ... 'esm-flat10_cdr'\n",
       "Data variables:\n",
       "    dT_glob             (scenario, config, time) float64 0.0 ... -0.3942\n",
       "    OHC700              (scenario, config, time) float64 0.0 ... -13.54\n",
       "    concentrations-CO2  (scenario, config, time) float64 278.0 278.0 ... 247.3\n",
       "    RIB_glob            (scenario, config, time) float64 0.0 ... -0.121\n",
       "    tcre                (config) float64 1.633 1.747 1.577 ... 1.204 1.72 1.482\n",
       "    zec50               (config) float64 0.002152 -0.01674 ... 0.04337 -0.1504\n",
       "    zec100              (config) float64 -0.1832 -0.216 ... -0.09211 -0.3252"
      ]
     },
     "execution_count": 62,
     "metadata": {},
     "output_type": "execute_result"
    }
   ],
   "source": [
    "f10_cic"
   ]
  },
  {
   "cell_type": "code",
   "execution_count": null,
   "metadata": {},
   "outputs": [],
   "source": []
  }
 ],
 "metadata": {
  "kernelspec": {
   "display_name": "venv",
   "language": "python",
   "name": "python3"
  },
  "language_info": {
   "codemirror_mode": {
    "name": "ipython",
    "version": 3
   },
   "file_extension": ".py",
   "mimetype": "text/x-python",
   "name": "python",
   "nbconvert_exporter": "python",
   "pygments_lexer": "ipython3",
   "version": "3.8.5"
  }
 },
 "nbformat": 4,
 "nbformat_minor": 2
}
